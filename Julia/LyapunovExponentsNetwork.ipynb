{
 "cells": [
  {
   "cell_type": "markdown",
   "metadata": {},
   "source": [
    "## Imports"
   ]
  },
  {
   "cell_type": "code",
   "execution_count": 1,
   "metadata": {},
   "outputs": [],
   "source": [
    "using ChaosTools\n",
    "using DifferentialEquations\n",
    "using Plots\n",
    "using LinearAlgebra\n",
    "using Plots.PlotMeasures\n",
    "using LaTeXStrings\n",
    "using JLD2\n",
    "using NPZ\n",
    "using Distributions\n",
    "using DynamicalSystems"
   ]
  },
  {
   "cell_type": "code",
   "execution_count": 2,
   "metadata": {},
   "outputs": [
    {
     "data": {
      "text/plain": [
       "Main.Network"
      ]
     },
     "metadata": {},
     "output_type": "display_data"
    }
   ],
   "source": [
    "include(\"Network.jl\")"
   ]
  },
  {
   "cell_type": "markdown",
   "metadata": {},
   "source": [
    "## Parameter structure"
   ]
  },
  {
   "cell_type": "code",
   "execution_count": 3,
   "metadata": {},
   "outputs": [],
   "source": [
    "# Define a parameter struct that contains the scalar parameters and the matrix\n",
    "struct Params\n",
    "    scalar_params::Vector{Float64}  # Vector of scalar parameters (e.g., p[1], p[2], ...)\n",
    "    matrix_params::Matrix{Float64}  # The normalized connectivity matrix\n",
    "end"
   ]
  },
  {
   "cell_type": "markdown",
   "metadata": {},
   "source": [
    "# $\\epsilon = 8, I_{ext}^E=10$"
   ]
  },
  {
   "cell_type": "code",
   "execution_count": 4,
   "metadata": {},
   "outputs": [
    {
     "data": {
      "text/plain": [
       "Params([8.0, 8.0, 1.0, 5.0, -5.0, -5.0, 1.0, 1.0, 5.0, 13.0, 5.0, 13.0, 0.0, 10.0, 8.0], [0.0 0.07150787333365484 … 0.029938437471751827 0.0457088009950454; 0.040356800998807764 0.0 … 0.0844727476667492 0.0069661426632191365; … ; 0.011030461432017217 0.05514665431799544 … 0.0 0.055906608276557586; 0.029621282116852266 0.007999004709306763 … 0.09833390557208707 0.0])"
      ]
     },
     "metadata": {},
     "output_type": "display_data"
    }
   ],
   "source": [
    "Nvariables = 6\n",
    "Npop = 90\n",
    "\n",
    "# Initial conditions\n",
    "u0 = zeros(Npop*Nvariables)\n",
    "\n",
    "# Time span\n",
    "# Initial time\n",
    "t0 = 0\n",
    "# Final time\n",
    "tf = 500\n",
    "tspan = (t0, tf)\n",
    "\n",
    "# Define the parameters as a dictionary\n",
    "scalar_params = [8,8,1,5,-5,-5,1,1,5,13,5,13,0,10,8];\n",
    "\n",
    "# Load the .npz file containing the connectivity matrix into a dictionary-like structure\n",
    "data = load(\"NormalizedMatrix.npz\")\n",
    "W = data[\"normalized_matrix\"]\n",
    "\n",
    "# Create the Params struct\n",
    "p = Params(scalar_params, W)\n"
   ]
  },
  {
   "cell_type": "code",
   "execution_count": 41,
   "metadata": {},
   "outputs": [
    {
     "data": {
      "text/plain": [
       "3000"
      ]
     },
     "metadata": {},
     "output_type": "display_data"
    }
   ],
   "source": [
    "dt = 0.01\n",
    "ns = 1\n",
    "tmax = 3e3\n",
    "trans = 3e2\n",
    "Nsteps = Int(tmax/ns)"
   ]
  },
  {
   "cell_type": "markdown",
   "metadata": {},
   "source": [
    "# A. No tangent"
   ]
  },
  {
   "cell_type": "markdown",
   "metadata": {},
   "source": [
    "## Example 1: Lliure integrator"
   ]
  },
  {
   "cell_type": "code",
   "execution_count": 14,
   "metadata": {},
   "outputs": [
    {
     "data": {
      "text/plain": [
       "540-dimensional CoupledODEs\n",
       " deterministic: true\n",
       " discrete time: false\n",
       " in-place:      true\n",
       " dynamic rule:  Network!\n",
       " ODE solver:    Tsit5\n",
       " ODE kwargs:    (abstol = 1.0e-6, reltol = 1.0e-6)\n",
       " parameters:    Params([8.0, 8.0, 1.0, 5.0, -5.0, -5.0, 1.0, 1.0, 5.0, 13.0, 5.0, 13.0, 0.0, 10.0, 8.0], [0.0 0.07150787333365484 … 0.029938437471751827 0.0457088009950454; 0.040356800998807764 0.0 … 0.0844727476667492 0.0069661426632191365; … ; 0.011030461432017217 0.05514665431799544 … 0.0 0.055906608276557586; 0.029621282116852266 0.007999004709306763 … 0.09833390557208707 0.0])\n",
       " time:          0.0\n",
       " state:         [0.0, 0.0, 0.0, 0.0, 0.0, 0.0, 0.0, 0.0, 0.0, 0.0  …  0.0, 0.0, 0.0, 0.0, 0.0, 0.0, 0.0, 0.0, 0.0, 0.0]\n"
      ]
     },
     "metadata": {},
     "output_type": "display_data"
    }
   ],
   "source": [
    "ds=ContinuousDynamicalSystem(Network.Network!, u0, p)#; diffeq=(alg=RK4(),dt=dt,adaptive=false))"
   ]
  },
  {
   "cell_type": "code",
   "execution_count": 15,
   "metadata": {},
   "outputs": [
    {
     "name": "stderr",
     "output_type": "stream",
     "text": [
      "\u001b[32mLyapunov spectrum: 100%|████████████████████████████████| Time: 0:03:16\u001b[39m\u001b[K\n"
     ]
    },
    {
     "data": {
      "text/plain": [
       "6-element Vector{Float64}:\n",
       " -0.000126591283713094\n",
       " -0.010703997180999215\n",
       " -0.02638453784201392\n",
       " -0.026436540454554784\n",
       " -0.026546082462182017\n",
       " -0.02651332696718724"
      ]
     },
     "metadata": {},
     "output_type": "display_data"
    }
   ],
   "source": [
    "λ = lyapunovspectrum(ds, Nsteps,6; Δt = ns, Ttr=trans,show_progress=true)"
   ]
  },
  {
   "cell_type": "markdown",
   "metadata": {},
   "source": [
    "## Example 2: RK4 + tolerance"
   ]
  },
  {
   "cell_type": "code",
   "execution_count": 17,
   "metadata": {},
   "outputs": [
    {
     "data": {
      "text/plain": [
       "540-dimensional CoupledODEs\n",
       " deterministic: true\n",
       " discrete time: false\n",
       " in-place:      true\n",
       " dynamic rule:  Network!\n",
       " ODE solver:    RK4\n",
       " ODE kwargs:    (abstol = 1.0e-6, reltol = 1.0e-6)\n",
       " parameters:    Params([8.0, 8.0, 1.0, 5.0, -5.0, -5.0, 1.0, 1.0, 5.0, 13.0, 5.0, 13.0, 0.0, 10.0, 8.0], [0.0 0.07150787333365484 … 0.029938437471751827 0.0457088009950454; 0.040356800998807764 0.0 … 0.0844727476667492 0.0069661426632191365; … ; 0.011030461432017217 0.05514665431799544 … 0.0 0.055906608276557586; 0.029621282116852266 0.007999004709306763 … 0.09833390557208707 0.0])\n",
       " time:          0.0\n",
       " state:         [0.0, 0.0, 0.0, 0.0, 0.0, 0.0, 0.0, 0.0, 0.0, 0.0  …  0.0, 0.0, 0.0, 0.0, 0.0, 0.0, 0.0, 0.0, 0.0, 0.0]\n"
      ]
     },
     "metadata": {},
     "output_type": "display_data"
    }
   ],
   "source": [
    "ds=ContinuousDynamicalSystem(Network.Network!, u0, p; diffeq=(alg=RK4(),abstol = 1.0e-6, reltol = 1.0e-6))"
   ]
  },
  {
   "cell_type": "code",
   "execution_count": 18,
   "metadata": {},
   "outputs": [
    {
     "name": "stderr",
     "output_type": "stream",
     "text": [
      "\u001b[32mLyapunov spectrum: 100%|████████████████████████████████| Time: 0:07:22\u001b[39m\u001b[K\n"
     ]
    },
    {
     "data": {
      "text/plain": [
       "6-element Vector{Float64}:\n",
       " -0.00011349246762648986\n",
       " -0.010689293727931305\n",
       " -0.02630882793441736\n",
       " -0.026336922386198565\n",
       " -0.026362491227020828\n",
       " -0.0263855562661227"
      ]
     },
     "metadata": {},
     "output_type": "display_data"
    }
   ],
   "source": [
    "λ = lyapunovspectrum(ds, Nsteps,6; Δt = ns, Ttr=trans,show_progress=true)"
   ]
  },
  {
   "cell_type": "markdown",
   "metadata": {},
   "source": [
    "## Example 3: Tsit + step + adaptatiu"
   ]
  },
  {
   "cell_type": "code",
   "execution_count": 19,
   "metadata": {},
   "outputs": [
    {
     "data": {
      "text/plain": [
       "540-dimensional CoupledODEs\n",
       " deterministic: true\n",
       " discrete time: false\n",
       " in-place:      true\n",
       " dynamic rule:  Network!\n",
       " ODE solver:    Tsit5\n",
       " ODE kwargs:    (dt = 0.01, adaptive = true)\n",
       " parameters:    Params([8.0, 8.0, 1.0, 5.0, -5.0, -5.0, 1.0, 1.0, 5.0, 13.0, 5.0, 13.0, 0.0, 10.0, 8.0], [0.0 0.07150787333365484 … 0.029938437471751827 0.0457088009950454; 0.040356800998807764 0.0 … 0.0844727476667492 0.0069661426632191365; … ; 0.011030461432017217 0.05514665431799544 … 0.0 0.055906608276557586; 0.029621282116852266 0.007999004709306763 … 0.09833390557208707 0.0])\n",
       " time:          0.0\n",
       " state:         [0.0, 0.0, 0.0, 0.0, 0.0, 0.0, 0.0, 0.0, 0.0, 0.0  …  0.0, 0.0, 0.0, 0.0, 0.0, 0.0, 0.0, 0.0, 0.0, 0.0]\n"
      ]
     },
     "metadata": {},
     "output_type": "display_data"
    }
   ],
   "source": [
    "ds=ContinuousDynamicalSystem(Network.Network!, u0, p; diffeq=(alg=Tsit5(),dt=dt,adaptive=true))"
   ]
  },
  {
   "cell_type": "code",
   "execution_count": 20,
   "metadata": {},
   "outputs": [
    {
     "name": "stderr",
     "output_type": "stream",
     "text": [
      "\u001b[32mLyapunov spectrum: 100%|████████████████████████████████| Time: 0:02:33\u001b[39m\u001b[K\n"
     ]
    },
    {
     "data": {
      "text/plain": [
       "6-element Vector{Float64}:\n",
       " 0.07393151079545554\n",
       " 0.04782529221042953\n",
       " 0.03391691939095815\n",
       " 0.026486259506283152\n",
       " 0.021593355349179156\n",
       " 0.014313321504100827"
      ]
     },
     "metadata": {},
     "output_type": "display_data"
    }
   ],
   "source": [
    "λ = lyapunovspectrum(ds, Nsteps,6; Δt = ns, Ttr=trans,show_progress=true)"
   ]
  },
  {
   "cell_type": "markdown",
   "metadata": {},
   "source": [
    "## Example 4: RK4 + step + adaptatiu (adaptatiu=true va malament)"
   ]
  },
  {
   "cell_type": "code",
   "execution_count": 12,
   "metadata": {},
   "outputs": [
    {
     "data": {
      "text/plain": [
       "540-dimensional CoupledODEs\n",
       " deterministic: true\n",
       " discrete time: false\n",
       " in-place:      true\n",
       " dynamic rule:  Network!\n",
       " ODE solver:    RK4\n",
       " ODE kwargs:    (dt = 0.01, adaptive = true)\n",
       " parameters:    Params([8.0, 8.0, 1.0, 5.0, -5.0, -5.0, 1.0, 1.0, 5.0, 13.0, 5.0, 13.0, 0.0, 10.0, 8.0], [0.0 0.07150787333365484 … 0.029938437471751827 0.0457088009950454; 0.040356800998807764 0.0 … 0.0844727476667492 0.0069661426632191365; … ; 0.011030461432017217 0.05514665431799544 … 0.0 0.055906608276557586; 0.029621282116852266 0.007999004709306763 … 0.09833390557208707 0.0])\n",
       " time:          0.0\n",
       " state:         [0.0, 0.0, 0.0, 0.0, 0.0, 0.0, 0.0, 0.0, 0.0, 0.0  …  0.0, 0.0, 0.0, 0.0, 0.0, 0.0, 0.0, 0.0, 0.0, 0.0]\n"
      ]
     },
     "metadata": {},
     "output_type": "display_data"
    }
   ],
   "source": [
    "ds=ContinuousDynamicalSystem(Network.Network!, u0, p; diffeq=(alg=RK4(),dt=dt,adaptive=true))"
   ]
  },
  {
   "cell_type": "code",
   "execution_count": 13,
   "metadata": {},
   "outputs": [
    {
     "name": "stderr",
     "output_type": "stream",
     "text": [
      "\u001b[32mLyapunov spectrum: 100%|████████████████████████████████| Time: 0:02:43\u001b[39m\u001b[K\n"
     ]
    },
    {
     "data": {
      "text/plain": [
       "6-element Vector{Float64}:\n",
       "  0.001782030347746823\n",
       " -0.009196638390038621\n",
       " -0.02553737375429278\n",
       " -0.025473464721401055\n",
       " -0.025575504536579613\n",
       " -0.02551311907692924"
      ]
     },
     "metadata": {},
     "output_type": "display_data"
    }
   ],
   "source": [
    "λ = lyapunovspectrum(ds, Nsteps, 6; Δt = ns, Ttr=trans,show_progress=true)"
   ]
  },
  {
   "cell_type": "markdown",
   "metadata": {},
   "source": [
    "## Example 5: Tsit5 + step + no adaptatiu --> Massa lento"
   ]
  },
  {
   "cell_type": "code",
   "execution_count": 21,
   "metadata": {},
   "outputs": [
    {
     "data": {
      "text/plain": [
       "540-dimensional CoupledODEs\n",
       " deterministic: true\n",
       " discrete time: false\n",
       " in-place:      true\n",
       " dynamic rule:  Network!\n",
       " ODE solver:    Tsit5\n",
       " ODE kwargs:    (dt = 0.01, adaptive = false)\n",
       " parameters:    Params([8.0, 8.0, 1.0, 5.0, -5.0, -5.0, 1.0, 1.0, 5.0, 13.0, 5.0, 13.0, 0.0, 10.0, 8.0], [0.0 0.07150787333365484 … 0.029938437471751827 0.0457088009950454; 0.040356800998807764 0.0 … 0.0844727476667492 0.0069661426632191365; … ; 0.011030461432017217 0.05514665431799544 … 0.0 0.055906608276557586; 0.029621282116852266 0.007999004709306763 … 0.09833390557208707 0.0])\n",
       " time:          0.0\n",
       " state:         [0.0, 0.0, 0.0, 0.0, 0.0, 0.0, 0.0, 0.0, 0.0, 0.0  …  0.0, 0.0, 0.0, 0.0, 0.0, 0.0, 0.0, 0.0, 0.0, 0.0]\n"
      ]
     },
     "metadata": {},
     "output_type": "display_data"
    }
   ],
   "source": [
    "ds=ContinuousDynamicalSystem(Network.Network!, u0, p; diffeq=(alg=Tsit5(),dt=dt,adaptive=false))"
   ]
  },
  {
   "cell_type": "code",
   "execution_count": 22,
   "metadata": {},
   "outputs": [
    {
     "name": "stderr",
     "output_type": "stream",
     "text": [
      "\u001b[32mLyapunov spectrum:   2%|▌                               |  ETA: 3:41:11\u001b[39m\u001b[KK[39m\u001b[KK"
     ]
    },
    {
     "ename": "InterruptException",
     "evalue": "InterruptException:",
     "output_type": "error",
     "traceback": [
      "InterruptException:\n",
      "\n",
      "Stacktrace:\n",
      "  [1] GenericMemory\n",
      "    @ ./boot.jl:516 [inlined]\n",
      "  [2] Array\n",
      "    @ ./boot.jl:578 [inlined]\n",
      "  [3] Array\n",
      "    @ ./boot.jl:591 [inlined]\n",
      "  [4] similar\n",
      "    @ ./array.jl:372 [inlined]\n",
      "  [5] similar\n",
      "    @ ./subarray.jl:67 [inlined]\n",
      "  [6] similar\n",
      "    @ ./abstractarray.jl:824 [inlined]\n",
      "  [7] *\n",
      "    @ ~/.julia/juliaup/julia-1.11.4+0.aarch64.apple.darwin14/share/julia/stdlib/v1.11/LinearAlgebra/src/matmul.jl:56 [inlined]\n",
      "  [8] Network!(du::Vector{ForwardDiff.Dual{ForwardDiff.Tag{DynamicalSystemsBase.var\"#26#29\"{typeof(Main.Network.Network!)}, Float64}, Float64, 12}}, u::Vector{ForwardDiff.Dual{ForwardDiff.Tag{DynamicalSystemsBase.var\"#26#29\"{typeof(Main.Network.Network!)}, Float64}, Float64, 12}}, p::Params, t::Float64)\n",
      "    @ Main.Network ~/Desktop/MasterUPC/TFM/Codes/Auto07/Julia/Network.jl:56\n",
      "  [9] #28\n",
      "    @ ~/.julia/packages/DynamicalSystemsBase/ggnaG/src/core_systems/jacobian.jl:57 [inlined]\n",
      " [10] chunk_mode_jacobian!(result::Matrix{Float64}, f!::DynamicalSystemsBase.var\"#28#31\"{Params, Float64, typeof(Main.Network.Network!)}, y::SubArray{Float64, 1, Vector{Float64}, Tuple{Base.Slice{Base.OneTo{Int64}}}, true}, x::SubArray{Float64, 1, Matrix{Float64}, Tuple{Base.Slice{Base.OneTo{Int64}}, Int64}, true}, cfg::ForwardDiff.JacobianConfig{ForwardDiff.Tag{DynamicalSystemsBase.var\"#26#29\"{typeof(Main.Network.Network!)}, Float64}, Float64, 12, Tuple{Vector{ForwardDiff.Dual{ForwardDiff.Tag{DynamicalSystemsBase.var\"#26#29\"{typeof(Main.Network.Network!)}, Float64}, Float64, 12}}, Vector{ForwardDiff.Dual{ForwardDiff.Tag{DynamicalSystemsBase.var\"#26#29\"{typeof(Main.Network.Network!)}, Float64}, Float64, 12}}}})\n",
      "    @ ForwardDiff ~/.julia/packages/ForwardDiff/UBbGT/src/jacobian.jl:198\n",
      " [11] jacobian!\n",
      "    @ ~/.julia/packages/ForwardDiff/UBbGT/src/jacobian.jl:84 [inlined]\n",
      " [12] (::DynamicalSystemsBase.var\"#27#30\"{ForwardDiff.JacobianConfig{ForwardDiff.Tag{DynamicalSystemsBase.var\"#26#29\"{typeof(Main.Network.Network!)}, Float64}, Float64, 12, Tuple{Vector{ForwardDiff.Dual{ForwardDiff.Tag{DynamicalSystemsBase.var\"#26#29\"{typeof(Main.Network.Network!)}, Float64}, Float64, 12}}, Vector{ForwardDiff.Dual{ForwardDiff.Tag{DynamicalSystemsBase.var\"#26#29\"{typeof(Main.Network.Network!)}, Float64}, Float64, 12}}}}, typeof(Main.Network.Network!)})(J0::Matrix{Float64}, u::SubArray{Float64, 1, Matrix{Float64}, Tuple{Base.Slice{Base.OneTo{Int64}}, Int64}, true}, p::Params, t::Float64)\n",
      "    @ DynamicalSystemsBase ~/.julia/packages/DynamicalSystemsBase/ggnaG/src/core_systems/jacobian.jl:56\n",
      " [13] #74\n",
      "    @ ~/.julia/packages/DynamicalSystemsBase/ggnaG/src/derived_systems/tangent_space.jl:146 [inlined]\n",
      " [14] ODEFunction\n",
      "    @ ~/.julia/packages/SciMLBase/Zrnkf/src/scimlfunctions.jl:2470 [inlined]\n",
      " [15] perform_step!(integrator::OrdinaryDiffEqCore.ODEIntegrator{Tsit5{typeof(OrdinaryDiffEqCore.trivial_limiter!), typeof(OrdinaryDiffEqCore.trivial_limiter!), Static.False}, true, Matrix{Float64}, Nothing, Float64, Params, Float64, Float64, Float64, Float64, Vector{Matrix{Float64}}, ODESolution{Float64, 3, Vector{Matrix{Float64}}, Nothing, Nothing, Vector{Float64}, Vector{Vector{Matrix{Float64}}}, Nothing, ODEProblem{Matrix{Float64}, Tuple{Float64, Float64}, true, Params, ODEFunction{true, SciMLBase.AutoSpecialize, DynamicalSystemsBase.var\"#74#75\"{6, typeof(Main.Network.Network!), DynamicalSystemsBase.var\"#27#30\"{ForwardDiff.JacobianConfig{ForwardDiff.Tag{DynamicalSystemsBase.var\"#26#29\"{typeof(Main.Network.Network!)}, Float64}, Float64, 12, Tuple{Vector{ForwardDiff.Dual{ForwardDiff.Tag{DynamicalSystemsBase.var\"#26#29\"{typeof(Main.Network.Network!)}, Float64}, Float64, 12}}, Vector{ForwardDiff.Dual{ForwardDiff.Tag{DynamicalSystemsBase.var\"#26#29\"{typeof(Main.Network.Network!)}, Float64}, Float64, 12}}}}, typeof(Main.Network.Network!)}, Matrix{Float64}}, UniformScaling{Bool}, Nothing, Nothing, Nothing, Nothing, Nothing, Nothing, Nothing, Nothing, Nothing, Nothing, Nothing, typeof(SciMLBase.DEFAULT_OBSERVED), Nothing, Nothing, Nothing, Nothing}, @Kwargs{}, SciMLBase.StandardODEProblem}, Tsit5{typeof(OrdinaryDiffEqCore.trivial_limiter!), typeof(OrdinaryDiffEqCore.trivial_limiter!), Static.False}, OrdinaryDiffEqCore.InterpolationData{ODEFunction{true, SciMLBase.AutoSpecialize, DynamicalSystemsBase.var\"#74#75\"{6, typeof(Main.Network.Network!), DynamicalSystemsBase.var\"#27#30\"{ForwardDiff.JacobianConfig{ForwardDiff.Tag{DynamicalSystemsBase.var\"#26#29\"{typeof(Main.Network.Network!)}, Float64}, Float64, 12, Tuple{Vector{ForwardDiff.Dual{ForwardDiff.Tag{DynamicalSystemsBase.var\"#26#29\"{typeof(Main.Network.Network!)}, Float64}, Float64, 12}}, Vector{ForwardDiff.Dual{ForwardDiff.Tag{DynamicalSystemsBase.var\"#26#29\"{typeof(Main.Network.Network!)}, Float64}, Float64, 12}}}}, typeof(Main.Network.Network!)}, Matrix{Float64}}, UniformScaling{Bool}, Nothing, Nothing, Nothing, Nothing, Nothing, Nothing, Nothing, Nothing, Nothing, Nothing, Nothing, typeof(SciMLBase.DEFAULT_OBSERVED), Nothing, Nothing, Nothing, Nothing}, Vector{Matrix{Float64}}, Vector{Float64}, Vector{Vector{Matrix{Float64}}}, Nothing, OrdinaryDiffEqTsit5.Tsit5Cache{Matrix{Float64}, Matrix{Float64}, Matrix{Float64}, typeof(OrdinaryDiffEqCore.trivial_limiter!), typeof(OrdinaryDiffEqCore.trivial_limiter!), Static.False}, Nothing}, SciMLBase.DEStats, Nothing, Nothing, Nothing, Nothing}, ODEFunction{true, SciMLBase.AutoSpecialize, DynamicalSystemsBase.var\"#74#75\"{6, typeof(Main.Network.Network!), DynamicalSystemsBase.var\"#27#30\"{ForwardDiff.JacobianConfig{ForwardDiff.Tag{DynamicalSystemsBase.var\"#26#29\"{typeof(Main.Network.Network!)}, Float64}, Float64, 12, Tuple{Vector{ForwardDiff.Dual{ForwardDiff.Tag{DynamicalSystemsBase.var\"#26#29\"{typeof(Main.Network.Network!)}, Float64}, Float64, 12}}, Vector{ForwardDiff.Dual{ForwardDiff.Tag{DynamicalSystemsBase.var\"#26#29\"{typeof(Main.Network.Network!)}, Float64}, Float64, 12}}}}, typeof(Main.Network.Network!)}, Matrix{Float64}}, UniformScaling{Bool}, Nothing, Nothing, Nothing, Nothing, Nothing, Nothing, Nothing, Nothing, Nothing, Nothing, Nothing, typeof(SciMLBase.DEFAULT_OBSERVED), Nothing, Nothing, Nothing, Nothing}, OrdinaryDiffEqTsit5.Tsit5Cache{Matrix{Float64}, Matrix{Float64}, Matrix{Float64}, typeof(OrdinaryDiffEqCore.trivial_limiter!), typeof(OrdinaryDiffEqCore.trivial_limiter!), Static.False}, OrdinaryDiffEqCore.DEOptions{Float64, Float64, Float64, Float64, PIController{Rational{Int64}}, typeof(DynamicalSystemsBase.matrixnorm), typeof(opnorm), Bool, CallbackSet{Tuple{}, Tuple{}}, typeof(DiffEqBase.ODE_DEFAULT_ISOUTOFDOMAIN), typeof(DiffEqBase.ODE_DEFAULT_PROG_MESSAGE), typeof(DiffEqBase.ODE_DEFAULT_UNSTABLE_CHECK), DataStructures.BinaryHeap{Float64, DataStructures.FasterForward}, DataStructures.BinaryHeap{Float64, DataStructures.FasterForward}, Nothing, Nothing, Float64, Tuple{}, Tuple{}, Tuple{}}, Matrix{Float64}, Float64, Nothing, OrdinaryDiffEqCore.DefaultInit, Nothing}, cache::OrdinaryDiffEqTsit5.Tsit5Cache{Matrix{Float64}, Matrix{Float64}, Matrix{Float64}, typeof(OrdinaryDiffEqCore.trivial_limiter!), typeof(OrdinaryDiffEqCore.trivial_limiter!), Static.False}, repeat_step::Bool)\n",
      "    @ OrdinaryDiffEqTsit5 ~/.julia/packages/OrdinaryDiffEqTsit5/DHYtz/src/tsit_perform_step.jl:195\n",
      " [16] perform_step!\n",
      "    @ ~/.julia/packages/OrdinaryDiffEqTsit5/DHYtz/src/tsit_perform_step.jl:181 [inlined]\n",
      " [17] step!(integrator::OrdinaryDiffEqCore.ODEIntegrator{Tsit5{typeof(OrdinaryDiffEqCore.trivial_limiter!), typeof(OrdinaryDiffEqCore.trivial_limiter!), Static.False}, true, Matrix{Float64}, Nothing, Float64, Params, Float64, Float64, Float64, Float64, Vector{Matrix{Float64}}, ODESolution{Float64, 3, Vector{Matrix{Float64}}, Nothing, Nothing, Vector{Float64}, Vector{Vector{Matrix{Float64}}}, Nothing, ODEProblem{Matrix{Float64}, Tuple{Float64, Float64}, true, Params, ODEFunction{true, SciMLBase.AutoSpecialize, DynamicalSystemsBase.var\"#74#75\"{6, typeof(Main.Network.Network!), DynamicalSystemsBase.var\"#27#30\"{ForwardDiff.JacobianConfig{ForwardDiff.Tag{DynamicalSystemsBase.var\"#26#29\"{typeof(Main.Network.Network!)}, Float64}, Float64, 12, Tuple{Vector{ForwardDiff.Dual{ForwardDiff.Tag{DynamicalSystemsBase.var\"#26#29\"{typeof(Main.Network.Network!)}, Float64}, Float64, 12}}, Vector{ForwardDiff.Dual{ForwardDiff.Tag{DynamicalSystemsBase.var\"#26#29\"{typeof(Main.Network.Network!)}, Float64}, Float64, 12}}}}, typeof(Main.Network.Network!)}, Matrix{Float64}}, UniformScaling{Bool}, Nothing, Nothing, Nothing, Nothing, Nothing, Nothing, Nothing, Nothing, Nothing, Nothing, Nothing, typeof(SciMLBase.DEFAULT_OBSERVED), Nothing, Nothing, Nothing, Nothing}, @Kwargs{}, SciMLBase.StandardODEProblem}, Tsit5{typeof(OrdinaryDiffEqCore.trivial_limiter!), typeof(OrdinaryDiffEqCore.trivial_limiter!), Static.False}, OrdinaryDiffEqCore.InterpolationData{ODEFunction{true, SciMLBase.AutoSpecialize, DynamicalSystemsBase.var\"#74#75\"{6, typeof(Main.Network.Network!), DynamicalSystemsBase.var\"#27#30\"{ForwardDiff.JacobianConfig{ForwardDiff.Tag{DynamicalSystemsBase.var\"#26#29\"{typeof(Main.Network.Network!)}, Float64}, Float64, 12, Tuple{Vector{ForwardDiff.Dual{ForwardDiff.Tag{DynamicalSystemsBase.var\"#26#29\"{typeof(Main.Network.Network!)}, Float64}, Float64, 12}}, Vector{ForwardDiff.Dual{ForwardDiff.Tag{DynamicalSystemsBase.var\"#26#29\"{typeof(Main.Network.Network!)}, Float64}, Float64, 12}}}}, typeof(Main.Network.Network!)}, Matrix{Float64}}, UniformScaling{Bool}, Nothing, Nothing, Nothing, Nothing, Nothing, Nothing, Nothing, Nothing, Nothing, Nothing, Nothing, typeof(SciMLBase.DEFAULT_OBSERVED), Nothing, Nothing, Nothing, Nothing}, Vector{Matrix{Float64}}, Vector{Float64}, Vector{Vector{Matrix{Float64}}}, Nothing, OrdinaryDiffEqTsit5.Tsit5Cache{Matrix{Float64}, Matrix{Float64}, Matrix{Float64}, typeof(OrdinaryDiffEqCore.trivial_limiter!), typeof(OrdinaryDiffEqCore.trivial_limiter!), Static.False}, Nothing}, SciMLBase.DEStats, Nothing, Nothing, Nothing, Nothing}, ODEFunction{true, SciMLBase.AutoSpecialize, DynamicalSystemsBase.var\"#74#75\"{6, typeof(Main.Network.Network!), DynamicalSystemsBase.var\"#27#30\"{ForwardDiff.JacobianConfig{ForwardDiff.Tag{DynamicalSystemsBase.var\"#26#29\"{typeof(Main.Network.Network!)}, Float64}, Float64, 12, Tuple{Vector{ForwardDiff.Dual{ForwardDiff.Tag{DynamicalSystemsBase.var\"#26#29\"{typeof(Main.Network.Network!)}, Float64}, Float64, 12}}, Vector{ForwardDiff.Dual{ForwardDiff.Tag{DynamicalSystemsBase.var\"#26#29\"{typeof(Main.Network.Network!)}, Float64}, Float64, 12}}}}, typeof(Main.Network.Network!)}, Matrix{Float64}}, UniformScaling{Bool}, Nothing, Nothing, Nothing, Nothing, Nothing, Nothing, Nothing, Nothing, Nothing, Nothing, Nothing, typeof(SciMLBase.DEFAULT_OBSERVED), Nothing, Nothing, Nothing, Nothing}, OrdinaryDiffEqTsit5.Tsit5Cache{Matrix{Float64}, Matrix{Float64}, Matrix{Float64}, typeof(OrdinaryDiffEqCore.trivial_limiter!), typeof(OrdinaryDiffEqCore.trivial_limiter!), Static.False}, OrdinaryDiffEqCore.DEOptions{Float64, Float64, Float64, Float64, PIController{Rational{Int64}}, typeof(DynamicalSystemsBase.matrixnorm), typeof(opnorm), Bool, CallbackSet{Tuple{}, Tuple{}}, typeof(DiffEqBase.ODE_DEFAULT_ISOUTOFDOMAIN), typeof(DiffEqBase.ODE_DEFAULT_PROG_MESSAGE), typeof(DiffEqBase.ODE_DEFAULT_UNSTABLE_CHECK), DataStructures.BinaryHeap{Float64, DataStructures.FasterForward}, DataStructures.BinaryHeap{Float64, DataStructures.FasterForward}, Nothing, Nothing, Float64, Tuple{}, Tuple{}, Tuple{}}, Matrix{Float64}, Float64, Nothing, OrdinaryDiffEqCore.DefaultInit, Nothing})\n",
      "    @ OrdinaryDiffEqCore ~/.julia/packages/OrdinaryDiffEqCore/bMOsj/src/iterator_interface.jl:14\n",
      " [18] step!(integ::OrdinaryDiffEqCore.ODEIntegrator{Tsit5{typeof(OrdinaryDiffEqCore.trivial_limiter!), typeof(OrdinaryDiffEqCore.trivial_limiter!), Static.False}, true, Matrix{Float64}, Nothing, Float64, Params, Float64, Float64, Float64, Float64, Vector{Matrix{Float64}}, ODESolution{Float64, 3, Vector{Matrix{Float64}}, Nothing, Nothing, Vector{Float64}, Vector{Vector{Matrix{Float64}}}, Nothing, ODEProblem{Matrix{Float64}, Tuple{Float64, Float64}, true, Params, ODEFunction{true, SciMLBase.AutoSpecialize, DynamicalSystemsBase.var\"#74#75\"{6, typeof(Main.Network.Network!), DynamicalSystemsBase.var\"#27#30\"{ForwardDiff.JacobianConfig{ForwardDiff.Tag{DynamicalSystemsBase.var\"#26#29\"{typeof(Main.Network.Network!)}, Float64}, Float64, 12, Tuple{Vector{ForwardDiff.Dual{ForwardDiff.Tag{DynamicalSystemsBase.var\"#26#29\"{typeof(Main.Network.Network!)}, Float64}, Float64, 12}}, Vector{ForwardDiff.Dual{ForwardDiff.Tag{DynamicalSystemsBase.var\"#26#29\"{typeof(Main.Network.Network!)}, Float64}, Float64, 12}}}}, typeof(Main.Network.Network!)}, Matrix{Float64}}, UniformScaling{Bool}, Nothing, Nothing, Nothing, Nothing, Nothing, Nothing, Nothing, Nothing, Nothing, Nothing, Nothing, typeof(SciMLBase.DEFAULT_OBSERVED), Nothing, Nothing, Nothing, Nothing}, @Kwargs{}, SciMLBase.StandardODEProblem}, Tsit5{typeof(OrdinaryDiffEqCore.trivial_limiter!), typeof(OrdinaryDiffEqCore.trivial_limiter!), Static.False}, OrdinaryDiffEqCore.InterpolationData{ODEFunction{true, SciMLBase.AutoSpecialize, DynamicalSystemsBase.var\"#74#75\"{6, typeof(Main.Network.Network!), DynamicalSystemsBase.var\"#27#30\"{ForwardDiff.JacobianConfig{ForwardDiff.Tag{DynamicalSystemsBase.var\"#26#29\"{typeof(Main.Network.Network!)}, Float64}, Float64, 12, Tuple{Vector{ForwardDiff.Dual{ForwardDiff.Tag{DynamicalSystemsBase.var\"#26#29\"{typeof(Main.Network.Network!)}, Float64}, Float64, 12}}, Vector{ForwardDiff.Dual{ForwardDiff.Tag{DynamicalSystemsBase.var\"#26#29\"{typeof(Main.Network.Network!)}, Float64}, Float64, 12}}}}, typeof(Main.Network.Network!)}, Matrix{Float64}}, UniformScaling{Bool}, Nothing, Nothing, Nothing, Nothing, Nothing, Nothing, Nothing, Nothing, Nothing, Nothing, Nothing, typeof(SciMLBase.DEFAULT_OBSERVED), Nothing, Nothing, Nothing, Nothing}, Vector{Matrix{Float64}}, Vector{Float64}, Vector{Vector{Matrix{Float64}}}, Nothing, OrdinaryDiffEqTsit5.Tsit5Cache{Matrix{Float64}, Matrix{Float64}, Matrix{Float64}, typeof(OrdinaryDiffEqCore.trivial_limiter!), typeof(OrdinaryDiffEqCore.trivial_limiter!), Static.False}, Nothing}, SciMLBase.DEStats, Nothing, Nothing, Nothing, Nothing}, ODEFunction{true, SciMLBase.AutoSpecialize, DynamicalSystemsBase.var\"#74#75\"{6, typeof(Main.Network.Network!), DynamicalSystemsBase.var\"#27#30\"{ForwardDiff.JacobianConfig{ForwardDiff.Tag{DynamicalSystemsBase.var\"#26#29\"{typeof(Main.Network.Network!)}, Float64}, Float64, 12, Tuple{Vector{ForwardDiff.Dual{ForwardDiff.Tag{DynamicalSystemsBase.var\"#26#29\"{typeof(Main.Network.Network!)}, Float64}, Float64, 12}}, Vector{ForwardDiff.Dual{ForwardDiff.Tag{DynamicalSystemsBase.var\"#26#29\"{typeof(Main.Network.Network!)}, Float64}, Float64, 12}}}}, typeof(Main.Network.Network!)}, Matrix{Float64}}, UniformScaling{Bool}, Nothing, Nothing, Nothing, Nothing, Nothing, Nothing, Nothing, Nothing, Nothing, Nothing, Nothing, typeof(SciMLBase.DEFAULT_OBSERVED), Nothing, Nothing, Nothing, Nothing}, OrdinaryDiffEqTsit5.Tsit5Cache{Matrix{Float64}, Matrix{Float64}, Matrix{Float64}, typeof(OrdinaryDiffEqCore.trivial_limiter!), typeof(OrdinaryDiffEqCore.trivial_limiter!), Static.False}, OrdinaryDiffEqCore.DEOptions{Float64, Float64, Float64, Float64, PIController{Rational{Int64}}, typeof(DynamicalSystemsBase.matrixnorm), typeof(opnorm), Bool, CallbackSet{Tuple{}, Tuple{}}, typeof(DiffEqBase.ODE_DEFAULT_ISOUTOFDOMAIN), typeof(DiffEqBase.ODE_DEFAULT_PROG_MESSAGE), typeof(DiffEqBase.ODE_DEFAULT_UNSTABLE_CHECK), DataStructures.BinaryHeap{Float64, DataStructures.FasterForward}, DataStructures.BinaryHeap{Float64, DataStructures.FasterForward}, Nothing, Nothing, Float64, Tuple{}, Tuple{}, Tuple{}}, Matrix{Float64}, Float64, Nothing, OrdinaryDiffEqCore.DefaultInit, Nothing}, dt::Int64, stop_at_tdt::Bool)\n",
      "    @ SciMLBase ~/.julia/packages/SciMLBase/Zrnkf/src/integrator_interface.jl:912\n",
      " [19] step!\n",
      "    @ ~/.julia/packages/SciMLBase/Zrnkf/src/integrator_interface.jl:907 [inlined]\n",
      " [20] step!\n",
      "    @ ~/.julia/packages/DynamicalSystemsBase/ggnaG/src/core_systems/continuous_time_ode.jl:142 [inlined]\n",
      " [21] step!\n",
      "    @ ~/.julia/packages/DynamicalSystemsBase/ggnaG/src/derived_systems/tangent_space.jl:204 [inlined]\n",
      " [22] lyapunovspectrum(tands::TangentDynamicalSystem{true, CoupledODEs{true, 3780, OrdinaryDiffEqCore.ODEIntegrator{Tsit5{typeof(OrdinaryDiffEqCore.trivial_limiter!), typeof(OrdinaryDiffEqCore.trivial_limiter!), Static.False}, true, Matrix{Float64}, Nothing, Float64, Params, Float64, Float64, Float64, Float64, Vector{Matrix{Float64}}, ODESolution{Float64, 3, Vector{Matrix{Float64}}, Nothing, Nothing, Vector{Float64}, Vector{Vector{Matrix{Float64}}}, Nothing, ODEProblem{Matrix{Float64}, Tuple{Float64, Float64}, true, Params, ODEFunction{true, SciMLBase.AutoSpecialize, DynamicalSystemsBase.var\"#74#75\"{6, typeof(Main.Network.Network!), DynamicalSystemsBase.var\"#27#30\"{ForwardDiff.JacobianConfig{ForwardDiff.Tag{DynamicalSystemsBase.var\"#26#29\"{typeof(Main.Network.Network!)}, Float64}, Float64, 12, Tuple{Vector{ForwardDiff.Dual{ForwardDiff.Tag{DynamicalSystemsBase.var\"#26#29\"{typeof(Main.Network.Network!)}, Float64}, Float64, 12}}, Vector{ForwardDiff.Dual{ForwardDiff.Tag{DynamicalSystemsBase.var\"#26#29\"{typeof(Main.Network.Network!)}, Float64}, Float64, 12}}}}, typeof(Main.Network.Network!)}, Matrix{Float64}}, UniformScaling{Bool}, Nothing, Nothing, Nothing, Nothing, Nothing, Nothing, Nothing, Nothing, Nothing, Nothing, Nothing, typeof(SciMLBase.DEFAULT_OBSERVED), Nothing, Nothing, Nothing, Nothing}, @Kwargs{}, SciMLBase.StandardODEProblem}, Tsit5{typeof(OrdinaryDiffEqCore.trivial_limiter!), typeof(OrdinaryDiffEqCore.trivial_limiter!), Static.False}, OrdinaryDiffEqCore.InterpolationData{ODEFunction{true, SciMLBase.AutoSpecialize, DynamicalSystemsBase.var\"#74#75\"{6, typeof(Main.Network.Network!), DynamicalSystemsBase.var\"#27#30\"{ForwardDiff.JacobianConfig{ForwardDiff.Tag{DynamicalSystemsBase.var\"#26#29\"{typeof(Main.Network.Network!)}, Float64}, Float64, 12, Tuple{Vector{ForwardDiff.Dual{ForwardDiff.Tag{DynamicalSystemsBase.var\"#26#29\"{typeof(Main.Network.Network!)}, Float64}, Float64, 12}}, Vector{ForwardDiff.Dual{ForwardDiff.Tag{DynamicalSystemsBase.var\"#26#29\"{typeof(Main.Network.Network!)}, Float64}, Float64, 12}}}}, typeof(Main.Network.Network!)}, Matrix{Float64}}, UniformScaling{Bool}, Nothing, Nothing, Nothing, Nothing, Nothing, Nothing, Nothing, Nothing, Nothing, Nothing, Nothing, typeof(SciMLBase.DEFAULT_OBSERVED), Nothing, Nothing, Nothing, Nothing}, Vector{Matrix{Float64}}, Vector{Float64}, Vector{Vector{Matrix{Float64}}}, Nothing, OrdinaryDiffEqTsit5.Tsit5Cache{Matrix{Float64}, Matrix{Float64}, Matrix{Float64}, typeof(OrdinaryDiffEqCore.trivial_limiter!), typeof(OrdinaryDiffEqCore.trivial_limiter!), Static.False}, Nothing}, SciMLBase.DEStats, Nothing, Nothing, Nothing, Nothing}, ODEFunction{true, SciMLBase.AutoSpecialize, DynamicalSystemsBase.var\"#74#75\"{6, typeof(Main.Network.Network!), DynamicalSystemsBase.var\"#27#30\"{ForwardDiff.JacobianConfig{ForwardDiff.Tag{DynamicalSystemsBase.var\"#26#29\"{typeof(Main.Network.Network!)}, Float64}, Float64, 12, Tuple{Vector{ForwardDiff.Dual{ForwardDiff.Tag{DynamicalSystemsBase.var\"#26#29\"{typeof(Main.Network.Network!)}, Float64}, Float64, 12}}, Vector{ForwardDiff.Dual{ForwardDiff.Tag{DynamicalSystemsBase.var\"#26#29\"{typeof(Main.Network.Network!)}, Float64}, Float64, 12}}}}, typeof(Main.Network.Network!)}, Matrix{Float64}}, UniformScaling{Bool}, Nothing, Nothing, Nothing, Nothing, Nothing, Nothing, Nothing, Nothing, Nothing, Nothing, Nothing, typeof(SciMLBase.DEFAULT_OBSERVED), Nothing, Nothing, Nothing, Nothing}, OrdinaryDiffEqTsit5.Tsit5Cache{Matrix{Float64}, Matrix{Float64}, Matrix{Float64}, typeof(OrdinaryDiffEqCore.trivial_limiter!), typeof(OrdinaryDiffEqCore.trivial_limiter!), Static.False}, OrdinaryDiffEqCore.DEOptions{Float64, Float64, Float64, Float64, PIController{Rational{Int64}}, typeof(DynamicalSystemsBase.matrixnorm), typeof(opnorm), Bool, CallbackSet{Tuple{}, Tuple{}}, typeof(DiffEqBase.ODE_DEFAULT_ISOUTOFDOMAIN), typeof(DiffEqBase.ODE_DEFAULT_PROG_MESSAGE), typeof(DiffEqBase.ODE_DEFAULT_UNSTABLE_CHECK), DataStructures.BinaryHeap{Float64, DataStructures.FasterForward}, DataStructures.BinaryHeap{Float64, DataStructures.FasterForward}, Nothing, Nothing, Float64, Tuple{}, Tuple{}, Tuple{}}, Matrix{Float64}, Float64, Nothing, OrdinaryDiffEqCore.DefaultInit, Nothing}, Params}}, N::Int64; Δt::Int64, Ttr::Float64, show_progress::Bool, u0::SubArray{Float64, 1, Matrix{Float64}, Tuple{Base.Slice{Base.OneTo{Int64}}, Int64}, true})\n",
      "    @ ChaosTools ~/.julia/packages/ChaosTools/PimFL/src/chaosdetection/lyapunovs/lyapunovspectrum.jl:89\n",
      " [23] lyapunovspectrum(ds::CoupledODEs{true, 540, OrdinaryDiffEqCore.ODEIntegrator{Tsit5{typeof(OrdinaryDiffEqCore.trivial_limiter!), typeof(OrdinaryDiffEqCore.trivial_limiter!), Static.False}, true, Vector{Float64}, Nothing, Float64, Params, Float64, Float64, Float64, Float64, Vector{Vector{Float64}}, ODESolution{Float64, 2, Vector{Vector{Float64}}, Nothing, Nothing, Vector{Float64}, Vector{Vector{Vector{Float64}}}, Nothing, ODEProblem{Vector{Float64}, Tuple{Float64, Float64}, true, Params, ODEFunction{true, SciMLBase.AutoSpecialize, typeof(Main.Network.Network!), UniformScaling{Bool}, Nothing, Nothing, Nothing, Nothing, Nothing, Nothing, Nothing, Nothing, Nothing, Nothing, Nothing, typeof(SciMLBase.DEFAULT_OBSERVED), Nothing, Nothing, Nothing, Nothing}, @Kwargs{}, SciMLBase.StandardODEProblem}, Tsit5{typeof(OrdinaryDiffEqCore.trivial_limiter!), typeof(OrdinaryDiffEqCore.trivial_limiter!), Static.False}, OrdinaryDiffEqCore.InterpolationData{ODEFunction{true, SciMLBase.AutoSpecialize, typeof(Main.Network.Network!), UniformScaling{Bool}, Nothing, Nothing, Nothing, Nothing, Nothing, Nothing, Nothing, Nothing, Nothing, Nothing, Nothing, typeof(SciMLBase.DEFAULT_OBSERVED), Nothing, Nothing, Nothing, Nothing}, Vector{Vector{Float64}}, Vector{Float64}, Vector{Vector{Vector{Float64}}}, Nothing, OrdinaryDiffEqTsit5.Tsit5Cache{Vector{Float64}, Vector{Float64}, Vector{Float64}, typeof(OrdinaryDiffEqCore.trivial_limiter!), typeof(OrdinaryDiffEqCore.trivial_limiter!), Static.False}, Nothing}, SciMLBase.DEStats, Nothing, Nothing, Nothing, Nothing}, ODEFunction{true, SciMLBase.AutoSpecialize, typeof(Main.Network.Network!), UniformScaling{Bool}, Nothing, Nothing, Nothing, Nothing, Nothing, Nothing, Nothing, Nothing, Nothing, Nothing, Nothing, typeof(SciMLBase.DEFAULT_OBSERVED), Nothing, Nothing, Nothing, Nothing}, OrdinaryDiffEqTsit5.Tsit5Cache{Vector{Float64}, Vector{Float64}, Vector{Float64}, typeof(OrdinaryDiffEqCore.trivial_limiter!), typeof(OrdinaryDiffEqCore.trivial_limiter!), Static.False}, OrdinaryDiffEqCore.DEOptions{Float64, Float64, Float64, Float64, PIController{Rational{Int64}}, typeof(DiffEqBase.ODE_DEFAULT_NORM), typeof(opnorm), Bool, CallbackSet{Tuple{}, Tuple{}}, typeof(DiffEqBase.ODE_DEFAULT_ISOUTOFDOMAIN), typeof(DiffEqBase.ODE_DEFAULT_PROG_MESSAGE), typeof(DiffEqBase.ODE_DEFAULT_UNSTABLE_CHECK), DataStructures.BinaryHeap{Float64, DataStructures.FasterForward}, DataStructures.BinaryHeap{Float64, DataStructures.FasterForward}, Nothing, Nothing, Float64, Tuple{}, Tuple{}, Tuple{}}, Vector{Float64}, Float64, Nothing, OrdinaryDiffEqCore.DefaultInit, Nothing}, Params}, N::Int64, k::Int64; kwargs::@Kwargs{Δt::Int64, Ttr::Float64, show_progress::Bool})\n",
      "    @ ChaosTools ~/.julia/packages/ChaosTools/PimFL/src/chaosdetection/lyapunovs/lyapunovspectrum.jl:54\n",
      " [24] eval\n",
      "    @ ./boot.jl:430 [inlined]\n",
      " [25] include_string(mapexpr::typeof(REPL.softscope), mod::Module, code::String, filename::String)\n",
      "    @ Base ./loading.jl:2734\n",
      " [26] #invokelatest#2\n",
      "    @ ./essentials.jl:1055 [inlined]\n",
      " [27] invokelatest\n",
      "    @ ./essentials.jl:1052 [inlined]\n",
      " [28] (::VSCodeServer.var\"#217#218\"{VSCodeServer.NotebookRunCellArguments, String})()\n",
      "    @ VSCodeServer ~/.vscode/extensions/julialang.language-julia-1.127.2/scripts/packages/VSCodeServer/src/serve_notebook.jl:24\n",
      " [29] withpath(f::VSCodeServer.var\"#217#218\"{VSCodeServer.NotebookRunCellArguments, String}, path::String)\n",
      "    @ VSCodeServer ~/.vscode/extensions/julialang.language-julia-1.127.2/scripts/packages/VSCodeServer/src/repl.jl:276\n",
      " [30] notebook_runcell_request(conn::VSCodeServer.JSONRPC.JSONRPCEndpoint{Base.PipeEndpoint, Base.PipeEndpoint}, params::VSCodeServer.NotebookRunCellArguments)\n",
      "    @ VSCodeServer ~/.vscode/extensions/julialang.language-julia-1.127.2/scripts/packages/VSCodeServer/src/serve_notebook.jl:13\n",
      " [31] dispatch_msg(x::VSCodeServer.JSONRPC.JSONRPCEndpoint{Base.PipeEndpoint, Base.PipeEndpoint}, dispatcher::VSCodeServer.JSONRPC.MsgDispatcher, msg::Dict{String, Any})\n",
      "    @ VSCodeServer.JSONRPC ~/.vscode/extensions/julialang.language-julia-1.127.2/scripts/packages/JSONRPC/src/typed.jl:67\n",
      " [32] serve_notebook(pipename::String, debugger_pipename::String, outputchannel_logger::Base.CoreLogging.SimpleLogger; error_handler::var\"#5#10\"{String})\n",
      "    @ VSCodeServer ~/.vscode/extensions/julialang.language-julia-1.127.2/scripts/packages/VSCodeServer/src/serve_notebook.jl:147\n",
      " [33] top-level scope\n",
      "    @ ~/.vscode/extensions/julialang.language-julia-1.127.2/scripts/notebook/notebook.jl:35"
     ]
    }
   ],
   "source": [
    "λ = lyapunovspectrum(ds, Nsteps, 6; Δt = ns, Ttr=trans,show_progress=true)"
   ]
  },
  {
   "cell_type": "markdown",
   "metadata": {},
   "source": [
    "## Example 6: RK4+step+no adaptatiu  --> Massa lento"
   ]
  },
  {
   "cell_type": "code",
   "execution_count": 9,
   "metadata": {},
   "outputs": [
    {
     "data": {
      "text/plain": [
       "540-dimensional CoupledODEs\n",
       " deterministic: true\n",
       " discrete time: false\n",
       " in-place:      true\n",
       " dynamic rule:  Network!\n",
       " ODE solver:    RK4\n",
       " ODE kwargs:    (dt = 0.01, adaptive = false)\n",
       " parameters:    Params([8.0, 8.0, 1.0, 5.0, -5.0, -5.0, 1.0, 1.0, 5.0, 13.0, 5.0, 13.0, 0.0, 10.0, 8.0], [0.0 0.07150787333365484 … 0.029938437471751827 0.0457088009950454; 0.040356800998807764 0.0 … 0.0844727476667492 0.0069661426632191365; … ; 0.011030461432017217 0.05514665431799544 … 0.0 0.055906608276557586; 0.029621282116852266 0.007999004709306763 … 0.09833390557208707 0.0])\n",
       " time:          0.0\n",
       " state:         [0.0, 0.0, 0.0, 0.0, 0.0, 0.0, 0.0, 0.0, 0.0, 0.0  …  0.0, 0.0, 0.0, 0.0, 0.0, 0.0, 0.0, 0.0, 0.0, 0.0]\n"
      ]
     },
     "metadata": {},
     "output_type": "display_data"
    }
   ],
   "source": [
    "ds=ContinuousDynamicalSystem(Network.Network!, u0, p; diffeq=(alg=RK4(),dt=dt,adaptive=false))"
   ]
  },
  {
   "cell_type": "code",
   "execution_count": 7,
   "metadata": {},
   "outputs": [
    {
     "data": {
      "text/plain": [
       "540-dimensional TangentDynamicalSystem\n",
       " deterministic:     true\n",
       " discrete time:     false\n",
       " in-place:          true\n",
       " dynamic rule:      Network!\n",
       " jacobian:          #27\n",
       " deviation vectors: 6\n",
       " parameters:        Params([8.0, 8.0, 1.0, 5.0, -5.0, -5.0, 1.0, 1.0, 5.0, 13.0, 5.0, 13.0, 0.0, 10.0, 8.0], [0.0 0.07150787333365484 … 0.029938437471751827 0.0457088009950454; 0.040356800998807764 0.0 … 0.0844727476667492 0.0069661426632191365; … ; 0.011030461432017217 0.05514665431799544 … 0.0 0.055906608276557586; 0.029621282116852266 0.007999004709306763 … 0.09833390557208707 0.0])\n",
       " time:              0.0\n",
       " state:             [0.0, 0.0, 0.0, 0.0, 0.0, 0.0, 0.0, 0.0, 0.0, 0.0  …  0.0, 0.0, 0.0, 0.0, 0.0, 0.0, 0.0, 0.0, 0.0, 0.0]\n"
      ]
     },
     "metadata": {},
     "output_type": "display_data"
    }
   ],
   "source": [
    "tands = TangentDynamicalSystem(ds;k=6)"
   ]
  },
  {
   "cell_type": "code",
   "execution_count": 10,
   "metadata": {},
   "outputs": [
    {
     "name": "stderr",
     "output_type": "stream",
     "text": [
      "\u001b[32mLyapunov spectrum:   3%|▊                               |  ETA: 1:46:46\u001b[39m\u001b[KK\u001b[39m\u001b[K"
     ]
    },
    {
     "ename": "InterruptException",
     "evalue": "InterruptException:",
     "output_type": "error",
     "traceback": [
      "InterruptException:\n",
      "\n",
      "Stacktrace:\n",
      "  [1] preprocess(dest::SubArray{ForwardDiff.Dual{ForwardDiff.Tag{DynamicalSystemsBase.var\"#26#29\"{typeof(Main.Network.Network!)}, Float64}, Float64, 12}, 1, Vector{ForwardDiff.Dual{ForwardDiff.Tag{DynamicalSystemsBase.var\"#26#29\"{typeof(Main.Network.Network!)}, Float64}, Float64, 12}}, Tuple{UnitRange{Int64}}, true}, x::SubArray{ForwardDiff.Dual{ForwardDiff.Tag{DynamicalSystemsBase.var\"#26#29\"{typeof(Main.Network.Network!)}, Float64}, Float64, 12}, 1, Vector{ForwardDiff.Dual{ForwardDiff.Tag{DynamicalSystemsBase.var\"#26#29\"{typeof(Main.Network.Network!)}, Float64}, Float64, 12}}, Tuple{UnitRange{Int64}}, true})\n",
      "    @ Base.Broadcast ./broadcast.jl:953\n",
      "  [2] preprocess_args\n",
      "    @ ./broadcast.jl:956 [inlined]\n",
      "  [3] preprocess_args (repeats 2 times)\n",
      "    @ ./broadcast.jl:955 [inlined]\n",
      "  [4] preprocess\n",
      "    @ ./broadcast.jl:952 [inlined]\n",
      "  [5] preprocess_args\n",
      "    @ ./broadcast.jl:956 [inlined]\n",
      "  [6] preprocess_args\n",
      "    @ ./broadcast.jl:955 [inlined]\n",
      "  [7] preprocess\n",
      "    @ ./broadcast.jl:952 [inlined]\n",
      "  [8] preprocess_args\n",
      "    @ ./broadcast.jl:955 [inlined]\n",
      "  [9] preprocess\n",
      "    @ ./broadcast.jl:952 [inlined]\n",
      " [10] copyto!\n",
      "    @ ./broadcast.jl:969 [inlined]\n",
      " [11] copyto!\n",
      "    @ ./broadcast.jl:925 [inlined]\n",
      " [12] materialize!\n",
      "    @ ./broadcast.jl:883 [inlined]\n",
      " [13] materialize!\n",
      "    @ ./broadcast.jl:880 [inlined]\n",
      " [14] Network!(du::Vector{ForwardDiff.Dual{ForwardDiff.Tag{DynamicalSystemsBase.var\"#26#29\"{typeof(Main.Network.Network!)}, Float64}, Float64, 12}}, u::Vector{ForwardDiff.Dual{ForwardDiff.Tag{DynamicalSystemsBase.var\"#26#29\"{typeof(Main.Network.Network!)}, Float64}, Float64, 12}}, p::Params, t::Float64)\n",
      "    @ Main.Network ~/Desktop/MasterUPC/TFM/Codes/Auto07/Julia/Network.jl:63\n",
      " [15] #28\n",
      "    @ ~/.julia/packages/DynamicalSystemsBase/ggnaG/src/core_systems/jacobian.jl:57 [inlined]\n",
      " [16] chunk_mode_jacobian!(result::Matrix{Float64}, f!::DynamicalSystemsBase.var\"#28#31\"{Params, Float64, typeof(Main.Network.Network!)}, y::SubArray{Float64, 1, Vector{Float64}, Tuple{Base.Slice{Base.OneTo{Int64}}}, true}, x::SubArray{Float64, 1, Matrix{Float64}, Tuple{Base.Slice{Base.OneTo{Int64}}, Int64}, true}, cfg::ForwardDiff.JacobianConfig{ForwardDiff.Tag{DynamicalSystemsBase.var\"#26#29\"{typeof(Main.Network.Network!)}, Float64}, Float64, 12, Tuple{Vector{ForwardDiff.Dual{ForwardDiff.Tag{DynamicalSystemsBase.var\"#26#29\"{typeof(Main.Network.Network!)}, Float64}, Float64, 12}}, Vector{ForwardDiff.Dual{ForwardDiff.Tag{DynamicalSystemsBase.var\"#26#29\"{typeof(Main.Network.Network!)}, Float64}, Float64, 12}}}})\n",
      "    @ ForwardDiff ~/.julia/packages/ForwardDiff/UBbGT/src/jacobian.jl:198\n",
      " [17] jacobian!\n",
      "    @ ~/.julia/packages/ForwardDiff/UBbGT/src/jacobian.jl:84 [inlined]\n",
      " [18] (::DynamicalSystemsBase.var\"#27#30\"{ForwardDiff.JacobianConfig{ForwardDiff.Tag{DynamicalSystemsBase.var\"#26#29\"{typeof(Main.Network.Network!)}, Float64}, Float64, 12, Tuple{Vector{ForwardDiff.Dual{ForwardDiff.Tag{DynamicalSystemsBase.var\"#26#29\"{typeof(Main.Network.Network!)}, Float64}, Float64, 12}}, Vector{ForwardDiff.Dual{ForwardDiff.Tag{DynamicalSystemsBase.var\"#26#29\"{typeof(Main.Network.Network!)}, Float64}, Float64, 12}}}}, typeof(Main.Network.Network!)})(J0::Matrix{Float64}, u::SubArray{Float64, 1, Matrix{Float64}, Tuple{Base.Slice{Base.OneTo{Int64}}, Int64}, true}, p::Params, t::Float64)\n",
      "    @ DynamicalSystemsBase ~/.julia/packages/DynamicalSystemsBase/ggnaG/src/core_systems/jacobian.jl:56\n",
      " [19] #74\n",
      "    @ ~/.julia/packages/DynamicalSystemsBase/ggnaG/src/derived_systems/tangent_space.jl:146 [inlined]\n",
      " [20] ODEFunction\n",
      "    @ ~/.julia/packages/SciMLBase/Zrnkf/src/scimlfunctions.jl:2470 [inlined]\n",
      " [21] perform_step!(integrator::OrdinaryDiffEqCore.ODEIntegrator{RK4{typeof(OrdinaryDiffEqCore.trivial_limiter!), typeof(OrdinaryDiffEqCore.trivial_limiter!), Static.False}, true, Matrix{Float64}, Nothing, Float64, Params, Float64, Float64, Float64, Float64, Vector{Matrix{Float64}}, ODESolution{Float64, 3, Vector{Matrix{Float64}}, Nothing, Nothing, Vector{Float64}, Vector{Vector{Matrix{Float64}}}, Nothing, ODEProblem{Matrix{Float64}, Tuple{Float64, Float64}, true, Params, ODEFunction{true, SciMLBase.AutoSpecialize, DynamicalSystemsBase.var\"#74#75\"{6, typeof(Main.Network.Network!), DynamicalSystemsBase.var\"#27#30\"{ForwardDiff.JacobianConfig{ForwardDiff.Tag{DynamicalSystemsBase.var\"#26#29\"{typeof(Main.Network.Network!)}, Float64}, Float64, 12, Tuple{Vector{ForwardDiff.Dual{ForwardDiff.Tag{DynamicalSystemsBase.var\"#26#29\"{typeof(Main.Network.Network!)}, Float64}, Float64, 12}}, Vector{ForwardDiff.Dual{ForwardDiff.Tag{DynamicalSystemsBase.var\"#26#29\"{typeof(Main.Network.Network!)}, Float64}, Float64, 12}}}}, typeof(Main.Network.Network!)}, Matrix{Float64}}, UniformScaling{Bool}, Nothing, Nothing, Nothing, Nothing, Nothing, Nothing, Nothing, Nothing, Nothing, Nothing, Nothing, typeof(SciMLBase.DEFAULT_OBSERVED), Nothing, Nothing, Nothing, Nothing}, @Kwargs{}, SciMLBase.StandardODEProblem}, RK4{typeof(OrdinaryDiffEqCore.trivial_limiter!), typeof(OrdinaryDiffEqCore.trivial_limiter!), Static.False}, OrdinaryDiffEqCore.InterpolationData{ODEFunction{true, SciMLBase.AutoSpecialize, DynamicalSystemsBase.var\"#74#75\"{6, typeof(Main.Network.Network!), DynamicalSystemsBase.var\"#27#30\"{ForwardDiff.JacobianConfig{ForwardDiff.Tag{DynamicalSystemsBase.var\"#26#29\"{typeof(Main.Network.Network!)}, Float64}, Float64, 12, Tuple{Vector{ForwardDiff.Dual{ForwardDiff.Tag{DynamicalSystemsBase.var\"#26#29\"{typeof(Main.Network.Network!)}, Float64}, Float64, 12}}, Vector{ForwardDiff.Dual{ForwardDiff.Tag{DynamicalSystemsBase.var\"#26#29\"{typeof(Main.Network.Network!)}, Float64}, Float64, 12}}}}, typeof(Main.Network.Network!)}, Matrix{Float64}}, UniformScaling{Bool}, Nothing, Nothing, Nothing, Nothing, Nothing, Nothing, Nothing, Nothing, Nothing, Nothing, Nothing, typeof(SciMLBase.DEFAULT_OBSERVED), Nothing, Nothing, Nothing, Nothing}, Vector{Matrix{Float64}}, Vector{Float64}, Vector{Vector{Matrix{Float64}}}, Nothing, OrdinaryDiffEqLowOrderRK.RK4Cache{Matrix{Float64}, Matrix{Float64}, Matrix{Float64}, typeof(OrdinaryDiffEqCore.trivial_limiter!), typeof(OrdinaryDiffEqCore.trivial_limiter!), Static.False}, Nothing}, SciMLBase.DEStats, Nothing, Nothing, Nothing, Nothing}, ODEFunction{true, SciMLBase.AutoSpecialize, DynamicalSystemsBase.var\"#74#75\"{6, typeof(Main.Network.Network!), DynamicalSystemsBase.var\"#27#30\"{ForwardDiff.JacobianConfig{ForwardDiff.Tag{DynamicalSystemsBase.var\"#26#29\"{typeof(Main.Network.Network!)}, Float64}, Float64, 12, Tuple{Vector{ForwardDiff.Dual{ForwardDiff.Tag{DynamicalSystemsBase.var\"#26#29\"{typeof(Main.Network.Network!)}, Float64}, Float64, 12}}, Vector{ForwardDiff.Dual{ForwardDiff.Tag{DynamicalSystemsBase.var\"#26#29\"{typeof(Main.Network.Network!)}, Float64}, Float64, 12}}}}, typeof(Main.Network.Network!)}, Matrix{Float64}}, UniformScaling{Bool}, Nothing, Nothing, Nothing, Nothing, Nothing, Nothing, Nothing, Nothing, Nothing, Nothing, Nothing, typeof(SciMLBase.DEFAULT_OBSERVED), Nothing, Nothing, Nothing, Nothing}, OrdinaryDiffEqLowOrderRK.RK4Cache{Matrix{Float64}, Matrix{Float64}, Matrix{Float64}, typeof(OrdinaryDiffEqCore.trivial_limiter!), typeof(OrdinaryDiffEqCore.trivial_limiter!), Static.False}, OrdinaryDiffEqCore.DEOptions{Float64, Float64, Float64, Float64, PIController{Rational{Int64}}, typeof(DynamicalSystemsBase.matrixnorm), typeof(opnorm), Bool, CallbackSet{Tuple{}, Tuple{}}, typeof(DiffEqBase.ODE_DEFAULT_ISOUTOFDOMAIN), typeof(DiffEqBase.ODE_DEFAULT_PROG_MESSAGE), typeof(DiffEqBase.ODE_DEFAULT_UNSTABLE_CHECK), DataStructures.BinaryHeap{Float64, DataStructures.FasterForward}, DataStructures.BinaryHeap{Float64, DataStructures.FasterForward}, Nothing, Nothing, Float64, Tuple{}, Tuple{}, Tuple{}}, Matrix{Float64}, Float64, Nothing, OrdinaryDiffEqCore.DefaultInit, Nothing}, cache::OrdinaryDiffEqLowOrderRK.RK4Cache{Matrix{Float64}, Matrix{Float64}, Matrix{Float64}, typeof(OrdinaryDiffEqCore.trivial_limiter!), typeof(OrdinaryDiffEqCore.trivial_limiter!), Static.False}, repeat_step::Bool)\n",
      "    @ OrdinaryDiffEqLowOrderRK ~/.julia/packages/OrdinaryDiffEqLowOrderRK/CPmMP/src/fixed_timestep_perform_step.jl:318\n",
      " [22] perform_step!\n",
      "    @ ~/.julia/packages/OrdinaryDiffEqLowOrderRK/CPmMP/src/fixed_timestep_perform_step.jl:305 [inlined]\n",
      " [23] step!(integrator::OrdinaryDiffEqCore.ODEIntegrator{RK4{typeof(OrdinaryDiffEqCore.trivial_limiter!), typeof(OrdinaryDiffEqCore.trivial_limiter!), Static.False}, true, Matrix{Float64}, Nothing, Float64, Params, Float64, Float64, Float64, Float64, Vector{Matrix{Float64}}, ODESolution{Float64, 3, Vector{Matrix{Float64}}, Nothing, Nothing, Vector{Float64}, Vector{Vector{Matrix{Float64}}}, Nothing, ODEProblem{Matrix{Float64}, Tuple{Float64, Float64}, true, Params, ODEFunction{true, SciMLBase.AutoSpecialize, DynamicalSystemsBase.var\"#74#75\"{6, typeof(Main.Network.Network!), DynamicalSystemsBase.var\"#27#30\"{ForwardDiff.JacobianConfig{ForwardDiff.Tag{DynamicalSystemsBase.var\"#26#29\"{typeof(Main.Network.Network!)}, Float64}, Float64, 12, Tuple{Vector{ForwardDiff.Dual{ForwardDiff.Tag{DynamicalSystemsBase.var\"#26#29\"{typeof(Main.Network.Network!)}, Float64}, Float64, 12}}, Vector{ForwardDiff.Dual{ForwardDiff.Tag{DynamicalSystemsBase.var\"#26#29\"{typeof(Main.Network.Network!)}, Float64}, Float64, 12}}}}, typeof(Main.Network.Network!)}, Matrix{Float64}}, UniformScaling{Bool}, Nothing, Nothing, Nothing, Nothing, Nothing, Nothing, Nothing, Nothing, Nothing, Nothing, Nothing, typeof(SciMLBase.DEFAULT_OBSERVED), Nothing, Nothing, Nothing, Nothing}, @Kwargs{}, SciMLBase.StandardODEProblem}, RK4{typeof(OrdinaryDiffEqCore.trivial_limiter!), typeof(OrdinaryDiffEqCore.trivial_limiter!), Static.False}, OrdinaryDiffEqCore.InterpolationData{ODEFunction{true, SciMLBase.AutoSpecialize, DynamicalSystemsBase.var\"#74#75\"{6, typeof(Main.Network.Network!), DynamicalSystemsBase.var\"#27#30\"{ForwardDiff.JacobianConfig{ForwardDiff.Tag{DynamicalSystemsBase.var\"#26#29\"{typeof(Main.Network.Network!)}, Float64}, Float64, 12, Tuple{Vector{ForwardDiff.Dual{ForwardDiff.Tag{DynamicalSystemsBase.var\"#26#29\"{typeof(Main.Network.Network!)}, Float64}, Float64, 12}}, Vector{ForwardDiff.Dual{ForwardDiff.Tag{DynamicalSystemsBase.var\"#26#29\"{typeof(Main.Network.Network!)}, Float64}, Float64, 12}}}}, typeof(Main.Network.Network!)}, Matrix{Float64}}, UniformScaling{Bool}, Nothing, Nothing, Nothing, Nothing, Nothing, Nothing, Nothing, Nothing, Nothing, Nothing, Nothing, typeof(SciMLBase.DEFAULT_OBSERVED), Nothing, Nothing, Nothing, Nothing}, Vector{Matrix{Float64}}, Vector{Float64}, Vector{Vector{Matrix{Float64}}}, Nothing, OrdinaryDiffEqLowOrderRK.RK4Cache{Matrix{Float64}, Matrix{Float64}, Matrix{Float64}, typeof(OrdinaryDiffEqCore.trivial_limiter!), typeof(OrdinaryDiffEqCore.trivial_limiter!), Static.False}, Nothing}, SciMLBase.DEStats, Nothing, Nothing, Nothing, Nothing}, ODEFunction{true, SciMLBase.AutoSpecialize, DynamicalSystemsBase.var\"#74#75\"{6, typeof(Main.Network.Network!), DynamicalSystemsBase.var\"#27#30\"{ForwardDiff.JacobianConfig{ForwardDiff.Tag{DynamicalSystemsBase.var\"#26#29\"{typeof(Main.Network.Network!)}, Float64}, Float64, 12, Tuple{Vector{ForwardDiff.Dual{ForwardDiff.Tag{DynamicalSystemsBase.var\"#26#29\"{typeof(Main.Network.Network!)}, Float64}, Float64, 12}}, Vector{ForwardDiff.Dual{ForwardDiff.Tag{DynamicalSystemsBase.var\"#26#29\"{typeof(Main.Network.Network!)}, Float64}, Float64, 12}}}}, typeof(Main.Network.Network!)}, Matrix{Float64}}, UniformScaling{Bool}, Nothing, Nothing, Nothing, Nothing, Nothing, Nothing, Nothing, Nothing, Nothing, Nothing, Nothing, typeof(SciMLBase.DEFAULT_OBSERVED), Nothing, Nothing, Nothing, Nothing}, OrdinaryDiffEqLowOrderRK.RK4Cache{Matrix{Float64}, Matrix{Float64}, Matrix{Float64}, typeof(OrdinaryDiffEqCore.trivial_limiter!), typeof(OrdinaryDiffEqCore.trivial_limiter!), Static.False}, OrdinaryDiffEqCore.DEOptions{Float64, Float64, Float64, Float64, PIController{Rational{Int64}}, typeof(DynamicalSystemsBase.matrixnorm), typeof(opnorm), Bool, CallbackSet{Tuple{}, Tuple{}}, typeof(DiffEqBase.ODE_DEFAULT_ISOUTOFDOMAIN), typeof(DiffEqBase.ODE_DEFAULT_PROG_MESSAGE), typeof(DiffEqBase.ODE_DEFAULT_UNSTABLE_CHECK), DataStructures.BinaryHeap{Float64, DataStructures.FasterForward}, DataStructures.BinaryHeap{Float64, DataStructures.FasterForward}, Nothing, Nothing, Float64, Tuple{}, Tuple{}, Tuple{}}, Matrix{Float64}, Float64, Nothing, OrdinaryDiffEqCore.DefaultInit, Nothing})\n",
      "    @ OrdinaryDiffEqCore ~/.julia/packages/OrdinaryDiffEqCore/bMOsj/src/iterator_interface.jl:14\n",
      " [24] step!(integ::OrdinaryDiffEqCore.ODEIntegrator{RK4{typeof(OrdinaryDiffEqCore.trivial_limiter!), typeof(OrdinaryDiffEqCore.trivial_limiter!), Static.False}, true, Matrix{Float64}, Nothing, Float64, Params, Float64, Float64, Float64, Float64, Vector{Matrix{Float64}}, ODESolution{Float64, 3, Vector{Matrix{Float64}}, Nothing, Nothing, Vector{Float64}, Vector{Vector{Matrix{Float64}}}, Nothing, ODEProblem{Matrix{Float64}, Tuple{Float64, Float64}, true, Params, ODEFunction{true, SciMLBase.AutoSpecialize, DynamicalSystemsBase.var\"#74#75\"{6, typeof(Main.Network.Network!), DynamicalSystemsBase.var\"#27#30\"{ForwardDiff.JacobianConfig{ForwardDiff.Tag{DynamicalSystemsBase.var\"#26#29\"{typeof(Main.Network.Network!)}, Float64}, Float64, 12, Tuple{Vector{ForwardDiff.Dual{ForwardDiff.Tag{DynamicalSystemsBase.var\"#26#29\"{typeof(Main.Network.Network!)}, Float64}, Float64, 12}}, Vector{ForwardDiff.Dual{ForwardDiff.Tag{DynamicalSystemsBase.var\"#26#29\"{typeof(Main.Network.Network!)}, Float64}, Float64, 12}}}}, typeof(Main.Network.Network!)}, Matrix{Float64}}, UniformScaling{Bool}, Nothing, Nothing, Nothing, Nothing, Nothing, Nothing, Nothing, Nothing, Nothing, Nothing, Nothing, typeof(SciMLBase.DEFAULT_OBSERVED), Nothing, Nothing, Nothing, Nothing}, @Kwargs{}, SciMLBase.StandardODEProblem}, RK4{typeof(OrdinaryDiffEqCore.trivial_limiter!), typeof(OrdinaryDiffEqCore.trivial_limiter!), Static.False}, OrdinaryDiffEqCore.InterpolationData{ODEFunction{true, SciMLBase.AutoSpecialize, DynamicalSystemsBase.var\"#74#75\"{6, typeof(Main.Network.Network!), DynamicalSystemsBase.var\"#27#30\"{ForwardDiff.JacobianConfig{ForwardDiff.Tag{DynamicalSystemsBase.var\"#26#29\"{typeof(Main.Network.Network!)}, Float64}, Float64, 12, Tuple{Vector{ForwardDiff.Dual{ForwardDiff.Tag{DynamicalSystemsBase.var\"#26#29\"{typeof(Main.Network.Network!)}, Float64}, Float64, 12}}, Vector{ForwardDiff.Dual{ForwardDiff.Tag{DynamicalSystemsBase.var\"#26#29\"{typeof(Main.Network.Network!)}, Float64}, Float64, 12}}}}, typeof(Main.Network.Network!)}, Matrix{Float64}}, UniformScaling{Bool}, Nothing, Nothing, Nothing, Nothing, Nothing, Nothing, Nothing, Nothing, Nothing, Nothing, Nothing, typeof(SciMLBase.DEFAULT_OBSERVED), Nothing, Nothing, Nothing, Nothing}, Vector{Matrix{Float64}}, Vector{Float64}, Vector{Vector{Matrix{Float64}}}, Nothing, OrdinaryDiffEqLowOrderRK.RK4Cache{Matrix{Float64}, Matrix{Float64}, Matrix{Float64}, typeof(OrdinaryDiffEqCore.trivial_limiter!), typeof(OrdinaryDiffEqCore.trivial_limiter!), Static.False}, Nothing}, SciMLBase.DEStats, Nothing, Nothing, Nothing, Nothing}, ODEFunction{true, SciMLBase.AutoSpecialize, DynamicalSystemsBase.var\"#74#75\"{6, typeof(Main.Network.Network!), DynamicalSystemsBase.var\"#27#30\"{ForwardDiff.JacobianConfig{ForwardDiff.Tag{DynamicalSystemsBase.var\"#26#29\"{typeof(Main.Network.Network!)}, Float64}, Float64, 12, Tuple{Vector{ForwardDiff.Dual{ForwardDiff.Tag{DynamicalSystemsBase.var\"#26#29\"{typeof(Main.Network.Network!)}, Float64}, Float64, 12}}, Vector{ForwardDiff.Dual{ForwardDiff.Tag{DynamicalSystemsBase.var\"#26#29\"{typeof(Main.Network.Network!)}, Float64}, Float64, 12}}}}, typeof(Main.Network.Network!)}, Matrix{Float64}}, UniformScaling{Bool}, Nothing, Nothing, Nothing, Nothing, Nothing, Nothing, Nothing, Nothing, Nothing, Nothing, Nothing, typeof(SciMLBase.DEFAULT_OBSERVED), Nothing, Nothing, Nothing, Nothing}, OrdinaryDiffEqLowOrderRK.RK4Cache{Matrix{Float64}, Matrix{Float64}, Matrix{Float64}, typeof(OrdinaryDiffEqCore.trivial_limiter!), typeof(OrdinaryDiffEqCore.trivial_limiter!), Static.False}, OrdinaryDiffEqCore.DEOptions{Float64, Float64, Float64, Float64, PIController{Rational{Int64}}, typeof(DynamicalSystemsBase.matrixnorm), typeof(opnorm), Bool, CallbackSet{Tuple{}, Tuple{}}, typeof(DiffEqBase.ODE_DEFAULT_ISOUTOFDOMAIN), typeof(DiffEqBase.ODE_DEFAULT_PROG_MESSAGE), typeof(DiffEqBase.ODE_DEFAULT_UNSTABLE_CHECK), DataStructures.BinaryHeap{Float64, DataStructures.FasterForward}, DataStructures.BinaryHeap{Float64, DataStructures.FasterForward}, Nothing, Nothing, Float64, Tuple{}, Tuple{}, Tuple{}}, Matrix{Float64}, Float64, Nothing, OrdinaryDiffEqCore.DefaultInit, Nothing}, dt::Int64, stop_at_tdt::Bool)\n",
      "    @ SciMLBase ~/.julia/packages/SciMLBase/Zrnkf/src/integrator_interface.jl:912\n",
      " [25] step!\n",
      "    @ ~/.julia/packages/SciMLBase/Zrnkf/src/integrator_interface.jl:907 [inlined]\n",
      " [26] step!\n",
      "    @ ~/.julia/packages/DynamicalSystemsBase/ggnaG/src/core_systems/continuous_time_ode.jl:142 [inlined]\n",
      " [27] step!\n",
      "    @ ~/.julia/packages/DynamicalSystemsBase/ggnaG/src/derived_systems/tangent_space.jl:204 [inlined]\n",
      " [28] lyapunovspectrum(tands::TangentDynamicalSystem{true, CoupledODEs{true, 3780, OrdinaryDiffEqCore.ODEIntegrator{RK4{typeof(OrdinaryDiffEqCore.trivial_limiter!), typeof(OrdinaryDiffEqCore.trivial_limiter!), Static.False}, true, Matrix{Float64}, Nothing, Float64, Params, Float64, Float64, Float64, Float64, Vector{Matrix{Float64}}, ODESolution{Float64, 3, Vector{Matrix{Float64}}, Nothing, Nothing, Vector{Float64}, Vector{Vector{Matrix{Float64}}}, Nothing, ODEProblem{Matrix{Float64}, Tuple{Float64, Float64}, true, Params, ODEFunction{true, SciMLBase.AutoSpecialize, DynamicalSystemsBase.var\"#74#75\"{6, typeof(Main.Network.Network!), DynamicalSystemsBase.var\"#27#30\"{ForwardDiff.JacobianConfig{ForwardDiff.Tag{DynamicalSystemsBase.var\"#26#29\"{typeof(Main.Network.Network!)}, Float64}, Float64, 12, Tuple{Vector{ForwardDiff.Dual{ForwardDiff.Tag{DynamicalSystemsBase.var\"#26#29\"{typeof(Main.Network.Network!)}, Float64}, Float64, 12}}, Vector{ForwardDiff.Dual{ForwardDiff.Tag{DynamicalSystemsBase.var\"#26#29\"{typeof(Main.Network.Network!)}, Float64}, Float64, 12}}}}, typeof(Main.Network.Network!)}, Matrix{Float64}}, UniformScaling{Bool}, Nothing, Nothing, Nothing, Nothing, Nothing, Nothing, Nothing, Nothing, Nothing, Nothing, Nothing, typeof(SciMLBase.DEFAULT_OBSERVED), Nothing, Nothing, Nothing, Nothing}, @Kwargs{}, SciMLBase.StandardODEProblem}, RK4{typeof(OrdinaryDiffEqCore.trivial_limiter!), typeof(OrdinaryDiffEqCore.trivial_limiter!), Static.False}, OrdinaryDiffEqCore.InterpolationData{ODEFunction{true, SciMLBase.AutoSpecialize, DynamicalSystemsBase.var\"#74#75\"{6, typeof(Main.Network.Network!), DynamicalSystemsBase.var\"#27#30\"{ForwardDiff.JacobianConfig{ForwardDiff.Tag{DynamicalSystemsBase.var\"#26#29\"{typeof(Main.Network.Network!)}, Float64}, Float64, 12, Tuple{Vector{ForwardDiff.Dual{ForwardDiff.Tag{DynamicalSystemsBase.var\"#26#29\"{typeof(Main.Network.Network!)}, Float64}, Float64, 12}}, Vector{ForwardDiff.Dual{ForwardDiff.Tag{DynamicalSystemsBase.var\"#26#29\"{typeof(Main.Network.Network!)}, Float64}, Float64, 12}}}}, typeof(Main.Network.Network!)}, Matrix{Float64}}, UniformScaling{Bool}, Nothing, Nothing, Nothing, Nothing, Nothing, Nothing, Nothing, Nothing, Nothing, Nothing, Nothing, typeof(SciMLBase.DEFAULT_OBSERVED), Nothing, Nothing, Nothing, Nothing}, Vector{Matrix{Float64}}, Vector{Float64}, Vector{Vector{Matrix{Float64}}}, Nothing, OrdinaryDiffEqLowOrderRK.RK4Cache{Matrix{Float64}, Matrix{Float64}, Matrix{Float64}, typeof(OrdinaryDiffEqCore.trivial_limiter!), typeof(OrdinaryDiffEqCore.trivial_limiter!), Static.False}, Nothing}, SciMLBase.DEStats, Nothing, Nothing, Nothing, Nothing}, ODEFunction{true, SciMLBase.AutoSpecialize, DynamicalSystemsBase.var\"#74#75\"{6, typeof(Main.Network.Network!), DynamicalSystemsBase.var\"#27#30\"{ForwardDiff.JacobianConfig{ForwardDiff.Tag{DynamicalSystemsBase.var\"#26#29\"{typeof(Main.Network.Network!)}, Float64}, Float64, 12, Tuple{Vector{ForwardDiff.Dual{ForwardDiff.Tag{DynamicalSystemsBase.var\"#26#29\"{typeof(Main.Network.Network!)}, Float64}, Float64, 12}}, Vector{ForwardDiff.Dual{ForwardDiff.Tag{DynamicalSystemsBase.var\"#26#29\"{typeof(Main.Network.Network!)}, Float64}, Float64, 12}}}}, typeof(Main.Network.Network!)}, Matrix{Float64}}, UniformScaling{Bool}, Nothing, Nothing, Nothing, Nothing, Nothing, Nothing, Nothing, Nothing, Nothing, Nothing, Nothing, typeof(SciMLBase.DEFAULT_OBSERVED), Nothing, Nothing, Nothing, Nothing}, OrdinaryDiffEqLowOrderRK.RK4Cache{Matrix{Float64}, Matrix{Float64}, Matrix{Float64}, typeof(OrdinaryDiffEqCore.trivial_limiter!), typeof(OrdinaryDiffEqCore.trivial_limiter!), Static.False}, OrdinaryDiffEqCore.DEOptions{Float64, Float64, Float64, Float64, PIController{Rational{Int64}}, typeof(DynamicalSystemsBase.matrixnorm), typeof(opnorm), Bool, CallbackSet{Tuple{}, Tuple{}}, typeof(DiffEqBase.ODE_DEFAULT_ISOUTOFDOMAIN), typeof(DiffEqBase.ODE_DEFAULT_PROG_MESSAGE), typeof(DiffEqBase.ODE_DEFAULT_UNSTABLE_CHECK), DataStructures.BinaryHeap{Float64, DataStructures.FasterForward}, DataStructures.BinaryHeap{Float64, DataStructures.FasterForward}, Nothing, Nothing, Float64, Tuple{}, Tuple{}, Tuple{}}, Matrix{Float64}, Float64, Nothing, OrdinaryDiffEqCore.DefaultInit, Nothing}, Params}}, N::Int64; Δt::Int64, Ttr::Float64, show_progress::Bool, u0::SubArray{Float64, 1, Matrix{Float64}, Tuple{Base.Slice{Base.OneTo{Int64}}, Int64}, true})\n",
      "    @ ChaosTools ~/.julia/packages/ChaosTools/PimFL/src/chaosdetection/lyapunovs/lyapunovspectrum.jl:89\n",
      " [29] lyapunovspectrum(ds::CoupledODEs{true, 540, OrdinaryDiffEqCore.ODEIntegrator{RK4{typeof(OrdinaryDiffEqCore.trivial_limiter!), typeof(OrdinaryDiffEqCore.trivial_limiter!), Static.False}, true, Vector{Float64}, Nothing, Float64, Params, Float64, Float64, Float64, Float64, Vector{Vector{Float64}}, ODESolution{Float64, 2, Vector{Vector{Float64}}, Nothing, Nothing, Vector{Float64}, Vector{Vector{Vector{Float64}}}, Nothing, ODEProblem{Vector{Float64}, Tuple{Float64, Float64}, true, Params, ODEFunction{true, SciMLBase.AutoSpecialize, typeof(Main.Network.Network!), UniformScaling{Bool}, Nothing, Nothing, Nothing, Nothing, Nothing, Nothing, Nothing, Nothing, Nothing, Nothing, Nothing, typeof(SciMLBase.DEFAULT_OBSERVED), Nothing, Nothing, Nothing, Nothing}, @Kwargs{}, SciMLBase.StandardODEProblem}, RK4{typeof(OrdinaryDiffEqCore.trivial_limiter!), typeof(OrdinaryDiffEqCore.trivial_limiter!), Static.False}, OrdinaryDiffEqCore.InterpolationData{ODEFunction{true, SciMLBase.AutoSpecialize, typeof(Main.Network.Network!), UniformScaling{Bool}, Nothing, Nothing, Nothing, Nothing, Nothing, Nothing, Nothing, Nothing, Nothing, Nothing, Nothing, typeof(SciMLBase.DEFAULT_OBSERVED), Nothing, Nothing, Nothing, Nothing}, Vector{Vector{Float64}}, Vector{Float64}, Vector{Vector{Vector{Float64}}}, Nothing, OrdinaryDiffEqLowOrderRK.RK4Cache{Vector{Float64}, Vector{Float64}, Vector{Float64}, typeof(OrdinaryDiffEqCore.trivial_limiter!), typeof(OrdinaryDiffEqCore.trivial_limiter!), Static.False}, Nothing}, SciMLBase.DEStats, Nothing, Nothing, Nothing, Nothing}, ODEFunction{true, SciMLBase.AutoSpecialize, typeof(Main.Network.Network!), UniformScaling{Bool}, Nothing, Nothing, Nothing, Nothing, Nothing, Nothing, Nothing, Nothing, Nothing, Nothing, Nothing, typeof(SciMLBase.DEFAULT_OBSERVED), Nothing, Nothing, Nothing, Nothing}, OrdinaryDiffEqLowOrderRK.RK4Cache{Vector{Float64}, Vector{Float64}, Vector{Float64}, typeof(OrdinaryDiffEqCore.trivial_limiter!), typeof(OrdinaryDiffEqCore.trivial_limiter!), Static.False}, OrdinaryDiffEqCore.DEOptions{Float64, Float64, Float64, Float64, PIController{Rational{Int64}}, typeof(DiffEqBase.ODE_DEFAULT_NORM), typeof(opnorm), Bool, CallbackSet{Tuple{}, Tuple{}}, typeof(DiffEqBase.ODE_DEFAULT_ISOUTOFDOMAIN), typeof(DiffEqBase.ODE_DEFAULT_PROG_MESSAGE), typeof(DiffEqBase.ODE_DEFAULT_UNSTABLE_CHECK), DataStructures.BinaryHeap{Float64, DataStructures.FasterForward}, DataStructures.BinaryHeap{Float64, DataStructures.FasterForward}, Nothing, Nothing, Float64, Tuple{}, Tuple{}, Tuple{}}, Vector{Float64}, Float64, Nothing, OrdinaryDiffEqCore.DefaultInit, Nothing}, Params}, N::Int64, k::Int64; kwargs::@Kwargs{Δt::Int64, Ttr::Float64, show_progress::Bool})\n",
      "    @ ChaosTools ~/.julia/packages/ChaosTools/PimFL/src/chaosdetection/lyapunovs/lyapunovspectrum.jl:54\n",
      " [30] eval\n",
      "    @ ./boot.jl:430 [inlined]\n",
      " [31] include_string(mapexpr::typeof(REPL.softscope), mod::Module, code::String, filename::String)\n",
      "    @ Base ./loading.jl:2734\n",
      " [32] #invokelatest#2\n",
      "    @ ./essentials.jl:1055 [inlined]\n",
      " [33] invokelatest\n",
      "    @ ./essentials.jl:1052 [inlined]\n",
      " [34] (::VSCodeServer.var\"#217#218\"{VSCodeServer.NotebookRunCellArguments, String})()\n",
      "    @ VSCodeServer ~/.vscode/extensions/julialang.language-julia-1.127.2/scripts/packages/VSCodeServer/src/serve_notebook.jl:24\n",
      " [35] withpath(f::VSCodeServer.var\"#217#218\"{VSCodeServer.NotebookRunCellArguments, String}, path::String)\n",
      "    @ VSCodeServer ~/.vscode/extensions/julialang.language-julia-1.127.2/scripts/packages/VSCodeServer/src/repl.jl:276\n",
      " [36] notebook_runcell_request(conn::VSCodeServer.JSONRPC.JSONRPCEndpoint{Base.PipeEndpoint, Base.PipeEndpoint}, params::VSCodeServer.NotebookRunCellArguments)\n",
      "    @ VSCodeServer ~/.vscode/extensions/julialang.language-julia-1.127.2/scripts/packages/VSCodeServer/src/serve_notebook.jl:13\n",
      " [37] dispatch_msg(x::VSCodeServer.JSONRPC.JSONRPCEndpoint{Base.PipeEndpoint, Base.PipeEndpoint}, dispatcher::VSCodeServer.JSONRPC.MsgDispatcher, msg::Dict{String, Any})\n",
      "    @ VSCodeServer.JSONRPC ~/.vscode/extensions/julialang.language-julia-1.127.2/scripts/packages/JSONRPC/src/typed.jl:67\n",
      " [38] serve_notebook(pipename::String, debugger_pipename::String, outputchannel_logger::Base.CoreLogging.SimpleLogger; error_handler::var\"#5#10\"{String})\n",
      "    @ VSCodeServer ~/.vscode/extensions/julialang.language-julia-1.127.2/scripts/packages/VSCodeServer/src/serve_notebook.jl:147\n",
      " [39] top-level scope\n",
      "    @ ~/.vscode/extensions/julialang.language-julia-1.127.2/scripts/notebook/notebook.jl:35"
     ]
    }
   ],
   "source": [
    "λ = lyapunovspectrum(ds, Nsteps, 6; Δt = ns, Ttr=trans,show_progress=true)"
   ]
  },
  {
   "cell_type": "markdown",
   "metadata": {},
   "source": [
    "# B. With tangent --> Seems to do the same"
   ]
  },
  {
   "cell_type": "markdown",
   "metadata": {},
   "source": [
    "## Example 1: Lliure integrator k=6"
   ]
  },
  {
   "cell_type": "code",
   "execution_count": 23,
   "metadata": {},
   "outputs": [
    {
     "data": {
      "text/plain": [
       "540-dimensional CoupledODEs\n",
       " deterministic: true\n",
       " discrete time: false\n",
       " in-place:      true\n",
       " dynamic rule:  Network!\n",
       " ODE solver:    Tsit5\n",
       " ODE kwargs:    (abstol = 1.0e-6, reltol = 1.0e-6)\n",
       " parameters:    Params([8.0, 8.0, 1.0, 5.0, -5.0, -5.0, 1.0, 1.0, 5.0, 13.0, 5.0, 13.0, 0.0, 10.0, 8.0], [0.0 0.07150787333365484 … 0.029938437471751827 0.0457088009950454; 0.040356800998807764 0.0 … 0.0844727476667492 0.0069661426632191365; … ; 0.011030461432017217 0.05514665431799544 … 0.0 0.055906608276557586; 0.029621282116852266 0.007999004709306763 … 0.09833390557208707 0.0])\n",
       " time:          0.0\n",
       " state:         [0.0, 0.0, 0.0, 0.0, 0.0, 0.0, 0.0, 0.0, 0.0, 0.0  …  0.0, 0.0, 0.0, 0.0, 0.0, 0.0, 0.0, 0.0, 0.0, 0.0]\n"
      ]
     },
     "metadata": {},
     "output_type": "display_data"
    }
   ],
   "source": [
    "ds=ContinuousDynamicalSystem(Network.Network!, u0, p)"
   ]
  },
  {
   "cell_type": "code",
   "execution_count": 24,
   "metadata": {},
   "outputs": [
    {
     "data": {
      "text/plain": [
       "540-dimensional TangentDynamicalSystem\n",
       " deterministic:     true\n",
       " discrete time:     false\n",
       " in-place:          true\n",
       " dynamic rule:      Network!\n",
       " jacobian:          #27\n",
       " deviation vectors: 6\n",
       " parameters:        Params([8.0, 8.0, 1.0, 5.0, -5.0, -5.0, 1.0, 1.0, 5.0, 13.0, 5.0, 13.0, 0.0, 10.0, 8.0], [0.0 0.07150787333365484 … 0.029938437471751827 0.0457088009950454; 0.040356800998807764 0.0 … 0.0844727476667492 0.0069661426632191365; … ; 0.011030461432017217 0.05514665431799544 … 0.0 0.055906608276557586; 0.029621282116852266 0.007999004709306763 … 0.09833390557208707 0.0])\n",
       " time:              0.0\n",
       " state:             [0.0, 0.0, 0.0, 0.0, 0.0, 0.0, 0.0, 0.0, 0.0, 0.0  …  0.0, 0.0, 0.0, 0.0, 0.0, 0.0, 0.0, 0.0, 0.0, 0.0]\n"
      ]
     },
     "metadata": {},
     "output_type": "display_data"
    }
   ],
   "source": [
    "tands = TangentDynamicalSystem(ds; k=6)"
   ]
  },
  {
   "cell_type": "code",
   "execution_count": 25,
   "metadata": {},
   "outputs": [
    {
     "name": "stderr",
     "output_type": "stream",
     "text": [
      "\u001b[32mLyapunov spectrum: 100%|████████████████████████████████| Time: 0:03:18\u001b[39m\u001b[K\n"
     ]
    },
    {
     "data": {
      "text/plain": [
       "6-element Vector{Float64}:\n",
       " -0.000126591283713094\n",
       " -0.010703997180999215\n",
       " -0.02638453784201392\n",
       " -0.026436540454554784\n",
       " -0.026546082462182017\n",
       " -0.02651332696718724"
      ]
     },
     "metadata": {},
     "output_type": "display_data"
    }
   ],
   "source": [
    "λ = lyapunovspectrum(tands, Nsteps; Δt = ns, Ttr=trans,show_progress=true)"
   ]
  },
  {
   "cell_type": "markdown",
   "metadata": {},
   "source": [
    "## Example 2: Lliure integrator k=90 + increase ttrans"
   ]
  },
  {
   "cell_type": "code",
   "execution_count": 67,
   "metadata": {},
   "outputs": [
    {
     "data": {
      "text/plain": [
       "3000"
      ]
     },
     "metadata": {},
     "output_type": "display_data"
    }
   ],
   "source": [
    "dt = 0.01\n",
    "ns = 1\n",
    "tmax = 3e3\n",
    "trans = 3e2\n",
    "Nsteps = Int(tmax/ns)"
   ]
  },
  {
   "cell_type": "code",
   "execution_count": 68,
   "metadata": {},
   "outputs": [
    {
     "data": {
      "text/plain": [
       "540-dimensional CoupledODEs\n",
       " deterministic: true\n",
       " discrete time: false\n",
       " in-place:      true\n",
       " dynamic rule:  Network!\n",
       " ODE solver:    Tsit5\n",
       " ODE kwargs:    (abstol = 1.0e-6, reltol = 1.0e-6)\n",
       " parameters:    Params([8.0, 8.0, 1.0, 5.0, -5.0, -5.0, 1.0, 1.0, 5.0, 13.0, 5.0, 13.0, 0.0, 10.0, 8.0], [0.0 0.07150787333365484 … 0.029938437471751827 0.0457088009950454; 0.040356800998807764 0.0 … 0.0844727476667492 0.0069661426632191365; … ; 0.011030461432017217 0.05514665431799544 … 0.0 0.055906608276557586; 0.029621282116852266 0.007999004709306763 … 0.09833390557208707 0.0])\n",
       " time:          0.0\n",
       " state:         [0.0, 0.0, 0.0, 0.0, 0.0, 0.0, 0.0, 0.0, 0.0, 0.0  …  0.0, 0.0, 0.0, 0.0, 0.0, 0.0, 0.0, 0.0, 0.0, 0.0]\n"
      ]
     },
     "metadata": {},
     "output_type": "display_data"
    }
   ],
   "source": [
    "ds=ContinuousDynamicalSystem(Network.Network!, u0, p)"
   ]
  },
  {
   "cell_type": "code",
   "execution_count": 69,
   "metadata": {},
   "outputs": [
    {
     "data": {
      "text/plain": [
       "540-dimensional TangentDynamicalSystem\n",
       " deterministic:     true\n",
       " discrete time:     false\n",
       " in-place:          true\n",
       " dynamic rule:      Network!\n",
       " jacobian:          #27\n",
       " deviation vectors: 90\n",
       " parameters:        Params([8.0, 8.0, 1.0, 5.0, -5.0, -5.0, 1.0, 1.0, 5.0, 13.0, 5.0, 13.0, 0.0, 10.0, 8.0], [0.0 0.07150787333365484 … 0.029938437471751827 0.0457088009950454; 0.040356800998807764 0.0 … 0.0844727476667492 0.0069661426632191365; … ; 0.011030461432017217 0.05514665431799544 … 0.0 0.055906608276557586; 0.029621282116852266 0.007999004709306763 … 0.09833390557208707 0.0])\n",
       " time:              0.0\n",
       " state:             [0.0, 0.0, 0.0, 0.0, 0.0, 0.0, 0.0, 0.0, 0.0, 0.0  …  0.0, 0.0, 0.0, 0.0, 0.0, 0.0, 0.0, 0.0, 0.0, 0.0]\n"
      ]
     },
     "metadata": {},
     "output_type": "display_data"
    }
   ],
   "source": [
    "tands = TangentDynamicalSystem(ds; k=90)"
   ]
  },
  {
   "cell_type": "code",
   "execution_count": 70,
   "metadata": {},
   "outputs": [
    {
     "name": "stderr",
     "output_type": "stream",
     "text": [
      "\u001b[32mLyapunov spectrum: 100%|████████████████████████████████| Time: 0:03:37\u001b[39m\u001b[K\n"
     ]
    },
    {
     "data": {
      "text/plain": [
       "90-element Vector{Float64}:\n",
       " -6.238922445088513e-5\n",
       " -0.010615083581192447\n",
       " -0.026459564539651457\n",
       " -0.026456917594741395\n",
       " -0.0264874177427997\n",
       " -0.02665078249852515\n",
       " -0.02681015248470752\n",
       " -0.026889261086938277\n",
       " -0.026692292052472866\n",
       " -0.02660096137996789\n",
       "  ⋮\n",
       " -0.03074788201953603\n",
       " -0.03073324412756975\n",
       " -0.031090663027901606\n",
       " -0.03182039045570309\n",
       " -0.031206821300369253\n",
       " -0.03137666137262717\n",
       " -0.031703391610528195\n",
       " -0.032509765662382444\n",
       " -0.03214560558819231"
      ]
     },
     "metadata": {},
     "output_type": "display_data"
    }
   ],
   "source": [
    "λ = lyapunovspectrum(tands, Nsteps; Δt = ns, Ttr=trans,show_progress=true)"
   ]
  },
  {
   "cell_type": "markdown",
   "metadata": {},
   "source": [
    "## Example 3: Lliure integrator +  k=90 + Jacobian :-)"
   ]
  },
  {
   "cell_type": "code",
   "execution_count": 63,
   "metadata": {},
   "outputs": [
    {
     "data": {
      "text/plain": [
       "3000"
      ]
     },
     "metadata": {},
     "output_type": "display_data"
    }
   ],
   "source": [
    "dt = 0.01\n",
    "ns = 1\n",
    "tmax = 3e3\n",
    "trans = 3e2\n",
    "Nsteps = Int(tmax/ns)"
   ]
  },
  {
   "cell_type": "code",
   "execution_count": 64,
   "metadata": {},
   "outputs": [
    {
     "data": {
      "text/plain": [
       "540-dimensional CoupledODEs\n",
       " deterministic: true\n",
       " discrete time: false\n",
       " in-place:      true\n",
       " dynamic rule:  Network!\n",
       " ODE solver:    Tsit5\n",
       " ODE kwargs:    (abstol = 1.0e-6, reltol = 1.0e-6)\n",
       " parameters:    Params([8.0, 8.0, 1.0, 5.0, -5.0, -5.0, 1.0, 1.0, 5.0, 13.0, 5.0, 13.0, 0.0, 10.0, 8.0], [0.0 0.07150787333365484 … 0.029938437471751827 0.0457088009950454; 0.040356800998807764 0.0 … 0.0844727476667492 0.0069661426632191365; … ; 0.011030461432017217 0.05514665431799544 … 0.0 0.055906608276557586; 0.029621282116852266 0.007999004709306763 … 0.09833390557208707 0.0])\n",
       " time:          0.0\n",
       " state:         [0.0, 0.0, 0.0, 0.0, 0.0, 0.0, 0.0, 0.0, 0.0, 0.0  …  0.0, 0.0, 0.0, 0.0, 0.0, 0.0, 0.0, 0.0, 0.0, 0.0]\n"
      ]
     },
     "metadata": {},
     "output_type": "display_data"
    }
   ],
   "source": [
    "ds=ContinuousDynamicalSystem(Network.Network!, u0, p)#,diffeq=(alg=RK4(),dt=dt,adaptive=false))"
   ]
  },
  {
   "cell_type": "code",
   "execution_count": 65,
   "metadata": {},
   "outputs": [
    {
     "data": {
      "text/plain": [
       "540-dimensional TangentDynamicalSystem\n",
       " deterministic:     true\n",
       " discrete time:     false\n",
       " in-place:          true\n",
       " dynamic rule:      Network!\n",
       " jacobian:          JacobianNetwork!\n",
       " deviation vectors: 90\n",
       " parameters:        Params([8.0, 8.0, 1.0, 5.0, -5.0, -5.0, 1.0, 1.0, 5.0, 13.0, 5.0, 13.0, 0.0, 10.0, 8.0], [0.0 0.07150787333365484 … 0.029938437471751827 0.0457088009950454; 0.040356800998807764 0.0 … 0.0844727476667492 0.0069661426632191365; … ; 0.011030461432017217 0.05514665431799544 … 0.0 0.055906608276557586; 0.029621282116852266 0.007999004709306763 … 0.09833390557208707 0.0])\n",
       " time:              0.0\n",
       " state:             [0.0, 0.0, 0.0, 0.0, 0.0, 0.0, 0.0, 0.0, 0.0, 0.0  …  0.0, 0.0, 0.0, 0.0, 0.0, 0.0, 0.0, 0.0, 0.0, 0.0]\n"
      ]
     },
     "metadata": {},
     "output_type": "display_data"
    }
   ],
   "source": [
    "tands = TangentDynamicalSystem(ds; k=90,J=Network.JacobianNetwork!)"
   ]
  },
  {
   "cell_type": "code",
   "execution_count": 66,
   "metadata": {},
   "outputs": [
    {
     "name": "stderr",
     "output_type": "stream",
     "text": [
      "\u001b[32mLyapunov spectrum: 100%|████████████████████████████████| Time: 0:01:17\u001b[39m\u001b[K\n"
     ]
    },
    {
     "data": {
      "text/plain": [
       "90-element Vector{Float64}:\n",
       " -6.23892244508915e-5\n",
       " -0.010615083581192477\n",
       " -0.026459564539651332\n",
       " -0.026456917594741374\n",
       " -0.026487417742799647\n",
       " -0.026650782498525257\n",
       " -0.02681015248470757\n",
       " -0.026889261086938204\n",
       " -0.026692292052472914\n",
       " -0.026600961379967914\n",
       "  ⋮\n",
       " -0.030747827660884953\n",
       " -0.03073309282590153\n",
       " -0.03109085958587089\n",
       " -0.03182030720727296\n",
       " -0.03120686713630626\n",
       " -0.03137658670946391\n",
       " -0.03170326557205079\n",
       " -0.03250996601126327\n",
       " -0.032145364241042716"
      ]
     },
     "metadata": {},
     "output_type": "display_data"
    }
   ],
   "source": [
    "λ = lyapunovspectrum(tands, Nsteps; Δt = ns, Ttr=trans,show_progress=true)"
   ]
  },
  {
   "cell_type": "markdown",
   "metadata": {},
   "source": [
    "# $\\epsilon = 8, I_{ext}^E=12$"
   ]
  },
  {
   "cell_type": "code",
   "execution_count": 75,
   "metadata": {},
   "outputs": [
    {
     "data": {
      "text/plain": [
       "Params([8.0, 8.0, 1.0, 5.0, -5.0, -5.0, 1.0, 1.0, 5.0, 13.0, 5.0, 13.0, 0.0, 12.0, 8.0], [0.0 0.07150787333365484 … 0.029938437471751827 0.0457088009950454; 0.040356800998807764 0.0 … 0.0844727476667492 0.0069661426632191365; … ; 0.011030461432017217 0.05514665431799544 … 0.0 0.055906608276557586; 0.029621282116852266 0.007999004709306763 … 0.09833390557208707 0.0])"
      ]
     },
     "metadata": {},
     "output_type": "display_data"
    }
   ],
   "source": [
    "Nvariables = 6\n",
    "Npop = 90\n",
    "\n",
    "# Initial conditions\n",
    "u0 = zeros(Npop*Nvariables)\n",
    "\n",
    "# Time span\n",
    "# Initial time\n",
    "t0 = 0\n",
    "# Final time\n",
    "tf = 500\n",
    "tspan = (t0, tf)\n",
    "\n",
    "# Define the parameters as a dictionary\n",
    "scalar_params = [8,8,1,5,-5,-5,1,1,5,13,5,13,0,12,8];\n",
    "\n",
    "# Load the .npz file containing the connectivity matrix into a dictionary-like structure\n",
    "data = load(\"NormalizedMatrix.npz\")\n",
    "W = data[\"normalized_matrix\"]\n",
    "\n",
    "# Create the Params struct\n",
    "p = Params(scalar_params, W)"
   ]
  },
  {
   "cell_type": "code",
   "execution_count": 76,
   "metadata": {},
   "outputs": [
    {
     "data": {
      "text/plain": [
       "3000"
      ]
     },
     "metadata": {},
     "output_type": "display_data"
    }
   ],
   "source": [
    "dt = 0.01\n",
    "ns = 1\n",
    "tmax = 3e3\n",
    "trans = 3e2\n",
    "Nsteps = Int(tmax/ns)"
   ]
  },
  {
   "cell_type": "markdown",
   "metadata": {},
   "source": [
    "### Without Jacobian"
   ]
  },
  {
   "cell_type": "code",
   "execution_count": 77,
   "metadata": {},
   "outputs": [
    {
     "name": "stderr",
     "output_type": "stream",
     "text": [
      "\u001b[32mLyapunov spectrum: 100%|████████████████████████████████| Time: 0:06:17\u001b[39m\u001b[K\n"
     ]
    },
    {
     "data": {
      "text/plain": [
       "90-element Vector{Float64}:\n",
       "  0.011288754286211958\n",
       "  0.011013318015005526\n",
       "  0.010861002356421385\n",
       "  0.010571827793771358\n",
       "  0.010444757371233012\n",
       "  0.010076021555073915\n",
       "  0.010056183242344198\n",
       "  0.010105580158929475\n",
       "  0.009791520918029872\n",
       "  0.009996413831254696\n",
       "  ⋮\n",
       "  0.002540251404408426\n",
       "  0.0016797596237363873\n",
       "  0.001843180110057828\n",
       "  0.0011853236495202918\n",
       " -0.0007078535184230811\n",
       " -0.003002550541677119\n",
       " -0.005033227392549547\n",
       " -0.0061551533202719826\n",
       " -0.008176468121490237"
      ]
     },
     "metadata": {},
     "output_type": "display_data"
    }
   ],
   "source": [
    "ds=ContinuousDynamicalSystem(Network.Network!, u0, p)\n",
    "tands = TangentDynamicalSystem(ds; k=90)\n",
    "λ = lyapunovspectrum(tands, Nsteps; Δt = ns, Ttr=trans,show_progress=true)"
   ]
  },
  {
   "cell_type": "markdown",
   "metadata": {},
   "source": [
    "### With Jacobian"
   ]
  },
  {
   "cell_type": "code",
   "execution_count": 74,
   "metadata": {},
   "outputs": [
    {
     "name": "stderr",
     "output_type": "stream",
     "text": [
      "\u001b[32mLyapunov spectrum: 100%|████████████████████████████████| Time: 0:02:15\u001b[39m\u001b[K\n"
     ]
    },
    {
     "data": {
      "text/plain": [
       "90-element Vector{Float64}:\n",
       "  0.011288754286211896\n",
       "  0.011013318015005704\n",
       "  0.010861002356421014\n",
       "  0.010571827793770536\n",
       "  0.010444757371234376\n",
       "  0.010076021555073976\n",
       "  0.01005618324234608\n",
       "  0.010105580158930013\n",
       "  0.009791520918028677\n",
       "  0.009996413831257645\n",
       "  ⋮\n",
       "  0.0025402514036771077\n",
       "  0.001679759426293714\n",
       "  0.0018431802767566656\n",
       "  0.0011853235974730162\n",
       " -0.000707853541424463\n",
       " -0.002999840232256155\n",
       " -0.005395265745383921\n",
       " -0.005883219709670768\n",
       " -0.008442817696095855"
      ]
     },
     "metadata": {},
     "output_type": "display_data"
    }
   ],
   "source": [
    "ds=ContinuousDynamicalSystem(Network.Network!, u0, p)\n",
    "tands = TangentDynamicalSystem(ds; k=90,J=Network.JacobianNetwork!)\n",
    "λ = lyapunovspectrum(tands, Nsteps; Δt = ns, Ttr=trans,show_progress=true)"
   ]
  },
  {
   "cell_type": "markdown",
   "metadata": {},
   "source": [
    "## $\\epsilon = 12, I_{ext}^E = 6$"
   ]
  },
  {
   "cell_type": "code",
   "execution_count": 79,
   "metadata": {},
   "outputs": [
    {
     "data": {
      "text/plain": [
       "Params([8.0, 8.0, 1.0, 5.0, -5.0, -5.0, 1.0, 1.0, 5.0, 13.0, 5.0, 13.0, 0.0, 6.0, 12.0], [0.0 0.07150787333365484 … 0.029938437471751827 0.0457088009950454; 0.040356800998807764 0.0 … 0.0844727476667492 0.0069661426632191365; … ; 0.011030461432017217 0.05514665431799544 … 0.0 0.055906608276557586; 0.029621282116852266 0.007999004709306763 … 0.09833390557208707 0.0])"
      ]
     },
     "metadata": {},
     "output_type": "display_data"
    }
   ],
   "source": [
    "Nvariables = 6\n",
    "Npop = 90\n",
    "\n",
    "# Initial conditions\n",
    "u0 = zeros(Npop*Nvariables)\n",
    "\n",
    "# Time span\n",
    "# Initial time\n",
    "t0 = 0\n",
    "# Final time\n",
    "tf = 500\n",
    "tspan = (t0, tf)\n",
    "\n",
    "# Define the parameters as a dictionary\n",
    "scalar_params = [8,8,1,5,-5,-5,1,1,5,13,5,13,0,6,12];\n",
    "\n",
    "# Load the .npz file containing the connectivity matrix into a dictionary-like structure\n",
    "data = load(\"NormalizedMatrix.npz\")\n",
    "W = data[\"normalized_matrix\"]\n",
    "\n",
    "# Create the Params struct\n",
    "p = Params(scalar_params, W)"
   ]
  },
  {
   "cell_type": "code",
   "execution_count": 80,
   "metadata": {},
   "outputs": [
    {
     "data": {
      "text/plain": [
       "3000"
      ]
     },
     "metadata": {},
     "output_type": "display_data"
    }
   ],
   "source": [
    "dt = 0.01\n",
    "ns = 1\n",
    "tmax = 3e3\n",
    "trans = 3e2\n",
    "Nsteps = Int(tmax/ns)"
   ]
  },
  {
   "cell_type": "markdown",
   "metadata": {},
   "source": [
    "### Without Jacobian"
   ]
  },
  {
   "cell_type": "code",
   "execution_count": 82,
   "metadata": {},
   "outputs": [
    {
     "name": "stderr",
     "output_type": "stream",
     "text": [
      "\u001b[32mLyapunov spectrum: 100%|████████████████████████████████| Time: 0:02:45\u001b[39m\u001b[K\n"
     ]
    },
    {
     "data": {
      "text/plain": [
       "90-element Vector{Float64}:\n",
       " -0.0010961154837611383\n",
       " -0.041189674730833736\n",
       " -0.0411936351134773\n",
       " -0.04142828383974139\n",
       " -0.04125293691706813\n",
       " -0.041820279832214854\n",
       " -0.04282505683889495\n",
       " -0.04354388001715741\n",
       " -0.04513344962303978\n",
       " -0.045963073994694195\n",
       "  ⋮\n",
       " -0.0771682949073425\n",
       " -0.07677746012619781\n",
       " -0.07722727288857185\n",
       " -0.0778620573027208\n",
       " -0.07785574876361666\n",
       " -0.07842498708470434\n",
       " -0.07861818345119782\n",
       " -0.07885099685507256\n",
       " -0.07865076387279395"
      ]
     },
     "metadata": {},
     "output_type": "display_data"
    }
   ],
   "source": [
    "ds=ContinuousDynamicalSystem(Network.Network!, u0, p)\n",
    "tands = TangentDynamicalSystem(ds; k=90)\n",
    "λ = lyapunovspectrum(tands, Nsteps; Δt = ns, Ttr=trans,show_progress=true)"
   ]
  },
  {
   "cell_type": "markdown",
   "metadata": {},
   "source": [
    "### With Jacobian"
   ]
  },
  {
   "cell_type": "code",
   "execution_count": 81,
   "metadata": {},
   "outputs": [
    {
     "name": "stderr",
     "output_type": "stream",
     "text": [
      "\u001b[32mLyapunov spectrum: 100%|████████████████████████████████| Time: 0:00:58\u001b[39m\u001b[K\n"
     ]
    },
    {
     "data": {
      "text/plain": [
       "90-element Vector{Float64}:\n",
       " -0.0010961154837611496\n",
       " -0.04118967473083378\n",
       " -0.04119363511347724\n",
       " -0.04142828383974144\n",
       " -0.04125293691706819\n",
       " -0.04182027983221481\n",
       " -0.04282505683889497\n",
       " -0.043543880017157414\n",
       " -0.045133449623039716\n",
       " -0.045963073994693994\n",
       "  ⋮\n",
       " -0.077168295301062\n",
       " -0.07677746026674105\n",
       " -0.07722727247153488\n",
       " -0.07786208663616939\n",
       " -0.07785572448098808\n",
       " -0.07842394902121004\n",
       " -0.0786055307575312\n",
       " -0.0788508903185677\n",
       " -0.07852087455047696"
      ]
     },
     "metadata": {},
     "output_type": "display_data"
    }
   ],
   "source": [
    "ds=ContinuousDynamicalSystem(Network.Network!, u0, p)\n",
    "tands = TangentDynamicalSystem(ds; k=90,J=Network.JacobianNetwork!)\n",
    "λ = lyapunovspectrum(tands, Nsteps; Δt = ns, Ttr=trans,show_progress=true)"
   ]
  },
  {
   "cell_type": "markdown",
   "metadata": {},
   "source": [
    "## $\\epsilon = 12, I_{ext}^E = 8$"
   ]
  },
  {
   "cell_type": "code",
   "execution_count": 84,
   "metadata": {},
   "outputs": [
    {
     "data": {
      "text/plain": [
       "Params([8.0, 8.0, 1.0, 5.0, -5.0, -5.0, 1.0, 1.0, 5.0, 13.0, 5.0, 13.0, 0.0, 8.0, 12.0], [0.0 0.07150787333365484 … 0.029938437471751827 0.0457088009950454; 0.040356800998807764 0.0 … 0.0844727476667492 0.0069661426632191365; … ; 0.011030461432017217 0.05514665431799544 … 0.0 0.055906608276557586; 0.029621282116852266 0.007999004709306763 … 0.09833390557208707 0.0])"
      ]
     },
     "metadata": {},
     "output_type": "display_data"
    }
   ],
   "source": [
    "Nvariables = 6\n",
    "Npop = 90\n",
    "\n",
    "# Initial conditions\n",
    "u0 = zeros(Npop*Nvariables)\n",
    "\n",
    "# Time span\n",
    "# Initial time\n",
    "t0 = 0\n",
    "# Final time\n",
    "tf = 500\n",
    "tspan = (t0, tf)\n",
    "\n",
    "# Define the parameters as a dictionary\n",
    "scalar_params = [8,8,1,5,-5,-5,1,1,5,13,5,13,0,8,12];\n",
    "\n",
    "# Load the .npz file containing the connectivity matrix into a dictionary-like structure\n",
    "data = load(\"NormalizedMatrix.npz\")\n",
    "W = data[\"normalized_matrix\"]\n",
    "\n",
    "# Create the Params struct\n",
    "p = Params(scalar_params, W)"
   ]
  },
  {
   "cell_type": "code",
   "execution_count": 85,
   "metadata": {},
   "outputs": [
    {
     "data": {
      "text/plain": [
       "3000"
      ]
     },
     "metadata": {},
     "output_type": "display_data"
    }
   ],
   "source": [
    "dt = 0.01\n",
    "ns = 1\n",
    "tmax = 3e3\n",
    "trans = 3e2\n",
    "Nsteps = Int(tmax/ns)"
   ]
  },
  {
   "cell_type": "markdown",
   "metadata": {},
   "source": [
    "### Without Jacobian"
   ]
  },
  {
   "cell_type": "code",
   "execution_count": 87,
   "metadata": {},
   "outputs": [
    {
     "name": "stderr",
     "output_type": "stream",
     "text": [
      "\u001b[32mLyapunov spectrum: 100%|████████████████████████████████| Time: 0:03:16\u001b[39m\u001b[K\n"
     ]
    },
    {
     "data": {
      "text/plain": [
       "90-element Vector{Float64}:\n",
       "  0.0036624598605921994\n",
       "  0.0036247897614513575\n",
       "  0.0035789702646677932\n",
       "  0.003622698726426203\n",
       "  0.0036446643816331393\n",
       "  0.0035159420520426464\n",
       "  0.0035190166020419764\n",
       "  0.0033975283697711012\n",
       "  0.0033360716664500674\n",
       "  0.0036256659769672533\n",
       "  ⋮\n",
       "  6.607336364674228e-5\n",
       " -0.0007105509185950129\n",
       " -0.0003576843123510748\n",
       " -0.002160420403726115\n",
       " -0.005045461484393256\n",
       " -0.006669364297536885\n",
       " -0.008423533056444868\n",
       " -0.00931957903815768\n",
       " -0.009642092589220632"
      ]
     },
     "metadata": {},
     "output_type": "display_data"
    }
   ],
   "source": [
    "ds=ContinuousDynamicalSystem(Network.Network!, u0, p)\n",
    "tands = TangentDynamicalSystem(ds; k=90)\n",
    "λ = lyapunovspectrum(tands, Nsteps; Δt = ns, Ttr=trans,show_progress=true)"
   ]
  },
  {
   "cell_type": "markdown",
   "metadata": {},
   "source": [
    "### With Jacobian"
   ]
  },
  {
   "cell_type": "code",
   "execution_count": 86,
   "metadata": {},
   "outputs": [
    {
     "name": "stderr",
     "output_type": "stream",
     "text": [
      "\u001b[32mLyapunov spectrum: 100%|████████████████████████████████| Time: 0:01:12\u001b[39m\u001b[K\n"
     ]
    },
    {
     "data": {
      "text/plain": [
       "90-element Vector{Float64}:\n",
       "  0.0036624598605921703\n",
       "  0.0036247897614513345\n",
       "  0.00357897026466778\n",
       "  0.0036226987264261867\n",
       "  0.0036446643816331337\n",
       "  0.0035159420520426855\n",
       "  0.0035190166020419166\n",
       "  0.0033975283697710674\n",
       "  0.0033360716664500496\n",
       "  0.0036256659769672633\n",
       "  ⋮\n",
       "  6.607336349431802e-5\n",
       " -0.0007105509185569754\n",
       " -0.0003576843123473976\n",
       " -0.002160420403687139\n",
       " -0.005045461484390915\n",
       " -0.006669364297536404\n",
       " -0.008423533056447417\n",
       " -0.009319579038159718\n",
       " -0.009642092589220634"
      ]
     },
     "metadata": {},
     "output_type": "display_data"
    }
   ],
   "source": [
    "ds=ContinuousDynamicalSystem(Network.Network!, u0, p)\n",
    "tands = TangentDynamicalSystem(ds; k=90,J=Network.JacobianNetwork!)\n",
    "λ = lyapunovspectrum(tands, Nsteps; Δt = ns, Ttr=trans,show_progress=true)"
   ]
  },
  {
   "cell_type": "markdown",
   "metadata": {},
   "source": [
    "### $\\epsilon = 12, I_{ext}^E = 12$"
   ]
  },
  {
   "cell_type": "code",
   "execution_count": 88,
   "metadata": {},
   "outputs": [
    {
     "data": {
      "text/plain": [
       "Params([8.0, 8.0, 1.0, 5.0, -5.0, -5.0, 1.0, 1.0, 5.0, 13.0, 5.0, 13.0, 0.0, 12.0, 12.0], [0.0 0.07150787333365484 … 0.029938437471751827 0.0457088009950454; 0.040356800998807764 0.0 … 0.0844727476667492 0.0069661426632191365; … ; 0.011030461432017217 0.05514665431799544 … 0.0 0.055906608276557586; 0.029621282116852266 0.007999004709306763 … 0.09833390557208707 0.0])"
      ]
     },
     "metadata": {},
     "output_type": "display_data"
    }
   ],
   "source": [
    "Nvariables = 6\n",
    "Npop = 90\n",
    "\n",
    "# Initial conditions\n",
    "u0 = zeros(Npop*Nvariables)\n",
    "\n",
    "# Time span\n",
    "# Initial time\n",
    "t0 = 0\n",
    "# Final time\n",
    "tf = 500\n",
    "tspan = (t0, tf)\n",
    "\n",
    "# Define the parameters as a dictionary\n",
    "scalar_params = [8,8,1,5,-5,-5,1,1,5,13,5,13,0,12,12];\n",
    "\n",
    "# Load the .npz file containing the connectivity matrix into a dictionary-like structure\n",
    "data = load(\"NormalizedMatrix.npz\")\n",
    "W = data[\"normalized_matrix\"]\n",
    "\n",
    "# Create the Params struct\n",
    "p = Params(scalar_params, W)"
   ]
  },
  {
   "cell_type": "code",
   "execution_count": null,
   "metadata": {},
   "outputs": [],
   "source": [
    "dt = 0.01\n",
    "ns = 1\n",
    "tmax = 3e3\n",
    "trans = 3e2\n",
    "Nsteps = Int(tmax/ns)"
   ]
  },
  {
   "cell_type": "markdown",
   "metadata": {},
   "source": [
    "## Without Jacobian"
   ]
  },
  {
   "cell_type": "code",
   "execution_count": 90,
   "metadata": {},
   "outputs": [
    {
     "name": "stderr",
     "output_type": "stream",
     "text": [
      "\u001b[32mLyapunov spectrum: 100%|████████████████████████████████| Time: 0:02:36\u001b[39m\u001b[K\n"
     ]
    },
    {
     "data": {
      "text/plain": [
       "90-element Vector{Float64}:\n",
       "  0.008138043657534665\n",
       "  0.00846736192118806\n",
       "  0.007318860240853771\n",
       "  0.0076608618577828115\n",
       "  0.007335238370715181\n",
       "  0.007609586403260774\n",
       "  0.007360139298635046\n",
       "  0.0072091583988025554\n",
       "  0.007021032951684508\n",
       "  0.007301809971270985\n",
       "  ⋮\n",
       " -0.0014669746696195386\n",
       " -0.0008836306815360159\n",
       " -0.0013397136882538146\n",
       " -0.0012006820768889336\n",
       " -0.0008964479205485307\n",
       " -0.0012291094843180257\n",
       " -0.0009523317232662129\n",
       " -0.0008477754477876385\n",
       " -0.0004536871551844904"
      ]
     },
     "metadata": {},
     "output_type": "display_data"
    }
   ],
   "source": [
    "ds=ContinuousDynamicalSystem(Network.Network!, u0, p)\n",
    "tands = TangentDynamicalSystem(ds; k=90)\n",
    "λ = lyapunovspectrum(tands, Nsteps; Δt = ns, Ttr=trans,show_progress=true)"
   ]
  },
  {
   "cell_type": "markdown",
   "metadata": {},
   "source": [
    "## With Jacobian"
   ]
  },
  {
   "cell_type": "code",
   "execution_count": 89,
   "metadata": {},
   "outputs": [
    {
     "name": "stderr",
     "output_type": "stream",
     "text": [
      "\u001b[32mLyapunov spectrum: 100%|████████████████████████████████| Time: 0:01:18\u001b[39m\u001b[K\n"
     ]
    },
    {
     "data": {
      "text/plain": [
       "90-element Vector{Float64}:\n",
       "  0.008138043657534637\n",
       "  0.008467361921188073\n",
       "  0.007318860240853546\n",
       "  0.007660861857783373\n",
       "  0.0073352383707161375\n",
       "  0.007609586403260488\n",
       "  0.007360139298634421\n",
       "  0.007209158398800139\n",
       "  0.007021032951684259\n",
       "  0.0073018099712701\n",
       "  ⋮\n",
       " -0.0013109282297880272\n",
       " -0.0008193049184372884\n",
       " -0.0014466458943020164\n",
       " -0.001443664244494756\n",
       " -0.0007374331079981854\n",
       " -0.0015045905414662092\n",
       " -0.001044828994351161\n",
       " -0.0006532587944985117\n",
       " -0.0003936850818993369"
      ]
     },
     "metadata": {},
     "output_type": "display_data"
    }
   ],
   "source": [
    "ds=ContinuousDynamicalSystem(Network.Network!, u0, p)\n",
    "tands = TangentDynamicalSystem(ds; k=90,J=Network.JacobianNetwork!)\n",
    "λ = lyapunovspectrum(tands, Nsteps; Δt = ns, Ttr=trans,show_progress=true)"
   ]
  },
  {
   "cell_type": "markdown",
   "metadata": {},
   "source": [
    "## $\\epsilon = 5, I_{ext}^E=10$"
   ]
  },
  {
   "cell_type": "code",
   "execution_count": 91,
   "metadata": {},
   "outputs": [
    {
     "data": {
      "text/plain": [
       "Params([8.0, 8.0, 1.0, 5.0, -5.0, -5.0, 1.0, 1.0, 5.0, 13.0, 5.0, 13.0, 0.0, 10.0, 5.0], [0.0 0.07150787333365484 … 0.029938437471751827 0.0457088009950454; 0.040356800998807764 0.0 … 0.0844727476667492 0.0069661426632191365; … ; 0.011030461432017217 0.05514665431799544 … 0.0 0.055906608276557586; 0.029621282116852266 0.007999004709306763 … 0.09833390557208707 0.0])"
      ]
     },
     "metadata": {},
     "output_type": "display_data"
    }
   ],
   "source": [
    "Nvariables = 6\n",
    "Npop = 90\n",
    "\n",
    "# Initial conditions\n",
    "u0 = zeros(Npop*Nvariables)\n",
    "\n",
    "# Time span\n",
    "# Initial time\n",
    "t0 = 0\n",
    "# Final time\n",
    "tf = 500\n",
    "tspan = (t0, tf)\n",
    "\n",
    "# Define the parameters as a dictionary\n",
    "scalar_params = [8,8,1,5,-5,-5,1,1,5,13,5,13,0,10,5];\n",
    "\n",
    "# Load the .npz file containing the connectivity matrix into a dictionary-like structure\n",
    "data = load(\"NormalizedMatrix.npz\")\n",
    "W = data[\"normalized_matrix\"]\n",
    "\n",
    "# Create the Params struct\n",
    "p = Params(scalar_params, W)"
   ]
  },
  {
   "cell_type": "code",
   "execution_count": 92,
   "metadata": {},
   "outputs": [
    {
     "data": {
      "text/plain": [
       "3000"
      ]
     },
     "metadata": {},
     "output_type": "display_data"
    }
   ],
   "source": [
    "dt = 0.01\n",
    "ns = 1\n",
    "tmax = 3e3\n",
    "trans = 3e2\n",
    "Nsteps = Int(tmax/ns)"
   ]
  },
  {
   "cell_type": "markdown",
   "metadata": {},
   "source": [
    "### Without Jacobian"
   ]
  },
  {
   "cell_type": "code",
   "execution_count": 94,
   "metadata": {},
   "outputs": [
    {
     "name": "stderr",
     "output_type": "stream",
     "text": [
      "\u001b[32mLyapunov spectrum: 100%|████████████████████████████████| Time: 0:03:44\u001b[39m\u001b[K\n"
     ]
    },
    {
     "data": {
      "text/plain": [
       "90-element Vector{Float64}:\n",
       "  0.00034581043976893876\n",
       " -0.0030795801103302213\n",
       " -0.004829026166305597\n",
       " -0.007594255633142079\n",
       " -0.007982703766672246\n",
       " -0.010336787026944978\n",
       " -0.01289371639377937\n",
       " -0.014550557282751224\n",
       " -0.015542733078454623\n",
       " -0.016383918867471824\n",
       "  ⋮\n",
       " -0.044028597452301914\n",
       " -0.04434040282335396\n",
       " -0.04513403033035604\n",
       " -0.045855183609123024\n",
       " -0.04638874944453833\n",
       " -0.04823959899814723\n",
       " -0.04891866446289902\n",
       " -0.04918866560535059\n",
       " -0.04911680790568102"
      ]
     },
     "metadata": {},
     "output_type": "display_data"
    }
   ],
   "source": [
    "ds=ContinuousDynamicalSystem(Network.Network!, u0, p)\n",
    "tands = TangentDynamicalSystem(ds; k=90)\n",
    "λ = lyapunovspectrum(tands, Nsteps; Δt = ns, Ttr=trans,show_progress=true)"
   ]
  },
  {
   "cell_type": "markdown",
   "metadata": {},
   "source": [
    "### With Jacobian"
   ]
  },
  {
   "cell_type": "code",
   "execution_count": 93,
   "metadata": {},
   "outputs": [
    {
     "name": "stderr",
     "output_type": "stream",
     "text": [
      "\u001b[32mLyapunov spectrum: 100%|████████████████████████████████| Time: 0:01:18\u001b[39m\u001b[K\n"
     ]
    },
    {
     "data": {
      "text/plain": [
       "90-element Vector{Float64}:\n",
       "  0.00034581043976896224\n",
       " -0.003079580110330204\n",
       " -0.004829026166305591\n",
       " -0.007594255633144086\n",
       " -0.007982703766670242\n",
       " -0.010336787026945014\n",
       " -0.012893716393779365\n",
       " -0.01455055728275109\n",
       " -0.015542733078454756\n",
       " -0.016383918867471835\n",
       "  ⋮\n",
       " -0.044028597452302067\n",
       " -0.04434040282335392\n",
       " -0.045134030330355776\n",
       " -0.045855183609122996\n",
       " -0.04638874944453856\n",
       " -0.048239598998147316\n",
       " -0.048918664462899\n",
       " -0.04918866560535042\n",
       " -0.04911680790568114"
      ]
     },
     "metadata": {},
     "output_type": "display_data"
    }
   ],
   "source": [
    "ds=ContinuousDynamicalSystem(Network.Network!, u0, p)\n",
    "tands = TangentDynamicalSystem(ds; k=90,J=Network.JacobianNetwork!)\n",
    "λ = lyapunovspectrum(tands, Nsteps; Δt = ns, Ttr=trans,show_progress=true)"
   ]
  },
  {
   "cell_type": "markdown",
   "metadata": {},
   "source": [
    "## $\\epsilon=5, I_{ext}^E = 14$"
   ]
  },
  {
   "cell_type": "code",
   "execution_count": 4,
   "metadata": {},
   "outputs": [
    {
     "data": {
      "text/plain": [
       "Params([8.0, 8.0, 1.0, 5.0, -5.0, -5.0, 1.0, 1.0, 5.0, 13.0, 5.0, 13.0, 0.0, 14.0, 5.0], [0.0 0.07150787333365484 … 0.029938437471751827 0.0457088009950454; 0.040356800998807764 0.0 … 0.0844727476667492 0.0069661426632191365; … ; 0.011030461432017217 0.05514665431799544 … 0.0 0.055906608276557586; 0.029621282116852266 0.007999004709306763 … 0.09833390557208707 0.0])"
      ]
     },
     "metadata": {},
     "output_type": "display_data"
    }
   ],
   "source": [
    "Nvariables = 6\n",
    "Npop = 90\n",
    "\n",
    "# Initial conditions\n",
    "u0 = zeros(Npop*Nvariables)\n",
    "\n",
    "# Time span\n",
    "# Initial time\n",
    "t0 = 0\n",
    "# Final time\n",
    "tf = 500\n",
    "tspan = (t0, tf)\n",
    "\n",
    "# Define the parameters as a dictionary\n",
    "scalar_params = [8,8,1,5,-5,-5,1,1,5,13,5,13,0,14,5];\n",
    "\n",
    "# Load the .npz file containing the connectivity matrix into a dictionary-like structure\n",
    "data = load(\"NormalizedMatrix.npz\")\n",
    "W = data[\"normalized_matrix\"]\n",
    "\n",
    "# Create the Params struct\n",
    "p = Params(scalar_params, W)"
   ]
  },
  {
   "cell_type": "code",
   "execution_count": 5,
   "metadata": {},
   "outputs": [
    {
     "data": {
      "text/plain": [
       "3000"
      ]
     },
     "metadata": {},
     "output_type": "display_data"
    }
   ],
   "source": [
    "dt = 0.01\n",
    "ns = 1\n",
    "tmax = 3e3\n",
    "trans = 3e2\n",
    "Nsteps = Int(tmax/ns)"
   ]
  },
  {
   "cell_type": "markdown",
   "metadata": {},
   "source": [
    "### Without Jacobian"
   ]
  },
  {
   "cell_type": "code",
   "execution_count": 8,
   "metadata": {},
   "outputs": [
    {
     "name": "stderr",
     "output_type": "stream",
     "text": [
      "\u001b[32mLyapunov spectrum: 100%|████████████████████████████████| Time: 0:03:04\u001b[39m\u001b[K\n"
     ]
    },
    {
     "data": {
      "text/plain": [
       "90-element Vector{Float64}:\n",
       "  0.0038244962627608714\n",
       "  0.00354923521466915\n",
       "  0.0029523074192111445\n",
       "  0.0014224502717848316\n",
       " -0.00024883007648633426\n",
       " -0.0007175735065529917\n",
       " -0.0022774595466472144\n",
       " -0.0043363951676082665\n",
       " -0.005535138116703313\n",
       " -0.006489845831561313\n",
       "  ⋮\n",
       " -0.06668024237002732\n",
       " -0.066721463226642\n",
       " -0.06694531741340722\n",
       " -0.06692442658388284\n",
       " -0.06688290674882091\n",
       " -0.06687067341782582\n",
       " -0.06663012831097134\n",
       " -0.0678752915114288\n",
       " -0.06747327027371884"
      ]
     },
     "metadata": {},
     "output_type": "display_data"
    }
   ],
   "source": [
    "ds=ContinuousDynamicalSystem(Network.Network!, u0, p)\n",
    "tands = TangentDynamicalSystem(ds; k=90)\n",
    "λ = lyapunovspectrum(tands, Nsteps; Δt = ns, Ttr=trans,show_progress=true)"
   ]
  },
  {
   "cell_type": "markdown",
   "metadata": {},
   "source": [
    "### With Jacobian"
   ]
  },
  {
   "cell_type": "code",
   "execution_count": 9,
   "metadata": {},
   "outputs": [
    {
     "name": "stderr",
     "output_type": "stream",
     "text": [
      "\u001b[32mLyapunov spectrum: 100%|████████████████████████████████| Time: 0:00:51\u001b[39m\u001b[K\n"
     ]
    },
    {
     "data": {
      "text/plain": [
       "90-element Vector{Float64}:\n",
       "  0.00382449626276089\n",
       "  0.0035492352146691466\n",
       "  0.0029523074192111154\n",
       "  0.0014224502717848594\n",
       " -0.00024883007648626954\n",
       " -0.0007175735065530806\n",
       " -0.002277459546647061\n",
       " -0.004336395167608192\n",
       " -0.005535138116703405\n",
       " -0.006489845831561345\n",
       "  ⋮\n",
       " -0.0666802423703428\n",
       " -0.06672146322589696\n",
       " -0.06694531741343103\n",
       " -0.06692442658398556\n",
       " -0.06688290674891417\n",
       " -0.06687067341782198\n",
       " -0.06663012831094751\n",
       " -0.06787529151142951\n",
       " -0.0674732702737204"
      ]
     },
     "metadata": {},
     "output_type": "display_data"
    }
   ],
   "source": [
    "ds=ContinuousDynamicalSystem(Network.Network!, u0, p)\n",
    "tands = TangentDynamicalSystem(ds; k=90,J=Network.JacobianNetwork!)\n",
    "λ = lyapunovspectrum(tands, Nsteps; Δt = ns, Ttr=trans,show_progress=true)"
   ]
  },
  {
   "cell_type": "markdown",
   "metadata": {},
   "source": [
    "# Network routine"
   ]
  },
  {
   "cell_type": "code",
   "execution_count": 48,
   "metadata": {},
   "outputs": [
    {
     "name": "stderr",
     "output_type": "stream",
     "text": [
      "WARNING: replacing module LyapunovRoutineNetwork.\n"
     ]
    },
    {
     "data": {
      "text/plain": [
       "Main.LyapunovRoutineNetwork"
      ]
     },
     "metadata": {},
     "output_type": "display_data"
    }
   ],
   "source": [
    "include(\"LyapunovRoutineNetwork.jl\")"
   ]
  },
  {
   "cell_type": "code",
   "execution_count": 49,
   "metadata": {},
   "outputs": [
    {
     "name": "stdout",
     "output_type": "stream",
     "text": [
      "eps = 9.0, Iext_e=8.0\n",
      "eps = 9.0, Iext_e=8.1\n",
      "eps = 9.0, Iext_e=8.2\n",
      "eps = 9.0, Iext_e=8.3\n",
      "eps = 9.0, Iext_e=8.4\n",
      "eps = 9.0, Iext_e=8.5\n",
      "eps = 9.0, Iext_e=8.6\n",
      "eps = 9.0, Iext_e=8.7\n",
      "eps = 9.0, Iext_e=8.8\n",
      "eps = 9.0, Iext_e=8.9\n",
      "eps = 9.0, Iext_e=9.0\n",
      "eps = 9.0, Iext_e=9.1\n",
      "eps = 9.0, Iext_e=9.2\n",
      "eps = 9.0, Iext_e=9.3\n",
      "eps = 9.0, Iext_e=9.4\n",
      "eps = 9.0, Iext_e=9.5\n",
      "eps = 9.0, Iext_e=9.6\n",
      "eps = 9.0, Iext_e=9.7\n",
      "eps = 9.0, Iext_e=9.8\n",
      "eps = 9.0, Iext_e=9.9\n",
      "eps = 9.0, Iext_e=10.0\n",
      "eps = 9.0, Iext_e=10.1\n",
      "eps = 9.0, Iext_e=10.2\n",
      "eps = 9.0, Iext_e=10.3\n",
      "eps = 9.0, Iext_e=10.4\n",
      "eps = 9.0, Iext_e=10.5\n",
      "eps = 9.0, Iext_e=10.6\n",
      "eps = 9.0, Iext_e=10.7\n",
      "eps = 9.0, Iext_e=10.8\n",
      "eps = 9.0, Iext_e=10.9\n",
      "eps = 9.0, Iext_e=11.0\n",
      "eps = 9.0, Iext_e=11.1\n",
      "eps = 9.0, Iext_e=11.2\n",
      "eps = 9.0, Iext_e=11.3\n",
      "eps = 9.0, Iext_e=11.4\n",
      "eps = 9.0, Iext_e=11.5\n",
      "eps = 9.0, Iext_e=11.6\n",
      "eps = 9.0, Iext_e=11.7\n",
      "eps = 9.0, Iext_e=11.8\n",
      "eps = 9.0, Iext_e=11.9\n",
      "eps = 9.0, Iext_e=12.0\n",
      "eps = 9.0, Iext_e=12.1\n",
      "eps = 9.0, Iext_e=12.2\n",
      "eps = 9.0, Iext_e=12.3\n",
      "eps = 9.0, Iext_e=12.4\n",
      "eps = 9.0, Iext_e=12.5\n",
      "eps = 9.0, Iext_e=12.6\n",
      "eps = 9.0, Iext_e=12.7\n",
      "eps = 9.0, Iext_e=12.8\n",
      "eps = 9.0, Iext_e=12.9\n",
      "eps = 9.0, Iext_e=13.0\n",
      "eps = 9.0, Iext_e=13.1\n",
      "eps = 9.0, Iext_e=13.2\n",
      "eps = 9.0, Iext_e=13.3\n",
      "eps = 9.0, Iext_e=13.4\n",
      "eps = 9.0, Iext_e=13.5\n",
      "eps = 9.0, Iext_e=13.6\n",
      "eps = 9.0, Iext_e=13.7\n",
      "eps = 9.0, Iext_e=13.8\n",
      "eps = 9.0, Iext_e=13.9\n",
      "eps = 9.0, Iext_e=14.0\n",
      "eps = 9.0, Iext_e=14.1\n",
      "eps = 9.0, Iext_e=14.2\n",
      "eps = 9.0, Iext_e=14.3\n",
      "eps = 9.0, Iext_e=14.4\n",
      "eps = 9.0, Iext_e=14.5\n",
      "eps = 9.0, Iext_e=14.6\n",
      "eps = 9.0, Iext_e=14.7\n",
      "eps = 9.0, Iext_e=14.8\n",
      "eps = 9.0, Iext_e=14.9\n",
      "eps = 9.0, Iext_e=15.0\n",
      "eps = 9.0, Iext_e=15.1\n",
      "eps = 9.0, Iext_e=15.2\n",
      "eps = 9.0, Iext_e=15.3\n",
      "eps = 9.0, Iext_e=15.4\n",
      "eps = 9.0, Iext_e=15.5\n",
      "eps = 9.0, Iext_e=15.6\n",
      "eps = 9.0, Iext_e=15.7\n",
      "eps = 9.0, Iext_e=15.8\n",
      "eps = 9.0, Iext_e=15.9\n",
      "eps = 9.0, Iext_e=16.0\n"
     ]
    },
    {
     "data": {
      "text/plain": [
       "(9.0:0.1:9.0, 8.0:0.1:16.0, MVector{90, Float64}[[-0.00040042733310932026, -0.03492508499511663, -0.0350397114407457, -0.0349648413090516, -0.0351544045368032, -0.034992956757264146, -0.0356320480217673, -0.03554007264866332, -0.035251300502254376, -0.0354622907617021  …  -0.04117081815905035, -0.041221029889190144, -0.04131887291399867, -0.04109477445016848, -0.04159132481022881, -0.041519939177604305, -0.041881093587065876, -0.04151158483660895, -0.042081518631561954, -0.04213615770510032] [-0.0007959115952700498, -0.03308828567551745, -0.03318982907387912, -0.03311365235816667, -0.03334154327858476, -0.03311527022254149, -0.033738657593913444, -0.03370482951850975, -0.03335627820274601, -0.03365853710265903  …  -0.03928447294280797, -0.0393781361563976, -0.03938409859357668, -0.039048425309672924, -0.03948453394134434, -0.039362162308987064, -0.039714766945675405, -0.03949299263275644, -0.04029928888586687, -0.03986762029494763] … [0.008930414397510652, 0.008650903291424138, 0.00796616120055461, 0.008179282270687553, 0.007659133143253573, 0.007840024472092443, 0.00765828187785516, 0.007567214288305598, 0.0076342735546396714, 0.0071642600722320975  …  -0.007222990802332065, -0.00758301160046478, -0.00855351744233799, -0.008244721774235868, -0.008747044870529394, -0.009355780624504944, -0.009297441085874075, -0.009038014521940625, -0.00954671341136034, -0.00879299771851882] [0.00874562852373668, 0.008854078210372542, 0.008190025191536169, 0.00837750528772466, 0.007765695334442178, 0.007960467241572754, 0.007705106048880399, 0.00751948605438775, 0.007497410385225085, 0.007453939106139091  …  -0.007319406263510776, -0.007718829021340372, -0.007499970348239315, -0.008235340382362202, -0.008531408919127167, -0.00865255282891574, -0.008533092507145134, -0.00909890172997895, -0.009340592159313535, -0.00931519632694602]])"
      ]
     },
     "metadata": {},
     "output_type": "display_data"
    }
   ],
   "source": [
    "vector_eps,vectorIext_e,matrix = LyapunovRoutineNetwork.LyapunovNetwork!()"
   ]
  },
  {
   "cell_type": "code",
   "execution_count": null,
   "metadata": {},
   "outputs": [],
   "source": [
    "vector_eps2,vectorIext_e2,matrix2 = LyapunovRoutineNetwork.LyapunovNetwork!()"
   ]
  },
  {
   "cell_type": "code",
   "execution_count": 25,
   "metadata": {},
   "outputs": [
    {
     "data": {
      "text/plain": [
       "9.0"
      ]
     },
     "metadata": {},
     "output_type": "display_data"
    }
   ],
   "source": [
    "vector_eps[1]"
   ]
  },
  {
   "cell_type": "code",
   "execution_count": 17,
   "metadata": {},
   "outputs": [
    {
     "data": {
      "text/plain": [
       "(1, 41)"
      ]
     },
     "metadata": {},
     "output_type": "display_data"
    }
   ],
   "source": [
    "size(matrix)"
   ]
  },
  {
   "cell_type": "code",
   "execution_count": 42,
   "metadata": {},
   "outputs": [
    {
     "data": {
      "text/plain": [
       "6-element Vector{Float64}:\n",
       " -0.0007959115952700498\n",
       " -0.03308828567551745\n",
       " -0.03318982907387912\n",
       " -0.03311365235816667\n",
       " -0.03334154327858476\n",
       " -0.03311527022254149"
      ]
     },
     "metadata": {},
     "output_type": "display_data"
    }
   ],
   "source": [
    "matrix[2][1:6]"
   ]
  },
  {
   "cell_type": "code",
   "execution_count": 53,
   "metadata": {},
   "outputs": [
    {
     "data": {
      "image/png": "[encoded data removed]",
      "image/svg+xml": [
       "<?xml version=\"1.0\" encoding=\"utf-8\"?>\n",
       "<svg xmlns=\"http://www.w3.org/2000/svg\" xmlns:xlink=\"http://www.w3.org/1999/xlink\" width=\"1000\" height=\"600\" viewBox=\"0 0 4000 2400\">\n",
       "<defs>\n",
       "  <clipPath id=\"clip090\">\n",
       "    <rect x=\"0\" y=\"0\" width=\"4000\" height=\"2400\"/>\n",
       "  </clipPath>\n",
       "</defs>\n",
       "<path clip-path=\"url(#clip090)\" d=\"M0 2400 L4000 2400 L4000 8.88178e-14 L0 8.88178e-14  Z\" fill=\"#ffffff\" fill-rule=\"evenodd\" fill-opacity=\"1\"/>\n",
       "<defs>\n",
       "  <clipPath id=\"clip091\">\n",
       "    <rect x=\"800\" y=\"0\" width=\"2801\" height=\"2400\"/>\n",
       "  </clipPath>\n",
       "</defs>\n",
       "<path clip-path=\"url(#clip090)\" d=\"M577.033 2009.36 L3952.76 2009.36 L3952.76 437.247 L577.033 437.247  Z\" fill=\"#ffffff\" fill-rule=\"evenodd\" fill-opacity=\"1\"/>\n",
       "<defs>\n",
       "  <clipPath id=\"clip092\">\n",
       "    <rect x=\"577\" y=\"437\" width=\"3377\" height=\"1573\"/>\n",
       "  </clipPath>\n",
       "</defs>\n",
       "<polyline clip-path=\"url(#clip092)\" style=\"stroke:#000000; stroke-linecap:round; stroke-linejoin:round; stroke-width:2; stroke-opacity:0.1; fill:none\" points=\"672.573,2009.36 672.573,437.247 \"/>\n",
       "<polyline clip-path=\"url(#clip092)\" style=\"stroke:#000000; stroke-linecap:round; stroke-linejoin:round; stroke-width:2; stroke-opacity:0.1; fill:none\" points=\"1468.73,2009.36 1468.73,437.247 \"/>\n",
       "<polyline clip-path=\"url(#clip092)\" style=\"stroke:#000000; stroke-linecap:round; stroke-linejoin:round; stroke-width:2; stroke-opacity:0.1; fill:none\" points=\"2264.89,2009.36 2264.89,437.247 \"/>\n",
       "<polyline clip-path=\"url(#clip092)\" style=\"stroke:#000000; stroke-linecap:round; stroke-linejoin:round; stroke-width:2; stroke-opacity:0.1; fill:none\" points=\"3061.06,2009.36 3061.06,437.247 \"/>\n",
       "<polyline clip-path=\"url(#clip092)\" style=\"stroke:#000000; stroke-linecap:round; stroke-linejoin:round; stroke-width:2; stroke-opacity:0.1; fill:none\" points=\"3857.22,2009.36 3857.22,437.247 \"/>\n",
       "<polyline clip-path=\"url(#clip092)\" style=\"stroke:#000000; stroke-linecap:round; stroke-linejoin:round; stroke-width:2; stroke-opacity:0.1; fill:none\" points=\"577.033,1809.57 3952.76,1809.57 \"/>\n",
       "<polyline clip-path=\"url(#clip092)\" style=\"stroke:#000000; stroke-linecap:round; stroke-linejoin:round; stroke-width:2; stroke-opacity:0.1; fill:none\" points=\"577.033,1508.27 3952.76,1508.27 \"/>\n",
       "<polyline clip-path=\"url(#clip092)\" style=\"stroke:#000000; stroke-linecap:round; stroke-linejoin:round; stroke-width:2; stroke-opacity:0.1; fill:none\" points=\"577.033,1206.98 3952.76,1206.98 \"/>\n",
       "<polyline clip-path=\"url(#clip092)\" style=\"stroke:#000000; stroke-linecap:round; stroke-linejoin:round; stroke-width:2; stroke-opacity:0.1; fill:none\" points=\"577.033,905.679 3952.76,905.679 \"/>\n",
       "<polyline clip-path=\"url(#clip092)\" style=\"stroke:#000000; stroke-linecap:round; stroke-linejoin:round; stroke-width:2; stroke-opacity:0.1; fill:none\" points=\"577.033,604.382 3952.76,604.382 \"/>\n",
       "<polyline clip-path=\"url(#clip090)\" style=\"stroke:#000000; stroke-linecap:round; stroke-linejoin:round; stroke-width:4; stroke-opacity:1; fill:none\" points=\"577.033,2009.36 3952.76,2009.36 \"/>\n",
       "<polyline clip-path=\"url(#clip090)\" style=\"stroke:#000000; stroke-linecap:round; stroke-linejoin:round; stroke-width:4; stroke-opacity:1; fill:none\" points=\"672.573,2009.36 672.573,1992.16 \"/>\n",
       "<polyline clip-path=\"url(#clip090)\" style=\"stroke:#000000; stroke-linecap:round; stroke-linejoin:round; stroke-width:4; stroke-opacity:1; fill:none\" points=\"1468.73,2009.36 1468.73,1992.16 \"/>\n",
       "<polyline clip-path=\"url(#clip090)\" style=\"stroke:#000000; stroke-linecap:round; stroke-linejoin:round; stroke-width:4; stroke-opacity:1; fill:none\" points=\"2264.89,2009.36 2264.89,1992.16 \"/>\n",
       "<polyline clip-path=\"url(#clip090)\" style=\"stroke:#000000; stroke-linecap:round; stroke-linejoin:round; stroke-width:4; stroke-opacity:1; fill:none\" points=\"3061.06,2009.36 3061.06,1992.16 \"/>\n",
       "<polyline clip-path=\"url(#clip090)\" style=\"stroke:#000000; stroke-linecap:round; stroke-linejoin:round; stroke-width:4; stroke-opacity:1; fill:none\" points=\"3857.22,2009.36 3857.22,1992.16 \"/>\n",
       "<path clip-path=\"url(#clip090)\" d=\"M672.573 2088.24 Q666.739 2088.24 663.377 2091.36 Q660.055 2094.48 660.055 2099.95 Q660.055 2105.42 663.377 2108.54 Q666.739 2111.66 672.573 2111.66 Q678.406 2111.66 681.768 2108.54 Q685.13 2105.38 685.13 2099.95 Q685.13 2094.48 681.768 2091.36 Q678.446 2088.24 672.573 2088.24 M664.39 2084.76 Q659.124 2083.46 656.166 2079.86 Q653.25 2076.25 653.25 2071.07 Q653.25 2063.82 658.394 2059.6 Q663.58 2055.39 672.573 2055.39 Q681.606 2055.39 686.751 2059.6 Q691.895 2063.82 691.895 2071.07 Q691.895 2076.25 688.938 2079.86 Q686.022 2083.46 680.796 2084.76 Q686.71 2086.14 689.991 2090.15 Q693.313 2094.16 693.313 2099.95 Q693.313 2108.74 687.925 2113.44 Q682.578 2118.14 672.573 2118.14 Q662.567 2118.14 657.179 2113.44 Q651.832 2108.74 651.832 2099.95 Q651.832 2094.16 655.154 2090.15 Q658.475 2086.14 664.39 2084.76 M661.392 2071.84 Q661.392 2076.54 664.309 2079.17 Q667.266 2081.8 672.573 2081.8 Q677.839 2081.8 680.796 2079.17 Q683.794 2076.54 683.794 2071.84 Q683.794 2067.14 680.796 2064.51 Q677.839 2061.87 672.573 2061.87 Q667.266 2061.87 664.309 2064.51 Q661.392 2067.14 661.392 2071.84 Z\" fill=\"#000000\" fill-rule=\"nonzero\" fill-opacity=\"1\" /><path clip-path=\"url(#clip090)\" d=\"M1424.44 2110.08 L1437.8 2110.08 L1437.8 2063.94 L1423.26 2066.85 L1423.26 2059.4 L1437.72 2056.48 L1445.91 2056.48 L1445.91 2110.08 L1459.27 2110.08 L1459.27 2116.96 L1424.44 2116.96 L1424.44 2110.08 Z\" fill=\"#000000\" fill-rule=\"nonzero\" fill-opacity=\"1\" /><path clip-path=\"url(#clip090)\" d=\"M1493.3 2061.87 Q1486.98 2061.87 1483.78 2068.11 Q1480.62 2074.31 1480.62 2086.79 Q1480.62 2099.22 1483.78 2105.46 Q1486.98 2111.66 1493.3 2111.66 Q1499.66 2111.66 1502.82 2105.46 Q1506.02 2099.22 1506.02 2086.79 Q1506.02 2074.31 1502.82 2068.11 Q1499.66 2061.87 1493.3 2061.87 M1493.3 2055.39 Q1503.47 2055.39 1508.82 2063.45 Q1514.2 2071.47 1514.2 2086.79 Q1514.2 2102.06 1508.82 2110.12 Q1503.47 2118.14 1493.3 2118.14 Q1483.13 2118.14 1477.75 2110.12 Q1472.4 2102.06 1472.4 2086.79 Q1472.4 2071.47 1477.75 2063.45 Q1483.13 2055.39 1493.3 2055.39 Z\" fill=\"#000000\" fill-rule=\"nonzero\" fill-opacity=\"1\" /><path clip-path=\"url(#clip090)\" d=\"M2222 2110.08 L2235.36 2110.08 L2235.36 2063.94 L2220.82 2066.85 L2220.82 2059.4 L2235.28 2056.48 L2243.47 2056.48 L2243.47 2110.08 L2256.83 2110.08 L2256.83 2116.96 L2222 2116.96 L2222 2110.08 Z\" fill=\"#000000\" fill-rule=\"nonzero\" fill-opacity=\"1\" /><path clip-path=\"url(#clip090)\" d=\"M2280.41 2110.08 L2308.97 2110.08 L2308.97 2116.96 L2270.57 2116.96 L2270.57 2110.08 Q2275.22 2105.26 2283.25 2097.16 Q2291.31 2089.01 2293.37 2086.66 Q2297.3 2082.25 2298.84 2079.21 Q2300.42 2076.13 2300.42 2073.17 Q2300.42 2068.35 2297.02 2065.32 Q2293.66 2062.28 2288.23 2062.28 Q2284.38 2062.28 2280.09 2063.61 Q2275.83 2064.95 2270.97 2067.67 L2270.97 2059.4 Q2275.91 2057.42 2280.21 2056.4 Q2284.5 2055.39 2288.07 2055.39 Q2297.46 2055.39 2303.05 2060.09 Q2308.64 2064.79 2308.64 2072.65 Q2308.64 2076.37 2307.23 2079.74 Q2305.85 2083.06 2302.16 2087.6 Q2301.15 2088.77 2295.72 2094.4 Q2290.29 2099.99 2280.41 2110.08 Z\" fill=\"#000000\" fill-rule=\"nonzero\" fill-opacity=\"1\" /><path clip-path=\"url(#clip090)\" d=\"M3016.33 2110.08 L3029.7 2110.08 L3029.7 2063.94 L3015.16 2066.85 L3015.16 2059.4 L3029.62 2056.48 L3037.8 2056.48 L3037.8 2110.08 L3051.17 2110.08 L3051.17 2116.96 L3016.33 2116.96 L3016.33 2110.08 Z\" fill=\"#000000\" fill-rule=\"nonzero\" fill-opacity=\"1\" /><path clip-path=\"url(#clip090)\" d=\"M3090.18 2063.61 L3069.52 2095.9 L3090.18 2095.9 L3090.18 2063.61 M3088.03 2056.48 L3098.32 2056.48 L3098.32 2095.9 L3106.95 2095.9 L3106.95 2102.71 L3098.32 2102.71 L3098.32 2116.96 L3090.18 2116.96 L3090.18 2102.71 L3062.88 2102.71 L3062.88 2094.81 L3088.03 2056.48 Z\" fill=\"#000000\" fill-rule=\"nonzero\" fill-opacity=\"1\" /><path clip-path=\"url(#clip090)\" d=\"M3812.78 2110.08 L3826.15 2110.08 L3826.15 2063.94 L3811.6 2066.85 L3811.6 2059.4 L3826.07 2056.48 L3834.25 2056.48 L3834.25 2110.08 L3847.62 2110.08 L3847.62 2116.96 L3812.78 2116.96 L3812.78 2110.08 Z\" fill=\"#000000\" fill-rule=\"nonzero\" fill-opacity=\"1\" /><path clip-path=\"url(#clip090)\" d=\"M3882.66 2083.46 Q3877.15 2083.46 3873.91 2087.23 Q3870.71 2091 3870.71 2097.56 Q3870.71 2104.08 3873.91 2107.89 Q3877.15 2111.66 3882.66 2111.66 Q3888.17 2111.66 3891.37 2107.89 Q3894.61 2104.08 3894.61 2097.56 Q3894.61 2091 3891.37 2087.23 Q3888.17 2083.46 3882.66 2083.46 M3898.9 2057.82 L3898.9 2065.28 Q3895.82 2063.82 3892.66 2063.05 Q3889.54 2062.28 3886.46 2062.28 Q3878.36 2062.28 3874.07 2067.75 Q3869.81 2073.21 3869.21 2084.27 Q3871.6 2080.75 3875.2 2078.89 Q3878.81 2076.98 3883.14 2076.98 Q3892.26 2076.98 3897.52 2082.53 Q3902.83 2088.04 3902.83 2097.56 Q3902.83 2106.88 3897.32 2112.51 Q3891.81 2118.14 3882.66 2118.14 Q3872.16 2118.14 3866.61 2110.12 Q3861.06 2102.06 3861.06 2086.79 Q3861.06 2072.45 3867.87 2063.94 Q3874.68 2055.39 3886.14 2055.39 Q3889.22 2055.39 3892.34 2056 Q3895.5 2056.61 3898.9 2057.82 Z\" fill=\"#000000\" fill-rule=\"nonzero\" fill-opacity=\"1\" /><path clip-path=\"url(#clip090)\" d=\"M2217 2185.07 Q2217 2186.18 2216.53 2186.71 Q2216.12 2187.18 2215.48 2187.29 Q2214.83 2187.35 2213.14 2187.35 Q2210.27 2187.35 2208.45 2187.59 Q2206.64 2187.76 2205.52 2188.06 Q2204.41 2188.29 2203.77 2189.11 Q2203.18 2189.87 2202.89 2190.57 Q2202.65 2191.28 2202.24 2192.86 L2186.2 2256.74 Q2185.67 2258.62 2185.67 2259.55 Q2185.67 2260.55 2186.26 2260.96 Q2186.84 2261.37 2188.72 2261.54 Q2191.7 2261.84 2193.87 2261.84 Q2196.74 2261.84 2197.15 2262.25 Q2197.44 2262.66 2197.44 2263.24 Q2197.44 2264.3 2196.97 2264.88 Q2196.51 2265.41 2196.1 2265.47 Q2195.74 2265.52 2195.04 2265.52 L2179 2265.17 L2163.25 2265.52 Q2161.49 2265.52 2161.49 2264.18 Q2161.49 2263.3 2161.61 2262.83 Q2161.78 2262.3 2162.37 2262.13 Q2163.01 2261.89 2163.48 2261.89 Q2163.95 2261.84 2165.3 2261.84 Q2167.7 2261.84 2169.28 2261.78 Q2170.92 2261.66 2172.09 2261.37 Q2173.32 2261.02 2173.9 2260.72 Q2174.55 2260.37 2175.02 2259.61 Q2175.54 2258.79 2175.72 2258.15 Q2175.95 2257.5 2176.25 2256.16 L2192.41 2191.51 Q2192.64 2190.46 2192.64 2189.64 Q2192.64 2188.06 2190.77 2187.7 Q2188.95 2187.35 2184.38 2187.35 Q2182.98 2187.35 2182.39 2187.29 Q2181.87 2187.24 2181.4 2186.94 Q2180.99 2186.65 2180.99 2186.01 Q2180.99 2185.19 2181.22 2184.66 Q2181.46 2184.07 2181.87 2183.9 Q2182.34 2183.72 2182.63 2183.66 Q2182.92 2183.6 2183.39 2183.6 L2199.38 2183.96 L2215.19 2183.6 Q2217 2183.6 2217 2185.07 Z\" fill=\"#000000\" fill-rule=\"nonzero\" fill-opacity=\"1\" /><path clip-path=\"url(#clip090)\" d=\"M2261.19 2287.04 Q2261.52 2287.41 2261.52 2287.77 Q2261.52 2288.14 2260.7 2289.21 Q2259.92 2290.28 2258.24 2291.71 Q2256.56 2293.14 2254.39 2294.5 Q2252.22 2295.85 2249.02 2296.75 Q2245.82 2297.69 2242.46 2297.69 Q2236.44 2297.69 2232.83 2293.39 Q2229.26 2289.09 2229.26 2282.49 Q2229.26 2278.27 2230.66 2274.54 Q2232.05 2270.76 2234.3 2268.1 Q2236.6 2265.44 2239.47 2263.51 Q2242.38 2261.54 2245.41 2260.6 Q2248.45 2259.66 2251.27 2259.66 Q2255.41 2259.66 2257.83 2261.75 Q2260.25 2263.84 2260.25 2266.79 Q2260.25 2267.48 2260.05 2268.35 Q2259.88 2269.21 2259.31 2270.56 Q2258.78 2271.91 2257.38 2273.26 Q2255.99 2274.58 2253.94 2275.44 Q2249.39 2277.36 2241.11 2277.36 L2236.64 2277.36 Q2235.33 2282.65 2235.33 2286.09 Q2235.33 2287.45 2235.58 2288.84 Q2235.82 2290.19 2236.48 2291.91 Q2237.17 2293.64 2238.73 2294.74 Q2240.33 2295.81 2242.63 2295.81 Q2243.36 2295.81 2244.14 2295.77 Q2244.96 2295.73 2247.01 2295.28 Q2249.1 2294.82 2250.95 2294.05 Q2252.79 2293.27 2255.13 2291.59 Q2257.5 2289.87 2259.39 2287.53 Q2260.05 2286.67 2260.5 2286.67 Q2260.87 2286.67 2261.19 2287.04 M2257.46 2266.79 Q2257.46 2264.53 2255.78 2263.02 Q2254.14 2261.5 2251.27 2261.5 Q2250.37 2261.5 2249.27 2261.71 Q2248.16 2261.91 2246.31 2262.77 Q2244.51 2263.63 2242.91 2265.07 Q2241.31 2266.46 2239.72 2269.21 Q2238.12 2271.91 2237.17 2275.52 L2240.62 2275.52 Q2241.81 2275.52 2242.67 2275.52 Q2243.53 2275.48 2245.41 2275.31 Q2247.34 2275.15 2248.73 2274.86 Q2250.13 2274.54 2251.89 2273.88 Q2253.65 2273.22 2254.76 2272.36 Q2255.91 2271.46 2256.69 2270.03 Q2257.46 2268.59 2257.46 2266.79 Z\" fill=\"#000000\" fill-rule=\"nonzero\" fill-opacity=\"1\" /><path clip-path=\"url(#clip090)\" d=\"M2307.98 2265.19 Q2307.98 2267.48 2306.54 2268.8 Q2305.11 2270.07 2303.47 2270.07 Q2301.91 2270.07 2301.09 2269.17 Q2300.27 2268.26 2300.27 2267.12 Q2300.27 2265.56 2301.42 2264.21 Q2302.57 2262.85 2304.29 2262.57 Q2302.61 2261.5 2300.11 2261.5 Q2298.47 2261.5 2297.03 2262.36 Q2295.64 2263.22 2294.78 2264.33 Q2293.96 2265.44 2293.22 2267.03 Q2292.52 2268.59 2292.24 2269.53 Q2291.99 2270.44 2291.79 2271.42 L2288.92 2282.9 Q2287.52 2288.35 2287.52 2290.28 Q2287.52 2292.65 2288.67 2294.25 Q2289.82 2295.81 2292.11 2295.81 Q2293.02 2295.81 2294.04 2295.56 Q2295.06 2295.28 2296.38 2294.54 Q2297.73 2293.76 2298.92 2292.61 Q2300.15 2291.42 2301.34 2289.41 Q2302.52 2287.41 2303.3 2284.82 Q2303.55 2283.92 2304.37 2283.92 Q2305.39 2283.92 2305.39 2284.74 Q2305.39 2285.44 2304.82 2286.91 Q2304.29 2288.35 2303.1 2290.23 Q2301.95 2292.08 2300.43 2293.76 Q2298.92 2295.4 2296.66 2296.55 Q2294.41 2297.69 2291.95 2297.69 Q2288.42 2297.69 2286.09 2295.81 Q2283.75 2293.92 2282.89 2291.3 Q2282.69 2291.67 2282.4 2292.16 Q2282.11 2292.65 2281.25 2293.76 Q2280.43 2294.82 2279.49 2295.64 Q2278.55 2296.42 2277.07 2297.04 Q2275.64 2297.69 2274.08 2297.69 Q2272.11 2297.69 2270.35 2297.12 Q2268.63 2296.55 2267.4 2295.23 Q2266.17 2293.92 2266.17 2292.12 Q2266.17 2290.11 2267.52 2288.72 Q2268.91 2287.28 2270.8 2287.28 Q2271.99 2287.28 2272.93 2287.98 Q2273.91 2288.68 2273.91 2290.19 Q2273.91 2291.87 2272.77 2293.14 Q2271.62 2294.41 2269.98 2294.74 Q2271.66 2295.81 2274.16 2295.81 Q2276.87 2295.81 2279 2293.43 Q2281.13 2291.05 2282.15 2287.08 Q2284.69 2277.53 2285.68 2273.26 Q2286.66 2268.96 2286.66 2267.12 Q2286.66 2265.39 2286.21 2264.21 Q2285.76 2263.02 2284.98 2262.48 Q2284.24 2261.91 2283.55 2261.71 Q2282.89 2261.5 2282.15 2261.5 Q2280.92 2261.5 2279.53 2261.99 Q2278.18 2262.48 2276.54 2263.63 Q2274.94 2264.74 2273.42 2267.03 Q2271.91 2269.33 2270.88 2272.49 Q2270.68 2273.43 2269.77 2273.43 Q2268.79 2273.39 2268.79 2272.57 Q2268.79 2271.87 2269.32 2270.44 Q2269.9 2268.96 2271.04 2267.12 Q2272.23 2265.27 2273.75 2263.63 Q2275.31 2261.95 2277.56 2260.8 Q2279.86 2259.66 2282.32 2259.66 Q2283.42 2259.66 2284.49 2259.9 Q2285.6 2260.11 2286.91 2260.72 Q2288.26 2261.34 2289.45 2262.69 Q2290.64 2264.04 2291.38 2266.01 Q2291.87 2265.07 2292.52 2264.16 Q2293.22 2263.26 2294.29 2262.16 Q2295.39 2261.01 2296.91 2260.35 Q2298.47 2259.66 2300.19 2259.66 Q2301.87 2259.66 2303.51 2260.11 Q2305.15 2260.52 2306.54 2261.87 Q2307.98 2263.18 2307.98 2265.19 Z\" fill=\"#000000\" fill-rule=\"nonzero\" fill-opacity=\"1\" /><path clip-path=\"url(#clip090)\" d=\"M2338.48 2261.5 Q2338.48 2262.65 2337.95 2262.94 Q2337.42 2263.18 2335.94 2263.18 L2328.07 2263.18 L2321.84 2287.94 Q2321.35 2290.11 2321.35 2291.96 Q2321.35 2294.01 2321.96 2294.91 Q2322.62 2295.81 2323.97 2295.81 Q2326.63 2295.81 2329.5 2293.39 Q2332.41 2290.97 2334.87 2285.07 Q2335.2 2284.29 2335.37 2284.13 Q2335.57 2283.92 2336.1 2283.92 Q2337.13 2283.92 2337.13 2284.74 Q2337.13 2285.03 2336.55 2286.34 Q2336.02 2287.65 2334.83 2289.58 Q2333.69 2291.5 2332.17 2293.31 Q2330.69 2295.11 2328.44 2296.42 Q2326.18 2297.69 2323.77 2297.69 Q2320.36 2297.69 2318.19 2295.52 Q2316.06 2293.35 2316.06 2289.95 Q2316.06 2288.84 2316.92 2285.32 Q2317.78 2281.75 2322.45 2263.18 L2315.03 2263.18 Q2314.01 2263.18 2313.6 2263.14 Q2313.23 2263.1 2312.94 2262.89 Q2312.7 2262.65 2312.7 2262.16 Q2312.7 2261.38 2313.03 2261.05 Q2313.35 2260.68 2313.76 2260.64 Q2314.22 2260.56 2315.24 2260.56 L2323.11 2260.56 L2326.39 2247.24 Q2326.72 2245.92 2327.54 2245.19 Q2328.4 2244.41 2328.89 2244.33 Q2329.38 2244.2 2329.75 2244.2 Q2330.86 2244.2 2331.51 2244.82 Q2332.17 2245.39 2332.17 2246.46 Q2332.17 2247.03 2328.73 2260.56 L2336.1 2260.56 Q2337.05 2260.56 2337.42 2260.6 Q2337.82 2260.64 2338.15 2260.84 Q2338.48 2261.05 2338.48 2261.5 Z\" fill=\"#000000\" fill-rule=\"nonzero\" fill-opacity=\"1\" /><path clip-path=\"url(#clip090)\" d=\"M2290.13 2146.54 L2288.45 2161.05 Q2288.33 2162.36 2288.12 2162.77 Q2287.92 2163.14 2287.26 2163.14 Q2286.77 2163.14 2286.48 2162.85 Q2286.24 2162.53 2286.24 2162.16 Q2286.24 2161.95 2286.28 2161.42 Q2286.32 2160.89 2286.32 2160.64 Q2286.69 2158.1 2286.69 2156.17 Q2286.69 2152.61 2285.62 2150.68 Q2284.56 2148.71 2281.81 2147.81 Q2279.07 2146.87 2273.9 2146.87 L2262.1 2146.87 Q2259.39 2146.87 2258.73 2147.36 Q2258.12 2147.85 2257.55 2150.15 L2252.5 2170.36 L2260.42 2170.36 Q2263.37 2170.36 2265.13 2169.99 Q2266.93 2169.62 2268.12 2168.59 Q2269.35 2167.53 2270.01 2166.09 Q2270.7 2164.66 2271.4 2162.08 Q2271.61 2161.21 2271.81 2160.89 Q2272.06 2160.56 2272.59 2160.56 Q2273 2160.56 2273.29 2160.85 Q2273.57 2161.09 2273.57 2161.46 L2268.78 2181.09 Q2268.53 2182.08 2268.28 2182.45 Q2268.04 2182.77 2267.55 2182.77 Q2267.01 2182.77 2266.73 2182.49 Q2266.44 2182.2 2266.44 2181.87 Q2266.44 2181.55 2266.69 2180.93 Q2267.3 2178.27 2267.3 2176.83 Q2267.3 2176.01 2267.22 2175.6 Q2267.18 2175.19 2266.81 2174.62 Q2266.48 2174 2265.74 2173.72 Q2265.01 2173.43 2263.61 2173.22 Q2262.22 2172.98 2260.13 2172.98 L2251.85 2172.98 L2246.11 2195.89 Q2245.7 2197.41 2245.7 2197.82 Q2245.7 2198.27 2245.9 2198.43 Q2246.15 2198.56 2246.81 2198.64 Q2247.54 2198.76 2248.65 2198.76 L2260.91 2198.76 Q2263.61 2198.76 2265.78 2198.51 Q2267.96 2198.27 2269.76 2197.65 Q2271.61 2197.04 2273 2196.34 Q2274.39 2195.65 2275.7 2194.37 Q2277.02 2193.06 2277.92 2191.92 Q2278.86 2190.73 2279.97 2188.72 Q2281.07 2186.71 2281.85 2185.07 Q2282.63 2183.39 2283.82 2180.68 Q2284.15 2179.7 2284.93 2179.7 Q2285.38 2179.7 2285.62 2179.95 Q2285.87 2180.15 2285.91 2180.36 L2285.91 2180.6 Q2285.66 2181.38 2285.5 2181.79 L2277.79 2199.91 Q2277.34 2200.93 2276.97 2201.14 Q2276.61 2201.34 2275.17 2201.34 L2231.6 2201.34 Q2230.62 2201.34 2230.21 2201.3 Q2229.84 2201.26 2229.55 2201.06 Q2229.26 2200.81 2229.26 2200.32 Q2229.26 2199.54 2229.59 2199.21 Q2229.92 2198.84 2230.29 2198.8 Q2230.66 2198.76 2231.6 2198.76 Q2233.65 2198.76 2234.88 2198.64 Q2236.11 2198.51 2236.89 2198.35 Q2237.71 2198.15 2238.12 2197.57 Q2238.57 2197 2238.77 2196.51 Q2238.98 2195.97 2239.26 2194.78 L2250.33 2150.39 Q2250.74 2148.88 2250.74 2148.38 Q2250.74 2147.85 2250.37 2147.52 Q2250.04 2147.2 2249.14 2147.07 Q2248.24 2146.91 2247.5 2146.91 Q2246.81 2146.87 2245.29 2146.87 Q2244.31 2146.87 2243.9 2146.83 Q2243.53 2146.79 2243.24 2146.58 Q2242.95 2146.38 2242.95 2145.93 Q2242.95 2144.78 2243.45 2144.53 Q2243.98 2144.24 2245.45 2144.24 L2287.84 2144.24 Q2289.52 2144.24 2289.89 2144.61 Q2290.3 2144.94 2290.13 2146.54 Z\" fill=\"#000000\" fill-rule=\"nonzero\" fill-opacity=\"1\" /><polyline clip-path=\"url(#clip090)\" style=\"stroke:#000000; stroke-linecap:round; stroke-linejoin:round; stroke-width:4; stroke-opacity:1; fill:none\" points=\"577.033,2009.36 577.033,437.247 \"/>\n",
       "<polyline clip-path=\"url(#clip090)\" style=\"stroke:#000000; stroke-linecap:round; stroke-linejoin:round; stroke-width:4; stroke-opacity:1; fill:none\" points=\"577.033,1809.57 595.931,1809.57 \"/>\n",
       "<polyline clip-path=\"url(#clip090)\" style=\"stroke:#000000; stroke-linecap:round; stroke-linejoin:round; stroke-width:4; stroke-opacity:1; fill:none\" points=\"577.033,1508.27 595.931,1508.27 \"/>\n",
       "<polyline clip-path=\"url(#clip090)\" style=\"stroke:#000000; stroke-linecap:round; stroke-linejoin:round; stroke-width:4; stroke-opacity:1; fill:none\" points=\"577.033,1206.98 595.931,1206.98 \"/>\n",
       "<polyline clip-path=\"url(#clip090)\" style=\"stroke:#000000; stroke-linecap:round; stroke-linejoin:round; stroke-width:4; stroke-opacity:1; fill:none\" points=\"577.033,905.679 595.931,905.679 \"/>\n",
       "<polyline clip-path=\"url(#clip090)\" style=\"stroke:#000000; stroke-linecap:round; stroke-linejoin:round; stroke-width:4; stroke-opacity:1; fill:none\" points=\"577.033,604.382 595.931,604.382 \"/>\n",
       "<path clip-path=\"url(#clip090)\" d=\"M278.232 1810.36 L330.165 1810.36 L330.165 1817.25 L278.232 1817.25 L278.232 1810.36 Z\" fill=\"#000000\" fill-rule=\"nonzero\" fill-opacity=\"1\" /><path clip-path=\"url(#clip090)\" d=\"M365.327 1784.72 Q359.007 1784.72 355.807 1790.96 Q352.648 1797.15 352.648 1809.63 Q352.648 1822.07 355.807 1828.31 Q359.007 1834.5 365.327 1834.5 Q371.687 1834.5 374.847 1828.31 Q378.047 1822.07 378.047 1809.63 Q378.047 1797.15 374.847 1790.96 Q371.687 1784.72 365.327 1784.72 M365.327 1778.24 Q375.495 1778.24 380.842 1786.3 Q386.23 1794.32 386.23 1809.63 Q386.23 1824.9 380.842 1832.96 Q375.495 1840.98 365.327 1840.98 Q355.159 1840.98 349.771 1832.96 Q344.424 1824.9 344.424 1809.63 Q344.424 1794.32 349.771 1786.3 Q355.159 1778.24 365.327 1778.24 Z\" fill=\"#000000\" fill-rule=\"nonzero\" fill-opacity=\"1\" /><path clip-path=\"url(#clip090)\" d=\"M400.61 1829.52 L409.158 1829.52 L409.158 1839.81 L400.61 1839.81 L400.61 1829.52 Z\" fill=\"#000000\" fill-rule=\"nonzero\" fill-opacity=\"1\" /><path clip-path=\"url(#clip090)\" d=\"M444.482 1784.72 Q438.162 1784.72 434.962 1790.96 Q431.802 1797.15 431.802 1809.63 Q431.802 1822.07 434.962 1828.31 Q438.162 1834.5 444.482 1834.5 Q450.841 1834.5 454.001 1828.31 Q457.201 1822.07 457.201 1809.63 Q457.201 1797.15 454.001 1790.96 Q450.841 1784.72 444.482 1784.72 M444.482 1778.24 Q454.649 1778.24 459.997 1786.3 Q465.384 1794.32 465.384 1809.63 Q465.384 1824.9 459.997 1832.96 Q454.649 1840.98 444.482 1840.98 Q434.314 1840.98 428.926 1832.96 Q423.579 1824.9 423.579 1809.63 Q423.579 1794.32 428.926 1786.3 Q434.314 1778.24 444.482 1778.24 Z\" fill=\"#000000\" fill-rule=\"nonzero\" fill-opacity=\"1\" /><path clip-path=\"url(#clip090)\" d=\"M504.556 1807.2 Q510.43 1808.46 513.712 1812.43 Q517.033 1816.4 517.033 1822.23 Q517.033 1831.18 510.876 1836.08 Q504.718 1840.98 493.376 1840.98 Q489.568 1840.98 485.517 1840.22 Q481.507 1839.49 477.213 1837.99 L477.213 1830.09 Q480.616 1832.07 484.667 1833.09 Q488.717 1834.1 493.133 1834.1 Q500.83 1834.1 504.84 1831.06 Q508.891 1828.02 508.891 1822.23 Q508.891 1816.88 505.124 1813.88 Q501.397 1810.85 494.713 1810.85 L487.664 1810.85 L487.664 1804.12 L495.037 1804.12 Q501.073 1804.12 504.273 1801.73 Q507.473 1799.3 507.473 1794.76 Q507.473 1790.11 504.151 1787.63 Q500.87 1785.12 494.713 1785.12 Q491.351 1785.12 487.502 1785.85 Q483.654 1786.58 479.036 1788.12 L479.036 1780.83 Q483.694 1779.53 487.745 1778.88 Q491.837 1778.24 495.442 1778.24 Q504.759 1778.24 510.187 1782.49 Q515.615 1786.7 515.615 1793.91 Q515.615 1798.94 512.739 1802.42 Q509.863 1805.86 504.556 1807.2 Z\" fill=\"#000000\" fill-rule=\"nonzero\" fill-opacity=\"1\" /><path clip-path=\"url(#clip090)\" d=\"M279.893 1509.06 L331.826 1509.06 L331.826 1515.95 L279.893 1515.95 L279.893 1509.06 Z\" fill=\"#000000\" fill-rule=\"nonzero\" fill-opacity=\"1\" /><path clip-path=\"url(#clip090)\" d=\"M366.988 1483.42 Q360.668 1483.42 357.468 1489.66 Q354.308 1495.86 354.308 1508.33 Q354.308 1520.77 357.468 1527.01 Q360.668 1533.21 366.988 1533.21 Q373.348 1533.21 376.507 1527.01 Q379.708 1520.77 379.708 1508.33 Q379.708 1495.86 376.507 1489.66 Q373.348 1483.42 366.988 1483.42 M366.988 1476.94 Q377.156 1476.94 382.503 1485 Q387.89 1493.02 387.89 1508.33 Q387.89 1523.61 382.503 1531.67 Q377.156 1539.69 366.988 1539.69 Q356.82 1539.69 351.432 1531.67 Q346.085 1523.61 346.085 1508.33 Q346.085 1493.02 351.432 1485 Q356.82 1476.94 366.988 1476.94 Z\" fill=\"#000000\" fill-rule=\"nonzero\" fill-opacity=\"1\" /><path clip-path=\"url(#clip090)\" d=\"M402.271 1528.22 L410.819 1528.22 L410.819 1538.51 L402.271 1538.51 L402.271 1528.22 Z\" fill=\"#000000\" fill-rule=\"nonzero\" fill-opacity=\"1\" /><path clip-path=\"url(#clip090)\" d=\"M446.142 1483.42 Q439.823 1483.42 436.623 1489.66 Q433.463 1495.86 433.463 1508.33 Q433.463 1520.77 436.623 1527.01 Q439.823 1533.21 446.142 1533.21 Q452.502 1533.21 455.662 1527.01 Q458.862 1520.77 458.862 1508.33 Q458.862 1495.86 455.662 1489.66 Q452.502 1483.42 446.142 1483.42 M446.142 1476.94 Q456.31 1476.94 461.657 1485 Q467.045 1493.02 467.045 1508.33 Q467.045 1523.61 461.657 1531.67 Q456.31 1539.69 446.142 1539.69 Q435.975 1539.69 430.587 1531.67 Q425.24 1523.61 425.24 1508.33 Q425.24 1493.02 430.587 1485 Q435.975 1476.94 446.142 1476.94 Z\" fill=\"#000000\" fill-rule=\"nonzero\" fill-opacity=\"1\" /><path clip-path=\"url(#clip090)\" d=\"M488.474 1531.63 L517.033 1531.63 L517.033 1538.51 L478.631 1538.51 L478.631 1531.63 Q483.289 1526.81 491.31 1518.7 Q499.371 1510.56 501.437 1508.21 Q505.367 1503.8 506.906 1500.76 Q508.486 1497.68 508.486 1494.72 Q508.486 1489.9 505.083 1486.86 Q501.721 1483.83 496.293 1483.83 Q492.444 1483.83 488.15 1485.16 Q483.897 1486.5 479.036 1489.21 L479.036 1480.95 Q483.978 1478.96 488.272 1477.95 Q492.566 1476.94 496.131 1476.94 Q505.529 1476.94 511.119 1481.64 Q516.709 1486.34 516.709 1494.2 Q516.709 1497.92 515.291 1501.29 Q513.914 1504.61 510.228 1509.14 Q509.215 1510.32 503.787 1515.95 Q498.359 1521.54 488.474 1531.63 Z\" fill=\"#000000\" fill-rule=\"nonzero\" fill-opacity=\"1\" /><path clip-path=\"url(#clip090)\" d=\"M279.245 1207.77 L331.178 1207.77 L331.178 1214.65 L279.245 1214.65 L279.245 1207.77 Z\" fill=\"#000000\" fill-rule=\"nonzero\" fill-opacity=\"1\" /><path clip-path=\"url(#clip090)\" d=\"M366.34 1182.12 Q360.02 1182.12 356.82 1188.36 Q353.66 1194.56 353.66 1207.04 Q353.66 1219.47 356.82 1225.71 Q360.02 1231.91 366.34 1231.91 Q372.7 1231.91 375.859 1225.71 Q379.059 1219.47 379.059 1207.04 Q379.059 1194.56 375.859 1188.36 Q372.7 1182.12 366.34 1182.12 M366.34 1175.64 Q376.507 1175.64 381.855 1183.7 Q387.242 1191.72 387.242 1207.04 Q387.242 1222.31 381.855 1230.37 Q376.507 1238.39 366.34 1238.39 Q356.172 1238.39 350.784 1230.37 Q345.437 1222.31 345.437 1207.04 Q345.437 1191.72 350.784 1183.7 Q356.172 1175.64 366.34 1175.64 Z\" fill=\"#000000\" fill-rule=\"nonzero\" fill-opacity=\"1\" /><path clip-path=\"url(#clip090)\" d=\"M401.623 1226.93 L410.17 1226.93 L410.17 1237.22 L401.623 1237.22 L401.623 1226.93 Z\" fill=\"#000000\" fill-rule=\"nonzero\" fill-opacity=\"1\" /><path clip-path=\"url(#clip090)\" d=\"M445.494 1182.12 Q439.175 1182.12 435.975 1188.36 Q432.815 1194.56 432.815 1207.04 Q432.815 1219.47 435.975 1225.71 Q439.175 1231.91 445.494 1231.91 Q451.854 1231.91 455.014 1225.71 Q458.214 1219.47 458.214 1207.04 Q458.214 1194.56 455.014 1188.36 Q451.854 1182.12 445.494 1182.12 M445.494 1175.64 Q455.662 1175.64 461.009 1183.7 Q466.397 1191.72 466.397 1207.04 Q466.397 1222.31 461.009 1230.37 Q455.662 1238.39 445.494 1238.39 Q435.327 1238.39 429.939 1230.37 Q424.592 1222.31 424.592 1207.04 Q424.592 1191.72 429.939 1183.7 Q435.327 1175.64 445.494 1175.64 Z\" fill=\"#000000\" fill-rule=\"nonzero\" fill-opacity=\"1\" /><path clip-path=\"url(#clip090)\" d=\"M482.195 1230.33 L495.563 1230.33 L495.563 1184.19 L481.021 1187.11 L481.021 1179.65 L495.482 1176.74 L503.665 1176.74 L503.665 1230.33 L517.033 1230.33 L517.033 1237.22 L482.195 1237.22 L482.195 1230.33 Z\" fill=\"#000000\" fill-rule=\"nonzero\" fill-opacity=\"1\" /><path clip-path=\"url(#clip090)\" d=\"M364.193 880.826 Q357.873 880.826 354.673 887.065 Q351.513 893.263 351.513 905.739 Q351.513 918.176 354.673 924.414 Q357.873 930.612 364.193 930.612 Q370.553 930.612 373.712 924.414 Q376.912 918.176 376.912 905.739 Q376.912 893.263 373.712 887.065 Q370.553 880.826 364.193 880.826 M364.193 874.345 Q374.36 874.345 379.708 882.406 Q385.095 890.427 385.095 905.739 Q385.095 921.011 379.708 929.073 Q374.36 937.093 364.193 937.093 Q354.025 937.093 348.637 929.073 Q343.29 921.011 343.29 905.739 Q343.29 890.427 348.637 882.406 Q354.025 874.345 364.193 874.345 Z\" fill=\"#000000\" fill-rule=\"nonzero\" fill-opacity=\"1\" /><path clip-path=\"url(#clip090)\" d=\"M399.476 925.629 L408.023 925.629 L408.023 935.919 L399.476 935.919 L399.476 925.629 Z\" fill=\"#000000\" fill-rule=\"nonzero\" fill-opacity=\"1\" /><path clip-path=\"url(#clip090)\" d=\"M443.347 880.826 Q437.028 880.826 433.828 887.065 Q430.668 893.263 430.668 905.739 Q430.668 918.176 433.828 924.414 Q437.028 930.612 443.347 930.612 Q449.707 930.612 452.867 924.414 Q456.067 918.176 456.067 905.739 Q456.067 893.263 452.867 887.065 Q449.707 880.826 443.347 880.826 M443.347 874.345 Q453.515 874.345 458.862 882.406 Q464.25 890.427 464.25 905.739 Q464.25 921.011 458.862 929.073 Q453.515 937.093 443.347 937.093 Q433.18 937.093 427.792 929.073 Q422.445 921.011 422.445 905.739 Q422.445 890.427 427.792 882.406 Q433.18 874.345 443.347 874.345 Z\" fill=\"#000000\" fill-rule=\"nonzero\" fill-opacity=\"1\" /><path clip-path=\"url(#clip090)\" d=\"M496.131 880.826 Q489.811 880.826 486.611 887.065 Q483.451 893.263 483.451 905.739 Q483.451 918.176 486.611 924.414 Q489.811 930.612 496.131 930.612 Q502.49 930.612 505.65 924.414 Q508.85 918.176 508.85 905.739 Q508.85 893.263 505.65 887.065 Q502.49 880.826 496.131 880.826 M496.131 874.345 Q506.298 874.345 511.646 882.406 Q517.033 890.427 517.033 905.739 Q517.033 921.011 511.646 929.073 Q506.298 937.093 496.131 937.093 Q485.963 937.093 480.575 929.073 Q475.228 921.011 475.228 905.739 Q475.228 890.427 480.575 882.406 Q485.963 874.345 496.131 874.345 Z\" fill=\"#000000\" fill-rule=\"nonzero\" fill-opacity=\"1\" /><path clip-path=\"url(#clip090)\" d=\"M366.34 579.529 Q360.02 579.529 356.82 585.768 Q353.66 591.966 353.66 604.442 Q353.66 616.879 356.82 623.117 Q360.02 629.315 366.34 629.315 Q372.7 629.315 375.859 623.117 Q379.059 616.879 379.059 604.442 Q379.059 591.966 375.859 585.768 Q372.7 579.529 366.34 579.529 M366.34 573.048 Q376.507 573.048 381.855 581.109 Q387.242 589.13 387.242 604.442 Q387.242 619.714 381.855 627.776 Q376.507 635.796 366.34 635.796 Q356.172 635.796 350.784 627.776 Q345.437 619.714 345.437 604.442 Q345.437 589.13 350.784 581.109 Q356.172 573.048 366.34 573.048 Z\" fill=\"#000000\" fill-rule=\"nonzero\" fill-opacity=\"1\" /><path clip-path=\"url(#clip090)\" d=\"M401.623 624.332 L410.17 624.332 L410.17 634.622 L401.623 634.622 L401.623 624.332 Z\" fill=\"#000000\" fill-rule=\"nonzero\" fill-opacity=\"1\" /><path clip-path=\"url(#clip090)\" d=\"M445.494 579.529 Q439.175 579.529 435.975 585.768 Q432.815 591.966 432.815 604.442 Q432.815 616.879 435.975 623.117 Q439.175 629.315 445.494 629.315 Q451.854 629.315 455.014 623.117 Q458.214 616.879 458.214 604.442 Q458.214 591.966 455.014 585.768 Q451.854 579.529 445.494 579.529 M445.494 573.048 Q455.662 573.048 461.009 581.109 Q466.397 589.13 466.397 604.442 Q466.397 619.714 461.009 627.776 Q455.662 635.796 445.494 635.796 Q435.327 635.796 429.939 627.776 Q424.592 619.714 424.592 604.442 Q424.592 589.13 429.939 581.109 Q435.327 573.048 445.494 573.048 Z\" fill=\"#000000\" fill-rule=\"nonzero\" fill-opacity=\"1\" /><path clip-path=\"url(#clip090)\" d=\"M482.195 627.735 L495.563 627.735 L495.563 581.595 L481.021 584.512 L481.021 577.058 L495.482 574.142 L503.665 574.142 L503.665 627.735 L517.033 627.735 L517.033 634.622 L482.195 634.622 L482.195 627.735 Z\" fill=\"#000000\" fill-rule=\"nonzero\" fill-opacity=\"1\" /><path clip-path=\"url(#clip090)\" d=\"M105.912 1799.11 L105.912 1787.42 L182.475 1787.42 L182.475 1745.35 L192.312 1745.35 L192.312 1799.11 L105.912 1799.11 Z\" fill=\"#000000\" fill-rule=\"nonzero\" fill-opacity=\"1\" /><path clip-path=\"url(#clip090)\" d=\"M198.331 1717.46 Q209.905 1721.97 213.435 1726.25 Q216.965 1730.54 216.965 1737.71 L216.965 1746.22 L208.053 1746.22 L208.053 1739.97 Q208.053 1735.57 205.97 1733.14 Q203.886 1730.71 196.132 1727.76 L191.271 1725.85 L127.498 1752.06 L127.498 1740.78 L178.192 1720.53 L127.498 1700.27 L127.498 1688.99 L198.331 1717.46 Z\" fill=\"#000000\" fill-rule=\"nonzero\" fill-opacity=\"1\" /><path clip-path=\"url(#clip090)\" d=\"M159.732 1644.83 Q159.732 1657.74 162.683 1662.71 Q165.634 1667.69 172.752 1667.69 Q178.424 1667.69 181.78 1663.99 Q185.079 1660.22 185.079 1653.8 Q185.079 1644.95 178.829 1639.62 Q172.521 1634.24 162.104 1634.24 L159.732 1634.24 L159.732 1644.83 M155.333 1623.59 L192.312 1623.59 L192.312 1634.24 L182.475 1634.24 Q188.377 1637.89 191.213 1643.33 Q193.991 1648.77 193.991 1656.64 Q193.991 1666.59 188.435 1672.49 Q182.822 1678.34 173.447 1678.34 Q162.509 1678.34 156.954 1671.05 Q151.398 1663.7 151.398 1649.17 L151.398 1634.24 L150.357 1634.24 Q143.007 1634.24 139.014 1639.1 Q134.963 1643.91 134.963 1652.64 Q134.963 1658.2 136.294 1663.47 Q137.625 1668.73 140.287 1673.59 L130.449 1673.59 Q128.192 1667.75 127.093 1662.25 Q125.935 1656.75 125.935 1651.54 Q125.935 1637.48 133.227 1630.54 Q140.519 1623.59 155.333 1623.59 Z\" fill=\"#000000\" fill-rule=\"nonzero\" fill-opacity=\"1\" /><path clip-path=\"url(#clip090)\" d=\"M182.59 1591.36 L216.965 1591.36 L216.965 1602.07 L127.498 1602.07 L127.498 1591.36 L137.336 1591.36 Q131.549 1588 128.771 1582.91 Q125.935 1577.76 125.935 1570.64 Q125.935 1558.84 135.31 1551.49 Q144.685 1544.08 159.963 1544.08 Q175.241 1544.08 184.616 1551.49 Q193.991 1558.84 193.991 1570.64 Q193.991 1577.76 191.213 1582.91 Q188.377 1588 182.59 1591.36 M159.963 1555.13 Q148.215 1555.13 141.56 1559.99 Q134.847 1564.8 134.847 1573.25 Q134.847 1581.7 141.56 1586.56 Q148.215 1591.36 159.963 1591.36 Q171.711 1591.36 178.424 1586.56 Q185.079 1581.7 185.079 1573.25 Q185.079 1564.8 178.424 1559.99 Q171.711 1555.13 159.963 1555.13 Z\" fill=\"#000000\" fill-rule=\"nonzero\" fill-opacity=\"1\" /><path clip-path=\"url(#clip090)\" d=\"M166.734 1527.53 L127.498 1527.53 L127.498 1516.88 L166.329 1516.88 Q175.53 1516.88 180.16 1513.29 Q184.731 1509.7 184.731 1502.53 Q184.731 1493.91 179.234 1488.93 Q173.736 1483.89 164.245 1483.89 L127.498 1483.89 L127.498 1473.25 L192.312 1473.25 L192.312 1483.89 L182.359 1483.89 Q188.262 1487.77 191.155 1492.92 Q193.991 1498.02 193.991 1504.79 Q193.991 1515.95 187.046 1521.74 Q180.102 1527.53 166.734 1527.53 M125.935 1500.73 L125.935 1500.73 Z\" fill=\"#000000\" fill-rule=\"nonzero\" fill-opacity=\"1\" /><path clip-path=\"url(#clip090)\" d=\"M153.192 1397.44 L192.312 1397.44 L192.312 1408.08 L153.54 1408.08 Q144.338 1408.08 139.766 1411.67 Q135.195 1415.26 135.195 1422.44 Q135.195 1431.06 140.692 1436.04 Q146.19 1441.01 155.681 1441.01 L192.312 1441.01 L192.312 1451.72 L127.498 1451.72 L127.498 1441.01 L137.567 1441.01 Q131.722 1437.19 128.829 1432.04 Q125.935 1426.83 125.935 1420.06 Q125.935 1408.9 132.88 1403.17 Q139.766 1397.44 153.192 1397.44 Z\" fill=\"#000000\" fill-rule=\"nonzero\" fill-opacity=\"1\" /><path clip-path=\"url(#clip090)\" d=\"M134.963 1351.08 Q134.963 1359.65 141.676 1364.62 Q148.331 1369.6 159.963 1369.6 Q171.595 1369.6 178.308 1364.68 Q184.963 1359.71 184.963 1351.08 Q184.963 1342.58 178.25 1337.6 Q171.537 1332.62 159.963 1332.62 Q148.447 1332.62 141.734 1337.6 Q134.963 1342.58 134.963 1351.08 M125.935 1351.08 Q125.935 1337.19 134.963 1329.27 Q143.991 1321.34 159.963 1321.34 Q175.877 1321.34 184.963 1329.27 Q193.991 1337.19 193.991 1351.08 Q193.991 1365.03 184.963 1372.96 Q175.877 1380.83 159.963 1380.83 Q143.991 1380.83 134.963 1372.96 Q125.935 1365.03 125.935 1351.08 Z\" fill=\"#000000\" fill-rule=\"nonzero\" fill-opacity=\"1\" /><path clip-path=\"url(#clip090)\" d=\"M127.498 1311.33 L127.498 1300.04 L181.896 1279.79 L127.498 1259.53 L127.498 1248.25 L192.312 1272.55 L192.312 1287.02 L127.498 1311.33 Z\" fill=\"#000000\" fill-rule=\"nonzero\" fill-opacity=\"1\" /><path clip-path=\"url(#clip090)\" d=\"M105.912 1195.41 L105.912 1140.78 L115.75 1140.78 L115.75 1183.72 L141.329 1183.72 L141.329 1142.58 L151.167 1142.58 L151.167 1183.72 L182.475 1183.72 L182.475 1139.74 L192.312 1139.74 L192.312 1195.41 L105.912 1195.41 Z\" fill=\"#000000\" fill-rule=\"nonzero\" fill-opacity=\"1\" /><path clip-path=\"url(#clip090)\" d=\"M127.498 1067.11 L159.037 1090.55 L192.312 1065.9 L192.312 1078.46 L166.85 1097.32 L192.312 1116.19 L192.312 1128.75 L158.401 1103.57 L127.498 1126.6 L127.498 1114.05 L150.588 1096.86 L127.498 1079.67 L127.498 1067.11 Z\" fill=\"#000000\" fill-rule=\"nonzero\" fill-opacity=\"1\" /><path clip-path=\"url(#clip090)\" d=\"M182.59 1040.55 L216.965 1040.55 L216.965 1051.26 L127.498 1051.26 L127.498 1040.55 L137.336 1040.55 Q131.549 1037.2 128.771 1032.1 Q125.935 1026.95 125.935 1019.83 Q125.935 1008.03 135.31 1000.68 Q144.685 993.272 159.963 993.272 Q175.241 993.272 184.616 1000.68 Q193.991 1008.03 193.991 1019.83 Q193.991 1026.95 191.213 1032.1 Q188.377 1037.2 182.59 1040.55 M159.963 1004.33 Q148.215 1004.33 141.56 1009.19 Q134.847 1013.99 134.847 1022.44 Q134.847 1030.89 141.56 1035.75 Q148.215 1040.55 159.963 1040.55 Q171.711 1040.55 178.424 1035.75 Q185.079 1030.89 185.079 1022.44 Q185.079 1013.99 178.424 1009.19 Q171.711 1004.33 159.963 1004.33 Z\" fill=\"#000000\" fill-rule=\"nonzero\" fill-opacity=\"1\" /><path clip-path=\"url(#clip090)\" d=\"M134.963 950.506 Q134.963 959.071 141.676 964.048 Q148.331 969.025 159.963 969.025 Q171.595 969.025 178.308 964.106 Q184.963 959.129 184.963 950.506 Q184.963 941.999 178.25 937.023 Q171.537 932.046 159.963 932.046 Q148.447 932.046 141.734 937.023 Q134.963 941.999 134.963 950.506 M125.935 950.506 Q125.935 936.618 134.963 928.689 Q143.991 920.761 159.963 920.761 Q175.877 920.761 184.963 928.689 Q193.991 936.618 193.991 950.506 Q193.991 964.453 184.963 972.381 Q175.877 980.252 159.963 980.252 Q143.991 980.252 134.963 972.381 Q125.935 964.453 125.935 950.506 Z\" fill=\"#000000\" fill-rule=\"nonzero\" fill-opacity=\"1\" /><path clip-path=\"url(#clip090)\" d=\"M153.192 849.234 L192.312 849.234 L192.312 859.882 L153.54 859.882 Q144.338 859.882 139.766 863.47 Q135.195 867.058 135.195 874.234 Q135.195 882.856 140.692 887.833 Q146.19 892.81 155.681 892.81 L192.312 892.81 L192.312 903.516 L127.498 903.516 L127.498 892.81 L137.567 892.81 Q131.722 888.991 128.829 883.84 Q125.935 878.632 125.935 871.861 Q125.935 860.692 132.88 854.963 Q139.766 849.234 153.192 849.234 Z\" fill=\"#000000\" fill-rule=\"nonzero\" fill-opacity=\"1\" /><path clip-path=\"url(#clip090)\" d=\"M157.243 772.556 L162.451 772.556 L162.451 821.514 Q173.447 820.82 179.234 814.917 Q184.963 808.956 184.963 798.366 Q184.963 792.232 183.458 786.503 Q181.954 780.716 178.944 775.044 L189.014 775.044 Q191.444 780.774 192.718 786.792 Q193.991 792.81 193.991 799.003 Q193.991 814.512 184.963 823.597 Q175.935 832.625 160.542 832.625 Q144.628 832.625 135.31 824.06 Q125.935 815.438 125.935 800.854 Q125.935 787.776 134.385 780.195 Q142.776 772.556 157.243 772.556 M154.118 783.204 Q145.38 783.32 140.172 788.123 Q134.963 792.868 134.963 800.739 Q134.963 809.651 139.998 815.033 Q145.033 820.357 154.176 821.167 L154.118 783.204 Z\" fill=\"#000000\" fill-rule=\"nonzero\" fill-opacity=\"1\" /><path clip-path=\"url(#clip090)\" d=\"M153.192 701.202 L192.312 701.202 L192.312 711.85 L153.54 711.85 Q144.338 711.85 139.766 715.438 Q135.195 719.026 135.195 726.202 Q135.195 734.825 140.692 739.801 Q146.19 744.778 155.681 744.778 L192.312 744.778 L192.312 755.484 L127.498 755.484 L127.498 744.778 L137.567 744.778 Q131.722 740.959 128.829 735.808 Q125.935 730.6 125.935 723.829 Q125.935 712.66 132.88 706.931 Q139.766 701.202 153.192 701.202 Z\" fill=\"#000000\" fill-rule=\"nonzero\" fill-opacity=\"1\" /><path clip-path=\"url(#clip090)\" d=\"M109.095 669.432 L127.498 669.432 L127.498 647.499 L135.773 647.499 L135.773 669.432 L170.958 669.432 Q178.887 669.432 181.144 667.29 Q183.4 665.091 183.4 658.436 L183.4 647.499 L192.312 647.499 L192.312 658.436 Q192.312 670.763 187.741 675.45 Q183.111 680.137 170.958 680.137 L135.773 680.137 L135.773 687.95 L127.498 687.95 L127.498 680.137 L109.095 680.137 L109.095 669.432 Z\" fill=\"#000000\" fill-rule=\"nonzero\" fill-opacity=\"1\" /><path clip-path=\"url(#clip090)\" d=\"M2119.56 55.883 Q2119.56 57.1127 2118.51 58.1081 Q2117.51 59.1036 2116.28 59.1036 Q2115.58 59.1036 2113.88 57.9324 Q2109.02 54.5362 2102.87 54.5362 Q2097.37 54.5362 2092.27 55.883 Q2087.18 57.2298 2083.72 59.9819 Q2080.33 62.6755 2080.33 66.1888 Q2080.33 70.5806 2085.13 73.157 Q2090.11 70.8733 2096.26 70.8733 Q2098.25 70.8733 2099.59 70.9904 Q2101 71.1076 2102.35 71.4003 Q2103.69 71.6931 2104.34 72.3958 Q2105.04 73.0399 2105.04 74.0939 Q2105.04 77.8415 2095.32 77.8415 Q2088.99 77.8415 2085.01 76.1434 Q2079.92 78.6613 2077.11 82.7017 Q2074.3 86.742 2074.3 90.1969 Q2074.3 93.1832 2075.94 95.3498 Q2077.63 97.5164 2080.39 98.5704 Q2083.2 99.6244 2085.95 100.093 Q2088.76 100.503 2091.86 100.503 Q2096.96 100.503 2100.53 99.8586 Q2104.16 99.1559 2106.15 97.8677 Q2108.2 96.5795 2109.02 95.7011 Q2109.9 94.7642 2110.78 93.3003 Q2111.3 92.4805 2112.01 92.4805 Q2112.53 92.4805 2112.89 92.8319 Q2113.3 93.1247 2113.3 93.6517 Q2113.3 94.2958 2112.48 95.6426 Q2111.71 96.9894 2109.84 98.8046 Q2108.03 100.561 2105.51 102.201 Q2103.05 103.782 2099.12 104.894 Q2095.2 106.007 2090.75 106.007 Q2081.68 106.007 2076.41 101.557 Q2071.19 97.1065 2071.19 90.8995 Q2071.19 86.5664 2074.06 82.1161 Q2076.99 77.6073 2082.14 74.738 Q2077.34 71.1661 2077.34 66.1888 Q2077.34 61.7386 2081.09 57.7568 Q2084.9 53.775 2091.04 51.4327 Q2097.25 49.0319 2104.04 49.0319 Q2107.85 49.0319 2111.6 50.3201 Q2115.34 51.5498 2117.45 53.1308 Q2119.56 54.7119 2119.56 55.883 M2101.94 74.211 Q2099.36 73.5084 2096.26 73.5084 Q2092.04 73.5084 2088.94 74.5624 Q2091.45 75.2065 2095.32 75.2065 Q2098.54 75.2065 2099.48 75.0308 Q2100.47 74.8552 2101.94 74.211 Z\" fill=\"#000000\" fill-rule=\"nonzero\" fill-opacity=\"1\" /><path clip-path=\"url(#clip090)\" d=\"M2159.79 85.161 Q2159.91 83.6971 2162.19 83.6971 L2235.68 83.6971 Q2239.13 83.6971 2239.19 85.0439 Q2239.19 86.5078 2235.91 86.4493 L2163.01 86.4493 Q2159.79 86.5078 2159.79 85.161 M2159.79 61.7386 Q2159.79 60.2747 2162.31 60.3332 L2235.56 60.3332 Q2239.13 60.3332 2239.19 61.7386 Q2239.19 63.0854 2236.15 63.0854 L2162.19 63.0854 Q2159.79 63.0854 2159.79 61.7386 Z\" fill=\"#000000\" fill-rule=\"nonzero\" fill-opacity=\"1\" /><path clip-path=\"url(#clip090)\" d=\"M2291 101.578 L2291 90.9299 Q2295.4 93.0132 2299.92 94.1128 Q2304.43 95.2123 2308.77 95.2123 Q2320.34 95.2123 2326.42 87.4577 Q2332.55 79.6453 2333.42 63.7889 Q2330.07 68.7657 2324.92 71.4277 Q2319.77 74.0897 2313.52 74.0897 Q2300.55 74.0897 2292.97 66.2773 Q2285.45 58.4069 2285.45 44.8075 Q2285.45 31.4974 2293.32 23.4534 Q2301.19 15.4095 2314.27 15.4095 Q2329.26 15.4095 2337.13 26.9256 Q2345.05 38.3839 2345.05 60.2588 Q2345.05 80.6869 2335.33 92.8975 Q2325.67 105.05 2309.29 105.05 Q2304.89 105.05 2300.38 104.182 Q2295.86 103.314 2291 101.578 M2314.27 64.9463 Q2322.14 64.9463 2326.71 59.5643 Q2331.34 54.1824 2331.34 44.8075 Q2331.34 35.4904 2326.71 30.1085 Q2322.14 24.6687 2314.27 24.6687 Q2306.4 24.6687 2301.77 30.1085 Q2297.2 35.4904 2297.2 44.8075 Q2297.2 54.1824 2301.77 59.5643 Q2306.4 64.9463 2314.27 64.9463 Z\" fill=\"#000000\" fill-rule=\"nonzero\" fill-opacity=\"1\" /><path clip-path=\"url(#clip090)\" d=\"M2366.06 88.673 L2378.27 88.673 L2378.27 103.372 L2366.06 103.372 L2366.06 88.673 Z\" fill=\"#000000\" fill-rule=\"nonzero\" fill-opacity=\"1\" /><path clip-path=\"url(#clip090)\" d=\"M2428.73 24.6687 Q2419.71 24.6687 2415.14 33.5807 Q2410.62 42.4348 2410.62 60.2588 Q2410.62 78.0249 2415.14 86.9369 Q2419.71 95.791 2428.73 95.791 Q2437.82 95.791 2442.33 86.9369 Q2446.91 78.0249 2446.91 60.2588 Q2446.91 42.4348 2442.33 33.5807 Q2437.82 24.6687 2428.73 24.6687 M2428.73 15.4095 Q2443.26 15.4095 2450.9 26.9256 Q2458.6 38.3839 2458.6 60.2588 Q2458.6 82.0758 2450.9 93.5919 Q2443.26 105.05 2428.73 105.05 Q2414.21 105.05 2406.51 93.5919 Q2398.87 82.0758 2398.87 60.2588 Q2398.87 38.3839 2406.51 26.9256 Q2414.21 15.4095 2428.73 15.4095 Z\" fill=\"#000000\" fill-rule=\"nonzero\" fill-opacity=\"1\" /><polyline clip-path=\"url(#clip092)\" style=\"stroke:#009af9; stroke-linecap:round; stroke-linejoin:round; stroke-width:4; stroke-opacity:1; fill:none\" points=\"672.573,917.743 712.381,929.659 752.189,907.919 791.997,892.589 831.805,904.031 871.613,905.336 911.421,908.033 951.229,903.651 991.037,910.361 1030.85,896.913 1070.65,889.248 1110.46,920.544 1150.27,889.936 1190.08,908.279 1229.89,866.709 1269.69,780.088 1309.5,715.89 1349.31,624.394 1389.12,563.653 1428.93,564.092 1468.73,515.503 1508.54,503.679 1548.35,542.437 1588.16,512.263 1627.97,514.581 1667.77,481.741 1707.58,483.658 1747.39,501.735 1787.2,513.155 1827.01,513.711 1866.81,515.399 1906.62,505.309 1946.43,484.347 1986.24,491.822 2026.05,526.266 2065.85,512.337 2105.66,530.027 2145.47,547.955 2185.28,520.683 2225.09,547.885 2264.89,506.073 2304.7,527.989 2344.51,551.73 2384.32,543.121 2424.13,558.088 2463.93,546.9 2503.74,549.398 2543.55,571.849 2583.36,557.333 2623.17,550.163 2662.98,549.405 2702.78,545.761 2742.59,578.124 2782.4,565.56 2822.21,582.487 2862.02,571.757 2901.82,576.914 2941.63,587.712 2981.44,559.421 3021.25,587.76 3061.06,590.154 3100.86,575.55 3140.67,589.653 3180.48,580.807 3220.29,612.964 3260.1,613.424 3299.9,621.016 3339.71,599.22 3379.52,594.862 3419.33,607.584 3459.14,597.752 3498.94,600.51 3538.75,630.473 3578.56,627.139 3618.37,621.958 3658.18,640.71 3697.98,637.69 3737.79,625.287 3777.6,642.538 3817.41,636.608 3857.22,642.175 \"/>\n",
       "<polyline clip-path=\"url(#clip092)\" style=\"stroke:#e26f46; stroke-linecap:round; stroke-linejoin:round; stroke-width:4; stroke-opacity:1; fill:none\" points=\"672.573,1957.96 712.381,1902.62 752.189,1821.76 791.997,1737.07 831.805,1656.45 871.613,1579.8 911.421,1499.12 951.229,1425.17 991.037,1341.91 1030.85,1255.8 1070.65,1166.1 1110.46,1108.92 1150.27,1004.95 1190.08,936.704 1229.89,863.822 1269.69,782.659 1309.5,722.085 1349.31,643.841 1389.12,574.781 1428.93,581.529 1468.73,527.483 1508.54,521.78 1548.35,561.278 1588.16,556.072 1627.97,531.937 1667.77,490.686 1707.58,492.657 1747.39,514.975 1787.2,517.365 1827.01,513.915 1866.81,529.057 1906.62,530.207 1946.43,506.958 1986.24,510.072 2026.05,539.065 2065.85,532.001 2105.66,540.422 2145.47,537.53 2185.28,530.372 2225.09,565.518 2264.89,545.417 2304.7,542.516 2344.51,544.634 2384.32,561.846 2424.13,563.603 2463.93,569.18 2503.74,577.553 2543.55,591.814 2583.36,566.482 2623.17,577.404 2662.98,560.895 2702.78,569.843 2742.59,589.892 2782.4,574.958 2822.21,586.504 2862.02,600.059 2901.82,591.456 2941.63,589.745 2981.44,568.647 3021.25,589.797 3061.06,607.929 3100.86,603.007 3140.67,594.938 3180.48,587.617 3220.29,606.267 3260.1,617.441 3299.9,621.657 3339.71,606.768 3379.52,611.89 3419.33,618.496 3459.14,611.23 3498.94,617.877 3538.75,637.104 3578.56,631.03 3618.37,623.06 3658.18,619.354 3697.98,643.292 3737.79,625.395 3777.6,650.202 3817.41,645.029 3857.22,638.908 \"/>\n",
       "<polyline clip-path=\"url(#clip092)\" style=\"stroke:#3da44d; stroke-linecap:round; stroke-linejoin:round; stroke-width:4; stroke-opacity:1; fill:none\" points=\"672.573,1961.42 712.381,1905.68 752.189,1824.1 791.997,1738.18 831.805,1658.25 871.613,1580.85 911.421,1498.9 951.229,1421.8 991.037,1342.75 1030.85,1254.63 1070.65,1165.71 1110.46,1109.46 1150.27,1007.47 1190.08,937.839 1229.89,865.876 1269.69,781.458 1309.5,719.086 1349.31,643.506 1389.12,572.771 1428.93,575.191 1468.73,543.346 1508.54,541.813 1548.35,562.931 1588.16,551.087 1627.97,550.188 1667.77,501.949 1707.58,522.866 1747.39,543.752 1787.2,534.84 1827.01,545.56 1866.81,525.752 1906.62,530.57 1946.43,537.173 1986.24,529.485 2026.05,546.522 2065.85,533.795 2105.66,515.988 2145.47,555.418 2185.28,544.216 2225.09,580.187 2264.89,568.813 2304.7,566.003 2344.51,558.468 2384.32,577.769 2424.13,582.065 2463.93,588.999 2503.74,575.341 2543.55,585.163 2583.36,592.73 2623.17,587.212 2662.98,580.743 2702.78,604.643 2742.59,592.978 2782.4,597.263 2822.21,606.213 2862.02,597.522 2901.82,593.714 2941.63,607.488 2981.44,597.635 3021.25,615.102 3061.06,628.848 3100.86,600.424 3140.67,606.39 3180.48,611.442 3220.29,600.695 3260.1,633.684 3299.9,641.288 3339.71,606.682 3379.52,637.63 3419.33,623.579 3459.14,632.365 3498.94,616.945 3538.75,648.752 3578.56,647.103 3618.37,644.232 3658.18,660.227 3697.98,662.514 3737.79,648.913 3777.6,666.53 3817.41,665.661 3857.22,658.916 \"/>\n",
       "<polyline clip-path=\"url(#clip092)\" style=\"stroke:#c271d2; stroke-linecap:round; stroke-linejoin:round; stroke-width:4; stroke-opacity:1; fill:none\" points=\"672.573,1959.16 712.381,1903.38 752.189,1821.22 791.997,1735.7 831.805,1654.98 871.613,1582.05 911.421,1499.75 951.229,1424.51 991.037,1343.3 1030.85,1255.77 1070.65,1168.11 1110.46,1111.24 1150.27,1006.36 1190.08,941.301 1229.89,867.688 1269.69,782.958 1309.5,719.003 1349.31,641.691 1389.12,586.601 1428.93,580.136 1468.73,558.032 1508.54,545.205 1548.35,578.995 1588.16,566.387 1627.97,528.503 1667.77,526.537 1707.58,517.474 1747.39,547.128 1787.2,545.868 1827.01,552.533 1866.81,546.157 1906.62,542.825 1946.43,531.118 1986.24,528.687 2026.05,543.073 2065.85,537.885 2105.66,546.601 2145.47,562.073 2185.28,562.771 2225.09,573.999 2264.89,565.863 2304.7,556.516 2344.51,584.798 2384.32,593.794 2424.13,581.297 2463.93,594.759 2503.74,594.662 2543.55,608.624 2583.36,591.77 2623.17,595.166 2662.98,588.059 2702.78,594.798 2742.59,593.934 2782.4,603.858 2822.21,611.694 2862.02,618.971 2901.82,595.357 2941.63,607.343 2981.44,609.155 3021.25,614.415 3061.06,635.458 3100.86,617.696 3140.67,621.1 3180.48,615.49 3220.29,631.335 3260.1,629.108 3299.9,649.04 3339.71,633.78 3379.52,636.753 3419.33,636.943 3459.14,637.116 3498.94,642.662 3538.75,650.533 3578.56,655.516 3618.37,643.143 3658.18,655.539 3697.98,665.256 3737.79,658.588 3777.6,664.635 3817.41,659.239 3857.22,653.267 \"/>\n",
       "<polyline clip-path=\"url(#clip092)\" style=\"stroke:#ac8d18; stroke-linecap:round; stroke-linejoin:round; stroke-width:4; stroke-opacity:1; fill:none\" points=\"672.573,1964.87 712.381,1910.25 752.189,1828.32 791.997,1742.65 831.805,1662.89 871.613,1585.03 911.421,1502.88 951.229,1430.68 991.037,1350.08 1030.85,1259.02 1070.65,1171.21 1110.46,1114.44 1150.27,1009.49 1190.08,945.503 1229.89,869.115 1269.69,786.251 1309.5,725.236 1349.31,646.872 1389.12,590.052 1428.93,595.395 1468.73,559.377 1508.54,562.514 1548.35,587.967 1588.16,581.968 1627.97,550.902 1667.77,550.506 1707.58,519.818 1747.39,548.482 1787.2,546.569 1827.01,559.373 1866.81,575.473 1906.62,563.925 1946.43,541.375 1986.24,540.581 2026.05,567.828 2065.85,547.81 2105.66,563.135 2145.47,570.831 2185.28,575.383 2225.09,565.942 2264.89,577.145 2304.7,562.993 2344.51,574 2384.32,583.653 2424.13,581.326 2463.93,590.803 2503.74,587.649 2543.55,598.806 2583.36,627.052 2623.17,603.788 2662.98,587.191 2702.78,604.689 2742.59,607.598 2782.4,607.649 2822.21,624.054 2862.02,625.909 2901.82,622.067 2941.63,615.414 2981.44,596.485 3021.25,625.415 3061.06,630.161 3100.86,625.614 3140.67,628.422 3180.48,629.383 3220.29,624.226 3260.1,652.117 3299.9,653.626 3339.71,627.7 3379.52,640.415 3419.33,649.687 3459.14,631.281 3498.94,651.875 3538.75,652.478 3578.56,670.215 3618.37,663.184 3658.18,668.171 3697.98,674.188 3737.79,663.355 3777.6,666.398 3817.41,674.911 3857.22,671.701 \"/>\n",
       "<polyline clip-path=\"url(#clip092)\" style=\"stroke:#00a9ad; stroke-linecap:round; stroke-linejoin:round; stroke-width:4; stroke-opacity:1; fill:none\" points=\"672.573,1960.01 712.381,1903.43 752.189,1820.17 791.997,1735.72 831.805,1654.58 871.613,1578.88 911.421,1495.5 951.229,1426.21 991.037,1341.96 1030.85,1253.61 1070.65,1167.63 1110.46,1110.34 1150.27,1004.83 1190.08,941.246 1229.89,871.732 1269.69,785.889 1309.5,723.423 1349.31,652.591 1389.12,584.901 1428.93,597.716 1468.73,563.43 1508.54,560.435 1548.35,590.432 1588.16,581.689 1627.97,562.865 1667.77,551.033 1707.58,548.574 1747.39,562.572 1787.2,570.699 1827.01,579.286 1866.81,583.597 1906.62,563.224 1946.43,558.146 1986.24,546.431 2026.05,581.384 2065.85,570.485 2105.66,564.708 2145.47,592.464 2185.28,589.003 2225.09,600.466 2264.89,589.977 2304.7,580.957 2344.51,578.056 2384.32,592.508 2424.13,606.703 2463.93,598.779 2503.74,605 2543.55,616.087 2583.36,618.562 2623.17,596.851 2662.98,590.905 2702.78,611.046 2742.59,606.139 2782.4,616.691 2822.21,620.14 2862.02,632.87 2901.82,607.106 2941.63,611.634 2981.44,614.184 3021.25,621.614 3061.06,633.003 3100.86,622.09 3140.67,621.688 3180.48,631.233 3220.29,632.446 3260.1,635.201 3299.9,649.085 3339.71,638.348 3379.52,639.043 3419.33,624.365 3459.14,642.476 3498.94,652.802 3538.75,649.977 3578.56,660.401 3618.37,659.349 3658.18,657.594 3697.98,663.009 3737.79,646.936 3777.6,685.348 3817.41,669.461 3857.22,665.832 \"/>\n",
       "<path clip-path=\"url(#clip090)\" d=\"M1608.5 379.684 L2921.29 379.684 L2921.29 282.484 L1608.5 282.484  Z\" fill=\"#ffffff\" fill-rule=\"evenodd\" fill-opacity=\"1\"/>\n",
       "<polyline clip-path=\"url(#clip090)\" style=\"stroke:#000000; stroke-linecap:round; stroke-linejoin:round; stroke-width:4; stroke-opacity:1; fill:none\" points=\"1608.5,379.684 2921.29,379.684 2921.29,282.484 1608.5,282.484 1608.5,379.684 \"/>\n",
       "<polyline clip-path=\"url(#clip090)\" style=\"stroke:#009af9; stroke-linecap:round; stroke-linejoin:round; stroke-width:2.5; stroke-opacity:1; fill:none\" points=\"1646.01,314.884 1871.06,314.884 \"/>\n",
       "<path clip-path=\"url(#clip090)\" d=\"M1908.57 304.084 L1911.49 304.084 L1911.49 323.225 L1922.01 323.225 L1922.01 325.684 L1908.57 325.684 L1908.57 304.084 Z\" fill=\"#000000\" fill-rule=\"nonzero\" fill-opacity=\"1\" /><path clip-path=\"url(#clip090)\" d=\"M1928.98 327.189 Q1927.85 330.083 1926.78 330.965 Q1925.71 331.848 1923.92 331.848 L1921.79 331.848 L1921.79 329.62 L1923.35 329.62 Q1924.45 329.62 1925.06 329.099 Q1925.67 328.578 1926.4 326.639 L1926.88 325.424 L1920.33 309.481 L1923.15 309.481 L1928.21 322.154 L1933.28 309.481 L1936.1 309.481 L1928.98 327.189 Z\" fill=\"#000000\" fill-rule=\"nonzero\" fill-opacity=\"1\" /><path clip-path=\"url(#clip090)\" d=\"M1947.14 317.539 Q1943.91 317.539 1942.67 318.277 Q1941.42 319.015 1941.42 320.794 Q1941.42 322.212 1942.35 323.051 Q1943.29 323.876 1944.89 323.876 Q1947.11 323.876 1948.44 322.313 Q1949.78 320.737 1949.78 318.132 L1949.78 317.539 L1947.14 317.539 M1952.45 316.44 L1952.45 325.684 L1949.78 325.684 L1949.78 323.225 Q1948.87 324.701 1947.51 325.41 Q1946.15 326.104 1944.19 326.104 Q1941.7 326.104 1940.22 324.715 Q1938.76 323.312 1938.76 320.968 Q1938.76 318.234 1940.58 316.845 Q1942.42 315.456 1946.05 315.456 L1949.78 315.456 L1949.78 315.195 Q1949.78 313.358 1948.57 312.36 Q1947.37 311.347 1945.18 311.347 Q1943.79 311.347 1942.48 311.68 Q1941.16 312.013 1939.95 312.678 L1939.95 310.219 Q1941.41 309.654 1942.78 309.38 Q1944.16 309.09 1945.46 309.09 Q1948.97 309.09 1950.71 310.913 Q1952.45 312.736 1952.45 316.44 Z\" fill=\"#000000\" fill-rule=\"nonzero\" fill-opacity=\"1\" /><path clip-path=\"url(#clip090)\" d=\"M1960.5 323.254 L1960.5 331.848 L1957.83 331.848 L1957.83 309.481 L1960.5 309.481 L1960.5 311.94 Q1961.34 310.494 1962.62 309.799 Q1963.9 309.09 1965.68 309.09 Q1968.64 309.09 1970.47 311.434 Q1972.32 313.778 1972.32 317.597 Q1972.32 321.416 1970.47 323.76 Q1968.64 326.104 1965.68 326.104 Q1963.9 326.104 1962.62 325.41 Q1961.34 324.701 1960.5 323.254 M1969.56 317.597 Q1969.56 314.66 1968.35 312.996 Q1967.15 311.318 1965.03 311.318 Q1962.92 311.318 1961.71 312.996 Q1960.5 314.66 1960.5 317.597 Q1960.5 320.534 1961.71 322.212 Q1962.92 323.876 1965.03 323.876 Q1967.15 323.876 1968.35 322.212 Q1969.56 320.534 1969.56 317.597 Z\" fill=\"#000000\" fill-rule=\"nonzero\" fill-opacity=\"1\" /><path clip-path=\"url(#clip090)\" d=\"M1989.05 330.603 L1989.05 332.672 L1973.66 332.672 L1973.66 330.603 L1989.05 330.603 Z\" fill=\"#000000\" fill-rule=\"nonzero\" fill-opacity=\"1\" /><path clip-path=\"url(#clip090)\" d=\"M2005.41 316.917 L2005.41 318.219 L1993.17 318.219 Q1993.35 320.968 1994.82 322.415 Q1996.31 323.847 1998.96 323.847 Q2000.49 323.847 2001.92 323.471 Q2003.37 323.095 2004.79 322.342 L2004.79 324.86 Q2003.36 325.467 2001.85 325.786 Q2000.35 326.104 1998.8 326.104 Q1994.92 326.104 1992.65 323.847 Q1990.39 321.59 1990.39 317.742 Q1990.39 313.763 1992.54 311.434 Q1994.69 309.09 1998.34 309.09 Q2001.61 309.09 2003.5 311.202 Q2005.41 313.3 2005.41 316.917 M2002.75 316.136 Q2002.72 313.951 2001.52 312.649 Q2000.33 311.347 1998.37 311.347 Q1996.14 311.347 1994.79 312.606 Q1993.46 313.864 1993.26 316.15 L2002.75 316.136 Z\" fill=\"#000000\" fill-rule=\"nonzero\" fill-opacity=\"1\" /><path clip-path=\"url(#clip090)\" d=\"M2020.08 323.225 L2024.86 323.225 L2024.86 306.746 L2019.66 307.788 L2019.66 305.126 L2024.83 304.084 L2027.75 304.084 L2027.75 323.225 L2032.52 323.225 L2032.52 325.684 L2020.08 325.684 L2020.08 323.225 Z\" fill=\"#000000\" fill-rule=\"nonzero\" fill-opacity=\"1\" /><polyline clip-path=\"url(#clip090)\" style=\"stroke:#e26f46; stroke-linecap:round; stroke-linejoin:round; stroke-width:2.5; stroke-opacity:1; fill:none\" points=\"2071.1,314.884 2296.15,314.884 \"/>\n",
       "<path clip-path=\"url(#clip090)\" d=\"M2333.66 304.084 L2336.58 304.084 L2336.58 323.225 L2347.1 323.225 L2347.1 325.684 L2333.66 325.684 L2333.66 304.084 Z\" fill=\"#000000\" fill-rule=\"nonzero\" fill-opacity=\"1\" /><path clip-path=\"url(#clip090)\" d=\"M2354.07 327.189 Q2352.94 330.083 2351.87 330.965 Q2350.8 331.848 2349.01 331.848 L2346.88 331.848 L2346.88 329.62 L2348.44 329.62 Q2349.54 329.62 2350.15 329.099 Q2350.76 328.578 2351.5 326.639 L2351.97 325.424 L2345.42 309.481 L2348.24 309.481 L2353.31 322.154 L2358.37 309.481 L2361.19 309.481 L2354.07 327.189 Z\" fill=\"#000000\" fill-rule=\"nonzero\" fill-opacity=\"1\" /><path clip-path=\"url(#clip090)\" d=\"M2372.23 317.539 Q2369 317.539 2367.76 318.277 Q2366.51 319.015 2366.51 320.794 Q2366.51 322.212 2367.44 323.051 Q2368.38 323.876 2369.99 323.876 Q2372.2 323.876 2373.53 322.313 Q2374.88 320.737 2374.88 318.132 L2374.88 317.539 L2372.23 317.539 M2377.54 316.44 L2377.54 325.684 L2374.88 325.684 L2374.88 323.225 Q2373.97 324.701 2372.61 325.41 Q2371.25 326.104 2369.28 326.104 Q2366.79 326.104 2365.31 324.715 Q2363.85 323.312 2363.85 320.968 Q2363.85 318.234 2365.68 316.845 Q2367.51 315.456 2371.14 315.456 L2374.88 315.456 L2374.88 315.195 Q2374.88 313.358 2373.66 312.36 Q2372.46 311.347 2370.28 311.347 Q2368.89 311.347 2367.57 311.68 Q2366.25 312.013 2365.04 312.678 L2365.04 310.219 Q2366.5 309.654 2367.87 309.38 Q2369.25 309.09 2370.55 309.09 Q2374.07 309.09 2375.8 310.913 Q2377.54 312.736 2377.54 316.44 Z\" fill=\"#000000\" fill-rule=\"nonzero\" fill-opacity=\"1\" /><path clip-path=\"url(#clip090)\" d=\"M2385.6 323.254 L2385.6 331.848 L2382.92 331.848 L2382.92 309.481 L2385.6 309.481 L2385.6 311.94 Q2386.44 310.494 2387.71 309.799 Q2389 309.09 2390.78 309.09 Q2393.73 309.09 2395.57 311.434 Q2397.42 313.778 2397.42 317.597 Q2397.42 321.416 2395.57 323.76 Q2393.73 326.104 2390.78 326.104 Q2389 326.104 2387.71 325.41 Q2386.44 324.701 2385.6 323.254 M2394.65 317.597 Q2394.65 314.66 2393.44 312.996 Q2392.24 311.318 2390.13 311.318 Q2388.01 311.318 2386.8 312.996 Q2385.6 314.66 2385.6 317.597 Q2385.6 320.534 2386.8 322.212 Q2388.01 323.876 2390.13 323.876 Q2392.24 323.876 2393.44 322.212 Q2394.65 320.534 2394.65 317.597 Z\" fill=\"#000000\" fill-rule=\"nonzero\" fill-opacity=\"1\" /><path clip-path=\"url(#clip090)\" d=\"M2414.14 330.603 L2414.14 332.672 L2398.75 332.672 L2398.75 330.603 L2414.14 330.603 Z\" fill=\"#000000\" fill-rule=\"nonzero\" fill-opacity=\"1\" /><path clip-path=\"url(#clip090)\" d=\"M2430.5 316.917 L2430.5 318.219 L2418.26 318.219 Q2418.44 320.968 2419.91 322.415 Q2421.4 323.847 2424.05 323.847 Q2425.59 323.847 2427.02 323.471 Q2428.46 323.095 2429.88 322.342 L2429.88 324.86 Q2428.45 325.467 2426.95 325.786 Q2425.44 326.104 2423.89 326.104 Q2420.02 326.104 2417.74 323.847 Q2415.49 321.59 2415.49 317.742 Q2415.49 313.763 2417.63 311.434 Q2419.78 309.09 2423.43 309.09 Q2426.7 309.09 2428.59 311.202 Q2430.5 313.3 2430.5 316.917 M2427.84 316.136 Q2427.81 313.951 2426.61 312.649 Q2425.43 311.347 2423.46 311.347 Q2421.23 311.347 2419.88 312.606 Q2418.55 313.864 2418.35 316.15 L2427.84 316.136 Z\" fill=\"#000000\" fill-rule=\"nonzero\" fill-opacity=\"1\" /><path clip-path=\"url(#clip090)\" d=\"M2447.19 323.225 L2457.38 323.225 L2457.38 325.684 L2443.67 325.684 L2443.67 323.225 Q2445.33 321.503 2448.2 318.61 Q2451.08 315.702 2451.81 314.863 Q2453.22 313.286 2453.77 312.201 Q2454.33 311.101 2454.33 310.045 Q2454.33 308.323 2453.12 307.238 Q2451.92 306.153 2449.98 306.153 Q2448.6 306.153 2447.07 306.631 Q2445.55 307.108 2443.81 308.077 L2443.81 305.126 Q2445.58 304.417 2447.11 304.055 Q2448.65 303.694 2449.92 303.694 Q2453.28 303.694 2455.27 305.372 Q2457.27 307.05 2457.27 309.857 Q2457.27 311.188 2456.76 312.389 Q2456.27 313.575 2454.95 315.195 Q2454.59 315.615 2452.65 317.626 Q2450.72 319.623 2447.19 323.225 Z\" fill=\"#000000\" fill-rule=\"nonzero\" fill-opacity=\"1\" /><polyline clip-path=\"url(#clip090)\" style=\"stroke:#3da44d; stroke-linecap:round; stroke-linejoin:round; stroke-width:2.5; stroke-opacity:1; fill:none\" points=\"2496.19,314.884 2721.24,314.884 \"/>\n",
       "<path clip-path=\"url(#clip090)\" d=\"M2758.75 304.084 L2761.67 304.084 L2761.67 323.225 L2772.19 323.225 L2772.19 325.684 L2758.75 325.684 L2758.75 304.084 Z\" fill=\"#000000\" fill-rule=\"nonzero\" fill-opacity=\"1\" /><path clip-path=\"url(#clip090)\" d=\"M2779.16 327.189 Q2778.04 330.083 2776.97 330.965 Q2775.9 331.848 2774.1 331.848 L2771.97 331.848 L2771.97 329.62 L2773.54 329.62 Q2774.64 329.62 2775.24 329.099 Q2775.85 328.578 2776.59 326.639 L2777.07 325.424 L2770.51 309.481 L2773.33 309.481 L2778.4 322.154 L2783.46 309.481 L2786.28 309.481 L2779.16 327.189 Z\" fill=\"#000000\" fill-rule=\"nonzero\" fill-opacity=\"1\" /><path clip-path=\"url(#clip090)\" d=\"M2797.32 317.539 Q2794.1 317.539 2792.85 318.277 Q2791.61 319.015 2791.61 320.794 Q2791.61 322.212 2792.53 323.051 Q2793.47 323.876 2795.08 323.876 Q2797.29 323.876 2798.62 322.313 Q2799.97 320.737 2799.97 318.132 L2799.97 317.539 L2797.32 317.539 M2802.63 316.44 L2802.63 325.684 L2799.97 325.684 L2799.97 323.225 Q2799.06 324.701 2797.7 325.41 Q2796.34 326.104 2794.37 326.104 Q2791.88 326.104 2790.41 324.715 Q2788.94 323.312 2788.94 320.968 Q2788.94 318.234 2790.77 316.845 Q2792.61 315.456 2796.24 315.456 L2799.97 315.456 L2799.97 315.195 Q2799.97 313.358 2798.75 312.36 Q2797.55 311.347 2795.37 311.347 Q2793.98 311.347 2792.66 311.68 Q2791.35 312.013 2790.13 312.678 L2790.13 310.219 Q2791.59 309.654 2792.97 309.38 Q2794.34 309.09 2795.64 309.09 Q2799.16 309.09 2800.89 310.913 Q2802.63 312.736 2802.63 316.44 Z\" fill=\"#000000\" fill-rule=\"nonzero\" fill-opacity=\"1\" /><path clip-path=\"url(#clip090)\" d=\"M2810.69 323.254 L2810.69 331.848 L2808.01 331.848 L2808.01 309.481 L2810.69 309.481 L2810.69 311.94 Q2811.53 310.494 2812.8 309.799 Q2814.09 309.09 2815.87 309.09 Q2818.82 309.09 2820.66 311.434 Q2822.51 313.778 2822.51 317.597 Q2822.51 321.416 2820.66 323.76 Q2818.82 326.104 2815.87 326.104 Q2814.09 326.104 2812.8 325.41 Q2811.53 324.701 2810.69 323.254 M2819.75 317.597 Q2819.75 314.66 2818.53 312.996 Q2817.33 311.318 2815.22 311.318 Q2813.11 311.318 2811.89 312.996 Q2810.69 314.66 2810.69 317.597 Q2810.69 320.534 2811.89 322.212 Q2813.11 323.876 2815.22 323.876 Q2817.33 323.876 2818.53 322.212 Q2819.75 320.534 2819.75 317.597 Z\" fill=\"#000000\" fill-rule=\"nonzero\" fill-opacity=\"1\" /><path clip-path=\"url(#clip090)\" d=\"M2839.23 330.603 L2839.23 332.672 L2823.84 332.672 L2823.84 330.603 L2839.23 330.603 Z\" fill=\"#000000\" fill-rule=\"nonzero\" fill-opacity=\"1\" /><path clip-path=\"url(#clip090)\" d=\"M2855.6 316.917 L2855.6 318.219 L2843.36 318.219 Q2843.53 320.968 2845.01 322.415 Q2846.5 323.847 2849.14 323.847 Q2850.68 323.847 2852.11 323.471 Q2853.56 323.095 2854.97 322.342 L2854.97 324.86 Q2853.54 325.467 2852.04 325.786 Q2850.53 326.104 2848.98 326.104 Q2845.11 326.104 2842.84 323.847 Q2840.58 321.59 2840.58 317.742 Q2840.58 313.763 2842.72 311.434 Q2844.88 309.09 2848.52 309.09 Q2851.79 309.09 2853.69 311.202 Q2855.6 313.3 2855.6 316.917 M2852.93 316.136 Q2852.91 313.951 2851.7 312.649 Q2850.52 311.347 2848.55 311.347 Q2846.32 311.347 2844.98 312.606 Q2843.65 313.864 2843.44 316.15 L2852.93 316.136 Z\" fill=\"#000000\" fill-rule=\"nonzero\" fill-opacity=\"1\" /><path clip-path=\"url(#clip090)\" d=\"M2878.61 314.038 Q2880.71 314.487 2881.88 315.904 Q2883.07 317.322 2883.07 319.406 Q2883.07 322.603 2880.87 324.353 Q2878.67 326.104 2874.62 326.104 Q2873.26 326.104 2871.81 325.829 Q2870.38 325.569 2868.85 325.033 L2868.85 322.212 Q2870.06 322.921 2871.51 323.283 Q2872.96 323.644 2874.53 323.644 Q2877.28 323.644 2878.72 322.559 Q2880.16 321.474 2880.16 319.406 Q2880.16 317.496 2878.82 316.425 Q2877.49 315.34 2875.1 315.34 L2872.58 315.34 L2872.58 312.939 L2875.21 312.939 Q2877.37 312.939 2878.51 312.085 Q2879.66 311.217 2879.66 309.597 Q2879.66 307.933 2878.47 307.05 Q2877.3 306.153 2875.1 306.153 Q2873.9 306.153 2872.52 306.414 Q2871.15 306.674 2869.5 307.224 L2869.5 304.62 Q2871.16 304.157 2872.61 303.925 Q2874.07 303.694 2875.36 303.694 Q2878.69 303.694 2880.63 305.213 Q2882.56 306.717 2882.56 309.293 Q2882.56 311.087 2881.54 312.331 Q2880.51 313.561 2878.61 314.038 Z\" fill=\"#000000\" fill-rule=\"nonzero\" fill-opacity=\"1\" /><polyline clip-path=\"url(#clip090)\" style=\"stroke:#c271d2; stroke-linecap:round; stroke-linejoin:round; stroke-width:2.5; stroke-opacity:1; fill:none\" points=\"1646.01,347.284 1871.06,347.284 \"/>\n",
       "<path clip-path=\"url(#clip090)\" d=\"M1908.57 336.484 L1911.49 336.484 L1911.49 355.625 L1922.01 355.625 L1922.01 358.084 L1908.57 358.084 L1908.57 336.484 Z\" fill=\"#000000\" fill-rule=\"nonzero\" fill-opacity=\"1\" /><path clip-path=\"url(#clip090)\" d=\"M1928.98 359.589 Q1927.85 362.483 1926.78 363.365 Q1925.71 364.248 1923.92 364.248 L1921.79 364.248 L1921.79 362.02 L1923.35 362.02 Q1924.45 362.02 1925.06 361.499 Q1925.67 360.978 1926.4 359.039 L1926.88 357.824 L1920.33 341.881 L1923.15 341.881 L1928.21 354.554 L1933.28 341.881 L1936.1 341.881 L1928.98 359.589 Z\" fill=\"#000000\" fill-rule=\"nonzero\" fill-opacity=\"1\" /><path clip-path=\"url(#clip090)\" d=\"M1947.14 349.939 Q1943.91 349.939 1942.67 350.677 Q1941.42 351.415 1941.42 353.194 Q1941.42 354.612 1942.35 355.451 Q1943.29 356.276 1944.89 356.276 Q1947.11 356.276 1948.44 354.713 Q1949.78 353.137 1949.78 350.532 L1949.78 349.939 L1947.14 349.939 M1952.45 348.84 L1952.45 358.084 L1949.78 358.084 L1949.78 355.625 Q1948.87 357.101 1947.51 357.81 Q1946.15 358.504 1944.19 358.504 Q1941.7 358.504 1940.22 357.115 Q1938.76 355.712 1938.76 353.368 Q1938.76 350.634 1940.58 349.245 Q1942.42 347.856 1946.05 347.856 L1949.78 347.856 L1949.78 347.595 Q1949.78 345.758 1948.57 344.76 Q1947.37 343.747 1945.18 343.747 Q1943.79 343.747 1942.48 344.08 Q1941.16 344.413 1939.95 345.078 L1939.95 342.619 Q1941.41 342.054 1942.78 341.78 Q1944.16 341.49 1945.46 341.49 Q1948.97 341.49 1950.71 343.313 Q1952.45 345.136 1952.45 348.84 Z\" fill=\"#000000\" fill-rule=\"nonzero\" fill-opacity=\"1\" /><path clip-path=\"url(#clip090)\" d=\"M1960.5 355.654 L1960.5 364.248 L1957.83 364.248 L1957.83 341.881 L1960.5 341.881 L1960.5 344.34 Q1961.34 342.894 1962.62 342.199 Q1963.9 341.49 1965.68 341.49 Q1968.64 341.49 1970.47 343.834 Q1972.32 346.178 1972.32 349.997 Q1972.32 353.816 1970.47 356.16 Q1968.64 358.504 1965.68 358.504 Q1963.9 358.504 1962.62 357.81 Q1961.34 357.101 1960.5 355.654 M1969.56 349.997 Q1969.56 347.06 1968.35 345.396 Q1967.15 343.718 1965.03 343.718 Q1962.92 343.718 1961.71 345.396 Q1960.5 347.06 1960.5 349.997 Q1960.5 352.934 1961.71 354.612 Q1962.92 356.276 1965.03 356.276 Q1967.15 356.276 1968.35 354.612 Q1969.56 352.934 1969.56 349.997 Z\" fill=\"#000000\" fill-rule=\"nonzero\" fill-opacity=\"1\" /><path clip-path=\"url(#clip090)\" d=\"M1989.05 363.003 L1989.05 365.072 L1973.66 365.072 L1973.66 363.003 L1989.05 363.003 Z\" fill=\"#000000\" fill-rule=\"nonzero\" fill-opacity=\"1\" /><path clip-path=\"url(#clip090)\" d=\"M2005.41 349.317 L2005.41 350.619 L1993.17 350.619 Q1993.35 353.368 1994.82 354.815 Q1996.31 356.247 1998.96 356.247 Q2000.49 356.247 2001.92 355.871 Q2003.37 355.495 2004.79 354.742 L2004.79 357.26 Q2003.36 357.867 2001.85 358.186 Q2000.35 358.504 1998.8 358.504 Q1994.92 358.504 1992.65 356.247 Q1990.39 353.99 1990.39 350.142 Q1990.39 346.163 1992.54 343.834 Q1994.69 341.49 1998.34 341.49 Q2001.61 341.49 2003.5 343.602 Q2005.41 345.7 2005.41 349.317 M2002.75 348.536 Q2002.72 346.351 2001.52 345.049 Q2000.33 343.747 1998.37 343.747 Q1996.14 343.747 1994.79 345.006 Q1993.46 346.264 1993.26 348.55 L2002.75 348.536 Z\" fill=\"#000000\" fill-rule=\"nonzero\" fill-opacity=\"1\" /><path clip-path=\"url(#clip090)\" d=\"M2027.6 339.031 L2020.23 350.561 L2027.6 350.561 L2027.6 339.031 M2026.84 336.484 L2030.51 336.484 L2030.51 350.561 L2033.59 350.561 L2033.59 352.992 L2030.51 352.992 L2030.51 358.084 L2027.6 358.084 L2027.6 352.992 L2017.85 352.992 L2017.85 350.171 L2026.84 336.484 Z\" fill=\"#000000\" fill-rule=\"nonzero\" fill-opacity=\"1\" /><polyline clip-path=\"url(#clip090)\" style=\"stroke:#ac8d18; stroke-linecap:round; stroke-linejoin:round; stroke-width:2.5; stroke-opacity:1; fill:none\" points=\"2071.1,347.284 2296.15,347.284 \"/>\n",
       "<path clip-path=\"url(#clip090)\" d=\"M2333.66 336.484 L2336.58 336.484 L2336.58 355.625 L2347.1 355.625 L2347.1 358.084 L2333.66 358.084 L2333.66 336.484 Z\" fill=\"#000000\" fill-rule=\"nonzero\" fill-opacity=\"1\" /><path clip-path=\"url(#clip090)\" d=\"M2354.07 359.589 Q2352.94 362.483 2351.87 363.365 Q2350.8 364.248 2349.01 364.248 L2346.88 364.248 L2346.88 362.02 L2348.44 362.02 Q2349.54 362.02 2350.15 361.499 Q2350.76 360.978 2351.5 359.039 L2351.97 357.824 L2345.42 341.881 L2348.24 341.881 L2353.31 354.554 L2358.37 341.881 L2361.19 341.881 L2354.07 359.589 Z\" fill=\"#000000\" fill-rule=\"nonzero\" fill-opacity=\"1\" /><path clip-path=\"url(#clip090)\" d=\"M2372.23 349.939 Q2369 349.939 2367.76 350.677 Q2366.51 351.415 2366.51 353.194 Q2366.51 354.612 2367.44 355.451 Q2368.38 356.276 2369.99 356.276 Q2372.2 356.276 2373.53 354.713 Q2374.88 353.137 2374.88 350.532 L2374.88 349.939 L2372.23 349.939 M2377.54 348.84 L2377.54 358.084 L2374.88 358.084 L2374.88 355.625 Q2373.97 357.101 2372.61 357.81 Q2371.25 358.504 2369.28 358.504 Q2366.79 358.504 2365.31 357.115 Q2363.85 355.712 2363.85 353.368 Q2363.85 350.634 2365.68 349.245 Q2367.51 347.856 2371.14 347.856 L2374.88 347.856 L2374.88 347.595 Q2374.88 345.758 2373.66 344.76 Q2372.46 343.747 2370.28 343.747 Q2368.89 343.747 2367.57 344.08 Q2366.25 344.413 2365.04 345.078 L2365.04 342.619 Q2366.5 342.054 2367.87 341.78 Q2369.25 341.49 2370.55 341.49 Q2374.07 341.49 2375.8 343.313 Q2377.54 345.136 2377.54 348.84 Z\" fill=\"#000000\" fill-rule=\"nonzero\" fill-opacity=\"1\" /><path clip-path=\"url(#clip090)\" d=\"M2385.6 355.654 L2385.6 364.248 L2382.92 364.248 L2382.92 341.881 L2385.6 341.881 L2385.6 344.34 Q2386.44 342.894 2387.71 342.199 Q2389 341.49 2390.78 341.49 Q2393.73 341.49 2395.57 343.834 Q2397.42 346.178 2397.42 349.997 Q2397.42 353.816 2395.57 356.16 Q2393.73 358.504 2390.78 358.504 Q2389 358.504 2387.71 357.81 Q2386.44 357.101 2385.6 355.654 M2394.65 349.997 Q2394.65 347.06 2393.44 345.396 Q2392.24 343.718 2390.13 343.718 Q2388.01 343.718 2386.8 345.396 Q2385.6 347.06 2385.6 349.997 Q2385.6 352.934 2386.8 354.612 Q2388.01 356.276 2390.13 356.276 Q2392.24 356.276 2393.44 354.612 Q2394.65 352.934 2394.65 349.997 Z\" fill=\"#000000\" fill-rule=\"nonzero\" fill-opacity=\"1\" /><path clip-path=\"url(#clip090)\" d=\"M2414.14 363.003 L2414.14 365.072 L2398.75 365.072 L2398.75 363.003 L2414.14 363.003 Z\" fill=\"#000000\" fill-rule=\"nonzero\" fill-opacity=\"1\" /><path clip-path=\"url(#clip090)\" d=\"M2430.5 349.317 L2430.5 350.619 L2418.26 350.619 Q2418.44 353.368 2419.91 354.815 Q2421.4 356.247 2424.05 356.247 Q2425.59 356.247 2427.02 355.871 Q2428.46 355.495 2429.88 354.742 L2429.88 357.26 Q2428.45 357.867 2426.95 358.186 Q2425.44 358.504 2423.89 358.504 Q2420.02 358.504 2417.74 356.247 Q2415.49 353.99 2415.49 350.142 Q2415.49 346.163 2417.63 343.834 Q2419.78 341.49 2423.43 341.49 Q2426.7 341.49 2428.59 343.602 Q2430.5 345.7 2430.5 349.317 M2427.84 348.536 Q2427.81 346.351 2426.61 345.049 Q2425.43 343.747 2423.46 343.747 Q2421.23 343.747 2419.88 345.006 Q2418.55 346.264 2418.35 348.55 L2427.84 348.536 Z\" fill=\"#000000\" fill-rule=\"nonzero\" fill-opacity=\"1\" /><path clip-path=\"url(#clip090)\" d=\"M2444.7 336.484 L2456.17 336.484 L2456.17 338.944 L2447.37 338.944 L2447.37 344.239 Q2448.01 344.022 2448.65 343.921 Q2449.28 343.805 2449.92 343.805 Q2453.54 343.805 2455.65 345.787 Q2457.76 347.769 2457.76 351.154 Q2457.76 354.641 2455.59 356.58 Q2453.42 358.504 2449.47 358.504 Q2448.11 358.504 2446.69 358.272 Q2445.29 358.041 2443.79 357.578 L2443.79 354.641 Q2445.09 355.35 2446.48 355.697 Q2447.87 356.044 2449.41 356.044 Q2451.92 356.044 2453.38 354.728 Q2454.84 353.411 2454.84 351.154 Q2454.84 348.898 2453.38 347.581 Q2451.92 346.264 2449.41 346.264 Q2448.24 346.264 2447.07 346.525 Q2445.91 346.785 2444.7 347.335 L2444.7 336.484 Z\" fill=\"#000000\" fill-rule=\"nonzero\" fill-opacity=\"1\" /><polyline clip-path=\"url(#clip090)\" style=\"stroke:#00a9ad; stroke-linecap:round; stroke-linejoin:round; stroke-width:2.5; stroke-opacity:1; fill:none\" points=\"2496.19,347.284 2721.24,347.284 \"/>\n",
       "<path clip-path=\"url(#clip090)\" d=\"M2758.75 336.484 L2761.67 336.484 L2761.67 355.625 L2772.19 355.625 L2772.19 358.084 L2758.75 358.084 L2758.75 336.484 Z\" fill=\"#000000\" fill-rule=\"nonzero\" fill-opacity=\"1\" /><path clip-path=\"url(#clip090)\" d=\"M2779.16 359.589 Q2778.04 362.483 2776.97 363.365 Q2775.9 364.248 2774.1 364.248 L2771.97 364.248 L2771.97 362.02 L2773.54 362.02 Q2774.64 362.02 2775.24 361.499 Q2775.85 360.978 2776.59 359.039 L2777.07 357.824 L2770.51 341.881 L2773.33 341.881 L2778.4 354.554 L2783.46 341.881 L2786.28 341.881 L2779.16 359.589 Z\" fill=\"#000000\" fill-rule=\"nonzero\" fill-opacity=\"1\" /><path clip-path=\"url(#clip090)\" d=\"M2797.32 349.939 Q2794.1 349.939 2792.85 350.677 Q2791.61 351.415 2791.61 353.194 Q2791.61 354.612 2792.53 355.451 Q2793.47 356.276 2795.08 356.276 Q2797.29 356.276 2798.62 354.713 Q2799.97 353.137 2799.97 350.532 L2799.97 349.939 L2797.32 349.939 M2802.63 348.84 L2802.63 358.084 L2799.97 358.084 L2799.97 355.625 Q2799.06 357.101 2797.7 357.81 Q2796.34 358.504 2794.37 358.504 Q2791.88 358.504 2790.41 357.115 Q2788.94 355.712 2788.94 353.368 Q2788.94 350.634 2790.77 349.245 Q2792.61 347.856 2796.24 347.856 L2799.97 347.856 L2799.97 347.595 Q2799.97 345.758 2798.75 344.76 Q2797.55 343.747 2795.37 343.747 Q2793.98 343.747 2792.66 344.08 Q2791.35 344.413 2790.13 345.078 L2790.13 342.619 Q2791.59 342.054 2792.97 341.78 Q2794.34 341.49 2795.64 341.49 Q2799.16 341.49 2800.89 343.313 Q2802.63 345.136 2802.63 348.84 Z\" fill=\"#000000\" fill-rule=\"nonzero\" fill-opacity=\"1\" /><path clip-path=\"url(#clip090)\" d=\"M2810.69 355.654 L2810.69 364.248 L2808.01 364.248 L2808.01 341.881 L2810.69 341.881 L2810.69 344.34 Q2811.53 342.894 2812.8 342.199 Q2814.09 341.49 2815.87 341.49 Q2818.82 341.49 2820.66 343.834 Q2822.51 346.178 2822.51 349.997 Q2822.51 353.816 2820.66 356.16 Q2818.82 358.504 2815.87 358.504 Q2814.09 358.504 2812.8 357.81 Q2811.53 357.101 2810.69 355.654 M2819.75 349.997 Q2819.75 347.06 2818.53 345.396 Q2817.33 343.718 2815.22 343.718 Q2813.11 343.718 2811.89 345.396 Q2810.69 347.06 2810.69 349.997 Q2810.69 352.934 2811.89 354.612 Q2813.11 356.276 2815.22 356.276 Q2817.33 356.276 2818.53 354.612 Q2819.75 352.934 2819.75 349.997 Z\" fill=\"#000000\" fill-rule=\"nonzero\" fill-opacity=\"1\" /><path clip-path=\"url(#clip090)\" d=\"M2839.23 363.003 L2839.23 365.072 L2823.84 365.072 L2823.84 363.003 L2839.23 363.003 Z\" fill=\"#000000\" fill-rule=\"nonzero\" fill-opacity=\"1\" /><path clip-path=\"url(#clip090)\" d=\"M2855.6 349.317 L2855.6 350.619 L2843.36 350.619 Q2843.53 353.368 2845.01 354.815 Q2846.5 356.247 2849.14 356.247 Q2850.68 356.247 2852.11 355.871 Q2853.56 355.495 2854.97 354.742 L2854.97 357.26 Q2853.54 357.867 2852.04 358.186 Q2850.53 358.504 2848.98 358.504 Q2845.11 358.504 2842.84 356.247 Q2840.58 353.99 2840.58 350.142 Q2840.58 346.163 2842.72 343.834 Q2844.88 341.49 2848.52 341.49 Q2851.79 341.49 2853.69 343.602 Q2855.6 345.7 2855.6 349.317 M2852.93 348.536 Q2852.91 346.351 2851.7 345.049 Q2850.52 343.747 2848.55 343.747 Q2846.32 343.747 2844.98 345.006 Q2843.65 346.264 2843.44 348.55 L2852.93 348.536 Z\" fill=\"#000000\" fill-rule=\"nonzero\" fill-opacity=\"1\" /><path clip-path=\"url(#clip090)\" d=\"M2876.37 346.12 Q2874.4 346.12 2873.25 347.465 Q2872.1 348.811 2872.1 351.154 Q2872.1 353.484 2873.25 354.844 Q2874.4 356.189 2876.37 356.189 Q2878.34 356.189 2879.48 354.844 Q2880.64 353.484 2880.64 351.154 Q2880.64 348.811 2879.48 347.465 Q2878.34 346.12 2876.37 346.12 M2882.17 336.962 L2882.17 339.624 Q2881.07 339.103 2879.95 338.828 Q2878.83 338.553 2877.73 338.553 Q2874.84 338.553 2873.3 340.506 Q2871.79 342.459 2871.57 346.409 Q2872.42 345.15 2873.71 344.485 Q2875 343.805 2876.55 343.805 Q2879.8 343.805 2881.68 345.787 Q2883.58 347.755 2883.58 351.154 Q2883.58 354.482 2881.61 356.493 Q2879.64 358.504 2876.37 358.504 Q2872.62 358.504 2870.64 355.639 Q2868.66 352.76 2868.66 347.306 Q2868.66 342.185 2871.09 339.146 Q2873.52 336.094 2877.62 336.094 Q2878.72 336.094 2879.83 336.311 Q2880.96 336.528 2882.17 336.962 Z\" fill=\"#000000\" fill-rule=\"nonzero\" fill-opacity=\"1\" /></svg>\n"
      ],
      "text/html": [
       "<?xml version=\"1.0\" encoding=\"utf-8\"?>\n",
       "<svg xmlns=\"http://www.w3.org/2000/svg\" xmlns:xlink=\"http://www.w3.org/1999/xlink\" width=\"1000\" height=\"600\" viewBox=\"0 0 4000 2400\">\n",
       "<defs>\n",
       "  <clipPath id=\"clip140\">\n",
       "    <rect x=\"0\" y=\"0\" width=\"4000\" height=\"2400\"/>\n",
       "  </clipPath>\n",
       "</defs>\n",
       "<path clip-path=\"url(#clip140)\" d=\"M0 2400 L4000 2400 L4000 8.88178e-14 L0 8.88178e-14  Z\" fill=\"#ffffff\" fill-rule=\"evenodd\" fill-opacity=\"1\"/>\n",
       "<defs>\n",
       "  <clipPath id=\"clip141\">\n",
       "    <rect x=\"800\" y=\"0\" width=\"2801\" height=\"2400\"/>\n",
       "  </clipPath>\n",
       "</defs>\n",
       "<path clip-path=\"url(#clip140)\" d=\"M577.033 2009.36 L3952.76 2009.36 L3952.76 437.247 L577.033 437.247  Z\" fill=\"#ffffff\" fill-rule=\"evenodd\" fill-opacity=\"1\"/>\n",
       "<defs>\n",
       "  <clipPath id=\"clip142\">\n",
       "    <rect x=\"577\" y=\"437\" width=\"3377\" height=\"1573\"/>\n",
       "  </clipPath>\n",
       "</defs>\n",
       "<polyline clip-path=\"url(#clip142)\" style=\"stroke:#000000; stroke-linecap:round; stroke-linejoin:round; stroke-width:2; stroke-opacity:0.1; fill:none\" points=\"672.573,2009.36 672.573,437.247 \"/>\n",
       "<polyline clip-path=\"url(#clip142)\" style=\"stroke:#000000; stroke-linecap:round; stroke-linejoin:round; stroke-width:2; stroke-opacity:0.1; fill:none\" points=\"1468.73,2009.36 1468.73,437.247 \"/>\n",
       "<polyline clip-path=\"url(#clip142)\" style=\"stroke:#000000; stroke-linecap:round; stroke-linejoin:round; stroke-width:2; stroke-opacity:0.1; fill:none\" points=\"2264.89,2009.36 2264.89,437.247 \"/>\n",
       "<polyline clip-path=\"url(#clip142)\" style=\"stroke:#000000; stroke-linecap:round; stroke-linejoin:round; stroke-width:2; stroke-opacity:0.1; fill:none\" points=\"3061.06,2009.36 3061.06,437.247 \"/>\n",
       "<polyline clip-path=\"url(#clip142)\" style=\"stroke:#000000; stroke-linecap:round; stroke-linejoin:round; stroke-width:2; stroke-opacity:0.1; fill:none\" points=\"3857.22,2009.36 3857.22,437.247 \"/>\n",
       "<polyline clip-path=\"url(#clip142)\" style=\"stroke:#000000; stroke-linecap:round; stroke-linejoin:round; stroke-width:2; stroke-opacity:0.1; fill:none\" points=\"577.033,1809.57 3952.76,1809.57 \"/>\n",
       "<polyline clip-path=\"url(#clip142)\" style=\"stroke:#000000; stroke-linecap:round; stroke-linejoin:round; stroke-width:2; stroke-opacity:0.1; fill:none\" points=\"577.033,1508.27 3952.76,1508.27 \"/>\n",
       "<polyline clip-path=\"url(#clip142)\" style=\"stroke:#000000; stroke-linecap:round; stroke-linejoin:round; stroke-width:2; stroke-opacity:0.1; fill:none\" points=\"577.033,1206.98 3952.76,1206.98 \"/>\n",
       "<polyline clip-path=\"url(#clip142)\" style=\"stroke:#000000; stroke-linecap:round; stroke-linejoin:round; stroke-width:2; stroke-opacity:0.1; fill:none\" points=\"577.033,905.679 3952.76,905.679 \"/>\n",
       "<polyline clip-path=\"url(#clip142)\" style=\"stroke:#000000; stroke-linecap:round; stroke-linejoin:round; stroke-width:2; stroke-opacity:0.1; fill:none\" points=\"577.033,604.382 3952.76,604.382 \"/>\n",
       "<polyline clip-path=\"url(#clip140)\" style=\"stroke:#000000; stroke-linecap:round; stroke-linejoin:round; stroke-width:4; stroke-opacity:1; fill:none\" points=\"577.033,2009.36 3952.76,2009.36 \"/>\n",
       "<polyline clip-path=\"url(#clip140)\" style=\"stroke:#000000; stroke-linecap:round; stroke-linejoin:round; stroke-width:4; stroke-opacity:1; fill:none\" points=\"672.573,2009.36 672.573,1992.16 \"/>\n",
       "<polyline clip-path=\"url(#clip140)\" style=\"stroke:#000000; stroke-linecap:round; stroke-linejoin:round; stroke-width:4; stroke-opacity:1; fill:none\" points=\"1468.73,2009.36 1468.73,1992.16 \"/>\n",
       "<polyline clip-path=\"url(#clip140)\" style=\"stroke:#000000; stroke-linecap:round; stroke-linejoin:round; stroke-width:4; stroke-opacity:1; fill:none\" points=\"2264.89,2009.36 2264.89,1992.16 \"/>\n",
       "<polyline clip-path=\"url(#clip140)\" style=\"stroke:#000000; stroke-linecap:round; stroke-linejoin:round; stroke-width:4; stroke-opacity:1; fill:none\" points=\"3061.06,2009.36 3061.06,1992.16 \"/>\n",
       "<polyline clip-path=\"url(#clip140)\" style=\"stroke:#000000; stroke-linecap:round; stroke-linejoin:round; stroke-width:4; stroke-opacity:1; fill:none\" points=\"3857.22,2009.36 3857.22,1992.16 \"/>\n",
       "<path clip-path=\"url(#clip140)\" d=\"M672.573 2088.24 Q666.739 2088.24 663.377 2091.36 Q660.055 2094.48 660.055 2099.95 Q660.055 2105.42 663.377 2108.54 Q666.739 2111.66 672.573 2111.66 Q678.406 2111.66 681.768 2108.54 Q685.13 2105.38 685.13 2099.95 Q685.13 2094.48 681.768 2091.36 Q678.446 2088.24 672.573 2088.24 M664.39 2084.76 Q659.124 2083.46 656.166 2079.86 Q653.25 2076.25 653.25 2071.07 Q653.25 2063.82 658.394 2059.6 Q663.58 2055.39 672.573 2055.39 Q681.606 2055.39 686.751 2059.6 Q691.895 2063.82 691.895 2071.07 Q691.895 2076.25 688.938 2079.86 Q686.022 2083.46 680.796 2084.76 Q686.71 2086.14 689.991 2090.15 Q693.313 2094.16 693.313 2099.95 Q693.313 2108.74 687.925 2113.44 Q682.578 2118.14 672.573 2118.14 Q662.567 2118.14 657.179 2113.44 Q651.832 2108.74 651.832 2099.95 Q651.832 2094.16 655.154 2090.15 Q658.475 2086.14 664.39 2084.76 M661.392 2071.84 Q661.392 2076.54 664.309 2079.17 Q667.266 2081.8 672.573 2081.8 Q677.839 2081.8 680.796 2079.17 Q683.794 2076.54 683.794 2071.84 Q683.794 2067.14 680.796 2064.51 Q677.839 2061.87 672.573 2061.87 Q667.266 2061.87 664.309 2064.51 Q661.392 2067.14 661.392 2071.84 Z\" fill=\"#000000\" fill-rule=\"nonzero\" fill-opacity=\"1\" /><path clip-path=\"url(#clip140)\" d=\"M1424.44 2110.08 L1437.8 2110.08 L1437.8 2063.94 L1423.26 2066.85 L1423.26 2059.4 L1437.72 2056.48 L1445.91 2056.48 L1445.91 2110.08 L1459.27 2110.08 L1459.27 2116.96 L1424.44 2116.96 L1424.44 2110.08 Z\" fill=\"#000000\" fill-rule=\"nonzero\" fill-opacity=\"1\" /><path clip-path=\"url(#clip140)\" d=\"M1493.3 2061.87 Q1486.98 2061.87 1483.78 2068.11 Q1480.62 2074.31 1480.62 2086.79 Q1480.62 2099.22 1483.78 2105.46 Q1486.98 2111.66 1493.3 2111.66 Q1499.66 2111.66 1502.82 2105.46 Q1506.02 2099.22 1506.02 2086.79 Q1506.02 2074.31 1502.82 2068.11 Q1499.66 2061.87 1493.3 2061.87 M1493.3 2055.39 Q1503.47 2055.39 1508.82 2063.45 Q1514.2 2071.47 1514.2 2086.79 Q1514.2 2102.06 1508.82 2110.12 Q1503.47 2118.14 1493.3 2118.14 Q1483.13 2118.14 1477.75 2110.12 Q1472.4 2102.06 1472.4 2086.79 Q1472.4 2071.47 1477.75 2063.45 Q1483.13 2055.39 1493.3 2055.39 Z\" fill=\"#000000\" fill-rule=\"nonzero\" fill-opacity=\"1\" /><path clip-path=\"url(#clip140)\" d=\"M2222 2110.08 L2235.36 2110.08 L2235.36 2063.94 L2220.82 2066.85 L2220.82 2059.4 L2235.28 2056.48 L2243.47 2056.48 L2243.47 2110.08 L2256.83 2110.08 L2256.83 2116.96 L2222 2116.96 L2222 2110.08 Z\" fill=\"#000000\" fill-rule=\"nonzero\" fill-opacity=\"1\" /><path clip-path=\"url(#clip140)\" d=\"M2280.41 2110.08 L2308.97 2110.08 L2308.97 2116.96 L2270.57 2116.96 L2270.57 2110.08 Q2275.22 2105.26 2283.25 2097.16 Q2291.31 2089.01 2293.37 2086.66 Q2297.3 2082.25 2298.84 2079.21 Q2300.42 2076.13 2300.42 2073.17 Q2300.42 2068.35 2297.02 2065.32 Q2293.66 2062.28 2288.23 2062.28 Q2284.38 2062.28 2280.09 2063.61 Q2275.83 2064.95 2270.97 2067.67 L2270.97 2059.4 Q2275.91 2057.42 2280.21 2056.4 Q2284.5 2055.39 2288.07 2055.39 Q2297.46 2055.39 2303.05 2060.09 Q2308.64 2064.79 2308.64 2072.65 Q2308.64 2076.37 2307.23 2079.74 Q2305.85 2083.06 2302.16 2087.6 Q2301.15 2088.77 2295.72 2094.4 Q2290.29 2099.99 2280.41 2110.08 Z\" fill=\"#000000\" fill-rule=\"nonzero\" fill-opacity=\"1\" /><path clip-path=\"url(#clip140)\" d=\"M3016.33 2110.08 L3029.7 2110.08 L3029.7 2063.94 L3015.16 2066.85 L3015.16 2059.4 L3029.62 2056.48 L3037.8 2056.48 L3037.8 2110.08 L3051.17 2110.08 L3051.17 2116.96 L3016.33 2116.96 L3016.33 2110.08 Z\" fill=\"#000000\" fill-rule=\"nonzero\" fill-opacity=\"1\" /><path clip-path=\"url(#clip140)\" d=\"M3090.18 2063.61 L3069.52 2095.9 L3090.18 2095.9 L3090.18 2063.61 M3088.03 2056.48 L3098.32 2056.48 L3098.32 2095.9 L3106.95 2095.9 L3106.95 2102.71 L3098.32 2102.71 L3098.32 2116.96 L3090.18 2116.96 L3090.18 2102.71 L3062.88 2102.71 L3062.88 2094.81 L3088.03 2056.48 Z\" fill=\"#000000\" fill-rule=\"nonzero\" fill-opacity=\"1\" /><path clip-path=\"url(#clip140)\" d=\"M3812.78 2110.08 L3826.15 2110.08 L3826.15 2063.94 L3811.6 2066.85 L3811.6 2059.4 L3826.07 2056.48 L3834.25 2056.48 L3834.25 2110.08 L3847.62 2110.08 L3847.62 2116.96 L3812.78 2116.96 L3812.78 2110.08 Z\" fill=\"#000000\" fill-rule=\"nonzero\" fill-opacity=\"1\" /><path clip-path=\"url(#clip140)\" d=\"M3882.66 2083.46 Q3877.15 2083.46 3873.91 2087.23 Q3870.71 2091 3870.71 2097.56 Q3870.71 2104.08 3873.91 2107.89 Q3877.15 2111.66 3882.66 2111.66 Q3888.17 2111.66 3891.37 2107.89 Q3894.61 2104.08 3894.61 2097.56 Q3894.61 2091 3891.37 2087.23 Q3888.17 2083.46 3882.66 2083.46 M3898.9 2057.82 L3898.9 2065.28 Q3895.82 2063.82 3892.66 2063.05 Q3889.54 2062.28 3886.46 2062.28 Q3878.36 2062.28 3874.07 2067.75 Q3869.81 2073.21 3869.21 2084.27 Q3871.6 2080.75 3875.2 2078.89 Q3878.81 2076.98 3883.14 2076.98 Q3892.26 2076.98 3897.52 2082.53 Q3902.83 2088.04 3902.83 2097.56 Q3902.83 2106.88 3897.32 2112.51 Q3891.81 2118.14 3882.66 2118.14 Q3872.16 2118.14 3866.61 2110.12 Q3861.06 2102.06 3861.06 2086.79 Q3861.06 2072.45 3867.87 2063.94 Q3874.68 2055.39 3886.14 2055.39 Q3889.22 2055.39 3892.34 2056 Q3895.5 2056.61 3898.9 2057.82 Z\" fill=\"#000000\" fill-rule=\"nonzero\" fill-opacity=\"1\" /><path clip-path=\"url(#clip140)\" d=\"M2217 2185.07 Q2217 2186.18 2216.53 2186.71 Q2216.12 2187.18 2215.48 2187.29 Q2214.83 2187.35 2213.14 2187.35 Q2210.27 2187.35 2208.45 2187.59 Q2206.64 2187.76 2205.52 2188.06 Q2204.41 2188.29 2203.77 2189.11 Q2203.18 2189.87 2202.89 2190.57 Q2202.65 2191.28 2202.24 2192.86 L2186.2 2256.74 Q2185.67 2258.62 2185.67 2259.55 Q2185.67 2260.55 2186.26 2260.96 Q2186.84 2261.37 2188.72 2261.54 Q2191.7 2261.84 2193.87 2261.84 Q2196.74 2261.84 2197.15 2262.25 Q2197.44 2262.66 2197.44 2263.24 Q2197.44 2264.3 2196.97 2264.88 Q2196.51 2265.41 2196.1 2265.47 Q2195.74 2265.52 2195.04 2265.52 L2179 2265.17 L2163.25 2265.52 Q2161.49 2265.52 2161.49 2264.18 Q2161.49 2263.3 2161.61 2262.83 Q2161.78 2262.3 2162.37 2262.13 Q2163.01 2261.89 2163.48 2261.89 Q2163.95 2261.84 2165.3 2261.84 Q2167.7 2261.84 2169.28 2261.78 Q2170.92 2261.66 2172.09 2261.37 Q2173.32 2261.02 2173.9 2260.72 Q2174.55 2260.37 2175.02 2259.61 Q2175.54 2258.79 2175.72 2258.15 Q2175.95 2257.5 2176.25 2256.16 L2192.41 2191.51 Q2192.64 2190.46 2192.64 2189.64 Q2192.64 2188.06 2190.77 2187.7 Q2188.95 2187.35 2184.38 2187.35 Q2182.98 2187.35 2182.39 2187.29 Q2181.87 2187.24 2181.4 2186.94 Q2180.99 2186.65 2180.99 2186.01 Q2180.99 2185.19 2181.22 2184.66 Q2181.46 2184.07 2181.87 2183.9 Q2182.34 2183.72 2182.63 2183.66 Q2182.92 2183.6 2183.39 2183.6 L2199.38 2183.96 L2215.19 2183.6 Q2217 2183.6 2217 2185.07 Z\" fill=\"#000000\" fill-rule=\"nonzero\" fill-opacity=\"1\" /><path clip-path=\"url(#clip140)\" d=\"M2261.19 2287.04 Q2261.52 2287.41 2261.52 2287.77 Q2261.52 2288.14 2260.7 2289.21 Q2259.92 2290.28 2258.24 2291.71 Q2256.56 2293.14 2254.39 2294.5 Q2252.22 2295.85 2249.02 2296.75 Q2245.82 2297.69 2242.46 2297.69 Q2236.44 2297.69 2232.83 2293.39 Q2229.26 2289.09 2229.26 2282.49 Q2229.26 2278.27 2230.66 2274.54 Q2232.05 2270.76 2234.3 2268.1 Q2236.6 2265.44 2239.47 2263.51 Q2242.38 2261.54 2245.41 2260.6 Q2248.45 2259.66 2251.27 2259.66 Q2255.41 2259.66 2257.83 2261.75 Q2260.25 2263.84 2260.25 2266.79 Q2260.25 2267.48 2260.05 2268.35 Q2259.88 2269.21 2259.31 2270.56 Q2258.78 2271.91 2257.38 2273.26 Q2255.99 2274.58 2253.94 2275.44 Q2249.39 2277.36 2241.11 2277.36 L2236.64 2277.36 Q2235.33 2282.65 2235.33 2286.09 Q2235.33 2287.45 2235.58 2288.84 Q2235.82 2290.19 2236.48 2291.91 Q2237.17 2293.64 2238.73 2294.74 Q2240.33 2295.81 2242.63 2295.81 Q2243.36 2295.81 2244.14 2295.77 Q2244.96 2295.73 2247.01 2295.28 Q2249.1 2294.82 2250.95 2294.05 Q2252.79 2293.27 2255.13 2291.59 Q2257.5 2289.87 2259.39 2287.53 Q2260.05 2286.67 2260.5 2286.67 Q2260.87 2286.67 2261.19 2287.04 M2257.46 2266.79 Q2257.46 2264.53 2255.78 2263.02 Q2254.14 2261.5 2251.27 2261.5 Q2250.37 2261.5 2249.27 2261.71 Q2248.16 2261.91 2246.31 2262.77 Q2244.51 2263.63 2242.91 2265.07 Q2241.31 2266.46 2239.72 2269.21 Q2238.12 2271.91 2237.17 2275.52 L2240.62 2275.52 Q2241.81 2275.52 2242.67 2275.52 Q2243.53 2275.48 2245.41 2275.31 Q2247.34 2275.15 2248.73 2274.86 Q2250.13 2274.54 2251.89 2273.88 Q2253.65 2273.22 2254.76 2272.36 Q2255.91 2271.46 2256.69 2270.03 Q2257.46 2268.59 2257.46 2266.79 Z\" fill=\"#000000\" fill-rule=\"nonzero\" fill-opacity=\"1\" /><path clip-path=\"url(#clip140)\" d=\"M2307.98 2265.19 Q2307.98 2267.48 2306.54 2268.8 Q2305.11 2270.07 2303.47 2270.07 Q2301.91 2270.07 2301.09 2269.17 Q2300.27 2268.26 2300.27 2267.12 Q2300.27 2265.56 2301.42 2264.21 Q2302.57 2262.85 2304.29 2262.57 Q2302.61 2261.5 2300.11 2261.5 Q2298.47 2261.5 2297.03 2262.36 Q2295.64 2263.22 2294.78 2264.33 Q2293.96 2265.44 2293.22 2267.03 Q2292.52 2268.59 2292.24 2269.53 Q2291.99 2270.44 2291.79 2271.42 L2288.92 2282.9 Q2287.52 2288.35 2287.52 2290.28 Q2287.52 2292.65 2288.67 2294.25 Q2289.82 2295.81 2292.11 2295.81 Q2293.02 2295.81 2294.04 2295.56 Q2295.06 2295.28 2296.38 2294.54 Q2297.73 2293.76 2298.92 2292.61 Q2300.15 2291.42 2301.34 2289.41 Q2302.52 2287.41 2303.3 2284.82 Q2303.55 2283.92 2304.37 2283.92 Q2305.39 2283.92 2305.39 2284.74 Q2305.39 2285.44 2304.82 2286.91 Q2304.29 2288.35 2303.1 2290.23 Q2301.95 2292.08 2300.43 2293.76 Q2298.92 2295.4 2296.66 2296.55 Q2294.41 2297.69 2291.95 2297.69 Q2288.42 2297.69 2286.09 2295.81 Q2283.75 2293.92 2282.89 2291.3 Q2282.69 2291.67 2282.4 2292.16 Q2282.11 2292.65 2281.25 2293.76 Q2280.43 2294.82 2279.49 2295.64 Q2278.55 2296.42 2277.07 2297.04 Q2275.64 2297.69 2274.08 2297.69 Q2272.11 2297.69 2270.35 2297.12 Q2268.63 2296.55 2267.4 2295.23 Q2266.17 2293.92 2266.17 2292.12 Q2266.17 2290.11 2267.52 2288.72 Q2268.91 2287.28 2270.8 2287.28 Q2271.99 2287.28 2272.93 2287.98 Q2273.91 2288.68 2273.91 2290.19 Q2273.91 2291.87 2272.77 2293.14 Q2271.62 2294.41 2269.98 2294.74 Q2271.66 2295.81 2274.16 2295.81 Q2276.87 2295.81 2279 2293.43 Q2281.13 2291.05 2282.15 2287.08 Q2284.69 2277.53 2285.68 2273.26 Q2286.66 2268.96 2286.66 2267.12 Q2286.66 2265.39 2286.21 2264.21 Q2285.76 2263.02 2284.98 2262.48 Q2284.24 2261.91 2283.55 2261.71 Q2282.89 2261.5 2282.15 2261.5 Q2280.92 2261.5 2279.53 2261.99 Q2278.18 2262.48 2276.54 2263.63 Q2274.94 2264.74 2273.42 2267.03 Q2271.91 2269.33 2270.88 2272.49 Q2270.68 2273.43 2269.77 2273.43 Q2268.79 2273.39 2268.79 2272.57 Q2268.79 2271.87 2269.32 2270.44 Q2269.9 2268.96 2271.04 2267.12 Q2272.23 2265.27 2273.75 2263.63 Q2275.31 2261.95 2277.56 2260.8 Q2279.86 2259.66 2282.32 2259.66 Q2283.42 2259.66 2284.49 2259.9 Q2285.6 2260.11 2286.91 2260.72 Q2288.26 2261.34 2289.45 2262.69 Q2290.64 2264.04 2291.38 2266.01 Q2291.87 2265.07 2292.52 2264.16 Q2293.22 2263.26 2294.29 2262.16 Q2295.39 2261.01 2296.91 2260.35 Q2298.47 2259.66 2300.19 2259.66 Q2301.87 2259.66 2303.51 2260.11 Q2305.15 2260.52 2306.54 2261.87 Q2307.98 2263.18 2307.98 2265.19 Z\" fill=\"#000000\" fill-rule=\"nonzero\" fill-opacity=\"1\" /><path clip-path=\"url(#clip140)\" d=\"M2338.48 2261.5 Q2338.48 2262.65 2337.95 2262.94 Q2337.42 2263.18 2335.94 2263.18 L2328.07 2263.18 L2321.84 2287.94 Q2321.35 2290.11 2321.35 2291.96 Q2321.35 2294.01 2321.96 2294.91 Q2322.62 2295.81 2323.97 2295.81 Q2326.63 2295.81 2329.5 2293.39 Q2332.41 2290.97 2334.87 2285.07 Q2335.2 2284.29 2335.37 2284.13 Q2335.57 2283.92 2336.1 2283.92 Q2337.13 2283.92 2337.13 2284.74 Q2337.13 2285.03 2336.55 2286.34 Q2336.02 2287.65 2334.83 2289.58 Q2333.69 2291.5 2332.17 2293.31 Q2330.69 2295.11 2328.44 2296.42 Q2326.18 2297.69 2323.77 2297.69 Q2320.36 2297.69 2318.19 2295.52 Q2316.06 2293.35 2316.06 2289.95 Q2316.06 2288.84 2316.92 2285.32 Q2317.78 2281.75 2322.45 2263.18 L2315.03 2263.18 Q2314.01 2263.18 2313.6 2263.14 Q2313.23 2263.1 2312.94 2262.89 Q2312.7 2262.65 2312.7 2262.16 Q2312.7 2261.38 2313.03 2261.05 Q2313.35 2260.68 2313.76 2260.64 Q2314.22 2260.56 2315.24 2260.56 L2323.11 2260.56 L2326.39 2247.24 Q2326.72 2245.92 2327.54 2245.19 Q2328.4 2244.41 2328.89 2244.33 Q2329.38 2244.2 2329.75 2244.2 Q2330.86 2244.2 2331.51 2244.82 Q2332.17 2245.39 2332.17 2246.46 Q2332.17 2247.03 2328.73 2260.56 L2336.1 2260.56 Q2337.05 2260.56 2337.42 2260.6 Q2337.82 2260.64 2338.15 2260.84 Q2338.48 2261.05 2338.48 2261.5 Z\" fill=\"#000000\" fill-rule=\"nonzero\" fill-opacity=\"1\" /><path clip-path=\"url(#clip140)\" d=\"M2290.13 2146.54 L2288.45 2161.05 Q2288.33 2162.36 2288.12 2162.77 Q2287.92 2163.14 2287.26 2163.14 Q2286.77 2163.14 2286.48 2162.85 Q2286.24 2162.53 2286.24 2162.16 Q2286.24 2161.95 2286.28 2161.42 Q2286.32 2160.89 2286.32 2160.64 Q2286.69 2158.1 2286.69 2156.17 Q2286.69 2152.61 2285.62 2150.68 Q2284.56 2148.71 2281.81 2147.81 Q2279.07 2146.87 2273.9 2146.87 L2262.1 2146.87 Q2259.39 2146.87 2258.73 2147.36 Q2258.12 2147.85 2257.55 2150.15 L2252.5 2170.36 L2260.42 2170.36 Q2263.37 2170.36 2265.13 2169.99 Q2266.93 2169.62 2268.12 2168.59 Q2269.35 2167.53 2270.01 2166.09 Q2270.7 2164.66 2271.4 2162.08 Q2271.61 2161.21 2271.81 2160.89 Q2272.06 2160.56 2272.59 2160.56 Q2273 2160.56 2273.29 2160.85 Q2273.57 2161.09 2273.57 2161.46 L2268.78 2181.09 Q2268.53 2182.08 2268.28 2182.45 Q2268.04 2182.77 2267.55 2182.77 Q2267.01 2182.77 2266.73 2182.49 Q2266.44 2182.2 2266.44 2181.87 Q2266.44 2181.55 2266.69 2180.93 Q2267.3 2178.27 2267.3 2176.83 Q2267.3 2176.01 2267.22 2175.6 Q2267.18 2175.19 2266.81 2174.62 Q2266.48 2174 2265.74 2173.72 Q2265.01 2173.43 2263.61 2173.22 Q2262.22 2172.98 2260.13 2172.98 L2251.85 2172.98 L2246.11 2195.89 Q2245.7 2197.41 2245.7 2197.82 Q2245.7 2198.27 2245.9 2198.43 Q2246.15 2198.56 2246.81 2198.64 Q2247.54 2198.76 2248.65 2198.76 L2260.91 2198.76 Q2263.61 2198.76 2265.78 2198.51 Q2267.96 2198.27 2269.76 2197.65 Q2271.61 2197.04 2273 2196.34 Q2274.39 2195.65 2275.7 2194.37 Q2277.02 2193.06 2277.92 2191.92 Q2278.86 2190.73 2279.97 2188.72 Q2281.07 2186.71 2281.85 2185.07 Q2282.63 2183.39 2283.82 2180.68 Q2284.15 2179.7 2284.93 2179.7 Q2285.38 2179.7 2285.62 2179.95 Q2285.87 2180.15 2285.91 2180.36 L2285.91 2180.6 Q2285.66 2181.38 2285.5 2181.79 L2277.79 2199.91 Q2277.34 2200.93 2276.97 2201.14 Q2276.61 2201.34 2275.17 2201.34 L2231.6 2201.34 Q2230.62 2201.34 2230.21 2201.3 Q2229.84 2201.26 2229.55 2201.06 Q2229.26 2200.81 2229.26 2200.32 Q2229.26 2199.54 2229.59 2199.21 Q2229.92 2198.84 2230.29 2198.8 Q2230.66 2198.76 2231.6 2198.76 Q2233.65 2198.76 2234.88 2198.64 Q2236.11 2198.51 2236.89 2198.35 Q2237.71 2198.15 2238.12 2197.57 Q2238.57 2197 2238.77 2196.51 Q2238.98 2195.97 2239.26 2194.78 L2250.33 2150.39 Q2250.74 2148.88 2250.74 2148.38 Q2250.74 2147.85 2250.37 2147.52 Q2250.04 2147.2 2249.14 2147.07 Q2248.24 2146.91 2247.5 2146.91 Q2246.81 2146.87 2245.29 2146.87 Q2244.31 2146.87 2243.9 2146.83 Q2243.53 2146.79 2243.24 2146.58 Q2242.95 2146.38 2242.95 2145.93 Q2242.95 2144.78 2243.45 2144.53 Q2243.98 2144.24 2245.45 2144.24 L2287.84 2144.24 Q2289.52 2144.24 2289.89 2144.61 Q2290.3 2144.94 2290.13 2146.54 Z\" fill=\"#000000\" fill-rule=\"nonzero\" fill-opacity=\"1\" /><polyline clip-path=\"url(#clip140)\" style=\"stroke:#000000; stroke-linecap:round; stroke-linejoin:round; stroke-width:4; stroke-opacity:1; fill:none\" points=\"577.033,2009.36 577.033,437.247 \"/>\n",
       "<polyline clip-path=\"url(#clip140)\" style=\"stroke:#000000; stroke-linecap:round; stroke-linejoin:round; stroke-width:4; stroke-opacity:1; fill:none\" points=\"577.033,1809.57 595.931,1809.57 \"/>\n",
       "<polyline clip-path=\"url(#clip140)\" style=\"stroke:#000000; stroke-linecap:round; stroke-linejoin:round; stroke-width:4; stroke-opacity:1; fill:none\" points=\"577.033,1508.27 595.931,1508.27 \"/>\n",
       "<polyline clip-path=\"url(#clip140)\" style=\"stroke:#000000; stroke-linecap:round; stroke-linejoin:round; stroke-width:4; stroke-opacity:1; fill:none\" points=\"577.033,1206.98 595.931,1206.98 \"/>\n",
       "<polyline clip-path=\"url(#clip140)\" style=\"stroke:#000000; stroke-linecap:round; stroke-linejoin:round; stroke-width:4; stroke-opacity:1; fill:none\" points=\"577.033,905.679 595.931,905.679 \"/>\n",
       "<polyline clip-path=\"url(#clip140)\" style=\"stroke:#000000; stroke-linecap:round; stroke-linejoin:round; stroke-width:4; stroke-opacity:1; fill:none\" points=\"577.033,604.382 595.931,604.382 \"/>\n",
       "<path clip-path=\"url(#clip140)\" d=\"M278.232 1810.36 L330.165 1810.36 L330.165 1817.25 L278.232 1817.25 L278.232 1810.36 Z\" fill=\"#000000\" fill-rule=\"nonzero\" fill-opacity=\"1\" /><path clip-path=\"url(#clip140)\" d=\"M365.327 1784.72 Q359.007 1784.72 355.807 1790.96 Q352.648 1797.15 352.648 1809.63 Q352.648 1822.07 355.807 1828.31 Q359.007 1834.5 365.327 1834.5 Q371.687 1834.5 374.847 1828.31 Q378.047 1822.07 378.047 1809.63 Q378.047 1797.15 374.847 1790.96 Q371.687 1784.72 365.327 1784.72 M365.327 1778.24 Q375.495 1778.24 380.842 1786.3 Q386.23 1794.32 386.23 1809.63 Q386.23 1824.9 380.842 1832.96 Q375.495 1840.98 365.327 1840.98 Q355.159 1840.98 349.771 1832.96 Q344.424 1824.9 344.424 1809.63 Q344.424 1794.32 349.771 1786.3 Q355.159 1778.24 365.327 1778.24 Z\" fill=\"#000000\" fill-rule=\"nonzero\" fill-opacity=\"1\" /><path clip-path=\"url(#clip140)\" d=\"M400.61 1829.52 L409.158 1829.52 L409.158 1839.81 L400.61 1839.81 L400.61 1829.52 Z\" fill=\"#000000\" fill-rule=\"nonzero\" fill-opacity=\"1\" /><path clip-path=\"url(#clip140)\" d=\"M444.482 1784.72 Q438.162 1784.72 434.962 1790.96 Q431.802 1797.15 431.802 1809.63 Q431.802 1822.07 434.962 1828.31 Q438.162 1834.5 444.482 1834.5 Q450.841 1834.5 454.001 1828.31 Q457.201 1822.07 457.201 1809.63 Q457.201 1797.15 454.001 1790.96 Q450.841 1784.72 444.482 1784.72 M444.482 1778.24 Q454.649 1778.24 459.997 1786.3 Q465.384 1794.32 465.384 1809.63 Q465.384 1824.9 459.997 1832.96 Q454.649 1840.98 444.482 1840.98 Q434.314 1840.98 428.926 1832.96 Q423.579 1824.9 423.579 1809.63 Q423.579 1794.32 428.926 1786.3 Q434.314 1778.24 444.482 1778.24 Z\" fill=\"#000000\" fill-rule=\"nonzero\" fill-opacity=\"1\" /><path clip-path=\"url(#clip140)\" d=\"M504.556 1807.2 Q510.43 1808.46 513.712 1812.43 Q517.033 1816.4 517.033 1822.23 Q517.033 1831.18 510.876 1836.08 Q504.718 1840.98 493.376 1840.98 Q489.568 1840.98 485.517 1840.22 Q481.507 1839.49 477.213 1837.99 L477.213 1830.09 Q480.616 1832.07 484.667 1833.09 Q488.717 1834.1 493.133 1834.1 Q500.83 1834.1 504.84 1831.06 Q508.891 1828.02 508.891 1822.23 Q508.891 1816.88 505.124 1813.88 Q501.397 1810.85 494.713 1810.85 L487.664 1810.85 L487.664 1804.12 L495.037 1804.12 Q501.073 1804.12 504.273 1801.73 Q507.473 1799.3 507.473 1794.76 Q507.473 1790.11 504.151 1787.63 Q500.87 1785.12 494.713 1785.12 Q491.351 1785.12 487.502 1785.85 Q483.654 1786.58 479.036 1788.12 L479.036 1780.83 Q483.694 1779.53 487.745 1778.88 Q491.837 1778.24 495.442 1778.24 Q504.759 1778.24 510.187 1782.49 Q515.615 1786.7 515.615 1793.91 Q515.615 1798.94 512.739 1802.42 Q509.863 1805.86 504.556 1807.2 Z\" fill=\"#000000\" fill-rule=\"nonzero\" fill-opacity=\"1\" /><path clip-path=\"url(#clip140)\" d=\"M279.893 1509.06 L331.826 1509.06 L331.826 1515.95 L279.893 1515.95 L279.893 1509.06 Z\" fill=\"#000000\" fill-rule=\"nonzero\" fill-opacity=\"1\" /><path clip-path=\"url(#clip140)\" d=\"M366.988 1483.42 Q360.668 1483.42 357.468 1489.66 Q354.308 1495.86 354.308 1508.33 Q354.308 1520.77 357.468 1527.01 Q360.668 1533.21 366.988 1533.21 Q373.348 1533.21 376.507 1527.01 Q379.708 1520.77 379.708 1508.33 Q379.708 1495.86 376.507 1489.66 Q373.348 1483.42 366.988 1483.42 M366.988 1476.94 Q377.156 1476.94 382.503 1485 Q387.89 1493.02 387.89 1508.33 Q387.89 1523.61 382.503 1531.67 Q377.156 1539.69 366.988 1539.69 Q356.82 1539.69 351.432 1531.67 Q346.085 1523.61 346.085 1508.33 Q346.085 1493.02 351.432 1485 Q356.82 1476.94 366.988 1476.94 Z\" fill=\"#000000\" fill-rule=\"nonzero\" fill-opacity=\"1\" /><path clip-path=\"url(#clip140)\" d=\"M402.271 1528.22 L410.819 1528.22 L410.819 1538.51 L402.271 1538.51 L402.271 1528.22 Z\" fill=\"#000000\" fill-rule=\"nonzero\" fill-opacity=\"1\" /><path clip-path=\"url(#clip140)\" d=\"M446.142 1483.42 Q439.823 1483.42 436.623 1489.66 Q433.463 1495.86 433.463 1508.33 Q433.463 1520.77 436.623 1527.01 Q439.823 1533.21 446.142 1533.21 Q452.502 1533.21 455.662 1527.01 Q458.862 1520.77 458.862 1508.33 Q458.862 1495.86 455.662 1489.66 Q452.502 1483.42 446.142 1483.42 M446.142 1476.94 Q456.31 1476.94 461.657 1485 Q467.045 1493.02 467.045 1508.33 Q467.045 1523.61 461.657 1531.67 Q456.31 1539.69 446.142 1539.69 Q435.975 1539.69 430.587 1531.67 Q425.24 1523.61 425.24 1508.33 Q425.24 1493.02 430.587 1485 Q435.975 1476.94 446.142 1476.94 Z\" fill=\"#000000\" fill-rule=\"nonzero\" fill-opacity=\"1\" /><path clip-path=\"url(#clip140)\" d=\"M488.474 1531.63 L517.033 1531.63 L517.033 1538.51 L478.631 1538.51 L478.631 1531.63 Q483.289 1526.81 491.31 1518.7 Q499.371 1510.56 501.437 1508.21 Q505.367 1503.8 506.906 1500.76 Q508.486 1497.68 508.486 1494.72 Q508.486 1489.9 505.083 1486.86 Q501.721 1483.83 496.293 1483.83 Q492.444 1483.83 488.15 1485.16 Q483.897 1486.5 479.036 1489.21 L479.036 1480.95 Q483.978 1478.96 488.272 1477.95 Q492.566 1476.94 496.131 1476.94 Q505.529 1476.94 511.119 1481.64 Q516.709 1486.34 516.709 1494.2 Q516.709 1497.92 515.291 1501.29 Q513.914 1504.61 510.228 1509.14 Q509.215 1510.32 503.787 1515.95 Q498.359 1521.54 488.474 1531.63 Z\" fill=\"#000000\" fill-rule=\"nonzero\" fill-opacity=\"1\" /><path clip-path=\"url(#clip140)\" d=\"M279.245 1207.77 L331.178 1207.77 L331.178 1214.65 L279.245 1214.65 L279.245 1207.77 Z\" fill=\"#000000\" fill-rule=\"nonzero\" fill-opacity=\"1\" /><path clip-path=\"url(#clip140)\" d=\"M366.34 1182.12 Q360.02 1182.12 356.82 1188.36 Q353.66 1194.56 353.66 1207.04 Q353.66 1219.47 356.82 1225.71 Q360.02 1231.91 366.34 1231.91 Q372.7 1231.91 375.859 1225.71 Q379.059 1219.47 379.059 1207.04 Q379.059 1194.56 375.859 1188.36 Q372.7 1182.12 366.34 1182.12 M366.34 1175.64 Q376.507 1175.64 381.855 1183.7 Q387.242 1191.72 387.242 1207.04 Q387.242 1222.31 381.855 1230.37 Q376.507 1238.39 366.34 1238.39 Q356.172 1238.39 350.784 1230.37 Q345.437 1222.31 345.437 1207.04 Q345.437 1191.72 350.784 1183.7 Q356.172 1175.64 366.34 1175.64 Z\" fill=\"#000000\" fill-rule=\"nonzero\" fill-opacity=\"1\" /><path clip-path=\"url(#clip140)\" d=\"M401.623 1226.93 L410.17 1226.93 L410.17 1237.22 L401.623 1237.22 L401.623 1226.93 Z\" fill=\"#000000\" fill-rule=\"nonzero\" fill-opacity=\"1\" /><path clip-path=\"url(#clip140)\" d=\"M445.494 1182.12 Q439.175 1182.12 435.975 1188.36 Q432.815 1194.56 432.815 1207.04 Q432.815 1219.47 435.975 1225.71 Q439.175 1231.91 445.494 1231.91 Q451.854 1231.91 455.014 1225.71 Q458.214 1219.47 458.214 1207.04 Q458.214 1194.56 455.014 1188.36 Q451.854 1182.12 445.494 1182.12 M445.494 1175.64 Q455.662 1175.64 461.009 1183.7 Q466.397 1191.72 466.397 1207.04 Q466.397 1222.31 461.009 1230.37 Q455.662 1238.39 445.494 1238.39 Q435.327 1238.39 429.939 1230.37 Q424.592 1222.31 424.592 1207.04 Q424.592 1191.72 429.939 1183.7 Q435.327 1175.64 445.494 1175.64 Z\" fill=\"#000000\" fill-rule=\"nonzero\" fill-opacity=\"1\" /><path clip-path=\"url(#clip140)\" d=\"M482.195 1230.33 L495.563 1230.33 L495.563 1184.19 L481.021 1187.11 L481.021 1179.65 L495.482 1176.74 L503.665 1176.74 L503.665 1230.33 L517.033 1230.33 L517.033 1237.22 L482.195 1237.22 L482.195 1230.33 Z\" fill=\"#000000\" fill-rule=\"nonzero\" fill-opacity=\"1\" /><path clip-path=\"url(#clip140)\" d=\"M364.193 880.826 Q357.873 880.826 354.673 887.065 Q351.513 893.263 351.513 905.739 Q351.513 918.176 354.673 924.414 Q357.873 930.612 364.193 930.612 Q370.553 930.612 373.712 924.414 Q376.912 918.176 376.912 905.739 Q376.912 893.263 373.712 887.065 Q370.553 880.826 364.193 880.826 M364.193 874.345 Q374.36 874.345 379.708 882.406 Q385.095 890.427 385.095 905.739 Q385.095 921.011 379.708 929.073 Q374.36 937.093 364.193 937.093 Q354.025 937.093 348.637 929.073 Q343.29 921.011 343.29 905.739 Q343.29 890.427 348.637 882.406 Q354.025 874.345 364.193 874.345 Z\" fill=\"#000000\" fill-rule=\"nonzero\" fill-opacity=\"1\" /><path clip-path=\"url(#clip140)\" d=\"M399.476 925.629 L408.023 925.629 L408.023 935.919 L399.476 935.919 L399.476 925.629 Z\" fill=\"#000000\" fill-rule=\"nonzero\" fill-opacity=\"1\" /><path clip-path=\"url(#clip140)\" d=\"M443.347 880.826 Q437.028 880.826 433.828 887.065 Q430.668 893.263 430.668 905.739 Q430.668 918.176 433.828 924.414 Q437.028 930.612 443.347 930.612 Q449.707 930.612 452.867 924.414 Q456.067 918.176 456.067 905.739 Q456.067 893.263 452.867 887.065 Q449.707 880.826 443.347 880.826 M443.347 874.345 Q453.515 874.345 458.862 882.406 Q464.25 890.427 464.25 905.739 Q464.25 921.011 458.862 929.073 Q453.515 937.093 443.347 937.093 Q433.18 937.093 427.792 929.073 Q422.445 921.011 422.445 905.739 Q422.445 890.427 427.792 882.406 Q433.18 874.345 443.347 874.345 Z\" fill=\"#000000\" fill-rule=\"nonzero\" fill-opacity=\"1\" /><path clip-path=\"url(#clip140)\" d=\"M496.131 880.826 Q489.811 880.826 486.611 887.065 Q483.451 893.263 483.451 905.739 Q483.451 918.176 486.611 924.414 Q489.811 930.612 496.131 930.612 Q502.49 930.612 505.65 924.414 Q508.85 918.176 508.85 905.739 Q508.85 893.263 505.65 887.065 Q502.49 880.826 496.131 880.826 M496.131 874.345 Q506.298 874.345 511.646 882.406 Q517.033 890.427 517.033 905.739 Q517.033 921.011 511.646 929.073 Q506.298 937.093 496.131 937.093 Q485.963 937.093 480.575 929.073 Q475.228 921.011 475.228 905.739 Q475.228 890.427 480.575 882.406 Q485.963 874.345 496.131 874.345 Z\" fill=\"#000000\" fill-rule=\"nonzero\" fill-opacity=\"1\" /><path clip-path=\"url(#clip140)\" d=\"M366.34 579.529 Q360.02 579.529 356.82 585.768 Q353.66 591.966 353.66 604.442 Q353.66 616.879 356.82 623.117 Q360.02 629.315 366.34 629.315 Q372.7 629.315 375.859 623.117 Q379.059 616.879 379.059 604.442 Q379.059 591.966 375.859 585.768 Q372.7 579.529 366.34 579.529 M366.34 573.048 Q376.507 573.048 381.855 581.109 Q387.242 589.13 387.242 604.442 Q387.242 619.714 381.855 627.776 Q376.507 635.796 366.34 635.796 Q356.172 635.796 350.784 627.776 Q345.437 619.714 345.437 604.442 Q345.437 589.13 350.784 581.109 Q356.172 573.048 366.34 573.048 Z\" fill=\"#000000\" fill-rule=\"nonzero\" fill-opacity=\"1\" /><path clip-path=\"url(#clip140)\" d=\"M401.623 624.332 L410.17 624.332 L410.17 634.622 L401.623 634.622 L401.623 624.332 Z\" fill=\"#000000\" fill-rule=\"nonzero\" fill-opacity=\"1\" /><path clip-path=\"url(#clip140)\" d=\"M445.494 579.529 Q439.175 579.529 435.975 585.768 Q432.815 591.966 432.815 604.442 Q432.815 616.879 435.975 623.117 Q439.175 629.315 445.494 629.315 Q451.854 629.315 455.014 623.117 Q458.214 616.879 458.214 604.442 Q458.214 591.966 455.014 585.768 Q451.854 579.529 445.494 579.529 M445.494 573.048 Q455.662 573.048 461.009 581.109 Q466.397 589.13 466.397 604.442 Q466.397 619.714 461.009 627.776 Q455.662 635.796 445.494 635.796 Q435.327 635.796 429.939 627.776 Q424.592 619.714 424.592 604.442 Q424.592 589.13 429.939 581.109 Q435.327 573.048 445.494 573.048 Z\" fill=\"#000000\" fill-rule=\"nonzero\" fill-opacity=\"1\" /><path clip-path=\"url(#clip140)\" d=\"M482.195 627.735 L495.563 627.735 L495.563 581.595 L481.021 584.512 L481.021 577.058 L495.482 574.142 L503.665 574.142 L503.665 627.735 L517.033 627.735 L517.033 634.622 L482.195 634.622 L482.195 627.735 Z\" fill=\"#000000\" fill-rule=\"nonzero\" fill-opacity=\"1\" /><path clip-path=\"url(#clip140)\" d=\"M105.912 1799.11 L105.912 1787.42 L182.475 1787.42 L182.475 1745.35 L192.312 1745.35 L192.312 1799.11 L105.912 1799.11 Z\" fill=\"#000000\" fill-rule=\"nonzero\" fill-opacity=\"1\" /><path clip-path=\"url(#clip140)\" d=\"M198.331 1717.46 Q209.905 1721.97 213.435 1726.25 Q216.965 1730.54 216.965 1737.71 L216.965 1746.22 L208.053 1746.22 L208.053 1739.97 Q208.053 1735.57 205.97 1733.14 Q203.886 1730.71 196.132 1727.76 L191.271 1725.85 L127.498 1752.06 L127.498 1740.78 L178.192 1720.53 L127.498 1700.27 L127.498 1688.99 L198.331 1717.46 Z\" fill=\"#000000\" fill-rule=\"nonzero\" fill-opacity=\"1\" /><path clip-path=\"url(#clip140)\" d=\"M159.732 1644.83 Q159.732 1657.74 162.683 1662.71 Q165.634 1667.69 172.752 1667.69 Q178.424 1667.69 181.78 1663.99 Q185.079 1660.22 185.079 1653.8 Q185.079 1644.95 178.829 1639.62 Q172.521 1634.24 162.104 1634.24 L159.732 1634.24 L159.732 1644.83 M155.333 1623.59 L192.312 1623.59 L192.312 1634.24 L182.475 1634.24 Q188.377 1637.89 191.213 1643.33 Q193.991 1648.77 193.991 1656.64 Q193.991 1666.59 188.435 1672.49 Q182.822 1678.34 173.447 1678.34 Q162.509 1678.34 156.954 1671.05 Q151.398 1663.7 151.398 1649.17 L151.398 1634.24 L150.357 1634.24 Q143.007 1634.24 139.014 1639.1 Q134.963 1643.91 134.963 1652.64 Q134.963 1658.2 136.294 1663.47 Q137.625 1668.73 140.287 1673.59 L130.449 1673.59 Q128.192 1667.75 127.093 1662.25 Q125.935 1656.75 125.935 1651.54 Q125.935 1637.48 133.227 1630.54 Q140.519 1623.59 155.333 1623.59 Z\" fill=\"#000000\" fill-rule=\"nonzero\" fill-opacity=\"1\" /><path clip-path=\"url(#clip140)\" d=\"M182.59 1591.36 L216.965 1591.36 L216.965 1602.07 L127.498 1602.07 L127.498 1591.36 L137.336 1591.36 Q131.549 1588 128.771 1582.91 Q125.935 1577.76 125.935 1570.64 Q125.935 1558.84 135.31 1551.49 Q144.685 1544.08 159.963 1544.08 Q175.241 1544.08 184.616 1551.49 Q193.991 1558.84 193.991 1570.64 Q193.991 1577.76 191.213 1582.91 Q188.377 1588 182.59 1591.36 M159.963 1555.13 Q148.215 1555.13 141.56 1559.99 Q134.847 1564.8 134.847 1573.25 Q134.847 1581.7 141.56 1586.56 Q148.215 1591.36 159.963 1591.36 Q171.711 1591.36 178.424 1586.56 Q185.079 1581.7 185.079 1573.25 Q185.079 1564.8 178.424 1559.99 Q171.711 1555.13 159.963 1555.13 Z\" fill=\"#000000\" fill-rule=\"nonzero\" fill-opacity=\"1\" /><path clip-path=\"url(#clip140)\" d=\"M166.734 1527.53 L127.498 1527.53 L127.498 1516.88 L166.329 1516.88 Q175.53 1516.88 180.16 1513.29 Q184.731 1509.7 184.731 1502.53 Q184.731 1493.91 179.234 1488.93 Q173.736 1483.89 164.245 1483.89 L127.498 1483.89 L127.498 1473.25 L192.312 1473.25 L192.312 1483.89 L182.359 1483.89 Q188.262 1487.77 191.155 1492.92 Q193.991 1498.02 193.991 1504.79 Q193.991 1515.95 187.046 1521.74 Q180.102 1527.53 166.734 1527.53 M125.935 1500.73 L125.935 1500.73 Z\" fill=\"#000000\" fill-rule=\"nonzero\" fill-opacity=\"1\" /><path clip-path=\"url(#clip140)\" d=\"M153.192 1397.44 L192.312 1397.44 L192.312 1408.08 L153.54 1408.08 Q144.338 1408.08 139.766 1411.67 Q135.195 1415.26 135.195 1422.44 Q135.195 1431.06 140.692 1436.04 Q146.19 1441.01 155.681 1441.01 L192.312 1441.01 L192.312 1451.72 L127.498 1451.72 L127.498 1441.01 L137.567 1441.01 Q131.722 1437.19 128.829 1432.04 Q125.935 1426.83 125.935 1420.06 Q125.935 1408.9 132.88 1403.17 Q139.766 1397.44 153.192 1397.44 Z\" fill=\"#000000\" fill-rule=\"nonzero\" fill-opacity=\"1\" /><path clip-path=\"url(#clip140)\" d=\"M134.963 1351.08 Q134.963 1359.65 141.676 1364.62 Q148.331 1369.6 159.963 1369.6 Q171.595 1369.6 178.308 1364.68 Q184.963 1359.71 184.963 1351.08 Q184.963 1342.58 178.25 1337.6 Q171.537 1332.62 159.963 1332.62 Q148.447 1332.62 141.734 1337.6 Q134.963 1342.58 134.963 1351.08 M125.935 1351.08 Q125.935 1337.19 134.963 1329.27 Q143.991 1321.34 159.963 1321.34 Q175.877 1321.34 184.963 1329.27 Q193.991 1337.19 193.991 1351.08 Q193.991 1365.03 184.963 1372.96 Q175.877 1380.83 159.963 1380.83 Q143.991 1380.83 134.963 1372.96 Q125.935 1365.03 125.935 1351.08 Z\" fill=\"#000000\" fill-rule=\"nonzero\" fill-opacity=\"1\" /><path clip-path=\"url(#clip140)\" d=\"M127.498 1311.33 L127.498 1300.04 L181.896 1279.79 L127.498 1259.53 L127.498 1248.25 L192.312 1272.55 L192.312 1287.02 L127.498 1311.33 Z\" fill=\"#000000\" fill-rule=\"nonzero\" fill-opacity=\"1\" /><path clip-path=\"url(#clip140)\" d=\"M105.912 1195.41 L105.912 1140.78 L115.75 1140.78 L115.75 1183.72 L141.329 1183.72 L141.329 1142.58 L151.167 1142.58 L151.167 1183.72 L182.475 1183.72 L182.475 1139.74 L192.312 1139.74 L192.312 1195.41 L105.912 1195.41 Z\" fill=\"#000000\" fill-rule=\"nonzero\" fill-opacity=\"1\" /><path clip-path=\"url(#clip140)\" d=\"M127.498 1067.11 L159.037 1090.55 L192.312 1065.9 L192.312 1078.46 L166.85 1097.32 L192.312 1116.19 L192.312 1128.75 L158.401 1103.57 L127.498 1126.6 L127.498 1114.05 L150.588 1096.86 L127.498 1079.67 L127.498 1067.11 Z\" fill=\"#000000\" fill-rule=\"nonzero\" fill-opacity=\"1\" /><path clip-path=\"url(#clip140)\" d=\"M182.59 1040.55 L216.965 1040.55 L216.965 1051.26 L127.498 1051.26 L127.498 1040.55 L137.336 1040.55 Q131.549 1037.2 128.771 1032.1 Q125.935 1026.95 125.935 1019.83 Q125.935 1008.03 135.31 1000.68 Q144.685 993.272 159.963 993.272 Q175.241 993.272 184.616 1000.68 Q193.991 1008.03 193.991 1019.83 Q193.991 1026.95 191.213 1032.1 Q188.377 1037.2 182.59 1040.55 M159.963 1004.33 Q148.215 1004.33 141.56 1009.19 Q134.847 1013.99 134.847 1022.44 Q134.847 1030.89 141.56 1035.75 Q148.215 1040.55 159.963 1040.55 Q171.711 1040.55 178.424 1035.75 Q185.079 1030.89 185.079 1022.44 Q185.079 1013.99 178.424 1009.19 Q171.711 1004.33 159.963 1004.33 Z\" fill=\"#000000\" fill-rule=\"nonzero\" fill-opacity=\"1\" /><path clip-path=\"url(#clip140)\" d=\"M134.963 950.506 Q134.963 959.071 141.676 964.048 Q148.331 969.025 159.963 969.025 Q171.595 969.025 178.308 964.106 Q184.963 959.129 184.963 950.506 Q184.963 941.999 178.25 937.023 Q171.537 932.046 159.963 932.046 Q148.447 932.046 141.734 937.023 Q134.963 941.999 134.963 950.506 M125.935 950.506 Q125.935 936.618 134.963 928.689 Q143.991 920.761 159.963 920.761 Q175.877 920.761 184.963 928.689 Q193.991 936.618 193.991 950.506 Q193.991 964.453 184.963 972.381 Q175.877 980.252 159.963 980.252 Q143.991 980.252 134.963 972.381 Q125.935 964.453 125.935 950.506 Z\" fill=\"#000000\" fill-rule=\"nonzero\" fill-opacity=\"1\" /><path clip-path=\"url(#clip140)\" d=\"M153.192 849.234 L192.312 849.234 L192.312 859.882 L153.54 859.882 Q144.338 859.882 139.766 863.47 Q135.195 867.058 135.195 874.234 Q135.195 882.856 140.692 887.833 Q146.19 892.81 155.681 892.81 L192.312 892.81 L192.312 903.516 L127.498 903.516 L127.498 892.81 L137.567 892.81 Q131.722 888.991 128.829 883.84 Q125.935 878.632 125.935 871.861 Q125.935 860.692 132.88 854.963 Q139.766 849.234 153.192 849.234 Z\" fill=\"#000000\" fill-rule=\"nonzero\" fill-opacity=\"1\" /><path clip-path=\"url(#clip140)\" d=\"M157.243 772.556 L162.451 772.556 L162.451 821.514 Q173.447 820.82 179.234 814.917 Q184.963 808.956 184.963 798.366 Q184.963 792.232 183.458 786.503 Q181.954 780.716 178.944 775.044 L189.014 775.044 Q191.444 780.774 192.718 786.792 Q193.991 792.81 193.991 799.003 Q193.991 814.512 184.963 823.597 Q175.935 832.625 160.542 832.625 Q144.628 832.625 135.31 824.06 Q125.935 815.438 125.935 800.854 Q125.935 787.776 134.385 780.195 Q142.776 772.556 157.243 772.556 M154.118 783.204 Q145.38 783.32 140.172 788.123 Q134.963 792.868 134.963 800.739 Q134.963 809.651 139.998 815.033 Q145.033 820.357 154.176 821.167 L154.118 783.204 Z\" fill=\"#000000\" fill-rule=\"nonzero\" fill-opacity=\"1\" /><path clip-path=\"url(#clip140)\" d=\"M153.192 701.202 L192.312 701.202 L192.312 711.85 L153.54 711.85 Q144.338 711.85 139.766 715.438 Q135.195 719.026 135.195 726.202 Q135.195 734.825 140.692 739.801 Q146.19 744.778 155.681 744.778 L192.312 744.778 L192.312 755.484 L127.498 755.484 L127.498 744.778 L137.567 744.778 Q131.722 740.959 128.829 735.808 Q125.935 730.6 125.935 723.829 Q125.935 712.66 132.88 706.931 Q139.766 701.202 153.192 701.202 Z\" fill=\"#000000\" fill-rule=\"nonzero\" fill-opacity=\"1\" /><path clip-path=\"url(#clip140)\" d=\"M109.095 669.432 L127.498 669.432 L127.498 647.499 L135.773 647.499 L135.773 669.432 L170.958 669.432 Q178.887 669.432 181.144 667.29 Q183.4 665.091 183.4 658.436 L183.4 647.499 L192.312 647.499 L192.312 658.436 Q192.312 670.763 187.741 675.45 Q183.111 680.137 170.958 680.137 L135.773 680.137 L135.773 687.95 L127.498 687.95 L127.498 680.137 L109.095 680.137 L109.095 669.432 Z\" fill=\"#000000\" fill-rule=\"nonzero\" fill-opacity=\"1\" /><path clip-path=\"url(#clip140)\" d=\"M2119.56 55.883 Q2119.56 57.1127 2118.51 58.1081 Q2117.51 59.1036 2116.28 59.1036 Q2115.58 59.1036 2113.88 57.9324 Q2109.02 54.5362 2102.87 54.5362 Q2097.37 54.5362 2092.27 55.883 Q2087.18 57.2298 2083.72 59.9819 Q2080.33 62.6755 2080.33 66.1888 Q2080.33 70.5806 2085.13 73.157 Q2090.11 70.8733 2096.26 70.8733 Q2098.25 70.8733 2099.59 70.9904 Q2101 71.1076 2102.35 71.4003 Q2103.69 71.6931 2104.34 72.3958 Q2105.04 73.0399 2105.04 74.0939 Q2105.04 77.8415 2095.32 77.8415 Q2088.99 77.8415 2085.01 76.1434 Q2079.92 78.6613 2077.11 82.7017 Q2074.3 86.742 2074.3 90.1969 Q2074.3 93.1832 2075.94 95.3498 Q2077.63 97.5164 2080.39 98.5704 Q2083.2 99.6244 2085.95 100.093 Q2088.76 100.503 2091.86 100.503 Q2096.96 100.503 2100.53 99.8586 Q2104.16 99.1559 2106.15 97.8677 Q2108.2 96.5795 2109.02 95.7011 Q2109.9 94.7642 2110.78 93.3003 Q2111.3 92.4805 2112.01 92.4805 Q2112.53 92.4805 2112.89 92.8319 Q2113.3 93.1247 2113.3 93.6517 Q2113.3 94.2958 2112.48 95.6426 Q2111.71 96.9894 2109.84 98.8046 Q2108.03 100.561 2105.51 102.201 Q2103.05 103.782 2099.12 104.894 Q2095.2 106.007 2090.75 106.007 Q2081.68 106.007 2076.41 101.557 Q2071.19 97.1065 2071.19 90.8995 Q2071.19 86.5664 2074.06 82.1161 Q2076.99 77.6073 2082.14 74.738 Q2077.34 71.1661 2077.34 66.1888 Q2077.34 61.7386 2081.09 57.7568 Q2084.9 53.775 2091.04 51.4327 Q2097.25 49.0319 2104.04 49.0319 Q2107.85 49.0319 2111.6 50.3201 Q2115.34 51.5498 2117.45 53.1308 Q2119.56 54.7119 2119.56 55.883 M2101.94 74.211 Q2099.36 73.5084 2096.26 73.5084 Q2092.04 73.5084 2088.94 74.5624 Q2091.45 75.2065 2095.32 75.2065 Q2098.54 75.2065 2099.48 75.0308 Q2100.47 74.8552 2101.94 74.211 Z\" fill=\"#000000\" fill-rule=\"nonzero\" fill-opacity=\"1\" /><path clip-path=\"url(#clip140)\" d=\"M2159.79 85.161 Q2159.91 83.6971 2162.19 83.6971 L2235.68 83.6971 Q2239.13 83.6971 2239.19 85.0439 Q2239.19 86.5078 2235.91 86.4493 L2163.01 86.4493 Q2159.79 86.5078 2159.79 85.161 M2159.79 61.7386 Q2159.79 60.2747 2162.31 60.3332 L2235.56 60.3332 Q2239.13 60.3332 2239.19 61.7386 Q2239.19 63.0854 2236.15 63.0854 L2162.19 63.0854 Q2159.79 63.0854 2159.79 61.7386 Z\" fill=\"#000000\" fill-rule=\"nonzero\" fill-opacity=\"1\" /><path clip-path=\"url(#clip140)\" d=\"M2291 101.578 L2291 90.9299 Q2295.4 93.0132 2299.92 94.1128 Q2304.43 95.2123 2308.77 95.2123 Q2320.34 95.2123 2326.42 87.4577 Q2332.55 79.6453 2333.42 63.7889 Q2330.07 68.7657 2324.92 71.4277 Q2319.77 74.0897 2313.52 74.0897 Q2300.55 74.0897 2292.97 66.2773 Q2285.45 58.4069 2285.45 44.8075 Q2285.45 31.4974 2293.32 23.4534 Q2301.19 15.4095 2314.27 15.4095 Q2329.26 15.4095 2337.13 26.9256 Q2345.05 38.3839 2345.05 60.2588 Q2345.05 80.6869 2335.33 92.8975 Q2325.67 105.05 2309.29 105.05 Q2304.89 105.05 2300.38 104.182 Q2295.86 103.314 2291 101.578 M2314.27 64.9463 Q2322.14 64.9463 2326.71 59.5643 Q2331.34 54.1824 2331.34 44.8075 Q2331.34 35.4904 2326.71 30.1085 Q2322.14 24.6687 2314.27 24.6687 Q2306.4 24.6687 2301.77 30.1085 Q2297.2 35.4904 2297.2 44.8075 Q2297.2 54.1824 2301.77 59.5643 Q2306.4 64.9463 2314.27 64.9463 Z\" fill=\"#000000\" fill-rule=\"nonzero\" fill-opacity=\"1\" /><path clip-path=\"url(#clip140)\" d=\"M2366.06 88.673 L2378.27 88.673 L2378.27 103.372 L2366.06 103.372 L2366.06 88.673 Z\" fill=\"#000000\" fill-rule=\"nonzero\" fill-opacity=\"1\" /><path clip-path=\"url(#clip140)\" d=\"M2428.73 24.6687 Q2419.71 24.6687 2415.14 33.5807 Q2410.62 42.4348 2410.62 60.2588 Q2410.62 78.0249 2415.14 86.9369 Q2419.71 95.791 2428.73 95.791 Q2437.82 95.791 2442.33 86.9369 Q2446.91 78.0249 2446.91 60.2588 Q2446.91 42.4348 2442.33 33.5807 Q2437.82 24.6687 2428.73 24.6687 M2428.73 15.4095 Q2443.26 15.4095 2450.9 26.9256 Q2458.6 38.3839 2458.6 60.2588 Q2458.6 82.0758 2450.9 93.5919 Q2443.26 105.05 2428.73 105.05 Q2414.21 105.05 2406.51 93.5919 Q2398.87 82.0758 2398.87 60.2588 Q2398.87 38.3839 2406.51 26.9256 Q2414.21 15.4095 2428.73 15.4095 Z\" fill=\"#000000\" fill-rule=\"nonzero\" fill-opacity=\"1\" /><polyline clip-path=\"url(#clip142)\" style=\"stroke:#009af9; stroke-linecap:round; stroke-linejoin:round; stroke-width:4; stroke-opacity:1; fill:none\" points=\"672.573,917.743 712.381,929.659 752.189,907.919 791.997,892.589 831.805,904.031 871.613,905.336 911.421,908.033 951.229,903.651 991.037,910.361 1030.85,896.913 1070.65,889.248 1110.46,920.544 1150.27,889.936 1190.08,908.279 1229.89,866.709 1269.69,780.088 1309.5,715.89 1349.31,624.394 1389.12,563.653 1428.93,564.092 1468.73,515.503 1508.54,503.679 1548.35,542.437 1588.16,512.263 1627.97,514.581 1667.77,481.741 1707.58,483.658 1747.39,501.735 1787.2,513.155 1827.01,513.711 1866.81,515.399 1906.62,505.309 1946.43,484.347 1986.24,491.822 2026.05,526.266 2065.85,512.337 2105.66,530.027 2145.47,547.955 2185.28,520.683 2225.09,547.885 2264.89,506.073 2304.7,527.989 2344.51,551.73 2384.32,543.121 2424.13,558.088 2463.93,546.9 2503.74,549.398 2543.55,571.849 2583.36,557.333 2623.17,550.163 2662.98,549.405 2702.78,545.761 2742.59,578.124 2782.4,565.56 2822.21,582.487 2862.02,571.757 2901.82,576.914 2941.63,587.712 2981.44,559.421 3021.25,587.76 3061.06,590.154 3100.86,575.55 3140.67,589.653 3180.48,580.807 3220.29,612.964 3260.1,613.424 3299.9,621.016 3339.71,599.22 3379.52,594.862 3419.33,607.584 3459.14,597.752 3498.94,600.51 3538.75,630.473 3578.56,627.139 3618.37,621.958 3658.18,640.71 3697.98,637.69 3737.79,625.287 3777.6,642.538 3817.41,636.608 3857.22,642.175 \"/>\n",
       "<polyline clip-path=\"url(#clip142)\" style=\"stroke:#e26f46; stroke-linecap:round; stroke-linejoin:round; stroke-width:4; stroke-opacity:1; fill:none\" points=\"672.573,1957.96 712.381,1902.62 752.189,1821.76 791.997,1737.07 831.805,1656.45 871.613,1579.8 911.421,1499.12 951.229,1425.17 991.037,1341.91 1030.85,1255.8 1070.65,1166.1 1110.46,1108.92 1150.27,1004.95 1190.08,936.704 1229.89,863.822 1269.69,782.659 1309.5,722.085 1349.31,643.841 1389.12,574.781 1428.93,581.529 1468.73,527.483 1508.54,521.78 1548.35,561.278 1588.16,556.072 1627.97,531.937 1667.77,490.686 1707.58,492.657 1747.39,514.975 1787.2,517.365 1827.01,513.915 1866.81,529.057 1906.62,530.207 1946.43,506.958 1986.24,510.072 2026.05,539.065 2065.85,532.001 2105.66,540.422 2145.47,537.53 2185.28,530.372 2225.09,565.518 2264.89,545.417 2304.7,542.516 2344.51,544.634 2384.32,561.846 2424.13,563.603 2463.93,569.18 2503.74,577.553 2543.55,591.814 2583.36,566.482 2623.17,577.404 2662.98,560.895 2702.78,569.843 2742.59,589.892 2782.4,574.958 2822.21,586.504 2862.02,600.059 2901.82,591.456 2941.63,589.745 2981.44,568.647 3021.25,589.797 3061.06,607.929 3100.86,603.007 3140.67,594.938 3180.48,587.617 3220.29,606.267 3260.1,617.441 3299.9,621.657 3339.71,606.768 3379.52,611.89 3419.33,618.496 3459.14,611.23 3498.94,617.877 3538.75,637.104 3578.56,631.03 3618.37,623.06 3658.18,619.354 3697.98,643.292 3737.79,625.395 3777.6,650.202 3817.41,645.029 3857.22,638.908 \"/>\n",
       "<polyline clip-path=\"url(#clip142)\" style=\"stroke:#3da44d; stroke-linecap:round; stroke-linejoin:round; stroke-width:4; stroke-opacity:1; fill:none\" points=\"672.573,1961.42 712.381,1905.68 752.189,1824.1 791.997,1738.18 831.805,1658.25 871.613,1580.85 911.421,1498.9 951.229,1421.8 991.037,1342.75 1030.85,1254.63 1070.65,1165.71 1110.46,1109.46 1150.27,1007.47 1190.08,937.839 1229.89,865.876 1269.69,781.458 1309.5,719.086 1349.31,643.506 1389.12,572.771 1428.93,575.191 1468.73,543.346 1508.54,541.813 1548.35,562.931 1588.16,551.087 1627.97,550.188 1667.77,501.949 1707.58,522.866 1747.39,543.752 1787.2,534.84 1827.01,545.56 1866.81,525.752 1906.62,530.57 1946.43,537.173 1986.24,529.485 2026.05,546.522 2065.85,533.795 2105.66,515.988 2145.47,555.418 2185.28,544.216 2225.09,580.187 2264.89,568.813 2304.7,566.003 2344.51,558.468 2384.32,577.769 2424.13,582.065 2463.93,588.999 2503.74,575.341 2543.55,585.163 2583.36,592.73 2623.17,587.212 2662.98,580.743 2702.78,604.643 2742.59,592.978 2782.4,597.263 2822.21,606.213 2862.02,597.522 2901.82,593.714 2941.63,607.488 2981.44,597.635 3021.25,615.102 3061.06,628.848 3100.86,600.424 3140.67,606.39 3180.48,611.442 3220.29,600.695 3260.1,633.684 3299.9,641.288 3339.71,606.682 3379.52,637.63 3419.33,623.579 3459.14,632.365 3498.94,616.945 3538.75,648.752 3578.56,647.103 3618.37,644.232 3658.18,660.227 3697.98,662.514 3737.79,648.913 3777.6,666.53 3817.41,665.661 3857.22,658.916 \"/>\n",
       "<polyline clip-path=\"url(#clip142)\" style=\"stroke:#c271d2; stroke-linecap:round; stroke-linejoin:round; stroke-width:4; stroke-opacity:1; fill:none\" points=\"672.573,1959.16 712.381,1903.38 752.189,1821.22 791.997,1735.7 831.805,1654.98 871.613,1582.05 911.421,1499.75 951.229,1424.51 991.037,1343.3 1030.85,1255.77 1070.65,1168.11 1110.46,1111.24 1150.27,1006.36 1190.08,941.301 1229.89,867.688 1269.69,782.958 1309.5,719.003 1349.31,641.691 1389.12,586.601 1428.93,580.136 1468.73,558.032 1508.54,545.205 1548.35,578.995 1588.16,566.387 1627.97,528.503 1667.77,526.537 1707.58,517.474 1747.39,547.128 1787.2,545.868 1827.01,552.533 1866.81,546.157 1906.62,542.825 1946.43,531.118 1986.24,528.687 2026.05,543.073 2065.85,537.885 2105.66,546.601 2145.47,562.073 2185.28,562.771 2225.09,573.999 2264.89,565.863 2304.7,556.516 2344.51,584.798 2384.32,593.794 2424.13,581.297 2463.93,594.759 2503.74,594.662 2543.55,608.624 2583.36,591.77 2623.17,595.166 2662.98,588.059 2702.78,594.798 2742.59,593.934 2782.4,603.858 2822.21,611.694 2862.02,618.971 2901.82,595.357 2941.63,607.343 2981.44,609.155 3021.25,614.415 3061.06,635.458 3100.86,617.696 3140.67,621.1 3180.48,615.49 3220.29,631.335 3260.1,629.108 3299.9,649.04 3339.71,633.78 3379.52,636.753 3419.33,636.943 3459.14,637.116 3498.94,642.662 3538.75,650.533 3578.56,655.516 3618.37,643.143 3658.18,655.539 3697.98,665.256 3737.79,658.588 3777.6,664.635 3817.41,659.239 3857.22,653.267 \"/>\n",
       "<polyline clip-path=\"url(#clip142)\" style=\"stroke:#ac8d18; stroke-linecap:round; stroke-linejoin:round; stroke-width:4; stroke-opacity:1; fill:none\" points=\"672.573,1964.87 712.381,1910.25 752.189,1828.32 791.997,1742.65 831.805,1662.89 871.613,1585.03 911.421,1502.88 951.229,1430.68 991.037,1350.08 1030.85,1259.02 1070.65,1171.21 1110.46,1114.44 1150.27,1009.49 1190.08,945.503 1229.89,869.115 1269.69,786.251 1309.5,725.236 1349.31,646.872 1389.12,590.052 1428.93,595.395 1468.73,559.377 1508.54,562.514 1548.35,587.967 1588.16,581.968 1627.97,550.902 1667.77,550.506 1707.58,519.818 1747.39,548.482 1787.2,546.569 1827.01,559.373 1866.81,575.473 1906.62,563.925 1946.43,541.375 1986.24,540.581 2026.05,567.828 2065.85,547.81 2105.66,563.135 2145.47,570.831 2185.28,575.383 2225.09,565.942 2264.89,577.145 2304.7,562.993 2344.51,574 2384.32,583.653 2424.13,581.326 2463.93,590.803 2503.74,587.649 2543.55,598.806 2583.36,627.052 2623.17,603.788 2662.98,587.191 2702.78,604.689 2742.59,607.598 2782.4,607.649 2822.21,624.054 2862.02,625.909 2901.82,622.067 2941.63,615.414 2981.44,596.485 3021.25,625.415 3061.06,630.161 3100.86,625.614 3140.67,628.422 3180.48,629.383 3220.29,624.226 3260.1,652.117 3299.9,653.626 3339.71,627.7 3379.52,640.415 3419.33,649.687 3459.14,631.281 3498.94,651.875 3538.75,652.478 3578.56,670.215 3618.37,663.184 3658.18,668.171 3697.98,674.188 3737.79,663.355 3777.6,666.398 3817.41,674.911 3857.22,671.701 \"/>\n",
       "<polyline clip-path=\"url(#clip142)\" style=\"stroke:#00a9ad; stroke-linecap:round; stroke-linejoin:round; stroke-width:4; stroke-opacity:1; fill:none\" points=\"672.573,1960.01 712.381,1903.43 752.189,1820.17 791.997,1735.72 831.805,1654.58 871.613,1578.88 911.421,1495.5 951.229,1426.21 991.037,1341.96 1030.85,1253.61 1070.65,1167.63 1110.46,1110.34 1150.27,1004.83 1190.08,941.246 1229.89,871.732 1269.69,785.889 1309.5,723.423 1349.31,652.591 1389.12,584.901 1428.93,597.716 1468.73,563.43 1508.54,560.435 1548.35,590.432 1588.16,581.689 1627.97,562.865 1667.77,551.033 1707.58,548.574 1747.39,562.572 1787.2,570.699 1827.01,579.286 1866.81,583.597 1906.62,563.224 1946.43,558.146 1986.24,546.431 2026.05,581.384 2065.85,570.485 2105.66,564.708 2145.47,592.464 2185.28,589.003 2225.09,600.466 2264.89,589.977 2304.7,580.957 2344.51,578.056 2384.32,592.508 2424.13,606.703 2463.93,598.779 2503.74,605 2543.55,616.087 2583.36,618.562 2623.17,596.851 2662.98,590.905 2702.78,611.046 2742.59,606.139 2782.4,616.691 2822.21,620.14 2862.02,632.87 2901.82,607.106 2941.63,611.634 2981.44,614.184 3021.25,621.614 3061.06,633.003 3100.86,622.09 3140.67,621.688 3180.48,631.233 3220.29,632.446 3260.1,635.201 3299.9,649.085 3339.71,638.348 3379.52,639.043 3419.33,624.365 3459.14,642.476 3498.94,652.802 3538.75,649.977 3578.56,660.401 3618.37,659.349 3658.18,657.594 3697.98,663.009 3737.79,646.936 3777.6,685.348 3817.41,669.461 3857.22,665.832 \"/>\n",
       "<path clip-path=\"url(#clip140)\" d=\"M1608.5 379.684 L2921.29 379.684 L2921.29 282.484 L1608.5 282.484  Z\" fill=\"#ffffff\" fill-rule=\"evenodd\" fill-opacity=\"1\"/>\n",
       "<polyline clip-path=\"url(#clip140)\" style=\"stroke:#000000; stroke-linecap:round; stroke-linejoin:round; stroke-width:4; stroke-opacity:1; fill:none\" points=\"1608.5,379.684 2921.29,379.684 2921.29,282.484 1608.5,282.484 1608.5,379.684 \"/>\n",
       "<polyline clip-path=\"url(#clip140)\" style=\"stroke:#009af9; stroke-linecap:round; stroke-linejoin:round; stroke-width:2.5; stroke-opacity:1; fill:none\" points=\"1646.01,314.884 1871.06,314.884 \"/>\n",
       "<path clip-path=\"url(#clip140)\" d=\"M1908.57 304.084 L1911.49 304.084 L1911.49 323.225 L1922.01 323.225 L1922.01 325.684 L1908.57 325.684 L1908.57 304.084 Z\" fill=\"#000000\" fill-rule=\"nonzero\" fill-opacity=\"1\" /><path clip-path=\"url(#clip140)\" d=\"M1928.98 327.189 Q1927.85 330.083 1926.78 330.965 Q1925.71 331.848 1923.92 331.848 L1921.79 331.848 L1921.79 329.62 L1923.35 329.62 Q1924.45 329.62 1925.06 329.099 Q1925.67 328.578 1926.4 326.639 L1926.88 325.424 L1920.33 309.481 L1923.15 309.481 L1928.21 322.154 L1933.28 309.481 L1936.1 309.481 L1928.98 327.189 Z\" fill=\"#000000\" fill-rule=\"nonzero\" fill-opacity=\"1\" /><path clip-path=\"url(#clip140)\" d=\"M1947.14 317.539 Q1943.91 317.539 1942.67 318.277 Q1941.42 319.015 1941.42 320.794 Q1941.42 322.212 1942.35 323.051 Q1943.29 323.876 1944.89 323.876 Q1947.11 323.876 1948.44 322.313 Q1949.78 320.737 1949.78 318.132 L1949.78 317.539 L1947.14 317.539 M1952.45 316.44 L1952.45 325.684 L1949.78 325.684 L1949.78 323.225 Q1948.87 324.701 1947.51 325.41 Q1946.15 326.104 1944.19 326.104 Q1941.7 326.104 1940.22 324.715 Q1938.76 323.312 1938.76 320.968 Q1938.76 318.234 1940.58 316.845 Q1942.42 315.456 1946.05 315.456 L1949.78 315.456 L1949.78 315.195 Q1949.78 313.358 1948.57 312.36 Q1947.37 311.347 1945.18 311.347 Q1943.79 311.347 1942.48 311.68 Q1941.16 312.013 1939.95 312.678 L1939.95 310.219 Q1941.41 309.654 1942.78 309.38 Q1944.16 309.09 1945.46 309.09 Q1948.97 309.09 1950.71 310.913 Q1952.45 312.736 1952.45 316.44 Z\" fill=\"#000000\" fill-rule=\"nonzero\" fill-opacity=\"1\" /><path clip-path=\"url(#clip140)\" d=\"M1960.5 323.254 L1960.5 331.848 L1957.83 331.848 L1957.83 309.481 L1960.5 309.481 L1960.5 311.94 Q1961.34 310.494 1962.62 309.799 Q1963.9 309.09 1965.68 309.09 Q1968.64 309.09 1970.47 311.434 Q1972.32 313.778 1972.32 317.597 Q1972.32 321.416 1970.47 323.76 Q1968.64 326.104 1965.68 326.104 Q1963.9 326.104 1962.62 325.41 Q1961.34 324.701 1960.5 323.254 M1969.56 317.597 Q1969.56 314.66 1968.35 312.996 Q1967.15 311.318 1965.03 311.318 Q1962.92 311.318 1961.71 312.996 Q1960.5 314.66 1960.5 317.597 Q1960.5 320.534 1961.71 322.212 Q1962.92 323.876 1965.03 323.876 Q1967.15 323.876 1968.35 322.212 Q1969.56 320.534 1969.56 317.597 Z\" fill=\"#000000\" fill-rule=\"nonzero\" fill-opacity=\"1\" /><path clip-path=\"url(#clip140)\" d=\"M1989.05 330.603 L1989.05 332.672 L1973.66 332.672 L1973.66 330.603 L1989.05 330.603 Z\" fill=\"#000000\" fill-rule=\"nonzero\" fill-opacity=\"1\" /><path clip-path=\"url(#clip140)\" d=\"M2005.41 316.917 L2005.41 318.219 L1993.17 318.219 Q1993.35 320.968 1994.82 322.415 Q1996.31 323.847 1998.96 323.847 Q2000.49 323.847 2001.92 323.471 Q2003.37 323.095 2004.79 322.342 L2004.79 324.86 Q2003.36 325.467 2001.85 325.786 Q2000.35 326.104 1998.8 326.104 Q1994.92 326.104 1992.65 323.847 Q1990.39 321.59 1990.39 317.742 Q1990.39 313.763 1992.54 311.434 Q1994.69 309.09 1998.34 309.09 Q2001.61 309.09 2003.5 311.202 Q2005.41 313.3 2005.41 316.917 M2002.75 316.136 Q2002.72 313.951 2001.52 312.649 Q2000.33 311.347 1998.37 311.347 Q1996.14 311.347 1994.79 312.606 Q1993.46 313.864 1993.26 316.15 L2002.75 316.136 Z\" fill=\"#000000\" fill-rule=\"nonzero\" fill-opacity=\"1\" /><path clip-path=\"url(#clip140)\" d=\"M2020.08 323.225 L2024.86 323.225 L2024.86 306.746 L2019.66 307.788 L2019.66 305.126 L2024.83 304.084 L2027.75 304.084 L2027.75 323.225 L2032.52 323.225 L2032.52 325.684 L2020.08 325.684 L2020.08 323.225 Z\" fill=\"#000000\" fill-rule=\"nonzero\" fill-opacity=\"1\" /><polyline clip-path=\"url(#clip140)\" style=\"stroke:#e26f46; stroke-linecap:round; stroke-linejoin:round; stroke-width:2.5; stroke-opacity:1; fill:none\" points=\"2071.1,314.884 2296.15,314.884 \"/>\n",
       "<path clip-path=\"url(#clip140)\" d=\"M2333.66 304.084 L2336.58 304.084 L2336.58 323.225 L2347.1 323.225 L2347.1 325.684 L2333.66 325.684 L2333.66 304.084 Z\" fill=\"#000000\" fill-rule=\"nonzero\" fill-opacity=\"1\" /><path clip-path=\"url(#clip140)\" d=\"M2354.07 327.189 Q2352.94 330.083 2351.87 330.965 Q2350.8 331.848 2349.01 331.848 L2346.88 331.848 L2346.88 329.62 L2348.44 329.62 Q2349.54 329.62 2350.15 329.099 Q2350.76 328.578 2351.5 326.639 L2351.97 325.424 L2345.42 309.481 L2348.24 309.481 L2353.31 322.154 L2358.37 309.481 L2361.19 309.481 L2354.07 327.189 Z\" fill=\"#000000\" fill-rule=\"nonzero\" fill-opacity=\"1\" /><path clip-path=\"url(#clip140)\" d=\"M2372.23 317.539 Q2369 317.539 2367.76 318.277 Q2366.51 319.015 2366.51 320.794 Q2366.51 322.212 2367.44 323.051 Q2368.38 323.876 2369.99 323.876 Q2372.2 323.876 2373.53 322.313 Q2374.88 320.737 2374.88 318.132 L2374.88 317.539 L2372.23 317.539 M2377.54 316.44 L2377.54 325.684 L2374.88 325.684 L2374.88 323.225 Q2373.97 324.701 2372.61 325.41 Q2371.25 326.104 2369.28 326.104 Q2366.79 326.104 2365.31 324.715 Q2363.85 323.312 2363.85 320.968 Q2363.85 318.234 2365.68 316.845 Q2367.51 315.456 2371.14 315.456 L2374.88 315.456 L2374.88 315.195 Q2374.88 313.358 2373.66 312.36 Q2372.46 311.347 2370.28 311.347 Q2368.89 311.347 2367.57 311.68 Q2366.25 312.013 2365.04 312.678 L2365.04 310.219 Q2366.5 309.654 2367.87 309.38 Q2369.25 309.09 2370.55 309.09 Q2374.07 309.09 2375.8 310.913 Q2377.54 312.736 2377.54 316.44 Z\" fill=\"#000000\" fill-rule=\"nonzero\" fill-opacity=\"1\" /><path clip-path=\"url(#clip140)\" d=\"M2385.6 323.254 L2385.6 331.848 L2382.92 331.848 L2382.92 309.481 L2385.6 309.481 L2385.6 311.94 Q2386.44 310.494 2387.71 309.799 Q2389 309.09 2390.78 309.09 Q2393.73 309.09 2395.57 311.434 Q2397.42 313.778 2397.42 317.597 Q2397.42 321.416 2395.57 323.76 Q2393.73 326.104 2390.78 326.104 Q2389 326.104 2387.71 325.41 Q2386.44 324.701 2385.6 323.254 M2394.65 317.597 Q2394.65 314.66 2393.44 312.996 Q2392.24 311.318 2390.13 311.318 Q2388.01 311.318 2386.8 312.996 Q2385.6 314.66 2385.6 317.597 Q2385.6 320.534 2386.8 322.212 Q2388.01 323.876 2390.13 323.876 Q2392.24 323.876 2393.44 322.212 Q2394.65 320.534 2394.65 317.597 Z\" fill=\"#000000\" fill-rule=\"nonzero\" fill-opacity=\"1\" /><path clip-path=\"url(#clip140)\" d=\"M2414.14 330.603 L2414.14 332.672 L2398.75 332.672 L2398.75 330.603 L2414.14 330.603 Z\" fill=\"#000000\" fill-rule=\"nonzero\" fill-opacity=\"1\" /><path clip-path=\"url(#clip140)\" d=\"M2430.5 316.917 L2430.5 318.219 L2418.26 318.219 Q2418.44 320.968 2419.91 322.415 Q2421.4 323.847 2424.05 323.847 Q2425.59 323.847 2427.02 323.471 Q2428.46 323.095 2429.88 322.342 L2429.88 324.86 Q2428.45 325.467 2426.95 325.786 Q2425.44 326.104 2423.89 326.104 Q2420.02 326.104 2417.74 323.847 Q2415.49 321.59 2415.49 317.742 Q2415.49 313.763 2417.63 311.434 Q2419.78 309.09 2423.43 309.09 Q2426.7 309.09 2428.59 311.202 Q2430.5 313.3 2430.5 316.917 M2427.84 316.136 Q2427.81 313.951 2426.61 312.649 Q2425.43 311.347 2423.46 311.347 Q2421.23 311.347 2419.88 312.606 Q2418.55 313.864 2418.35 316.15 L2427.84 316.136 Z\" fill=\"#000000\" fill-rule=\"nonzero\" fill-opacity=\"1\" /><path clip-path=\"url(#clip140)\" d=\"M2447.19 323.225 L2457.38 323.225 L2457.38 325.684 L2443.67 325.684 L2443.67 323.225 Q2445.33 321.503 2448.2 318.61 Q2451.08 315.702 2451.81 314.863 Q2453.22 313.286 2453.77 312.201 Q2454.33 311.101 2454.33 310.045 Q2454.33 308.323 2453.12 307.238 Q2451.92 306.153 2449.98 306.153 Q2448.6 306.153 2447.07 306.631 Q2445.55 307.108 2443.81 308.077 L2443.81 305.126 Q2445.58 304.417 2447.11 304.055 Q2448.65 303.694 2449.92 303.694 Q2453.28 303.694 2455.27 305.372 Q2457.27 307.05 2457.27 309.857 Q2457.27 311.188 2456.76 312.389 Q2456.27 313.575 2454.95 315.195 Q2454.59 315.615 2452.65 317.626 Q2450.72 319.623 2447.19 323.225 Z\" fill=\"#000000\" fill-rule=\"nonzero\" fill-opacity=\"1\" /><polyline clip-path=\"url(#clip140)\" style=\"stroke:#3da44d; stroke-linecap:round; stroke-linejoin:round; stroke-width:2.5; stroke-opacity:1; fill:none\" points=\"2496.19,314.884 2721.24,314.884 \"/>\n",
       "<path clip-path=\"url(#clip140)\" d=\"M2758.75 304.084 L2761.67 304.084 L2761.67 323.225 L2772.19 323.225 L2772.19 325.684 L2758.75 325.684 L2758.75 304.084 Z\" fill=\"#000000\" fill-rule=\"nonzero\" fill-opacity=\"1\" /><path clip-path=\"url(#clip140)\" d=\"M2779.16 327.189 Q2778.04 330.083 2776.97 330.965 Q2775.9 331.848 2774.1 331.848 L2771.97 331.848 L2771.97 329.62 L2773.54 329.62 Q2774.64 329.62 2775.24 329.099 Q2775.85 328.578 2776.59 326.639 L2777.07 325.424 L2770.51 309.481 L2773.33 309.481 L2778.4 322.154 L2783.46 309.481 L2786.28 309.481 L2779.16 327.189 Z\" fill=\"#000000\" fill-rule=\"nonzero\" fill-opacity=\"1\" /><path clip-path=\"url(#clip140)\" d=\"M2797.32 317.539 Q2794.1 317.539 2792.85 318.277 Q2791.61 319.015 2791.61 320.794 Q2791.61 322.212 2792.53 323.051 Q2793.47 323.876 2795.08 323.876 Q2797.29 323.876 2798.62 322.313 Q2799.97 320.737 2799.97 318.132 L2799.97 317.539 L2797.32 317.539 M2802.63 316.44 L2802.63 325.684 L2799.97 325.684 L2799.97 323.225 Q2799.06 324.701 2797.7 325.41 Q2796.34 326.104 2794.37 326.104 Q2791.88 326.104 2790.41 324.715 Q2788.94 323.312 2788.94 320.968 Q2788.94 318.234 2790.77 316.845 Q2792.61 315.456 2796.24 315.456 L2799.97 315.456 L2799.97 315.195 Q2799.97 313.358 2798.75 312.36 Q2797.55 311.347 2795.37 311.347 Q2793.98 311.347 2792.66 311.68 Q2791.35 312.013 2790.13 312.678 L2790.13 310.219 Q2791.59 309.654 2792.97 309.38 Q2794.34 309.09 2795.64 309.09 Q2799.16 309.09 2800.89 310.913 Q2802.63 312.736 2802.63 316.44 Z\" fill=\"#000000\" fill-rule=\"nonzero\" fill-opacity=\"1\" /><path clip-path=\"url(#clip140)\" d=\"M2810.69 323.254 L2810.69 331.848 L2808.01 331.848 L2808.01 309.481 L2810.69 309.481 L2810.69 311.94 Q2811.53 310.494 2812.8 309.799 Q2814.09 309.09 2815.87 309.09 Q2818.82 309.09 2820.66 311.434 Q2822.51 313.778 2822.51 317.597 Q2822.51 321.416 2820.66 323.76 Q2818.82 326.104 2815.87 326.104 Q2814.09 326.104 2812.8 325.41 Q2811.53 324.701 2810.69 323.254 M2819.75 317.597 Q2819.75 314.66 2818.53 312.996 Q2817.33 311.318 2815.22 311.318 Q2813.11 311.318 2811.89 312.996 Q2810.69 314.66 2810.69 317.597 Q2810.69 320.534 2811.89 322.212 Q2813.11 323.876 2815.22 323.876 Q2817.33 323.876 2818.53 322.212 Q2819.75 320.534 2819.75 317.597 Z\" fill=\"#000000\" fill-rule=\"nonzero\" fill-opacity=\"1\" /><path clip-path=\"url(#clip140)\" d=\"M2839.23 330.603 L2839.23 332.672 L2823.84 332.672 L2823.84 330.603 L2839.23 330.603 Z\" fill=\"#000000\" fill-rule=\"nonzero\" fill-opacity=\"1\" /><path clip-path=\"url(#clip140)\" d=\"M2855.6 316.917 L2855.6 318.219 L2843.36 318.219 Q2843.53 320.968 2845.01 322.415 Q2846.5 323.847 2849.14 323.847 Q2850.68 323.847 2852.11 323.471 Q2853.56 323.095 2854.97 322.342 L2854.97 324.86 Q2853.54 325.467 2852.04 325.786 Q2850.53 326.104 2848.98 326.104 Q2845.11 326.104 2842.84 323.847 Q2840.58 321.59 2840.58 317.742 Q2840.58 313.763 2842.72 311.434 Q2844.88 309.09 2848.52 309.09 Q2851.79 309.09 2853.69 311.202 Q2855.6 313.3 2855.6 316.917 M2852.93 316.136 Q2852.91 313.951 2851.7 312.649 Q2850.52 311.347 2848.55 311.347 Q2846.32 311.347 2844.98 312.606 Q2843.65 313.864 2843.44 316.15 L2852.93 316.136 Z\" fill=\"#000000\" fill-rule=\"nonzero\" fill-opacity=\"1\" /><path clip-path=\"url(#clip140)\" d=\"M2878.61 314.038 Q2880.71 314.487 2881.88 315.904 Q2883.07 317.322 2883.07 319.406 Q2883.07 322.603 2880.87 324.353 Q2878.67 326.104 2874.62 326.104 Q2873.26 326.104 2871.81 325.829 Q2870.38 325.569 2868.85 325.033 L2868.85 322.212 Q2870.06 322.921 2871.51 323.283 Q2872.96 323.644 2874.53 323.644 Q2877.28 323.644 2878.72 322.559 Q2880.16 321.474 2880.16 319.406 Q2880.16 317.496 2878.82 316.425 Q2877.49 315.34 2875.1 315.34 L2872.58 315.34 L2872.58 312.939 L2875.21 312.939 Q2877.37 312.939 2878.51 312.085 Q2879.66 311.217 2879.66 309.597 Q2879.66 307.933 2878.47 307.05 Q2877.3 306.153 2875.1 306.153 Q2873.9 306.153 2872.52 306.414 Q2871.15 306.674 2869.5 307.224 L2869.5 304.62 Q2871.16 304.157 2872.61 303.925 Q2874.07 303.694 2875.36 303.694 Q2878.69 303.694 2880.63 305.213 Q2882.56 306.717 2882.56 309.293 Q2882.56 311.087 2881.54 312.331 Q2880.51 313.561 2878.61 314.038 Z\" fill=\"#000000\" fill-rule=\"nonzero\" fill-opacity=\"1\" /><polyline clip-path=\"url(#clip140)\" style=\"stroke:#c271d2; stroke-linecap:round; stroke-linejoin:round; stroke-width:2.5; stroke-opacity:1; fill:none\" points=\"1646.01,347.284 1871.06,347.284 \"/>\n",
       "<path clip-path=\"url(#clip140)\" d=\"M1908.57 336.484 L1911.49 336.484 L1911.49 355.625 L1922.01 355.625 L1922.01 358.084 L1908.57 358.084 L1908.57 336.484 Z\" fill=\"#000000\" fill-rule=\"nonzero\" fill-opacity=\"1\" /><path clip-path=\"url(#clip140)\" d=\"M1928.98 359.589 Q1927.85 362.483 1926.78 363.365 Q1925.71 364.248 1923.92 364.248 L1921.79 364.248 L1921.79 362.02 L1923.35 362.02 Q1924.45 362.02 1925.06 361.499 Q1925.67 360.978 1926.4 359.039 L1926.88 357.824 L1920.33 341.881 L1923.15 341.881 L1928.21 354.554 L1933.28 341.881 L1936.1 341.881 L1928.98 359.589 Z\" fill=\"#000000\" fill-rule=\"nonzero\" fill-opacity=\"1\" /><path clip-path=\"url(#clip140)\" d=\"M1947.14 349.939 Q1943.91 349.939 1942.67 350.677 Q1941.42 351.415 1941.42 353.194 Q1941.42 354.612 1942.35 355.451 Q1943.29 356.276 1944.89 356.276 Q1947.11 356.276 1948.44 354.713 Q1949.78 353.137 1949.78 350.532 L1949.78 349.939 L1947.14 349.939 M1952.45 348.84 L1952.45 358.084 L1949.78 358.084 L1949.78 355.625 Q1948.87 357.101 1947.51 357.81 Q1946.15 358.504 1944.19 358.504 Q1941.7 358.504 1940.22 357.115 Q1938.76 355.712 1938.76 353.368 Q1938.76 350.634 1940.58 349.245 Q1942.42 347.856 1946.05 347.856 L1949.78 347.856 L1949.78 347.595 Q1949.78 345.758 1948.57 344.76 Q1947.37 343.747 1945.18 343.747 Q1943.79 343.747 1942.48 344.08 Q1941.16 344.413 1939.95 345.078 L1939.95 342.619 Q1941.41 342.054 1942.78 341.78 Q1944.16 341.49 1945.46 341.49 Q1948.97 341.49 1950.71 343.313 Q1952.45 345.136 1952.45 348.84 Z\" fill=\"#000000\" fill-rule=\"nonzero\" fill-opacity=\"1\" /><path clip-path=\"url(#clip140)\" d=\"M1960.5 355.654 L1960.5 364.248 L1957.83 364.248 L1957.83 341.881 L1960.5 341.881 L1960.5 344.34 Q1961.34 342.894 1962.62 342.199 Q1963.9 341.49 1965.68 341.49 Q1968.64 341.49 1970.47 343.834 Q1972.32 346.178 1972.32 349.997 Q1972.32 353.816 1970.47 356.16 Q1968.64 358.504 1965.68 358.504 Q1963.9 358.504 1962.62 357.81 Q1961.34 357.101 1960.5 355.654 M1969.56 349.997 Q1969.56 347.06 1968.35 345.396 Q1967.15 343.718 1965.03 343.718 Q1962.92 343.718 1961.71 345.396 Q1960.5 347.06 1960.5 349.997 Q1960.5 352.934 1961.71 354.612 Q1962.92 356.276 1965.03 356.276 Q1967.15 356.276 1968.35 354.612 Q1969.56 352.934 1969.56 349.997 Z\" fill=\"#000000\" fill-rule=\"nonzero\" fill-opacity=\"1\" /><path clip-path=\"url(#clip140)\" d=\"M1989.05 363.003 L1989.05 365.072 L1973.66 365.072 L1973.66 363.003 L1989.05 363.003 Z\" fill=\"#000000\" fill-rule=\"nonzero\" fill-opacity=\"1\" /><path clip-path=\"url(#clip140)\" d=\"M2005.41 349.317 L2005.41 350.619 L1993.17 350.619 Q1993.35 353.368 1994.82 354.815 Q1996.31 356.247 1998.96 356.247 Q2000.49 356.247 2001.92 355.871 Q2003.37 355.495 2004.79 354.742 L2004.79 357.26 Q2003.36 357.867 2001.85 358.186 Q2000.35 358.504 1998.8 358.504 Q1994.92 358.504 1992.65 356.247 Q1990.39 353.99 1990.39 350.142 Q1990.39 346.163 1992.54 343.834 Q1994.69 341.49 1998.34 341.49 Q2001.61 341.49 2003.5 343.602 Q2005.41 345.7 2005.41 349.317 M2002.75 348.536 Q2002.72 346.351 2001.52 345.049 Q2000.33 343.747 1998.37 343.747 Q1996.14 343.747 1994.79 345.006 Q1993.46 346.264 1993.26 348.55 L2002.75 348.536 Z\" fill=\"#000000\" fill-rule=\"nonzero\" fill-opacity=\"1\" /><path clip-path=\"url(#clip140)\" d=\"M2027.6 339.031 L2020.23 350.561 L2027.6 350.561 L2027.6 339.031 M2026.84 336.484 L2030.51 336.484 L2030.51 350.561 L2033.59 350.561 L2033.59 352.992 L2030.51 352.992 L2030.51 358.084 L2027.6 358.084 L2027.6 352.992 L2017.85 352.992 L2017.85 350.171 L2026.84 336.484 Z\" fill=\"#000000\" fill-rule=\"nonzero\" fill-opacity=\"1\" /><polyline clip-path=\"url(#clip140)\" style=\"stroke:#ac8d18; stroke-linecap:round; stroke-linejoin:round; stroke-width:2.5; stroke-opacity:1; fill:none\" points=\"2071.1,347.284 2296.15,347.284 \"/>\n",
       "<path clip-path=\"url(#clip140)\" d=\"M2333.66 336.484 L2336.58 336.484 L2336.58 355.625 L2347.1 355.625 L2347.1 358.084 L2333.66 358.084 L2333.66 336.484 Z\" fill=\"#000000\" fill-rule=\"nonzero\" fill-opacity=\"1\" /><path clip-path=\"url(#clip140)\" d=\"M2354.07 359.589 Q2352.94 362.483 2351.87 363.365 Q2350.8 364.248 2349.01 364.248 L2346.88 364.248 L2346.88 362.02 L2348.44 362.02 Q2349.54 362.02 2350.15 361.499 Q2350.76 360.978 2351.5 359.039 L2351.97 357.824 L2345.42 341.881 L2348.24 341.881 L2353.31 354.554 L2358.37 341.881 L2361.19 341.881 L2354.07 359.589 Z\" fill=\"#000000\" fill-rule=\"nonzero\" fill-opacity=\"1\" /><path clip-path=\"url(#clip140)\" d=\"M2372.23 349.939 Q2369 349.939 2367.76 350.677 Q2366.51 351.415 2366.51 353.194 Q2366.51 354.612 2367.44 355.451 Q2368.38 356.276 2369.99 356.276 Q2372.2 356.276 2373.53 354.713 Q2374.88 353.137 2374.88 350.532 L2374.88 349.939 L2372.23 349.939 M2377.54 348.84 L2377.54 358.084 L2374.88 358.084 L2374.88 355.625 Q2373.97 357.101 2372.61 357.81 Q2371.25 358.504 2369.28 358.504 Q2366.79 358.504 2365.31 357.115 Q2363.85 355.712 2363.85 353.368 Q2363.85 350.634 2365.68 349.245 Q2367.51 347.856 2371.14 347.856 L2374.88 347.856 L2374.88 347.595 Q2374.88 345.758 2373.66 344.76 Q2372.46 343.747 2370.28 343.747 Q2368.89 343.747 2367.57 344.08 Q2366.25 344.413 2365.04 345.078 L2365.04 342.619 Q2366.5 342.054 2367.87 341.78 Q2369.25 341.49 2370.55 341.49 Q2374.07 341.49 2375.8 343.313 Q2377.54 345.136 2377.54 348.84 Z\" fill=\"#000000\" fill-rule=\"nonzero\" fill-opacity=\"1\" /><path clip-path=\"url(#clip140)\" d=\"M2385.6 355.654 L2385.6 364.248 L2382.92 364.248 L2382.92 341.881 L2385.6 341.881 L2385.6 344.34 Q2386.44 342.894 2387.71 342.199 Q2389 341.49 2390.78 341.49 Q2393.73 341.49 2395.57 343.834 Q2397.42 346.178 2397.42 349.997 Q2397.42 353.816 2395.57 356.16 Q2393.73 358.504 2390.78 358.504 Q2389 358.504 2387.71 357.81 Q2386.44 357.101 2385.6 355.654 M2394.65 349.997 Q2394.65 347.06 2393.44 345.396 Q2392.24 343.718 2390.13 343.718 Q2388.01 343.718 2386.8 345.396 Q2385.6 347.06 2385.6 349.997 Q2385.6 352.934 2386.8 354.612 Q2388.01 356.276 2390.13 356.276 Q2392.24 356.276 2393.44 354.612 Q2394.65 352.934 2394.65 349.997 Z\" fill=\"#000000\" fill-rule=\"nonzero\" fill-opacity=\"1\" /><path clip-path=\"url(#clip140)\" d=\"M2414.14 363.003 L2414.14 365.072 L2398.75 365.072 L2398.75 363.003 L2414.14 363.003 Z\" fill=\"#000000\" fill-rule=\"nonzero\" fill-opacity=\"1\" /><path clip-path=\"url(#clip140)\" d=\"M2430.5 349.317 L2430.5 350.619 L2418.26 350.619 Q2418.44 353.368 2419.91 354.815 Q2421.4 356.247 2424.05 356.247 Q2425.59 356.247 2427.02 355.871 Q2428.46 355.495 2429.88 354.742 L2429.88 357.26 Q2428.45 357.867 2426.95 358.186 Q2425.44 358.504 2423.89 358.504 Q2420.02 358.504 2417.74 356.247 Q2415.49 353.99 2415.49 350.142 Q2415.49 346.163 2417.63 343.834 Q2419.78 341.49 2423.43 341.49 Q2426.7 341.49 2428.59 343.602 Q2430.5 345.7 2430.5 349.317 M2427.84 348.536 Q2427.81 346.351 2426.61 345.049 Q2425.43 343.747 2423.46 343.747 Q2421.23 343.747 2419.88 345.006 Q2418.55 346.264 2418.35 348.55 L2427.84 348.536 Z\" fill=\"#000000\" fill-rule=\"nonzero\" fill-opacity=\"1\" /><path clip-path=\"url(#clip140)\" d=\"M2444.7 336.484 L2456.17 336.484 L2456.17 338.944 L2447.37 338.944 L2447.37 344.239 Q2448.01 344.022 2448.65 343.921 Q2449.28 343.805 2449.92 343.805 Q2453.54 343.805 2455.65 345.787 Q2457.76 347.769 2457.76 351.154 Q2457.76 354.641 2455.59 356.58 Q2453.42 358.504 2449.47 358.504 Q2448.11 358.504 2446.69 358.272 Q2445.29 358.041 2443.79 357.578 L2443.79 354.641 Q2445.09 355.35 2446.48 355.697 Q2447.87 356.044 2449.41 356.044 Q2451.92 356.044 2453.38 354.728 Q2454.84 353.411 2454.84 351.154 Q2454.84 348.898 2453.38 347.581 Q2451.92 346.264 2449.41 346.264 Q2448.24 346.264 2447.07 346.525 Q2445.91 346.785 2444.7 347.335 L2444.7 336.484 Z\" fill=\"#000000\" fill-rule=\"nonzero\" fill-opacity=\"1\" /><polyline clip-path=\"url(#clip140)\" style=\"stroke:#00a9ad; stroke-linecap:round; stroke-linejoin:round; stroke-width:2.5; stroke-opacity:1; fill:none\" points=\"2496.19,347.284 2721.24,347.284 \"/>\n",
       "<path clip-path=\"url(#clip140)\" d=\"M2758.75 336.484 L2761.67 336.484 L2761.67 355.625 L2772.19 355.625 L2772.19 358.084 L2758.75 358.084 L2758.75 336.484 Z\" fill=\"#000000\" fill-rule=\"nonzero\" fill-opacity=\"1\" /><path clip-path=\"url(#clip140)\" d=\"M2779.16 359.589 Q2778.04 362.483 2776.97 363.365 Q2775.9 364.248 2774.1 364.248 L2771.97 364.248 L2771.97 362.02 L2773.54 362.02 Q2774.64 362.02 2775.24 361.499 Q2775.85 360.978 2776.59 359.039 L2777.07 357.824 L2770.51 341.881 L2773.33 341.881 L2778.4 354.554 L2783.46 341.881 L2786.28 341.881 L2779.16 359.589 Z\" fill=\"#000000\" fill-rule=\"nonzero\" fill-opacity=\"1\" /><path clip-path=\"url(#clip140)\" d=\"M2797.32 349.939 Q2794.1 349.939 2792.85 350.677 Q2791.61 351.415 2791.61 353.194 Q2791.61 354.612 2792.53 355.451 Q2793.47 356.276 2795.08 356.276 Q2797.29 356.276 2798.62 354.713 Q2799.97 353.137 2799.97 350.532 L2799.97 349.939 L2797.32 349.939 M2802.63 348.84 L2802.63 358.084 L2799.97 358.084 L2799.97 355.625 Q2799.06 357.101 2797.7 357.81 Q2796.34 358.504 2794.37 358.504 Q2791.88 358.504 2790.41 357.115 Q2788.94 355.712 2788.94 353.368 Q2788.94 350.634 2790.77 349.245 Q2792.61 347.856 2796.24 347.856 L2799.97 347.856 L2799.97 347.595 Q2799.97 345.758 2798.75 344.76 Q2797.55 343.747 2795.37 343.747 Q2793.98 343.747 2792.66 344.08 Q2791.35 344.413 2790.13 345.078 L2790.13 342.619 Q2791.59 342.054 2792.97 341.78 Q2794.34 341.49 2795.64 341.49 Q2799.16 341.49 2800.89 343.313 Q2802.63 345.136 2802.63 348.84 Z\" fill=\"#000000\" fill-rule=\"nonzero\" fill-opacity=\"1\" /><path clip-path=\"url(#clip140)\" d=\"M2810.69 355.654 L2810.69 364.248 L2808.01 364.248 L2808.01 341.881 L2810.69 341.881 L2810.69 344.34 Q2811.53 342.894 2812.8 342.199 Q2814.09 341.49 2815.87 341.49 Q2818.82 341.49 2820.66 343.834 Q2822.51 346.178 2822.51 349.997 Q2822.51 353.816 2820.66 356.16 Q2818.82 358.504 2815.87 358.504 Q2814.09 358.504 2812.8 357.81 Q2811.53 357.101 2810.69 355.654 M2819.75 349.997 Q2819.75 347.06 2818.53 345.396 Q2817.33 343.718 2815.22 343.718 Q2813.11 343.718 2811.89 345.396 Q2810.69 347.06 2810.69 349.997 Q2810.69 352.934 2811.89 354.612 Q2813.11 356.276 2815.22 356.276 Q2817.33 356.276 2818.53 354.612 Q2819.75 352.934 2819.75 349.997 Z\" fill=\"#000000\" fill-rule=\"nonzero\" fill-opacity=\"1\" /><path clip-path=\"url(#clip140)\" d=\"M2839.23 363.003 L2839.23 365.072 L2823.84 365.072 L2823.84 363.003 L2839.23 363.003 Z\" fill=\"#000000\" fill-rule=\"nonzero\" fill-opacity=\"1\" /><path clip-path=\"url(#clip140)\" d=\"M2855.6 349.317 L2855.6 350.619 L2843.36 350.619 Q2843.53 353.368 2845.01 354.815 Q2846.5 356.247 2849.14 356.247 Q2850.68 356.247 2852.11 355.871 Q2853.56 355.495 2854.97 354.742 L2854.97 357.26 Q2853.54 357.867 2852.04 358.186 Q2850.53 358.504 2848.98 358.504 Q2845.11 358.504 2842.84 356.247 Q2840.58 353.99 2840.58 350.142 Q2840.58 346.163 2842.72 343.834 Q2844.88 341.49 2848.52 341.49 Q2851.79 341.49 2853.69 343.602 Q2855.6 345.7 2855.6 349.317 M2852.93 348.536 Q2852.91 346.351 2851.7 345.049 Q2850.52 343.747 2848.55 343.747 Q2846.32 343.747 2844.98 345.006 Q2843.65 346.264 2843.44 348.55 L2852.93 348.536 Z\" fill=\"#000000\" fill-rule=\"nonzero\" fill-opacity=\"1\" /><path clip-path=\"url(#clip140)\" d=\"M2876.37 346.12 Q2874.4 346.12 2873.25 347.465 Q2872.1 348.811 2872.1 351.154 Q2872.1 353.484 2873.25 354.844 Q2874.4 356.189 2876.37 356.189 Q2878.34 356.189 2879.48 354.844 Q2880.64 353.484 2880.64 351.154 Q2880.64 348.811 2879.48 347.465 Q2878.34 346.12 2876.37 346.12 M2882.17 336.962 L2882.17 339.624 Q2881.07 339.103 2879.95 338.828 Q2878.83 338.553 2877.73 338.553 Q2874.84 338.553 2873.3 340.506 Q2871.79 342.459 2871.57 346.409 Q2872.42 345.15 2873.71 344.485 Q2875 343.805 2876.55 343.805 Q2879.8 343.805 2881.68 345.787 Q2883.58 347.755 2883.58 351.154 Q2883.58 354.482 2881.61 356.493 Q2879.64 358.504 2876.37 358.504 Q2872.62 358.504 2870.64 355.639 Q2868.66 352.76 2868.66 347.306 Q2868.66 342.185 2871.09 339.146 Q2873.52 336.094 2877.62 336.094 Q2878.72 336.094 2879.83 336.311 Q2880.96 336.528 2882.17 336.962 Z\" fill=\"#000000\" fill-rule=\"nonzero\" fill-opacity=\"1\" /></svg>\n"
      ]
     },
     "metadata": {},
     "output_type": "display_data"
    }
   ],
   "source": [
    "gr()  # Set the backend to GR\n",
    "plot= scatter()\n",
    "# Loop over each column and plot it in a different color\n",
    "for i in 1:6\n",
    "    plot!(vectorIext_e,[matrix[j][i] for j in 1:length(vectorIext_e)], label=\"Lyap_e $i\",markersize=3,markerstrokewidth=0)\n",
    "end\n",
    "# Set title\n",
    "plot!(title=L\"\\epsilon = \" * string(vector_eps[1]) ,titlefont = font(20),top_margin = 10mm)\n",
    "# Set labels\n",
    "xlabel!(L\"I_{ext}^E\",xguidefontsize=20,bottom_margin = 10mm)\n",
    "ylabel!(\"Lyapunov Exponent\",yguidefontsize=20,left_margin = 10mm)\n",
    "plot!(xtickfont=14,ytickfont=14)\n",
    "# Set the legend to have two columns\n",
    "plot!(legend=:outertop, legendfontsize=5,legendcolumns=3)\n",
    "# Set the figure size (make it wider)\n",
    "plot!(size=(1000, 600)) \n",
    "#savefig(plot,\"Definitive/Lyapunov_eps = \" * string(p[15])*\".png\")\n",
    "display(plot) "
   ]
  },
  {
   "cell_type": "markdown",
   "metadata": {},
   "source": [
    "## Just increase ttrans"
   ]
  },
  {
   "cell_type": "code",
   "execution_count": 50,
   "metadata": {},
   "outputs": [
    {
     "data": {
      "text/plain": [
       "2000"
      ]
     },
     "metadata": {},
     "output_type": "display_data"
    }
   ],
   "source": [
    "dt = 0.01\n",
    "ns = 1\n",
    "tmax = 2e3\n",
    "trans = 2e2\n",
    "Nsteps = Int(tmax/ns)"
   ]
  },
  {
   "cell_type": "code",
   "execution_count": 51,
   "metadata": {},
   "outputs": [
    {
     "data": {
      "text/plain": [
       "540-dimensional CoupledODEs\n",
       " deterministic: true\n",
       " discrete time: false\n",
       " in-place:      true\n",
       " dynamic rule:  Network!\n",
       " ODE solver:    Tsit5\n",
       " ODE kwargs:    (abstol = 1.0e-6, reltol = 1.0e-6)\n",
       " parameters:    Params([8.0, 8.0, 1.0, 5.0, -5.0, -5.0, 1.0, 1.0, 5.0, 13.0, 5.0, 13.0, 0.0, 10.0, 8.0], [0.0 0.07150787333365484 … 0.029938437471751827 0.0457088009950454; 0.040356800998807764 0.0 … 0.0844727476667492 0.0069661426632191365; … ; 0.011030461432017217 0.05514665431799544 … 0.0 0.055906608276557586; 0.029621282116852266 0.007999004709306763 … 0.09833390557208707 0.0])\n",
       " time:          0.0\n",
       " state:         [0.0, 0.0, 0.0, 0.0, 0.0, 0.0, 0.0, 0.0, 0.0, 0.0  …  0.0, 0.0, 0.0, 0.0, 0.0, 0.0, 0.0, 0.0, 0.0, 0.0]\n"
      ]
     },
     "metadata": {},
     "output_type": "display_data"
    }
   ],
   "source": [
    "ds=ContinuousDynamicalSystem(Network.Network!, u0, p)"
   ]
  },
  {
   "cell_type": "code",
   "execution_count": 52,
   "metadata": {},
   "outputs": [
    {
     "data": {
      "text/plain": [
       "540-dimensional TangentDynamicalSystem\n",
       " deterministic:     true\n",
       " discrete time:     false\n",
       " in-place:          true\n",
       " dynamic rule:      Network!\n",
       " jacobian:          JacobianNetwork!\n",
       " deviation vectors: 90\n",
       " parameters:        Params([8.0, 8.0, 1.0, 5.0, -5.0, -5.0, 1.0, 1.0, 5.0, 13.0, 5.0, 13.0, 0.0, 10.0, 8.0], [0.0 0.07150787333365484 … 0.029938437471751827 0.0457088009950454; 0.040356800998807764 0.0 … 0.0844727476667492 0.0069661426632191365; … ; 0.011030461432017217 0.05514665431799544 … 0.0 0.055906608276557586; 0.029621282116852266 0.007999004709306763 … 0.09833390557208707 0.0])\n",
       " time:              0.0\n",
       " state:             [0.0, 0.0, 0.0, 0.0, 0.0, 0.0, 0.0, 0.0, 0.0, 0.0  …  0.0, 0.0, 0.0, 0.0, 0.0, 0.0, 0.0, 0.0, 0.0, 0.0]\n"
      ]
     },
     "metadata": {},
     "output_type": "display_data"
    }
   ],
   "source": [
    "tands = TangentDynamicalSystem(ds; k=90,J=Network.JacobianNetwork!)"
   ]
  },
  {
   "cell_type": "code",
   "execution_count": 53,
   "metadata": {},
   "outputs": [
    {
     "name": "stderr",
     "output_type": "stream",
     "text": [
      "\u001b[32mLyapunov spectrum: 100%|████████████████████████████████| Time: 0:00:53\u001b[39m\u001b[K\n"
     ]
    },
    {
     "data": {
      "text/plain": [
       "90-element Vector{Float64}:\n",
       " -7.957869147605459e-5\n",
       " -0.010616698436100446\n",
       " -0.02657555920505068\n",
       " -0.026555229058311695\n",
       " -0.02666441342465885\n",
       " -0.026562287579730913\n",
       " -0.02704875267075694\n",
       " -0.027033937704977865\n",
       " -0.026930650634416308\n",
       " -0.026681500339213814\n",
       "  ⋮\n",
       " -0.030758955891431402\n",
       " -0.030210403347507\n",
       " -0.030872386521290776\n",
       " -0.03169568343491351\n",
       " -0.03092834584631755\n",
       " -0.030891574747121345\n",
       " -0.03132327863533596\n",
       " -0.032595419499519815\n",
       " -0.032026414635391236"
      ]
     },
     "metadata": {},
     "output_type": "display_data"
    }
   ],
   "source": [
    "λ = lyapunovspectrum(tands, Nsteps; Δt = ns, Ttr=trans,show_progress=true)"
   ]
  },
  {
   "cell_type": "code",
   "execution_count": null,
   "metadata": {},
   "outputs": [],
   "source": [
    "#diffeq=(alg=RK4(),dt=dt,adaptive=false)"
   ]
  },
  {
   "cell_type": "markdown",
   "metadata": {},
   "source": [
    "### Test Jacobian "
   ]
  },
  {
   "cell_type": "code",
   "execution_count": null,
   "metadata": {},
   "outputs": [],
   "source": [
    "include(\"Network.jl\")"
   ]
  },
  {
   "cell_type": "code",
   "execution_count": null,
   "metadata": {},
   "outputs": [],
   "source": [
    "M = zeros(90*6,90*6)"
   ]
  },
  {
   "cell_type": "code",
   "execution_count": null,
   "metadata": {},
   "outputs": [],
   "source": [
    "init = zeros(90*6)\n",
    "init[1:Npop].=1\n",
    "init[1+Npop:idx_se*Npop].=2\n",
    "init[1+idx_se*Npop:idx_ri*Npop].=3\n",
    "init[1+idx_ri*Npop:idx_vi*Npop].=4\n",
    "init[1+idx_vi*Npop:idx_si*Npop].=5\n",
    "init[1+idx_si*Npop:end].=6"
   ]
  },
  {
   "cell_type": "code",
   "execution_count": null,
   "metadata": {},
   "outputs": [],
   "source": [
    "Network.JacobianNetwork!(M,init,p,0)"
   ]
  },
  {
   "cell_type": "code",
   "execution_count": null,
   "metadata": {},
   "outputs": [],
   "source": [
    "M"
   ]
  },
  {
   "cell_type": "code",
   "execution_count": null,
   "metadata": {},
   "outputs": [],
   "source": [
    "Npop = 90\n",
    "\n",
    "# Number of variables\n",
    "Nvar = 6\n",
    "\n",
    "# Define necessary indices        \n",
    "idx_ve = 1\n",
    "idx_se = 2\n",
    "idx_ri = 3\n",
    "idx_vi = 4\n",
    "idx_si = 5"
   ]
  },
  {
   "cell_type": "code",
   "execution_count": null,
   "metadata": {},
   "outputs": [],
   "source": [
    "i = 1\n",
    "j = 2\n",
    "M[1+i*Npop:(i+1)*Npop,1+j*Npop:(j+1)*Npop]"
   ]
  },
  {
   "cell_type": "code",
   "execution_count": null,
   "metadata": {},
   "outputs": [],
   "source": [
    "Network.JacobianNetwork!(ones(90*6,90*6),zeros(90*6),p,0)"
   ]
  },
  {
   "cell_type": "code",
   "execution_count": null,
   "metadata": {},
   "outputs": [],
   "source": [
    "jac_0 = ones(12)"
   ]
  }
 ],
 "metadata": {
  "kernelspec": {
   "display_name": "Julia 1.11.4",
   "language": "julia",
   "name": "julia-1.11"
  },
  "language_info": {
   "file_extension": ".jl",
   "mimetype": "application/julia",
   "name": "julia",
   "version": "1.11.4"
  }
 },
 "nbformat": 4,
 "nbformat_minor": 2
}
