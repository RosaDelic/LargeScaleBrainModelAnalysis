{
 "cells": [
  {
   "cell_type": "markdown",
   "metadata": {},
   "source": [
    "# Imports"
   ]
  },
  {
   "cell_type": "code",
   "execution_count": 1,
   "metadata": {},
   "outputs": [],
   "source": [
    "%load_ext autoreload\n",
    "%autoreload 2"
   ]
  },
  {
   "cell_type": "code",
   "execution_count": 2,
   "metadata": {},
   "outputs": [],
   "source": [
    "import numpy as np\n",
    "from InitCondPOHomogeous import InitCondPOHomogeneous\n",
    "from FloquetExponentsVariationals import ComputeFloquetExponents\n",
    "from RoutineFloquet import RoutineFloquet\n",
    "from PlotFloquetExponents import PlotFloquetExponents\n",
    "import matplotlib.pyplot as plt"
   ]
  },
  {
   "cell_type": "code",
   "execution_count": 3,
   "metadata": {},
   "outputs": [],
   "source": [
    "from Continuation import ContinuationRoutine"
   ]
  },
  {
   "cell_type": "code",
   "execution_count": 63,
   "metadata": {},
   "outputs": [],
   "source": [
    "#Load data structural connectivity matrix\n",
    "data=np.load('NormalizedMatrix.npz')\n",
    "norm_matrix = data['normalized_matrix']\n",
    "\n",
    "#Compute eigenvalues and eigenvectors of connectivity matrix W\n",
    "vapsConn,vepsConn = np.linalg.eig(norm_matrix)\n",
    "\n",
    "Nvariables = 6\n",
    "Npop = 90\n",
    "ModelParams = dict(tau_e = 8,\n",
    "            tau_i = 8,\n",
    "            tau_se=1,\n",
    "            tau_si=5,\n",
    "            nu_e = -5,\n",
    "            nu_i = -5,\n",
    "            Delta_e = 1,\n",
    "            Delta_i = 1,\n",
    "            Jee = 5,\n",
    "            Jei = 13,\n",
    "            Jii = 5,\n",
    "            Jie = 13,\n",
    "            Iext_i=0)"
   ]
  },
  {
   "cell_type": "code",
   "execution_count": 66,
   "metadata": {},
   "outputs": [
    {
     "name": "stdout",
     "output_type": "stream",
     "text": [
      "Maximum Floquet Exponent starter: -3.332046096901029e-06\n",
      "================================================\n",
      "epsilon: 18.248809525000002\n",
      "max_mu1: 0.0032992864019429986\n",
      "------ Inside cross-------\n",
      "Approx Iext_i: 9.82423437\n",
      "max_mu2: 0.004212714263029268\n",
      "------ Inside cross-------\n",
      "Approx Iext_i: 9.924234369999999\n",
      "max_mu2: 0.00021315088773713028\n",
      "------ Inside cross-------\n",
      "Approx Iext_i: 10.024234369999999\n",
      "max_mu2: -0.002659006465604966\n",
      "******* Inside bisection *******\n",
      "******* Inside bisection *******\n",
      "******* Inside bisection *******\n",
      "******* Inside bisection *******\n",
      "******* Inside bisection *******\n",
      "******* Inside bisection *******\n",
      "Searching direction: 1\n",
      " DEFINITIVE Iext_e: 9.932046869999999\n",
      "================================================\n",
      "epsilon: 18.36904762\n",
      "max_mu1: -0.0008725217961576062\n",
      "------ Inside cross-------\n",
      "Approx Iext_i: 9.83204687\n",
      "max_mu2: 0.005293331829809147\n",
      "******* Inside bisection *******\n",
      "******* Inside bisection *******\n",
      "******* Inside bisection *******\n",
      "******* Inside bisection *******\n",
      "******* Inside bisection *******\n",
      "******* Inside bisection *******\n",
      "******* Inside bisection *******\n",
      "******* Inside bisection *******\n",
      "Searching direction: -1\n",
      " DEFINITIVE Iext_e: 9.906656244999999\n",
      "================================================\n",
      "epsilon: 18.489285715\n",
      "max_mu1: -0.0010901366724669706\n",
      "------ Inside cross-------\n",
      "Approx Iext_i: 9.806656245\n",
      "max_mu2: 0.005629471486860581\n",
      "******* Inside bisection *******\n",
      "******* Inside bisection *******\n",
      "******* Inside bisection *******\n",
      "******* Inside bisection *******\n",
      "******* Inside bisection *******\n",
      "******* Inside bisection *******\n",
      "******* Inside bisection *******\n",
      "******* Inside bisection *******\n",
      "******* Inside bisection *******\n",
      "******* Inside bisection *******\n",
      "******* Inside bisection *******\n",
      "Searching direction: -1\n",
      " DEFINITIVE Iext_e: 9.896744135625\n",
      "================================================\n",
      "epsilon: 18.609523810000002\n",
      "max_mu1: -0.0021212797068402007\n",
      "------ Inside cross-------\n",
      "Approx Iext_i: 9.796744135625\n",
      "max_mu2: 0.005734102649454794\n",
      "******* Inside bisection *******\n",
      "******* Inside bisection *******\n",
      "******* Inside bisection *******\n",
      "******* Inside bisection *******\n",
      "******* Inside bisection *******\n",
      "******* Inside bisection *******\n",
      "******* Inside bisection *******\n",
      "******* Inside bisection *******\n",
      "Searching direction: -1\n",
      " DEFINITIVE Iext_e: 9.858072260624997\n",
      "================================================\n",
      "epsilon: 18.729761905\n",
      "max_mu1: -0.0018740810001932528\n",
      "------ Inside cross-------\n",
      "Approx Iext_i: 9.758072260624997\n",
      "max_mu2: 0.005802350899508147\n",
      "******* Inside bisection *******\n",
      "******* Inside bisection *******\n",
      "******* Inside bisection *******\n",
      "******* Inside bisection *******\n",
      "******* Inside bisection *******\n",
      "******* Inside bisection *******\n",
      "******* Inside bisection *******\n",
      "******* Inside bisection *******\n",
      "******* Inside bisection *******\n",
      "******* Inside bisection *******\n",
      "Searching direction: -1\n",
      " DEFINITIVE Iext_e: 9.834341791874998\n",
      "================================================\n",
      "epsilon: 18.85\n",
      "max_mu1: -0.002506965913999208\n",
      "------ Inside cross-------\n",
      "Approx Iext_i: 9.734341791874998\n",
      "max_mu2: 0.007061714489357847\n",
      "******* Inside bisection *******\n",
      "******* Inside bisection *******\n",
      "******* Inside bisection *******\n",
      "******* Inside bisection *******\n",
      "******* Inside bisection *******\n",
      "******* Inside bisection *******\n",
      "******* Inside bisection *******\n",
      "******* Inside bisection *******\n",
      "******* Inside bisection *******\n",
      "******* Inside bisection *******\n",
      "******* Inside bisection *******\n",
      "******* Inside bisection *******\n",
      "******* Inside bisection *******\n",
      "Searching direction: -1\n",
      " DEFINITIVE Iext_e: 9.810525873906247\n"
     ]
    }
   ],
   "source": [
    "vector_eps,vector_Iext_e = ContinuationRoutine(vapsConn,Nvariables,Npop,ModelParams)"
   ]
  },
  {
   "cell_type": "code",
   "execution_count": 18,
   "metadata": {},
   "outputs": [
    {
     "data": {
      "text/plain": [
       "array([19.38 , 19.504, 19.628, 19.752, 19.876, 20.   ])"
      ]
     },
     "execution_count": 18,
     "metadata": {},
     "output_type": "execute_result"
    }
   ],
   "source": [
    "vector_eps=np.flip(vector_eps)\n",
    "vector_eps"
   ]
  },
  {
   "cell_type": "code",
   "execution_count": 19,
   "metadata": {},
   "outputs": [
    {
     "data": {
      "text/plain": [
       "array([9.67640625, 9.58421875, 9.48070312, 9.36390625, 9.23382812,\n",
       "       9.485     ])"
      ]
     },
     "execution_count": 19,
     "metadata": {},
     "output_type": "execute_result"
    }
   ],
   "source": [
    "vector_Iext_e=np.flip(vector_Iext_e)\n",
    "vector_Iext_e"
   ]
  },
  {
   "cell_type": "code",
   "execution_count": 70,
   "metadata": {},
   "outputs": [],
   "source": [
    "vector_Iext_e[0]=9.72423437"
   ]
  },
  {
   "cell_type": "code",
   "execution_count": 71,
   "metadata": {},
   "outputs": [
    {
     "data": {
      "text/plain": [
       "array([18.12857143, 18.24880953, 18.36904762, 18.48928572, 18.60952381,\n",
       "       18.72976191, 18.85      ])"
      ]
     },
     "execution_count": 71,
     "metadata": {},
     "output_type": "execute_result"
    }
   ],
   "source": [
    "vector_eps"
   ]
  },
  {
   "cell_type": "code",
   "execution_count": 72,
   "metadata": {},
   "outputs": [
    {
     "data": {
      "text/plain": [
       "array([9.72423437, 9.93204687, 9.90665624, 9.89674414, 9.85807226,\n",
       "       9.83434179, 9.81052587])"
      ]
     },
     "execution_count": 72,
     "metadata": {},
     "output_type": "execute_result"
    }
   ],
   "source": [
    "vector_Iext_e"
   ]
  },
  {
   "cell_type": "code",
   "execution_count": 73,
   "metadata": {},
   "outputs": [
    {
     "data": {
      "text/plain": [
       "[<matplotlib.lines.Line2D at 0x13d9274d0>]"
      ]
     },
     "execution_count": 73,
     "metadata": {},
     "output_type": "execute_result"
    },
    {
     "data": {
      "image/png": "[encoded data removed]",
      "text/plain": [
       "<Figure size 640x480 with 1 Axes>"
      ]
     },
     "metadata": {},
     "output_type": "display_data"
    }
   ],
   "source": [
    "plt.plot(vector_Iext_e,vector_eps)"
   ]
  },
  {
   "cell_type": "code",
   "execution_count": 37,
   "metadata": {},
   "outputs": [],
   "source": [
    "np.savez('SecondDownLeft.npz',vector_Iext_e=vector_Iext_e,vector_eps=vector_eps)\n"
   ]
  },
  {
   "cell_type": "code",
   "execution_count": 20,
   "metadata": {},
   "outputs": [],
   "source": [
    "vector_Iext_eHalf = vector_Iext_e\n",
    "vector_epsHalf = vector_eps "
   ]
  },
  {
   "cell_type": "code",
   "execution_count": null,
   "metadata": {},
   "outputs": [
    {
     "data": {
      "text/plain": [
       "array([0.        , 5.33779297, 5.27998047, 5.22333984, 5.16708984,\n",
       "       5.11201172, 5.05810547, 5.00537109, 4.95419922, 4.90498047,\n",
       "       4.85771484, 4.81357422, 4.77177734, 4.73388672, 4.70341797])"
      ]
     },
     "metadata": {},
     "output_type": "display_data"
    }
   ],
   "source": [
    "vector_Iext_e2068Cusp"
   ]
  },
  {
   "cell_type": "code",
   "execution_count": 14,
   "metadata": {},
   "outputs": [],
   "source": [
    "SecondLeft = np.load('SecondUpLeft.npz')"
   ]
  },
  {
   "cell_type": "code",
   "execution_count": 15,
   "metadata": {},
   "outputs": [],
   "source": [
    "vector_epsSecondLeft = SecondLeft['vector_eps']\n",
    "vector_Iext_eSecondLeft = SecondLeft['vector_Iext_e']"
   ]
  },
  {
   "cell_type": "code",
   "execution_count": 16,
   "metadata": {},
   "outputs": [
    {
     "data": {
      "text/plain": [
       "array([20.        , 20.1025641 , 20.20512821, 20.30769231, 20.41025641,\n",
       "       20.51282051, 20.61538462, 20.71794872, 20.82051282, 20.92307692,\n",
       "       21.02564103, 21.12820513, 21.23076923, 21.33333333, 21.43589744,\n",
       "       21.53846154, 21.64102564, 21.74358974, 21.84615385, 21.94871795,\n",
       "       22.05128205, 22.15384615, 22.25641026, 22.35897436, 22.46153846,\n",
       "       22.56410256, 22.66666667, 22.76923077, 22.87179487, 22.97435897,\n",
       "       23.07692308, 23.17948718, 23.28205128, 23.38461538, 23.48717949,\n",
       "       23.58974359, 23.69230769, 23.79487179, 23.8974359 , 24.        ])"
      ]
     },
     "execution_count": 16,
     "metadata": {},
     "output_type": "execute_result"
    }
   ],
   "source": [
    "vector_epsSecondLeft"
   ]
  },
  {
   "cell_type": "code",
   "execution_count": 17,
   "metadata": {},
   "outputs": [
    {
     "data": {
      "text/plain": [
       "array([9.485     , 9.48875977, 9.45587402, 9.42047363, 9.38248535,\n",
       "       9.34830566, 9.31549316, 9.28385254, 9.25221191, 9.03824707,\n",
       "       9.1573877 , 9.16986328, 9.15449463, 9.12633911, 9.09132935,\n",
       "       9.04870239, 9.00524536, 8.95993286, 8.90885864, 8.84753052,\n",
       "       8.77604614, 8.69596802, 8.60729614, 8.50885864, 8.39792114,\n",
       "       8.26823364, 8.10104614, 7.80104614, 6.77497192, 6.64880005,\n",
       "       6.52712036, 6.40592896, 6.28337036, 6.15934692, 6.03376099,\n",
       "       5.90661255, 5.77731567, 5.64567505, 5.51149536, 5.37340942])"
      ]
     },
     "execution_count": 17,
     "metadata": {},
     "output_type": "execute_result"
    }
   ],
   "source": [
    "vector_Iext_eSecondLeft"
   ]
  },
  {
   "cell_type": "code",
   "execution_count": 20,
   "metadata": {},
   "outputs": [
    {
     "data": {
      "text/plain": [
       "array([19.38      , 19.504     , 19.628     , 19.752     , 19.876     ,\n",
       "       20.        , 20.1025641 , 20.20512821, 20.30769231, 20.41025641,\n",
       "       20.51282051, 20.61538462, 20.71794872, 20.82051282, 20.92307692,\n",
       "       21.02564103, 21.12820513, 21.23076923, 21.33333333, 21.43589744,\n",
       "       21.53846154, 21.64102564, 21.74358974, 21.84615385, 21.94871795,\n",
       "       22.05128205, 22.15384615, 22.25641026, 22.35897436, 22.46153846,\n",
       "       22.56410256, 22.66666667, 22.76923077, 22.87179487, 22.97435897,\n",
       "       23.07692308, 23.17948718, 23.28205128, 23.38461538, 23.48717949,\n",
       "       23.58974359, 23.69230769, 23.79487179, 23.8974359 , 24.        ])"
      ]
     },
     "execution_count": 20,
     "metadata": {},
     "output_type": "execute_result"
    }
   ],
   "source": [
    "eps_CompleteSecondRight = np.concat([vector_eps[0:len(vector_eps)-1],vector_epsSecondLeft])\n",
    "eps_CompleteSecondRight"
   ]
  },
  {
   "cell_type": "code",
   "execution_count": 26,
   "metadata": {},
   "outputs": [
    {
     "data": {
      "text/plain": [
       "array([9.67640625, 9.58421875, 9.48070312, 9.36390625, 9.23382812,\n",
       "       9.485     , 9.48875977, 9.45587402, 9.42047363, 9.38248535,\n",
       "       9.34830566, 9.31549316, 9.28385254, 9.25221191, 9.03824707,\n",
       "       9.1573877 , 9.16986328, 9.15449463, 9.12633911, 9.09132935,\n",
       "       9.04870239, 9.00524536, 8.95993286, 8.90885864, 8.84753052,\n",
       "       8.77604614, 8.69596802, 8.60729614, 8.50885864, 8.39792114,\n",
       "       8.26823364, 8.10104614, 7.80104614, 6.77497192, 6.64880005,\n",
       "       6.52712036, 6.40592896, 6.28337036, 6.15934692, 6.03376099,\n",
       "       5.90661255, 5.77731567, 5.64567505, 5.51149536, 5.37340942])"
      ]
     },
     "execution_count": 26,
     "metadata": {},
     "output_type": "execute_result"
    }
   ],
   "source": [
    "Iext_e_CompleteSecondRight = np.concat([vector_Iext_e[0:len(vector_Iext_e)-1],vector_Iext_eSecondLeft])\n",
    "Iext_e_CompleteSecondRight"
   ]
  },
  {
   "cell_type": "code",
   "execution_count": 74,
   "metadata": {},
   "outputs": [],
   "source": [
    "dataMiddleFirstRight = np.load('MiddleFirstRightMost.npz')"
   ]
  },
  {
   "cell_type": "code",
   "execution_count": 75,
   "metadata": {},
   "outputs": [],
   "source": [
    "vector_epsMiddleFirstRight = dataMiddleFirstRight['vector_eps']\n",
    "vector_Iext_eMiddleFirstRight = dataMiddleFirstRight['vector_Iext_e']"
   ]
  },
  {
   "cell_type": "code",
   "execution_count": 76,
   "metadata": {},
   "outputs": [
    {
     "data": {
      "text/plain": [
       "array([15.        , 15.1025641 , 15.20512821, 15.30769231, 15.41025641,\n",
       "       15.51282051, 15.61538462, 15.71794872, 15.82051282, 15.92307692,\n",
       "       16.02564103, 16.12820513, 16.23076923, 16.33333333, 16.43589744,\n",
       "       16.53846154, 16.64102564, 16.74358974, 16.84615385, 16.94871795,\n",
       "       17.05128205, 17.15384615, 17.25641026, 17.35897436, 17.46153846,\n",
       "       17.56410256, 17.66666667, 17.76923077, 17.87179487, 17.97435897,\n",
       "       18.07692308, 18.17948718, 18.28205128, 18.38461538, 18.48717949,\n",
       "       18.58974359, 18.69230769, 18.79487179, 18.8974359 , 19.        ])"
      ]
     },
     "execution_count": 76,
     "metadata": {},
     "output_type": "execute_result"
    }
   ],
   "source": [
    "vector_epsMiddleFirstRight = np.flip(vector_epsMiddleFirstRight)\n",
    "vector_epsMiddleFirstRight"
   ]
  },
  {
   "cell_type": "code",
   "execution_count": 77,
   "metadata": {},
   "outputs": [
    {
     "data": {
      "text/plain": [
       "array([10.57869648, 10.57088398, 10.55760273, 10.54119648, 10.52127461,\n",
       "       10.51971211, 10.54002461, 10.52791523, 10.49822773, 10.45525898,\n",
       "       10.42928242, 10.3835793 , 10.26717305, 10.26404805, 10.20994648,\n",
       "       10.1601418 , 10.1335793 , 10.11248555, 10.14178242, 10.19334492,\n",
       "       10.21912617, 10.20818867, 10.17693867, 10.13865742, 10.09803242,\n",
       "       10.05779805, 10.01756367,  9.99100117,  9.98396992,  9.98006367,\n",
       "        9.96600117,  9.42225117,  9.26175313,  9.11629414,  8.97942891,\n",
       "        8.84783711,  8.72024922,  8.59485859,  8.4707375 ,  8.3473    ])"
      ]
     },
     "execution_count": 77,
     "metadata": {},
     "output_type": "execute_result"
    }
   ],
   "source": [
    "vector_Iext_eMiddleFirstRight = np.flip(vector_Iext_eMiddleFirstRight)\n",
    "vector_Iext_eMiddleFirstRight"
   ]
  },
  {
   "cell_type": "code",
   "execution_count": 78,
   "metadata": {},
   "outputs": [
    {
     "data": {
      "text/plain": [
       "array([15.        , 15.1025641 , 15.20512821, 15.30769231, 15.41025641,\n",
       "       15.51282051, 15.61538462, 15.71794872, 15.82051282, 15.92307692,\n",
       "       16.02564103, 16.12820513, 16.23076923, 16.33333333, 16.43589744,\n",
       "       16.53846154, 16.64102564, 16.74358974, 16.84615385, 16.94871795,\n",
       "       17.05128205, 17.15384615, 17.25641026, 19.        , 19.10717391,\n",
       "       19.21434783, 19.32152174, 19.42869565, 19.53586957, 19.64304348,\n",
       "       19.75021739, 19.8573913 , 19.96456522, 20.07173913, 20.17891304,\n",
       "       20.28608696, 20.39326087, 20.50043478, 20.6076087 , 20.71478261,\n",
       "       20.82195652, 20.92913043, 21.03630435, 21.14347826, 21.25065217,\n",
       "       21.35782609, 21.465     ])"
      ]
     },
     "execution_count": 78,
     "metadata": {},
     "output_type": "execute_result"
    }
   ],
   "source": [
    "eps_unionUpperMiddle=np.concatenate([vector_epsMiddleFirstRight[0:len(vector_epsUpRight)-1],vector_epsUpRight])\n",
    "eps_unionUpperMiddle"
   ]
  },
  {
   "cell_type": "code",
   "execution_count": 79,
   "metadata": {},
   "outputs": [
    {
     "data": {
      "text/plain": [
       "array([10.57869648, 10.57088398, 10.55760273, 10.54119648, 10.52127461,\n",
       "       10.51971211, 10.54002461, 10.52791523, 10.49822773, 10.45525898,\n",
       "       10.42928242, 10.3835793 , 10.26717305, 10.26404805, 10.20994648,\n",
       "       10.1601418 , 10.1335793 , 10.11248555, 10.14178242, 10.19334492,\n",
       "       10.21912617, 10.20818867, 10.17693867,  8.3473    ,  8.21849141,\n",
       "        8.08958516,  7.96019063,  7.83021016,  7.69930195,  7.56746602,\n",
       "        7.4344582 ,  7.30018086,  7.16453633,  7.02742695,  6.88865742,\n",
       "        6.74861836,  6.60721211,  6.46395039,  6.31844258,  6.17059102,\n",
       "        6.02000508,  5.86609883,  5.70828633,  5.54578633,  5.37625508,\n",
       "        5.19578633,  4.99734883])"
      ]
     },
     "execution_count": 79,
     "metadata": {},
     "output_type": "execute_result"
    }
   ],
   "source": [
    "Iext_e_unionUpperMiddle=np.concatenate([vector_Iext_eMiddleFirstRight[0:len(vector_epsUpRight)-1],vector_Iext_eUpRight])\n",
    "Iext_e_unionUpperMiddle"
   ]
  },
  {
   "cell_type": "code",
   "execution_count": 80,
   "metadata": {},
   "outputs": [
    {
     "data": {
      "text/plain": [
       "[<matplotlib.lines.Line2D at 0x12bba0a50>]"
      ]
     },
     "execution_count": 80,
     "metadata": {},
     "output_type": "execute_result"
    },
    {
     "data": {
      "image/png": "[encoded data removed]",
      "text/plain": [
       "<Figure size 640x480 with 1 Axes>"
      ]
     },
     "metadata": {},
     "output_type": "display_data"
    }
   ],
   "source": [
    "plt.plot(Iext_e_unionUpperMiddle,eps_unionUpperMiddle)"
   ]
  },
  {
   "cell_type": "code",
   "execution_count": 81,
   "metadata": {},
   "outputs": [],
   "source": [
    "dataLowerRight= np.load('LowerFirstRightMost.npz')"
   ]
  },
  {
   "cell_type": "code",
   "execution_count": 82,
   "metadata": {},
   "outputs": [],
   "source": [
    "vector_epsLowerRight =  dataLowerRight['vector_eps']\n",
    "vector_Iext_eLowerRight =  dataLowerRight['vector_Iext_e']"
   ]
  },
  {
   "cell_type": "code",
   "execution_count": 87,
   "metadata": {},
   "outputs": [
    {
     "data": {
      "text/plain": [
       "array([12.5       , 12.60416667, 12.70833333, 12.8125    , 12.91666667,\n",
       "       13.02083333, 13.125     , 13.22916667, 13.33333333, 13.4375    ,\n",
       "       13.54166667, 13.64583333, 13.75      , 13.85416667, 13.95833333,\n",
       "       14.0625    , 14.16666667, 14.27083333, 14.375     , 14.47916667,\n",
       "       14.58333333, 14.6875    , 14.79166667, 14.89583333, 15.        ])"
      ]
     },
     "execution_count": 87,
     "metadata": {},
     "output_type": "execute_result"
    }
   ],
   "source": [
    "vector_epsLowerRight=np.flip(vector_epsLowerRight)\n",
    "vector_epsLowerRight"
   ]
  },
  {
   "cell_type": "code",
   "execution_count": 88,
   "metadata": {},
   "outputs": [
    {
     "data": {
      "text/plain": [
       "array([12.3915871 , 12.3212746 , 12.24861835, 12.17518085, 12.09861835,\n",
       "       12.01893085, 11.93768085, 11.85018085, 11.75799335, 11.65955585,\n",
       "       11.55018085, 11.55486835, 11.4197121 , 11.23924336, 11.02830586,\n",
       "       10.79705586, 10.77518086, 10.75018086, 10.71189961, 10.66814961,\n",
       "       10.54822773, 10.53729023, 10.56697773, 10.57713398, 10.57869648])"
      ]
     },
     "execution_count": 88,
     "metadata": {},
     "output_type": "execute_result"
    }
   ],
   "source": [
    "vector_Iext_eLowerRight=np.flip(vector_Iext_eLowerRight)\n",
    "vector_Iext_eLowerRight"
   ]
  },
  {
   "cell_type": "code",
   "execution_count": 89,
   "metadata": {},
   "outputs": [
    {
     "data": {
      "text/plain": [
       "array([12.5       , 12.60416667, 12.70833333, 12.8125    , 12.91666667,\n",
       "       13.02083333, 13.125     , 13.22916667, 13.33333333, 13.4375    ,\n",
       "       13.54166667, 13.64583333, 13.75      , 13.85416667, 13.95833333,\n",
       "       14.0625    , 14.16666667, 14.27083333, 14.375     , 14.47916667,\n",
       "       14.58333333, 14.6875    , 14.79166667, 14.89583333, 15.        ,\n",
       "       15.1025641 , 15.20512821, 15.30769231, 15.41025641, 15.51282051,\n",
       "       15.61538462, 15.71794872, 15.82051282, 15.92307692, 16.02564103,\n",
       "       16.12820513, 16.23076923, 16.33333333, 16.43589744, 16.53846154,\n",
       "       16.64102564, 16.74358974, 16.84615385, 16.94871795, 17.05128205,\n",
       "       17.15384615, 17.25641026, 19.        , 19.10717391, 19.21434783,\n",
       "       19.32152174, 19.42869565, 19.53586957, 19.64304348, 19.75021739,\n",
       "       19.8573913 , 19.96456522, 20.07173913, 20.17891304, 20.28608696,\n",
       "       20.39326087, 20.50043478, 20.6076087 , 20.71478261, 20.82195652,\n",
       "       20.92913043, 21.03630435, 21.14347826, 21.25065217, 21.35782609,\n",
       "       21.465     ])"
      ]
     },
     "execution_count": 89,
     "metadata": {},
     "output_type": "execute_result"
    }
   ],
   "source": [
    "eps_unionRight=np.concatenate([vector_epsLowerRight[0:len(vector_epsLowerRight)-1],eps_unionUpperMiddle])\n",
    "eps_unionRight"
   ]
  },
  {
   "cell_type": "code",
   "execution_count": 90,
   "metadata": {},
   "outputs": [
    {
     "data": {
      "text/plain": [
       "array([12.3915871 , 12.3212746 , 12.24861835, 12.17518085, 12.09861835,\n",
       "       12.01893085, 11.93768085, 11.85018085, 11.75799335, 11.65955585,\n",
       "       11.55018085, 11.55486835, 11.4197121 , 11.23924336, 11.02830586,\n",
       "       10.79705586, 10.77518086, 10.75018086, 10.71189961, 10.66814961,\n",
       "       10.54822773, 10.53729023, 10.56697773, 10.57713398, 10.57869648,\n",
       "       10.57088398, 10.55760273, 10.54119648, 10.52127461, 10.51971211,\n",
       "       10.54002461, 10.52791523, 10.49822773, 10.45525898, 10.42928242,\n",
       "       10.3835793 , 10.26717305, 10.26404805, 10.20994648, 10.1601418 ,\n",
       "       10.1335793 , 10.11248555, 10.14178242, 10.19334492, 10.21912617,\n",
       "       10.20818867, 10.17693867,  8.3473    ,  8.21849141,  8.08958516,\n",
       "        7.96019063,  7.83021016,  7.69930195,  7.56746602,  7.4344582 ,\n",
       "        7.30018086,  7.16453633,  7.02742695,  6.88865742,  6.74861836,\n",
       "        6.60721211,  6.46395039,  6.31844258,  6.17059102,  6.02000508,\n",
       "        5.86609883,  5.70828633,  5.54578633,  5.37625508,  5.19578633,\n",
       "        4.99734883])"
      ]
     },
     "execution_count": 90,
     "metadata": {},
     "output_type": "execute_result"
    }
   ],
   "source": [
    "Iext_e_unionRight=np.concatenate([vector_Iext_eLowerRight[0:len(vector_epsLowerRight)-1],Iext_e_unionUpperMiddle])\n",
    "Iext_e_unionRight"
   ]
  },
  {
   "cell_type": "code",
   "execution_count": 91,
   "metadata": {},
   "outputs": [
    {
     "data": {
      "text/plain": [
       "[<matplotlib.lines.Line2D at 0x12b8765d0>]"
      ]
     },
     "execution_count": 91,
     "metadata": {},
     "output_type": "execute_result"
    },
    {
     "data": {
      "image/png": "[encoded data removed]",
      "text/plain": [
       "<Figure size 640x480 with 1 Axes>"
      ]
     },
     "metadata": {},
     "output_type": "display_data"
    }
   ],
   "source": [
    "plt.plot(Iext_e_unionRight,eps_unionRight)"
   ]
  },
  {
   "cell_type": "code",
   "execution_count": 91,
   "metadata": {},
   "outputs": [],
   "source": [
    "np.savez('CompleteRoundSecondLeftMost.npz',vector_Iext_e=vector_Iext_eLeft,vector_eps=vector_epsLeft)\n"
   ]
  },
  {
   "cell_type": "markdown",
   "metadata": {},
   "source": [
    "## Plot all curves"
   ]
  },
  {
   "cell_type": "markdown",
   "metadata": {},
   "source": [
    "### First right curve"
   ]
  },
  {
   "cell_type": "code",
   "execution_count": 92,
   "metadata": {},
   "outputs": [],
   "source": [
    "dataCompleteRight = np.load('CompleteRightMost.npz')"
   ]
  },
  {
   "cell_type": "code",
   "execution_count": 93,
   "metadata": {},
   "outputs": [],
   "source": [
    "vector_epsCompleteRight = dataCompleteRight['vector_eps']\n",
    "vector_Iext_eCompleteRight = dataCompleteRight['vector_Iext_e']"
   ]
  },
  {
   "cell_type": "markdown",
   "metadata": {},
   "source": [
    "### First left curve"
   ]
  },
  {
   "cell_type": "code",
   "execution_count": 94,
   "metadata": {},
   "outputs": [],
   "source": [
    "dataCompleteLeft = np.load('CompleteLeftMost.npz')"
   ]
  },
  {
   "cell_type": "code",
   "execution_count": 95,
   "metadata": {},
   "outputs": [],
   "source": [
    "vector_epsCompleteLeft = dataCompleteLeft['vector_eps']\n",
    "vector_Iext_eCompleteLeft = dataCompleteLeft['vector_Iext_e']"
   ]
  },
  {
   "cell_type": "markdown",
   "metadata": {},
   "source": [
    "### Second right curve"
   ]
  },
  {
   "cell_type": "code",
   "execution_count": 96,
   "metadata": {},
   "outputs": [],
   "source": [
    "dataCompleteSecondRight = np.load('CompleteSecondRightMost.npz')"
   ]
  },
  {
   "cell_type": "code",
   "execution_count": 97,
   "metadata": {},
   "outputs": [],
   "source": [
    "vector_epsCompleteSecondRight = dataCompleteSecondRight['vector_eps']\n",
    "vector_Iext_eCompleteSecondRight = dataCompleteSecondRight['vector_Iext_e']"
   ]
  },
  {
   "cell_type": "markdown",
   "metadata": {},
   "source": [
    "### Second left curve"
   ]
  },
  {
   "cell_type": "code",
   "execution_count": 98,
   "metadata": {},
   "outputs": [],
   "source": [
    "dataCompleteSecondLeft = np.load('CompleteRoundSecondLeftMost.npz')"
   ]
  },
  {
   "cell_type": "code",
   "execution_count": 99,
   "metadata": {},
   "outputs": [],
   "source": [
    "vector_epsCompleteSecondLeft = dataCompleteSecondLeft['vector_eps']\n",
    "vector_Iext_eCompleteSecondLeft = dataCompleteSecondLeft['vector_Iext_e']"
   ]
  },
  {
   "cell_type": "code",
   "execution_count": null,
   "metadata": {},
   "outputs": [
    {
     "data": {
      "text/plain": [
       "([<matplotlib.axis.XTick at 0x13f49a490>,\n",
       "  <matplotlib.axis.XTick at 0x13f50c7d0>,\n",
       "  <matplotlib.axis.XTick at 0x13f50cf50>,\n",
       "  <matplotlib.axis.XTick at 0x13f50d6d0>,\n",
       "  <matplotlib.axis.XTick at 0x13f50de50>,\n",
       "  <matplotlib.axis.XTick at 0x13f50e5d0>,\n",
       "  <matplotlib.axis.XTick at 0x13f52fc50>,\n",
       "  <matplotlib.axis.XTick at 0x13f4b4410>,\n",
       "  <matplotlib.axis.XTick at 0x13f4b4b90>,\n",
       "  <matplotlib.axis.XTick at 0x13f4b5310>,\n",
       "  <matplotlib.axis.XTick at 0x13f4b5a90>,\n",
       "  <matplotlib.axis.XTick at 0x13f4b6210>,\n",
       "  <matplotlib.axis.XTick at 0x13f4b6990>,\n",
       "  <matplotlib.axis.XTick at 0x13f4b7110>,\n",
       "  <matplotlib.axis.XTick at 0x13f4b7890>,\n",
       "  <matplotlib.axis.XTick at 0x13f4cc050>,\n",
       "  <matplotlib.axis.XTick at 0x13f4cc7d0>,\n",
       "  <matplotlib.axis.XTick at 0x13f4ccf50>],\n",
       " [Text(2, 0, '2'),\n",
       "  Text(4, 0, '4'),\n",
       "  Text(5, 0, '5'),\n",
       "  Text(6, 0, '6'),\n",
       "  Text(7, 0, '7'),\n",
       "  Text(8, 0, '8'),\n",
       "  Text(9, 0, '9'),\n",
       "  Text(10, 0, '10'),\n",
       "  Text(11, 0, '11'),\n",
       "  Text(12, 0, '12'),\n",
       "  Text(13, 0, '13'),\n",
       "  Text(14, 0, '14'),\n",
       "  Text(15, 0, '15'),\n",
       "  Text(16, 0, '16'),\n",
       "  Text(17, 0, '17'),\n",
       "  Text(18, 0, '18'),\n",
       "  Text(19, 0, '19'),\n",
       "  Text(20, 0, '20')])"
      ]
     },
     "execution_count": 100,
     "metadata": {},
     "output_type": "execute_result"
    },
    {
     "data": {
      "image/png": "[encoded data removed]",
      "text/plain": [
       "<Figure size 1200x700 with 1 Axes>"
      ]
     },
     "metadata": {},
     "output_type": "display_data"
    }
   ],
   "source": [
    "fig1=plt.figure(figsize=(12,7))\n",
    "ax=plt.axes()\n",
    "ax.grid()\n",
    "plt.title(r'Bifurcation Diagram',fontsize=30,fontname='Times New Roman')\n",
    "plt.xlabel(r'$I_{ext}^e$',fontsize=30,fontname='Times New Roman')\n",
    "plt.ylabel(r'$\\epsilon$',fontsize=30,fontname='Times New Roman')\n",
    "plt.xticks(fontsize=20)\n",
    "plt.yticks(fontsize=20)\n",
    "plt.plot(vector_Iext_eCompleteLeft,vector_epsCompleteLeft)\n",
    "plt.plot(vector_Iext_eCompleteRight,vector_epsCompleteRight)\n",
    "plt.plot(vector_Iext_eCompleteSecondRight,vector_epsCompleteSecondRight)\n",
    "plt.plot(vector_Iext_eCompleteSecondLeft,vector_epsCompleteSecondLeft)\n",
    "#plt.plot(vector_Iext_eLeft,vector_epsLeft)\n",
    "#plt.plot(vector_Iext_eHalf,vector_epsHalf)\n",
    "plt.plot(vector_Iext_e,vector_eps)\n",
    "plt.yticks([2,4,6,8,10,12,14,16,18,20,22,24,26])\n",
    "plt.xticks([2,3,4,5,6,7,8,9,10,11,12,13,14,15,16,17,18,19,20])\n"
   ]
  },
  {
   "cell_type": "code",
   "execution_count": 76,
   "metadata": {},
   "outputs": [
    {
     "data": {
      "text/plain": [
       "array([18.12857143, 18.24880953, 18.36904762, 18.48928572, 18.60952381,\n",
       "       18.72976191, 18.85      ])"
      ]
     },
     "execution_count": 76,
     "metadata": {},
     "output_type": "execute_result"
    }
   ],
   "source": [
    "vector_eps"
   ]
  },
  {
   "cell_type": "code",
   "execution_count": 79,
   "metadata": {},
   "outputs": [
    {
     "data": {
      "text/plain": [
       "array([18.12857143, 18.23285714, 18.33714286, 18.44142857, 18.54571429,\n",
       "       18.65      , 18.75428571, 18.85857143, 18.96285714, 19.06714286,\n",
       "       19.17142857, 19.27571429, 19.38      , 19.38      , 19.48266667,\n",
       "       19.58533333, 19.688     , 19.79066667, 19.89333333, 19.996     ,\n",
       "       20.09866667, 20.20133333, 20.304     , 20.40666667, 20.50933333,\n",
       "       20.612     , 20.71466667, 20.81733333, 20.92      , 21.02266667,\n",
       "       21.12533333, 21.228     , 21.33066667, 21.43333333, 21.536     ,\n",
       "       21.63866667, 21.74133333, 21.844     , 21.94666667, 22.04933333,\n",
       "       22.152     , 22.25466667, 22.35733333, 22.46      , 22.56266667,\n",
       "       22.66533333, 22.768     , 22.87066667, 22.97333333, 23.076     ,\n",
       "       23.17866667, 23.28133333, 23.384     , 23.48666667, 23.58933333,\n",
       "       23.692     , 23.79466667, 23.89733333, 24.        ])"
      ]
     },
     "execution_count": 79,
     "metadata": {},
     "output_type": "execute_result"
    }
   ],
   "source": [
    "vector_epsCompleteSecondLeft"
   ]
  },
  {
   "cell_type": "code",
   "execution_count": 77,
   "metadata": {},
   "outputs": [
    {
     "data": {
      "text/plain": [
       "array([9.72423437, 9.93204687, 9.90665624, 9.89674414, 9.85807226,\n",
       "       9.83434179, 9.81052587])"
      ]
     },
     "execution_count": 77,
     "metadata": {},
     "output_type": "execute_result"
    }
   ],
   "source": [
    "vector_Iext_e"
   ]
  },
  {
   "cell_type": "code",
   "execution_count": 78,
   "metadata": {},
   "outputs": [
    {
     "data": {
      "text/plain": [
       "array([9.72423437, 9.56095312, 9.42267187, 9.29571875, 9.17540625,\n",
       "       9.06134375, 8.9465    , 8.83634375, 8.72814062, 8.6215    ,\n",
       "       8.51603125, 8.41251562, 8.309     , 8.309     , 8.2074375 ,\n",
       "       8.10782812, 8.00939062, 7.91251563, 7.81642188, 7.72345313,\n",
       "       7.63126563, 7.54220313, 7.45626563, 7.38126563, 7.32189063,\n",
       "       7.29376563, 8.68458594, 8.58048438, 8.47716406, 8.37442969,\n",
       "       8.27228125, 8.17032813, 8.06857031, 7.9668125 , 7.86505469,\n",
       "       7.76329688, 7.66144141, 7.55939063, 7.45724219, 7.35489844,\n",
       "       7.25235938, 7.149625  , 7.04698828, 6.94425391, 6.84171484,\n",
       "       6.73526953, 6.62013281, 6.50441016, 6.38819922, 6.27140234,\n",
       "       6.15421484, 6.03663672, 5.91866797, 5.80030859, 5.68214453,\n",
       "       5.56417578, 5.44659766, 5.32980078, 5.21534766])"
      ]
     },
     "execution_count": 78,
     "metadata": {},
     "output_type": "execute_result"
    }
   ],
   "source": [
    "vector_Iext_eCompleteSecondLeft"
   ]
  },
  {
   "cell_type": "code",
   "execution_count": 89,
   "metadata": {},
   "outputs": [
    {
     "data": {
      "text/plain": [
       "array([18.72976191, 18.60952381, 18.48928572, 18.36904762, 18.24880953,\n",
       "       18.12857143, 18.12857143, 18.23285714, 18.33714286, 18.44142857,\n",
       "       18.54571429, 18.65      , 18.75428571, 18.85857143, 18.96285714,\n",
       "       19.06714286, 19.17142857, 19.27571429, 19.38      , 19.38      ,\n",
       "       19.48266667, 19.58533333, 19.688     , 19.79066667, 19.89333333,\n",
       "       19.996     , 20.09866667, 20.20133333, 20.304     , 20.40666667,\n",
       "       20.50933333, 20.612     , 20.71466667, 20.81733333, 20.92      ,\n",
       "       21.02266667, 21.12533333, 21.228     , 21.33066667, 21.43333333,\n",
       "       21.536     , 21.63866667, 21.74133333, 21.844     , 21.94666667,\n",
       "       22.04933333, 22.152     , 22.25466667, 22.35733333, 22.46      ,\n",
       "       22.56266667, 22.66533333, 22.768     , 22.87066667, 22.97333333,\n",
       "       23.076     , 23.17866667, 23.28133333, 23.384     , 23.48666667,\n",
       "       23.58933333, 23.692     , 23.79466667, 23.89733333, 24.        ])"
      ]
     },
     "execution_count": 89,
     "metadata": {},
     "output_type": "execute_result"
    }
   ],
   "source": [
    "vector_epsLeft=np.concatenate([np.flip(vector_eps[0:len(vector_eps)-1]),vector_epsCompleteSecondLeft])\n",
    "vector_epsLeft"
   ]
  },
  {
   "cell_type": "code",
   "execution_count": 88,
   "metadata": {},
   "outputs": [
    {
     "data": {
      "text/plain": [
       "array([9.83434179, 9.85807226, 9.89674414, 9.90665624, 9.93204687,\n",
       "       9.72423437, 9.72423437, 9.56095312, 9.42267187, 9.29571875,\n",
       "       9.17540625, 9.06134375, 8.9465    , 8.83634375, 8.72814062,\n",
       "       8.6215    , 8.51603125, 8.41251562, 8.309     , 8.309     ,\n",
       "       8.2074375 , 8.10782812, 8.00939062, 7.91251563, 7.81642188,\n",
       "       7.72345313, 7.63126563, 7.54220313, 7.45626563, 7.38126563,\n",
       "       7.32189063, 7.29376563, 8.68458594, 8.58048438, 8.47716406,\n",
       "       8.37442969, 8.27228125, 8.17032813, 8.06857031, 7.9668125 ,\n",
       "       7.86505469, 7.76329688, 7.66144141, 7.55939063, 7.45724219,\n",
       "       7.35489844, 7.25235938, 7.149625  , 7.04698828, 6.94425391,\n",
       "       6.84171484, 6.73526953, 6.62013281, 6.50441016, 6.38819922,\n",
       "       6.27140234, 6.15421484, 6.03663672, 5.91866797, 5.80030859,\n",
       "       5.68214453, 5.56417578, 5.44659766, 5.32980078, 5.21534766])"
      ]
     },
     "execution_count": 88,
     "metadata": {},
     "output_type": "execute_result"
    }
   ],
   "source": [
    "vector_Iext_eLeft=np.concatenate([np.flip(vector_Iext_e[0:len(vector_eps)-1]),vector_Iext_eCompleteSecondLeft])\n",
    "vector_Iext_eLeft"
   ]
  },
  {
   "cell_type": "code",
   "execution_count": 45,
   "metadata": {},
   "outputs": [
    {
     "data": {
      "text/plain": [
       "array([19.38      , 19.48266667, 19.58533333, 19.688     , 19.79066667,\n",
       "       19.89333333, 19.996     , 20.09866667, 20.20133333, 20.304     ,\n",
       "       20.40666667, 20.50933333, 20.612     , 20.71466667, 20.81733333,\n",
       "       20.92      , 21.02266667, 21.12533333, 21.228     , 21.33066667,\n",
       "       21.43333333, 21.536     , 21.63866667, 21.74133333, 21.844     ,\n",
       "       21.94666667, 22.04933333, 22.152     , 22.25466667, 22.35733333,\n",
       "       22.46      , 22.56266667, 22.66533333, 22.768     , 22.87066667,\n",
       "       22.97333333, 23.076     , 23.17866667, 23.28133333, 23.384     ,\n",
       "       23.48666667, 23.58933333, 23.692     , 23.79466667, 23.89733333,\n",
       "       24.        ])"
      ]
     },
     "execution_count": 45,
     "metadata": {},
     "output_type": "execute_result"
    }
   ],
   "source": [
    "vector_epsHalf"
   ]
  },
  {
   "cell_type": "code",
   "execution_count": 44,
   "metadata": {},
   "outputs": [
    {
     "data": {
      "text/plain": [
       "array([8.309     , 8.2074375 , 8.10782812, 8.00939062, 7.91251563,\n",
       "       7.81642188, 7.72345313, 7.63126563, 7.54220313, 7.45626563,\n",
       "       7.38126563, 7.32189063, 7.29376563, 8.68458594, 8.58048438,\n",
       "       8.47716406, 8.37442969, 8.27228125, 8.17032813, 8.06857031,\n",
       "       7.9668125 , 7.86505469, 7.76329688, 7.66144141, 7.55939063,\n",
       "       7.45724219, 7.35489844, 7.25235938, 7.149625  , 7.04698828,\n",
       "       6.94425391, 6.84171484, 6.73526953, 6.62013281, 6.50441016,\n",
       "       6.38819922, 6.27140234, 6.15421484, 6.03663672, 5.91866797,\n",
       "       5.80030859, 5.68214453, 5.56417578, 5.44659766, 5.32980078,\n",
       "       5.21534766])"
      ]
     },
     "execution_count": 44,
     "metadata": {},
     "output_type": "execute_result"
    }
   ],
   "source": [
    "vector_Iext_eHalf"
   ]
  },
  {
   "cell_type": "code",
   "execution_count": 40,
   "metadata": {},
   "outputs": [
    {
     "data": {
      "text/plain": [
       "array([8.309     , 8.41251562, 8.51603125, 8.6215    , 8.72814062,\n",
       "       8.83634375, 8.9465    , 9.06134375, 9.17540625, 9.29571875,\n",
       "       9.42267187, 9.56095312, 9.72423437, 8.35919531])"
      ]
     },
     "execution_count": 40,
     "metadata": {},
     "output_type": "execute_result"
    }
   ],
   "source": [
    "vector_Iext_e[0:14]"
   ]
  },
  {
   "cell_type": "code",
   "execution_count": 48,
   "metadata": {},
   "outputs": [
    {
     "data": {
      "text/plain": [
       "array([19.38      , 19.27571429, 19.17142857, 19.06714286, 18.96285714,\n",
       "       18.85857143, 18.75428571, 18.65      , 18.54571429, 18.44142857,\n",
       "       18.33714286, 18.23285714, 18.12857143])"
      ]
     },
     "execution_count": 48,
     "metadata": {},
     "output_type": "execute_result"
    }
   ],
   "source": [
    "vector_eps[0:13]"
   ]
  },
  {
   "cell_type": "code",
   "execution_count": null,
   "metadata": {},
   "outputs": [],
   "source": []
  }
 ],
 "metadata": {
  "kernelspec": {
   "display_name": "TFM",
   "language": "python",
   "name": "python3"
  },
  "language_info": {
   "codemirror_mode": {
    "name": "ipython",
    "version": 3
   },
   "file_extension": ".py",
   "mimetype": "text/x-python",
   "name": "python",
   "nbconvert_exporter": "python",
   "pygments_lexer": "ipython3",
   "version": "3.13.1"
  }
 },
 "nbformat": 4,
 "nbformat_minor": 2
}
