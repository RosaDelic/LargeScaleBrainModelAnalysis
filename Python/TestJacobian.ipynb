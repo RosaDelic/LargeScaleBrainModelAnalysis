{
 "cells": [
  {
   "cell_type": "code",
   "execution_count": 1,
   "id": "8e1c8585",
   "metadata": {},
   "outputs": [
    {
     "name": "stdout",
     "output_type": "stream",
     "text": [
      "dv_e/dr_e = -2*pi**2*r_e*tau_e\n",
      "dv_e/dv_e = 2*v_e/tau_e\n",
      "dv_e/ds_e = (Jee*tau_e + eps*tau_e)/tau_e\n",
      "dv_e/ds_i = -Jei\n",
      "dv_i/dr_i = -2*pi**2*r_i*tau_i\n",
      "dv_i/dv_i = 2*v_i/tau_i\n",
      "dv_i/ds_e = (Jie*tau_i + eps*tau_i)/tau_i\n",
      "dv_i/ds_i = -Jii\n"
     ]
    }
   ],
   "source": [
    "import sympy as sp\n",
    "\n",
    "# Define symbolic variables for a single population\n",
    "r_e, v_e, s_e, r_i, v_i, s_i = sp.symbols('r_e v_e s_e r_i v_i s_i')\n",
    "tau_e, tau_i, tau_se, tau_si, nu_e, nu_i, Delta_e, Delta_i, Jee, Jei, Jii, Jie, Iext_i, Iext_e, eps = sp.symbols(\n",
    "    'tau_e tau_i tau_se tau_si nu_e nu_i Delta_e Delta_i Jee Jei Jii Jie Iext_i Iext_e eps'\n",
    ")\n",
    "π = sp.pi\n",
    "\n",
    "# Define ODEs for one population\n",
    "dr_e = (Delta_e / (tau_e * π) + 2 * r_e * v_e) / tau_e\n",
    "dv_e = (v_e**2 + nu_e - (π * r_e * tau_e)**2 + Iext_e + tau_e * Jee * s_e + tau_e * eps * s_e - tau_e * Jei * s_i) / tau_e\n",
    "ds_e = (-s_e + r_e) / tau_se\n",
    "\n",
    "dr_i = (Delta_i / (tau_i * π) + 2 * r_i * v_i) / tau_i\n",
    "dv_i = (v_i**2 + nu_i - (π * r_i * tau_i)**2 + Iext_i + tau_i * Jie * s_e + tau_i * eps * s_e - tau_i * Jii * s_i) / tau_i\n",
    "ds_i = (-s_i + r_i) / tau_si\n",
    "\n",
    "# Compute symbolic partial derivatives\n",
    "jacobian_entries = {\n",
    "    'dv_e/dr_e': sp.diff(dv_e, r_e),\n",
    "    'dv_e/dv_e': sp.diff(dv_e, v_e),\n",
    "    'dv_e/ds_e': sp.diff(dv_e, s_e),\n",
    "    'dv_e/ds_i': sp.diff(dv_e, s_i),\n",
    "    'dv_i/dr_i': sp.diff(dv_i, r_i),\n",
    "    'dv_i/dv_i': sp.diff(dv_i, v_i),\n",
    "    'dv_i/ds_e': sp.diff(dv_i, s_e),\n",
    "    'dv_i/ds_i': sp.diff(dv_i, s_i)\n",
    "}\n",
    "\n",
    "for key, val in jacobian_entries.items():\n",
    "    print(f\"{key} = {val}\")\n"
   ]
  },
  {
   "cell_type": "code",
   "execution_count": null,
   "id": "cd76bf1a",
   "metadata": {},
   "outputs": [],
   "source": []
  }
 ],
 "metadata": {
  "kernelspec": {
   "display_name": "TFM",
   "language": "python",
   "name": "python3"
  },
  "language_info": {
   "codemirror_mode": {
    "name": "ipython",
    "version": 3
   },
   "file_extension": ".py",
   "mimetype": "text/x-python",
   "name": "python",
   "nbconvert_exporter": "python",
   "pygments_lexer": "ipython3",
   "version": "3.13.1"
  }
 },
 "nbformat": 4,
 "nbformat_minor": 5
}
